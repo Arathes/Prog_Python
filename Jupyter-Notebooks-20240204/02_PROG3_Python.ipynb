{
 "cells": [
  {
   "attachments": {},
   "cell_type": "markdown",
   "metadata": {
    "slideshow": {
     "slide_type": "slide"
    }
   },
   "source": [
    "**Programmieren 3 / Programmieren mit Python**\n",
    "\n",
    "**Python**\n",
    "\n",
    "**Peter Rösch, Fakultät für Informatik**\n",
    "\n",
    "**Technische Hochschule Augsburg**\n",
    "\n",
    "**Winter 2023/2024**"
   ]
  },
  {
   "attachments": {},
   "cell_type": "markdown",
   "metadata": {},
   "source": [
    "# Hinweise zum Labor M2.02"
   ]
  },
  {
   "attachments": {},
   "cell_type": "markdown",
   "metadata": {},
   "source": [
    "## Nicht vorhandene Menüleiste auf den Laborrechnern"
   ]
  },
  {
   "attachments": {},
   "cell_type": "markdown",
   "metadata": {},
   "source": [
    "Falls Sie bei der ersten Anmeldung einen leeren Bildschirm statt der Menüleiste ausgewählt haben, können Sie mit der mittleren Maustaste das Menü öffnen und unter *Anwendungen -> Einstellungen -> Leiste* eine neue Leiste hinzufügen.\n",
    "\n",
    "Falls das nicht funktioniert, weil z.B. die Einstellungen inkonsistent sind, melden Sie sich bitte ab und im Textmodus wieder an (\\<ctrl - Alt - F1\\>). Geben Sie dann folgende Befehle ein:\n",
    "\n",
    "    cd\n",
    "    rm .config/xfce4/xfconf/xfce-perchannel-xml/xfce4-panel.xml\n",
    "    rm -R .config/xfce4/panel\n",
    "    exit\n",
    "    \n",
    "Anschließend mit (\\<ctrl - Alt - F7\\>) wieder in den grafischen Modus wechseln, erneut anmelden und die Standard-Leiste auswählen."
   ]
  },
  {
   "attachments": {},
   "cell_type": "markdown",
   "metadata": {
    "slideshow": {
     "slide_type": "slide"
    }
   },
   "source": [
    "# Einschub: git"
   ]
  },
  {
   "attachments": {},
   "cell_type": "markdown",
   "metadata": {
    "slideshow": {
     "slide_type": "subslide"
    }
   },
   "source": [
    "Quelle: [Git-Buch](https://git-scm.com/book/de/v2)\n",
    "\n",
    "Interner Server für das Semester-Projekt: https://gitlab.informatik.hs-augsburg.de (Intern oder über VPN)\n",
    "\n",
    "Schritte:\n",
    "\n",
    "1. Eine Person pro Projekt legt ein git-Projekt an, lädt die anderen Studierenden ein und setzt deren Status auf *maintainer*\n",
    "1. Alle Studierenden aus dem Projekt führen eine *clone*-Operation durch. Bitte verwenden Sie den *https*-Link\n",
    "1. Die *clone*-Operation erzeugt ein entsprechendes Verzeichnis. Sie können in dieses Verzeichnis wechseln und git von der Kommandozeile, über *gitk* oder andere Werkzeuge nutzen \n",
    "1. Setzen Sie jetzt *user.name* und *user.email*, siehe [Git-Buch](https://git-scm.com/book/de/v2/Erste-Schritte-Git-Basis-Konfiguration)\n",
    "1. Jetzt können Sie Dateien editieren, hinzufügen etc.\n",
    "1. Schauen Sie sich das Kapitel über [Branching und Merging](https://git-scm.com/book/de/v2/Git-Branching-Branches-auf-einen-Blick) an.\n",
    "1. Beantworten Sie für sich die Frage, warum man *git branch* häufig einsetzen sollte ..."
   ]
  },
  {
   "attachments": {},
   "cell_type": "markdown",
   "metadata": {
    "slideshow": {
     "slide_type": "slide"
    }
   },
   "source": [
    "# Python - Überblick"
   ]
  },
  {
   "attachments": {},
   "cell_type": "markdown",
   "metadata": {
    "slideshow": {}
   },
   "source": [
    "Quellen:\n",
    " - Bücher [moodle](https://moodle.hs-augsburg.de/course/view.php?id=7328), [O'Reilly](https://learning.oreilly.com/home).\n",
    " - Homepage: https://python.org\n",
    " - Dokumentation: https://www.python.org/doc\n",
    " - [Neuigkeiten in Python 3.11](https://docs.python.org/3/whatsnew/3.11.html)"
   ]
  },
  {
   "attachments": {},
   "cell_type": "markdown",
   "metadata": {
    "slideshow": {
     "slide_type": "slide"
    }
   },
   "source": [
    "# Datentypen - Objektorientierung pur ..."
   ]
  },
  {
   "attachments": {},
   "cell_type": "markdown",
   "metadata": {
    "slideshow": {}
   },
   "source": [
    "- Der Ausdruck *a=3* bindet den Namen a an ein Objekte vom Typ int.\n",
    "- Der Typ des Objekts ist nicht mit *a* verknüpft.\n",
    "- Zuweisungen kopieren keine Werte, sondern Referenzen.\n",
    "- *b = a* erzeugt eine weitere Referenz auf das oben erzeugte *int*-Objekt."
   ]
  },
  {
   "attachments": {},
   "cell_type": "markdown",
   "metadata": {
    "slideshow": {
     "slide_type": "slide"
    }
   },
   "source": [
    "## Boolsche Variablen"
   ]
  },
  {
   "cell_type": "code",
   "execution_count": null,
   "metadata": {
    "ExecuteTime": {
     "end_time": "2020-10-19T05:41:01.899384Z",
     "start_time": "2020-10-19T05:41:01.888246Z"
    },
    "slideshow": {
     "slide_type": "-"
    }
   },
   "outputs": [],
   "source": [
    "bool_var = 3 + 4 == 7\n",
    "print(bool_var)\n",
    "print(f\"{bool_var = }\")"
   ]
  },
  {
   "cell_type": "code",
   "execution_count": null,
   "metadata": {
    "ExecuteTime": {
     "end_time": "2020-10-19T05:41:01.920230Z",
     "start_time": "2020-10-19T05:41:01.915158Z"
    },
    "slideshow": {}
   },
   "outputs": [],
   "source": [
    "bool_var2 = 3 + 4 == 7 and 9 * 8 == 71 or 3 * 3 == 8\n",
    "print(f\"{bool_var2 = }\")"
   ]
  },
  {
   "attachments": {},
   "cell_type": "markdown",
   "metadata": {
    "slideshow": {
     "slide_type": "fragment"
    }
   },
   "source": [
    "Intern werden True und False durch 1 und 0 repräsentiert.\n",
    "\n",
    "Frage: warum sollte man diese Tatsache **nicht** für Berechnungen verwenden?"
   ]
  },
  {
   "attachments": {},
   "cell_type": "markdown",
   "metadata": {
    "slideshow": {
     "slide_type": "subslide"
    }
   },
   "source": [
    "### Ganze Zahlen: int"
   ]
  },
  {
   "cell_type": "code",
   "execution_count": null,
   "metadata": {
    "ExecuteTime": {
     "end_time": "2020-10-19T05:41:02.177332Z",
     "start_time": "2020-10-19T05:41:02.172209Z"
    },
    "slideshow": {}
   },
   "outputs": [],
   "source": [
    "# a ist eine Referenz auf ein int-Objekt\n",
    "a = 33\n",
    "print(type(a))"
   ]
  },
  {
   "cell_type": "code",
   "execution_count": null,
   "metadata": {
    "ExecuteTime": {
     "end_time": "2020-10-19T05:41:02.194071Z",
     "start_time": "2020-10-19T05:41:02.188742Z"
    },
    "scrolled": true
   },
   "outputs": [],
   "source": [
    "i3 = 245**34\n",
    "print(f\"Typ:  {type(i3)}\")\n",
    "print(f\"Wert: {i3}\")"
   ]
  },
  {
   "attachments": {},
   "cell_type": "markdown",
   "metadata": {},
   "source": [
    "Im Notebook können Sie sich die zur direkten Verwendung gedachten Methoden des Objekts *a* durch Eingabe von \n",
    "\n",
    "    a.<tab>\n",
    "    \n",
    "anzeigen lassen:"
   ]
  },
  {
   "cell_type": "code",
   "execution_count": null,
   "metadata": {
    "ExecuteTime": {
     "end_time": "2020-10-19T05:41:02.340483Z",
     "start_time": "2020-10-19T05:41:02.335426Z"
    },
    "scrolled": true,
    "slideshow": {
     "slide_type": "fragment"
    }
   },
   "outputs": [],
   "source": [
    "# Ausblick: Operatoren sind Abkuerzungen\n",
    "print(a.__sub__(1))  # Alternative: print(a - 1)"
   ]
  },
  {
   "attachments": {},
   "cell_type": "markdown",
   "metadata": {
    "slideshow": {
     "slide_type": "subslide"
    }
   },
   "source": [
    "### Gleitkommazahlen: float (entspricht double in C)"
   ]
  },
  {
   "cell_type": "code",
   "execution_count": null,
   "metadata": {
    "ExecuteTime": {
     "end_time": "2020-10-19T05:41:02.486095Z",
     "start_time": "2020-10-19T05:41:02.479180Z"
    },
    "slideshow": {}
   },
   "outputs": [],
   "source": [
    "# Mathematik-Standardbibliothek\n",
    "import math\n",
    "\n",
    "f = 0.33\n",
    "sf = 2 * math.sin(f)\n",
    "print(f\"{sf = }\")"
   ]
  },
  {
   "cell_type": "code",
   "execution_count": null,
   "metadata": {
    "ExecuteTime": {
     "end_time": "2020-10-19T05:41:02.503307Z",
     "start_time": "2020-10-19T05:41:02.498187Z"
    },
    "slideshow": {
     "slide_type": "fragment"
    }
   },
   "outputs": [],
   "source": [
    "# formatierte Ausgabe\n",
    "print(f\"{sf = } oder {sf = :.2f} oder {sf = :.2e}\")"
   ]
  },
  {
   "attachments": {},
   "cell_type": "markdown",
   "metadata": {
    "slideshow": {
     "slide_type": "subslide"
    }
   },
   "source": [
    "### Komplexe Zahlen: complex"
   ]
  },
  {
   "cell_type": "code",
   "execution_count": null,
   "metadata": {
    "ExecuteTime": {
     "end_time": "2020-10-19T05:41:02.648192Z",
     "start_time": "2020-10-19T05:41:02.637282Z"
    },
    "slideshow": {}
   },
   "outputs": [],
   "source": [
    "# Standardbibliothek fuer komplexe Zahlen\n",
    "import cmath\n",
    "\n",
    "c = 0.33 + 2.3j\n",
    "sc = cmath.sin(c)\n",
    "print(f\"{sc = :.2}\")"
   ]
  },
  {
   "cell_type": "code",
   "execution_count": null,
   "metadata": {
    "ExecuteTime": {
     "end_time": "2020-10-19T05:41:02.659763Z",
     "start_time": "2020-10-19T05:41:02.655054Z"
    },
    "slideshow": {
     "slide_type": "subslide"
    }
   },
   "outputs": [],
   "source": [
    "# Formatierte Ausgabe\n",
    "print(f\"Hier der Sinus von {c:.2f}: {sc:.2f}\")"
   ]
  },
  {
   "attachments": {},
   "cell_type": "markdown",
   "metadata": {
    "slideshow": {
     "slide_type": "slide"
    }
   },
   "source": [
    "## Sequenzen"
   ]
  },
  {
   "attachments": {},
   "cell_type": "markdown",
   "metadata": {
    "slideshow": {}
   },
   "source": [
    "- Sequenzen sind aus Objekt-Referenzen zusammengesetzt.\n",
    "- Der Zugriff erfolgt über einen Index.\n",
    "- Es gibt Methoden, die für alle Sequenzen definiert sind.\n",
    "- Oft können Schleifen durch besser lesbare Konstrukte ersetzt werden."
   ]
  },
  {
   "attachments": {},
   "cell_type": "markdown",
   "metadata": {
    "slideshow": {
     "slide_type": "subslide"
    }
   },
   "source": [
    "### Tupel (tuple)"
   ]
  },
  {
   "cell_type": "code",
   "execution_count": null,
   "metadata": {
    "ExecuteTime": {
     "end_time": "2020-10-19T05:41:03.032979Z",
     "start_time": "2020-10-19T05:41:03.028759Z"
    },
    "slideshow": {}
   },
   "outputs": [],
   "source": [
    "# Definition eines Tupels, das an\n",
    "# den Namen t gebunden ist\n",
    "t = (0, 1, 2, 3, 4)"
   ]
  },
  {
   "cell_type": "code",
   "execution_count": null,
   "metadata": {
    "ExecuteTime": {
     "end_time": "2020-10-19T05:41:03.051851Z",
     "start_time": "2020-10-19T05:41:03.047207Z"
    },
    "slideshow": {
     "slide_type": "fragment"
    }
   },
   "outputs": [],
   "source": [
    "# Zugriff auf einen Eintrag\n",
    "print(t[2])"
   ]
  },
  {
   "cell_type": "code",
   "execution_count": null,
   "metadata": {
    "ExecuteTime": {
     "end_time": "2020-10-19T05:41:03.070955Z",
     "start_time": "2020-10-19T05:41:03.065490Z"
    },
    "slideshow": {
     "slide_type": "fragment"
    }
   },
   "outputs": [],
   "source": [
    "# Slicing: Zugriff auf einen Abschnitt\n",
    "# 0 bis ausschliesslich 3\n",
    "print(t[0:3])"
   ]
  },
  {
   "cell_type": "code",
   "execution_count": null,
   "metadata": {
    "ExecuteTime": {
     "end_time": "2020-10-19T05:41:03.078692Z",
     "start_time": "2020-10-19T05:41:03.073834Z"
    },
    "slideshow": {
     "slide_type": "subslide"
    }
   },
   "outputs": [],
   "source": [
    "# Zaehlung vom Ende her: negative indizes\n",
    "print(t[-2:])"
   ]
  },
  {
   "cell_type": "code",
   "execution_count": null,
   "metadata": {
    "ExecuteTime": {
     "end_time": "2020-10-19T05:41:03.090605Z",
     "start_time": "2020-10-19T05:41:03.087384Z"
    },
    "slideshow": {
     "slide_type": "fragment"
    },
    "tags": [
     "raises-exception"
    ]
   },
   "outputs": [],
   "source": [
    "# Tupel sind nicht veraenderbar\n",
    "# Das gibt eine Fehlermeldung!\n",
    "t[1] = 44"
   ]
  },
  {
   "attachments": {},
   "cell_type": "markdown",
   "metadata": {
    "slideshow": {
     "slide_type": "subslide"
    }
   },
   "source": [
    "### Listen (list)"
   ]
  },
  {
   "cell_type": "code",
   "execution_count": null,
   "metadata": {
    "ExecuteTime": {
     "end_time": "2020-10-19T05:41:03.222390Z",
     "start_time": "2020-10-19T05:41:03.216804Z"
    },
    "slideshow": {}
   },
   "outputs": [],
   "source": [
    "# Definition einer Liste\n",
    "l = [0, 1, 2, 3, 4]\n",
    "print(l)"
   ]
  },
  {
   "cell_type": "code",
   "execution_count": null,
   "metadata": {
    "ExecuteTime": {
     "end_time": "2020-10-19T05:41:03.242884Z",
     "start_time": "2020-10-19T05:41:03.235893Z"
    },
    "slideshow": {
     "slide_type": "fragment"
    }
   },
   "outputs": [],
   "source": [
    "# Ueberladene Operatoren\n",
    "l = l + [33, 22, 11]\n",
    "print(f\"{l     = }\")\n",
    "print(f\"{2 * l = }\")"
   ]
  },
  {
   "cell_type": "code",
   "execution_count": null,
   "metadata": {
    "ExecuteTime": {
     "end_time": "2020-10-19T05:41:03.250638Z",
     "start_time": "2020-10-19T05:41:03.245512Z"
    },
    "slideshow": {
     "slide_type": "subslide"
    }
   },
   "outputs": [],
   "source": [
    "# Vermeidung von Schleifen\n",
    "print(f\"{33 in l = }\")"
   ]
  },
  {
   "cell_type": "code",
   "execution_count": null,
   "metadata": {
    "ExecuteTime": {
     "end_time": "2020-10-19T05:41:03.258958Z",
     "start_time": "2020-10-19T05:41:03.253727Z"
    },
    "slideshow": {
     "slide_type": "fragment"
    }
   },
   "outputs": [],
   "source": [
    "# sortieren\n",
    "print(sorted(l))"
   ]
  },
  {
   "cell_type": "code",
   "execution_count": null,
   "metadata": {
    "ExecuteTime": {
     "end_time": "2020-10-19T05:41:03.270668Z",
     "start_time": "2020-10-19T05:41:03.264999Z"
    },
    "slideshow": {
     "slide_type": "fragment"
    }
   },
   "outputs": [],
   "source": [
    "# einfuegen\n",
    "l.insert(2, [44, 98])\n",
    "print(l)"
   ]
  },
  {
   "cell_type": "code",
   "execution_count": null,
   "metadata": {},
   "outputs": [],
   "source": [
    "l[2][1]"
   ]
  },
  {
   "attachments": {},
   "cell_type": "markdown",
   "metadata": {},
   "source": [
    "Frage: Beschreiben Sie das Ergebnis der *insert*-Anweisung."
   ]
  },
  {
   "cell_type": "code",
   "execution_count": null,
   "metadata": {
    "ExecuteTime": {
     "end_time": "2020-10-19T05:41:03.394645Z",
     "start_time": "2020-10-19T05:41:03.388588Z"
    },
    "slideshow": {
     "slide_type": "subslide"
    }
   },
   "outputs": [],
   "source": [
    "# Mischen verschiedener Datentypen\n",
    "import math\n",
    "\n",
    "l = [1, 2, 3, \"a\", \"b\", \"c\", math.sin]\n",
    "print(l)"
   ]
  },
  {
   "cell_type": "code",
   "execution_count": null,
   "metadata": {
    "ExecuteTime": {
     "end_time": "2020-10-19T05:41:03.430659Z",
     "start_time": "2020-10-19T05:41:03.406222Z"
    },
    "slideshow": {
     "slide_type": "fragment"
    }
   },
   "outputs": [],
   "source": [
    "# Aufruf def Funktion l[6] (math.sin ...)\n",
    "print(f\"{l[6](2.2) = :.2f}\")"
   ]
  },
  {
   "cell_type": "code",
   "execution_count": null,
   "metadata": {
    "slideshow": {
     "slide_type": "subslide"
    }
   },
   "outputs": [],
   "source": [
    "# Aufteilung der Liste\n",
    "l2 = list(range(3, 19, 2))\n",
    "anfang, *mitte, vorletztes, letztes = l2\n",
    "print(f\"{anfang = }, {mitte = }, {vorletztes = }, {letztes = }\")"
   ]
  },
  {
   "attachments": {},
   "cell_type": "markdown",
   "metadata": {
    "slideshow": {
     "slide_type": "subslide"
    }
   },
   "source": [
    "### Ausblick: Numpy-Arrays"
   ]
  },
  {
   "cell_type": "code",
   "execution_count": null,
   "metadata": {
    "ExecuteTime": {
     "end_time": "2020-10-19T05:41:03.572351Z",
     "start_time": "2020-10-19T05:41:03.555068Z"
    },
    "slideshow": {
     "slide_type": "fragment"
    }
   },
   "outputs": [],
   "source": [
    "import numpy as np\n",
    "\n",
    "np.set_printoptions(precision=2)\n",
    "l1 = [1.1, 2.2, 3.2]\n",
    "v1 = np.array(l1, dtype=np.float32)\n",
    "v2 = np.array((9.8888, 8.7777, 7.6666), dtype=np.float64)\n",
    "print(f\"v1: {v1} \\nv2: {v2}\")\n",
    "print(f\"v1+v2: {v1+v2} \\nv1 v2: {np.dot(v1, v2):.2f}\")"
   ]
  },
  {
   "attachments": {},
   "cell_type": "markdown",
   "metadata": {
    "slideshow": {
     "slide_type": "fragment"
    }
   },
   "source": [
    "Fragen:\n",
    "1. Erklären Sie die Ausgabe\n",
    "2. Können *numpy-Arrays* für die Implementierung der Gravitations-Simulation nützlich sein?"
   ]
  },
  {
   "attachments": {},
   "cell_type": "markdown",
   "metadata": {
    "slideshow": {
     "slide_type": "subslide"
    }
   },
   "source": [
    "### Strings"
   ]
  },
  {
   "cell_type": "code",
   "execution_count": null,
   "metadata": {
    "ExecuteTime": {
     "end_time": "2020-10-19T05:41:03.866780Z",
     "start_time": "2020-10-19T05:41:03.859103Z"
    }
   },
   "outputs": [],
   "source": [
    "s = \"Eine Zeichenkette\"\n",
    "s2 = \"Eine 'ganz besondere' Zeichenkette\"\n",
    "print(s2)"
   ]
  },
  {
   "cell_type": "code",
   "execution_count": null,
   "metadata": {
    "ExecuteTime": {
     "end_time": "2020-10-19T05:41:03.875719Z",
     "start_time": "2020-10-19T05:41:03.870235Z"
    },
    "slideshow": {
     "slide_type": "fragment"
    }
   },
   "outputs": [],
   "source": [
    "print(f\"{'bes' in s2 = }\")"
   ]
  },
  {
   "attachments": {},
   "cell_type": "markdown",
   "metadata": {
    "slideshow": {
     "slide_type": "subslide"
    }
   },
   "source": [
    "Frage: Wie werden Sie die Endung (z.b. '.txt') eines Dateinames los?"
   ]
  },
  {
   "cell_type": "code",
   "execution_count": null,
   "metadata": {
    "ExecuteTime": {
     "end_time": "2020-10-19T05:41:04.025394Z",
     "start_time": "2020-10-19T05:41:04.018673Z"
    },
    "slideshow": {
     "slide_type": "fragment"
    }
   },
   "outputs": [],
   "source": [
    "datei_name = \"eine_datei.txt\"\n",
    "print(datei_name[:-4])\n",
    "print(datei_name[-4:])"
   ]
  },
  {
   "cell_type": "code",
   "execution_count": null,
   "metadata": {
    "ExecuteTime": {
     "end_time": "2020-10-19T05:41:04.035735Z",
     "start_time": "2020-10-19T05:41:04.030721Z"
    },
    "slideshow": {
     "slide_type": "subslide"
    }
   },
   "outputs": [],
   "source": [
    "# Böse Falle unter windos ...\n",
    "file_name = \"C:\\test_data\\new_file\"\n",
    "print(file_name)"
   ]
  },
  {
   "attachments": {},
   "cell_type": "markdown",
   "metadata": {
    "slideshow": {
     "slide_type": "fragment"
    }
   },
   "source": [
    "Frage: Wo ist das Problem?"
   ]
  },
  {
   "cell_type": "code",
   "execution_count": null,
   "metadata": {
    "ExecuteTime": {
     "end_time": "2020-10-19T05:41:04.181210Z",
     "start_time": "2020-10-19T05:41:04.175842Z"
    },
    "slideshow": {
     "slide_type": "subslide"
    }
   },
   "outputs": [],
   "source": [
    "# Besser ist das: raw string\n",
    "file_name = r\"C:\\test_data\\newfile\"\n",
    "print(file_name)"
   ]
  },
  {
   "cell_type": "code",
   "execution_count": null,
   "metadata": {
    "ExecuteTime": {
     "end_time": "2020-10-19T05:41:04.195565Z",
     "start_time": "2020-10-19T05:41:04.190708Z"
    }
   },
   "outputs": [],
   "source": [
    "geschachtelter_string = \"Hans sagte: 'Guten Morgen'\"\n",
    "print(geschachtelter_string)"
   ]
  },
  {
   "cell_type": "code",
   "execution_count": null,
   "metadata": {
    "ExecuteTime": {
     "end_time": "2020-10-19T05:41:04.204536Z",
     "start_time": "2020-10-19T05:41:04.198600Z"
    },
    "slideshow": {
     "slide_type": "fragment"
    }
   },
   "outputs": [],
   "source": [
    "# Plattform-unabhängige Verarbeitung von Dateinamen ...\n",
    "from pathlib import Path\n",
    "\n",
    "file_path = Path.cwd() / \"test_data\" / \"newfile\"\n",
    "print(f\"{file_path = }\")\n",
    "file_name = str(file_path)\n",
    "print(f\"{file_name = }\")"
   ]
  },
  {
   "attachments": {},
   "cell_type": "markdown",
   "metadata": {
    "slideshow": {
     "slide_type": "subslide"
    }
   },
   "source": [
    "### Assoziative Listen (dict)"
   ]
  },
  {
   "cell_type": "code",
   "execution_count": null,
   "metadata": {
    "ExecuteTime": {
     "end_time": "2020-10-19T05:41:04.351744Z",
     "start_time": "2020-10-19T05:41:04.347242Z"
    },
    "slideshow": {}
   },
   "outputs": [],
   "source": [
    "# Erzeugung einer assoziativen Liste\n",
    "d = {\"Haus\": \"House\", \"Katze\": \"Cat\", \"Nase\": \"Nose\"}\n",
    "d_c = dict(Elefant=\"Elephant\", Hund=\"Dog\")"
   ]
  },
  {
   "cell_type": "code",
   "execution_count": null,
   "metadata": {
    "ExecuteTime": {
     "end_time": "2020-10-19T05:41:04.365217Z",
     "start_time": "2020-10-19T05:41:04.359600Z"
    },
    "slideshow": {
     "slide_type": "subslide"
    }
   },
   "outputs": [],
   "source": [
    "# Zugriff auf Eintraege:\n",
    "print(d[\"Haus\"])\n",
    "print(d_c[\"Elefant\"])\n",
    "print(d.get(\"Haus\"))\n",
    "print(d.get(\"Nasenbär\", \"Unknown Name\"))"
   ]
  },
  {
   "cell_type": "code",
   "execution_count": null,
   "metadata": {
    "ExecuteTime": {
     "end_time": "2020-10-19T05:41:04.375892Z",
     "start_time": "2020-10-19T05:41:04.368341Z"
    },
    "slideshow": {
     "slide_type": "subslide"
    }
   },
   "outputs": [],
   "source": [
    "# Erweiterung\n",
    "d[\"Bier\"] = \"Beer\"\n",
    "print(\"Bier\" in d)\n",
    "# Reissverschluss-Verfahren ...\n",
    "d.update(zip((\"Hund\", \"Pferd\"), (\"Dog\", \"Horse\")))\n",
    "print(d)"
   ]
  },
  {
   "cell_type": "code",
   "execution_count": null,
   "metadata": {
    "ExecuteTime": {
     "end_time": "2020-10-19T05:41:04.383763Z",
     "start_time": "2020-10-19T05:41:04.379023Z"
    },
    "slideshow": {
     "slide_type": "subslide"
    }
   },
   "outputs": [],
   "source": [
    "# Ausgabe der Schluessel\n",
    "print(d.keys())"
   ]
  },
  {
   "cell_type": "code",
   "execution_count": null,
   "metadata": {},
   "outputs": [],
   "source": [
    "d2 = {\"Auto\": \"Car\", \"Stuhl\": \"Chair\"}\n",
    "print(f\"{d2 = }\")"
   ]
  },
  {
   "cell_type": "code",
   "execution_count": null,
   "metadata": {},
   "outputs": [],
   "source": [
    "# Vereinigung zweier dicts, vor Python 3.10:\n",
    "u1 = {**d, **d2}\n",
    "print(f\"{u1 = }\")"
   ]
  },
  {
   "cell_type": "code",
   "execution_count": null,
   "metadata": {},
   "outputs": [],
   "source": [
    "# Neuerung ab Python 3.10:\n",
    "u2 = d | d2\n",
    "print(f\"{u2 = }\")"
   ]
  },
  {
   "cell_type": "code",
   "execution_count": null,
   "metadata": {},
   "outputs": [],
   "source": [
    "u1 == u2"
   ]
  },
  {
   "attachments": {},
   "cell_type": "markdown",
   "metadata": {
    "slideshow": {
     "slide_type": "subslide"
    }
   },
   "source": [
    "Definierte Namen werden in dictionaries verwaltet, die mit *dir* zugreifbar sind:"
   ]
  },
  {
   "cell_type": "code",
   "execution_count": null,
   "metadata": {
    "ExecuteTime": {
     "end_time": "2020-10-19T05:41:04.540007Z",
     "start_time": "2020-10-19T05:41:04.534387Z"
    },
    "slideshow": {}
   },
   "outputs": [],
   "source": [
    "import math\n",
    "\n",
    "print(\"sin\" in dir(math))"
   ]
  },
  {
   "attachments": {},
   "cell_type": "markdown",
   "metadata": {
    "slideshow": {
     "slide_type": "subslide"
    }
   },
   "source": [
    "### Mengen (set)"
   ]
  },
  {
   "cell_type": "code",
   "execution_count": null,
   "metadata": {
    "ExecuteTime": {
     "end_time": "2020-10-19T05:41:04.703474Z",
     "start_time": "2020-10-19T05:41:04.696850Z"
    },
    "slideshow": {}
   },
   "outputs": [],
   "source": [
    "# Erzeugung einer Menge\n",
    "s = {3, 4, 5, 33, 55, 55, 55, 99}\n",
    "print(s)"
   ]
  },
  {
   "attachments": {},
   "cell_type": "markdown",
   "metadata": {
    "slideshow": {
     "slide_type": "fragment"
    }
   },
   "source": [
    "Frage: Was fällt Ihnen am Ergebnis auf?"
   ]
  },
  {
   "attachments": {},
   "cell_type": "markdown",
   "metadata": {
    "slideshow": {
     "slide_type": "subslide"
    }
   },
   "source": [
    "Wie können Sie doppelte Einträge aus einer Liste entfernen?"
   ]
  },
  {
   "cell_type": "code",
   "execution_count": null,
   "metadata": {
    "ExecuteTime": {
     "end_time": "2020-10-19T05:41:05.030051Z",
     "start_time": "2020-10-19T05:41:05.023867Z"
    },
    "slideshow": {}
   },
   "outputs": [],
   "source": [
    "l = 2 * [99, 3, 4, 5, 6, 7, 8, 8, 8, 3]\n",
    "print(f\"Die Zahl 8 kommt in l {l.count(8)} mal vor\")"
   ]
  },
  {
   "cell_type": "code",
   "execution_count": null,
   "metadata": {
    "ExecuteTime": {
     "end_time": "2020-10-19T05:41:05.041966Z",
     "start_time": "2020-10-19T05:41:05.036089Z"
    },
    "slideshow": {
     "slide_type": "fragment"
    }
   },
   "outputs": [],
   "source": [
    "l2 = list(set(l))\n",
    "print(l2)\n",
    "print(f'Die Zahl 8 kommt in l2 {l2.count(8)} mal vor')"
   ]
  },
  {
   "attachments": {},
   "cell_type": "markdown",
   "metadata": {
    "slideshow": {
     "slide_type": "subslide"
    }
   },
   "source": [
    "**Vorsicht**: Weder *set* noch *dict* garantieren eine bestimmte Reihenfolge der Einträge!\n",
    "\n",
    "Es gibt jedoch die Klasse *collections.OrderedDict*.\n",
    "\n",
    "Frage: Was bedeutet das für das *slicing*?"
   ]
  },
  {
   "attachments": {},
   "cell_type": "markdown",
   "metadata": {
    "slideshow": {
     "slide_type": "slide"
    }
   },
   "source": [
    "# Generatoren"
   ]
  },
  {
   "attachments": {},
   "cell_type": "markdown",
   "metadata": {
    "slideshow": {}
   },
   "source": [
    "Ein Generator ist ein iterierbares Objekt, das die Daten nicht vorhält, sondern erst bei Bedarf produziert."
   ]
  },
  {
   "cell_type": "code",
   "execution_count": null,
   "metadata": {
    "ExecuteTime": {
     "end_time": "2020-10-19T05:41:05.882209Z",
     "start_time": "2020-10-19T05:41:05.872433Z"
    },
    "slideshow": {}
   },
   "outputs": [],
   "source": [
    "# Zahlen von 0 bis 3 (ausschliesslich 3!)\n",
    "r1 = range(3)\n",
    "print(r1)"
   ]
  },
  {
   "cell_type": "code",
   "execution_count": null,
   "metadata": {
    "ExecuteTime": {
     "end_time": "2020-10-19T05:41:05.895986Z",
     "start_time": "2020-10-19T05:41:05.886456Z"
    },
    "slideshow": {
     "slide_type": "fragment"
    }
   },
   "outputs": [],
   "source": [
    "print(list(r1))"
   ]
  },
  {
   "cell_type": "code",
   "execution_count": null,
   "metadata": {
    "ExecuteTime": {
     "end_time": "2020-10-19T05:41:05.905018Z",
     "start_time": "2020-10-19T05:41:05.899066Z"
    },
    "slideshow": {
     "slide_type": "subslide"
    }
   },
   "outputs": [],
   "source": [
    "# Zahlen von 2 bis 23 (ausschliesslich), Schrittweite 3\n",
    "r2 = range(2, 23, 3)\n",
    "print(list(r2))"
   ]
  },
  {
   "cell_type": "code",
   "execution_count": null,
   "metadata": {
    "ExecuteTime": {
     "end_time": "2020-10-19T05:41:05.914205Z",
     "start_time": "2020-10-19T05:41:05.907799Z"
    },
    "slideshow": {
     "slide_type": "fragment"
    }
   },
   "outputs": [],
   "source": [
    "list(range(100, 0, -10))"
   ]
  },
  {
   "attachments": {},
   "cell_type": "markdown",
   "metadata": {},
   "source": [
    "Durch die Verwendung des Schlüsselworts *yield* können Sie selbst Generatoren schreiben (später)."
   ]
  },
  {
   "attachments": {},
   "cell_type": "markdown",
   "metadata": {
    "slideshow": {
     "slide_type": "subslide"
    }
   },
   "source": [
    "**Vorsicht:** Die Python2-Version von *range* generiert eine Liste.\n",
    "\n",
    "Frage: Warum wurde dieses Verhalten in Python 3 geändert?"
   ]
  },
  {
   "attachments": {},
   "cell_type": "markdown",
   "metadata": {
    "slideshow": {
     "slide_type": "slide"
    }
   },
   "source": [
    "# Kontrollstrukturen"
   ]
  },
  {
   "cell_type": "code",
   "execution_count": null,
   "metadata": {
    "ExecuteTime": {
     "end_time": "2020-10-19T05:41:06.461277Z",
     "start_time": "2020-10-19T05:41:06.448355Z"
    }
   },
   "outputs": [],
   "source": [
    "# if und else\n",
    "a = 33\n",
    "if a > 20:\n",
    "    print(\"a ist groesser als 20\")\n",
    "elif a < 0:\n",
    "    print(\"a ist kleiner als 0\")\n",
    "else:\n",
    "    print(\"a liegt zwischen 0 und 20\")"
   ]
  },
  {
   "cell_type": "code",
   "execution_count": null,
   "metadata": {
    "ExecuteTime": {
     "end_time": "2020-10-19T05:41:06.477889Z",
     "start_time": "2020-10-19T05:41:06.464200Z"
    },
    "slideshow": {
     "slide_type": "subslide"
    }
   },
   "outputs": [],
   "source": [
    "# while-Schleife\n",
    "a = 33\n",
    "while a > 31:\n",
    "    print(a)\n",
    "    a -= 1\n",
    "else:\n",
    "    print(\"Schleife ohne break beendet\")"
   ]
  },
  {
   "attachments": {},
   "cell_type": "markdown",
   "metadata": {
    "slideshow": {
     "slide_type": "subslide"
    }
   },
   "source": [
    "For-Schleifen in Python iterieren immer über ein iterierbares Objekt."
   ]
  },
  {
   "cell_type": "code",
   "execution_count": null,
   "metadata": {
    "ExecuteTime": {
     "end_time": "2020-10-19T05:41:06.652532Z",
     "start_time": "2020-10-19T05:41:06.646931Z"
    },
    "slideshow": {}
   },
   "outputs": [],
   "source": [
    "# for-Schleife (Tupel)\n",
    "t = (2, 44, 14, 99, 113)\n",
    "k = 14\n",
    "for n in t:\n",
    "    if n == k:\n",
    "        print(f\"{k} gefunden\")\n",
    "        break\n",
    "else:\n",
    "    print(f\"{k} nicht in der Liste enthalten\")"
   ]
  },
  {
   "cell_type": "code",
   "execution_count": null,
   "metadata": {},
   "outputs": [],
   "source": [
    "# bitte nicht\n",
    "names = [\"a\", \"b\", \"c\"]\n",
    "for i in range(len(names)):\n",
    "    print(f'name at position {i}: \"{names[i]}\"')"
   ]
  },
  {
   "cell_type": "code",
   "execution_count": null,
   "metadata": {
    "ExecuteTime": {
     "end_time": "2020-10-19T05:41:06.682477Z",
     "start_time": "2020-10-19T05:41:06.673229Z"
    },
    "slideshow": {
     "slide_type": "subslide"
    }
   },
   "outputs": [],
   "source": [
    "# sondern\n",
    "# for-Schleife mit Index\n",
    "names = [\"a\", \"b\", \"c\"]\n",
    "for i, name in enumerate(names):\n",
    "    print(f'name at position {i}: \"{name}\"')"
   ]
  },
  {
   "cell_type": "code",
   "execution_count": null,
   "metadata": {
    "ExecuteTime": {
     "end_time": "2020-10-19T05:41:06.670428Z",
     "start_time": "2020-10-19T05:41:06.664669Z"
    },
    "slideshow": {
     "slide_type": "subslide"
    }
   },
   "outputs": [],
   "source": [
    "# for-Schleife (Generator)\n",
    "for n in range(2, 6, 2):\n",
    "    print(n, end=\" \")"
   ]
  },
  {
   "cell_type": "code",
   "execution_count": null,
   "metadata": {
    "ExecuteTime": {
     "end_time": "2020-10-19T05:41:44.023618Z",
     "start_time": "2020-10-19T05:41:06.685583Z"
    },
    "slideshow": {
     "slide_type": "subslide"
    },
    "tags": [
     "raises-exception"
    ]
   },
   "outputs": [],
   "source": [
    "# Exceptions\n",
    "d = 33\n",
    "a = int(input(\"a:\"))\n",
    "try:\n",
    "    ergebnis = d / a\n",
    "except ZeroDivisionError:\n",
    "    print(\"na, na, na!\")\n",
    "else:\n",
    "    print(f\"Ergebnis: {ergebnis:.2f}\")\n",
    "finally:\n",
    "    print(\"Jetzt wird aufgeräumt\")"
   ]
  },
  {
   "cell_type": "code",
   "execution_count": null,
   "metadata": {
    "slideshow": {
     "slide_type": "subslide"
    },
    "tags": [
     "raises-exception"
    ]
   },
   "outputs": [],
   "source": [
    "# neu in Python 3.10, mehr dazu später ...\n",
    "# Structural Pattern Matching\n",
    "l = [3, 5, 7, 9]\n",
    "t2 = (3, 4, \"moin\")\n",
    "w = 33.5\n",
    "v = -2.1\n",
    "\n",
    "for x in (l, t2, w, v):\n",
    "    match x:\n",
    "        # Liste/Tupel mit vier Eintraegen\n",
    "        case [a, b, c, d]:\n",
    "            print(f\"{x = }\")\n",
    "        # Liste/Tupel mit mindestens zwei Eintraegen\n",
    "        case [_, _, *rest]:\n",
    "            print(f\"{rest = }\")\n",
    "        # Positiver Float-Wert\n",
    "        case float(c) if c > 0.0:\n",
    "            print(f\"{c=}\")\n",
    "        # Default\n",
    "        case _:\n",
    "            raise ValueError(f\"Illegal Value: {x}\")"
   ]
  },
  {
   "attachments": {},
   "cell_type": "markdown",
   "metadata": {
    "slideshow": {
     "slide_type": "subslide"
    }
   },
   "source": [
    "# Funktionen"
   ]
  },
  {
   "cell_type": "code",
   "execution_count": null,
   "metadata": {
    "ExecuteTime": {
     "end_time": "2020-10-19T05:41:44.032796Z",
     "start_time": "2020-10-19T05:41:44.026805Z"
    }
   },
   "outputs": [],
   "source": [
    "def addiere_zwei_delta(i: int | str, delta: int | str) -> int | str:\n",
    "    \"\"\"\n",
    "    Addieren von 2 * delta auf das von i referenzierte Objekt\n",
    "\n",
    "    Args:\n",
    "        i: Objekt, das veraendert werden soll\n",
    "        delta: wird auf i addiert\n",
    "    Returns:\n",
    "        Ergebnis von i + 2 * delta\n",
    "    Examples:\n",
    "        >>> addiere_zwei_delta(3, 1)\n",
    "        5\n",
    "        >>> addiere_zwei_delta('Guten', ' Tag')\n",
    "        'Guten Tag Tag'\n",
    "    \"\"\"\n",
    "    return i + 2 * delta"
   ]
  },
  {
   "cell_type": "code",
   "execution_count": null,
   "metadata": {
    "ExecuteTime": {
     "end_time": "2020-10-19T05:41:44.202773Z",
     "start_time": "2020-10-19T05:41:44.036413Z"
    },
    "slideshow": {
     "slide_type": "subslide"
    }
   },
   "outputs": [],
   "source": [
    "addiere_zwei_delta?"
   ]
  },
  {
   "cell_type": "code",
   "execution_count": null,
   "metadata": {
    "ExecuteTime": {
     "end_time": "2020-10-19T05:41:44.210409Z",
     "start_time": "2020-10-19T05:41:44.205717Z"
    },
    "slideshow": {
     "slide_type": "subslide"
    }
   },
   "outputs": [],
   "source": [
    "# Aufruf\n",
    "print(addiere_zwei_delta(3, 4))"
   ]
  },
  {
   "cell_type": "code",
   "execution_count": null,
   "metadata": {
    "ExecuteTime": {
     "end_time": "2020-10-19T05:41:44.218119Z",
     "start_time": "2020-10-19T05:41:44.212795Z"
    },
    "slideshow": {
     "slide_type": "fragment"
    }
   },
   "outputs": [],
   "source": [
    "# Verwendung der Parameternamen\n",
    "print(addiere_zwei_delta(delta=4, i=3))"
   ]
  },
  {
   "cell_type": "code",
   "execution_count": null,
   "metadata": {
    "slideshow": {
     "slide_type": "subslide"
    }
   },
   "outputs": [],
   "source": [
    "# Parameter als Liste oder Tupel\n",
    "par_tupel = (3, 4)\n",
    "print(addiere_zwei_delta(*par_tupel))"
   ]
  },
  {
   "cell_type": "code",
   "execution_count": null,
   "metadata": {
    "slideshow": {
     "slide_type": "fragment"
    }
   },
   "outputs": [],
   "source": [
    "# Parameter als assoziative Liste (dict)\n",
    "par_dict = dict(delta=4, i=3)\n",
    "print(addiere_zwei_delta(**par_dict))"
   ]
  },
  {
   "cell_type": "code",
   "execution_count": null,
   "metadata": {
    "ExecuteTime": {
     "end_time": "2020-10-19T05:41:44.229397Z",
     "start_time": "2020-10-19T05:41:44.220730Z"
    },
    "slideshow": {
     "slide_type": "subslide"
    }
   },
   "outputs": [],
   "source": [
    "# Neue Version mit Default-Parameter\n",
    "def addiere_zwei_delta_d(i, delta=1):\n",
    "    return i + 2 * delta"
   ]
  },
  {
   "cell_type": "code",
   "execution_count": null,
   "metadata": {
    "ExecuteTime": {
     "end_time": "2020-10-19T05:41:44.241229Z",
     "start_time": "2020-10-19T05:41:44.235504Z"
    },
    "slideshow": {
     "slide_type": "fragment"
    }
   },
   "outputs": [],
   "source": [
    "print(addiere_zwei_delta_d(33))"
   ]
  },
  {
   "cell_type": "code",
   "execution_count": null,
   "metadata": {
    "ExecuteTime": {
     "end_time": "2020-10-19T05:41:44.267007Z",
     "start_time": "2020-10-19T05:41:44.259755Z"
    },
    "slideshow": {
     "slide_type": "fragment"
    }
   },
   "outputs": [],
   "source": [
    "print(addiere_zwei_delta_d(33, 5))"
   ]
  },
  {
   "attachments": {},
   "cell_type": "markdown",
   "metadata": {
    "ExecuteTime": {
     "end_time": "2018-10-14T18:07:38.609459Z",
     "start_time": "2018-10-14T18:07:38.603941Z"
    },
    "slideshow": {
     "slide_type": "slide"
    }
   },
   "source": [
    "# Typangaben"
   ]
  },
  {
   "attachments": {},
   "cell_type": "markdown",
   "metadata": {},
   "source": [
    "Seit Python 3.6 gibt es die Möglichkeit, Typangaben in Python-Programme zu integrieren und ein Programm zur statischen Typprüfung (z.B. [mypy](http://mypy-lang.org))  einzusetzen. \n",
    "\n",
    "**Diese Möglichkeit sollten Sie nutzen!**"
   ]
  },
  {
   "cell_type": "code",
   "execution_count": null,
   "metadata": {
    "ExecuteTime": {
     "end_time": "2020-10-19T06:21:12.781910Z",
     "start_time": "2020-10-19T06:21:12.773247Z"
    },
    "slideshow": {
     "slide_type": "subslide"
    }
   },
   "outputs": [],
   "source": [
    "def add_int(a: int, b: int) -> int:\n",
    "    return a + b\n",
    "\n",
    "\n",
    "def add_int_demo():\n",
    "    print(add_int(3, 4))\n",
    "    print(add_int(\"Dem Interpreter \", \"sind Typangaben schnurz\"))\n",
    "\n",
    "\n",
    "add_int_demo()"
   ]
  },
  {
   "cell_type": "code",
   "execution_count": null,
   "metadata": {
    "ExecuteTime": {
     "end_time": "2020-10-19T06:21:43.462763Z",
     "start_time": "2020-10-19T06:21:43.452424Z"
    },
    "slideshow": {
     "slide_type": "subslide"
    }
   },
   "outputs": [],
   "source": [
    "%%file add_int_demo.py\n",
    "def add_int(a: int, b: int) -> int:\n",
    "    return (a + b)\n",
    "\n",
    "print(add_int(3, 4))\n",
    "print(add_int('Dem Interpreter ',\n",
    "              'sind Typangaben schnurz'))"
   ]
  },
  {
   "cell_type": "code",
   "execution_count": null,
   "metadata": {
    "ExecuteTime": {
     "end_time": "2020-10-19T06:21:50.670112Z",
     "start_time": "2020-10-19T06:21:50.478128Z"
    },
    "slideshow": {
     "slide_type": "subslide"
    }
   },
   "outputs": [],
   "source": [
    "!python add_int_demo.py"
   ]
  },
  {
   "cell_type": "code",
   "execution_count": null,
   "metadata": {
    "ExecuteTime": {
     "end_time": "2020-10-19T06:22:12.571946Z",
     "start_time": "2020-10-19T06:22:05.388666Z"
    },
    "slideshow": {
     "slide_type": "subslide"
    }
   },
   "outputs": [],
   "source": [
    "!mypy add_int_demo.py"
   ]
  },
  {
   "attachments": {},
   "cell_type": "markdown",
   "metadata": {
    "slideshow": {
     "slide_type": "subslide"
    }
   },
   "source": [
    "Komplexeres Beispiel, siehe [Dokumentation](https://docs.python.org/3/library/typing.html)."
   ]
  },
  {
   "cell_type": "code",
   "execution_count": null,
   "metadata": {
    "ExecuteTime": {
     "end_time": "2020-10-19T06:25:23.430200Z",
     "start_time": "2020-10-19T06:25:23.417011Z"
    },
    "slideshow": {
     "slide_type": "subslide"
    }
   },
   "outputs": [],
   "source": [
    "# Ab python3.10\n",
    "def scale(scalar: float, vector: list[int | float]) -> list[int | float]:\n",
    "    return [scalar * num for num in vector]\n",
    "\n",
    "\n",
    "# typechecks; a list of floats qualifies as a Vector.\n",
    "new_vector = scale(2.0, [1.0, -4.2, 5.4])"
   ]
  },
  {
   "cell_type": "code",
   "execution_count": null,
   "metadata": {
    "ExecuteTime": {
     "end_time": "2020-10-19T06:25:27.887163Z",
     "start_time": "2020-10-19T06:25:27.877407Z"
    },
    "slideshow": {
     "slide_type": "subslide"
    }
   },
   "outputs": [],
   "source": [
    "new_vector = scale(2, [1, -4, \"hallo \"])\n",
    "print(new_vector)"
   ]
  },
  {
   "cell_type": "code",
   "execution_count": null,
   "metadata": {
    "ExecuteTime": {
     "end_time": "2020-10-19T06:25:52.869746Z",
     "start_time": "2020-10-19T06:25:52.857278Z"
    },
    "slideshow": {
     "slide_type": "subslide"
    }
   },
   "outputs": [],
   "source": [
    "%%file scale_demo.py\n",
    "def scale(scalar: float, vector: list[int | float]) -> list[int | float]:\n",
    "    return [scalar * num for num in vector]\n",
    "\n",
    "# typechecks; a list of floats qualifies as a Vector.\n",
    "new_vector = scale(2.0, [1.0, -4.2, 5.4])\n",
    "print(new_vector)\n",
    "no_good = scale(2, ['Hallo', 22])\n",
    "print(no_good)"
   ]
  },
  {
   "cell_type": "code",
   "execution_count": null,
   "metadata": {
    "ExecuteTime": {
     "end_time": "2020-10-19T06:25:59.956137Z",
     "start_time": "2020-10-19T06:25:59.758701Z"
    },
    "slideshow": {
     "slide_type": "fragment"
    }
   },
   "outputs": [],
   "source": [
    "!python scale_demo.py"
   ]
  },
  {
   "cell_type": "code",
   "execution_count": null,
   "metadata": {
    "ExecuteTime": {
     "end_time": "2020-10-19T06:26:03.606655Z",
     "start_time": "2020-10-19T06:26:02.476440Z"
    }
   },
   "outputs": [],
   "source": [
    "!mypy scale_demo.py"
   ]
  },
  {
   "attachments": {},
   "cell_type": "markdown",
   "metadata": {},
   "source": [
    "## Dependency Injection"
   ]
  },
  {
   "cell_type": "code",
   "execution_count": null,
   "metadata": {},
   "outputs": [],
   "source": [
    "%%file count_demo.txt\n",
    "Das ist ein Satz mit sieben Wörtern."
   ]
  },
  {
   "cell_type": "code",
   "execution_count": null,
   "metadata": {},
   "outputs": [],
   "source": [
    "# Version 1\n",
    "def count_words(file_name: str) -> int:\n",
    "    nr_of_words = 0\n",
    "    with open(file_name, \"r\") as in_file:\n",
    "        for line in in_file:\n",
    "            nr_of_words += len(line.split())\n",
    "    return nr_of_words"
   ]
  },
  {
   "cell_type": "code",
   "execution_count": null,
   "metadata": {},
   "outputs": [],
   "source": [
    "print(f\"{count_words('count_demo.txt') = }\")"
   ]
  },
  {
   "cell_type": "code",
   "execution_count": null,
   "metadata": {},
   "outputs": [],
   "source": [
    "# Version 2\n",
    "from typing import TextIO\n",
    "\n",
    "\n",
    "def count_words_di(text_io: TextIO) -> int:\n",
    "    nr_of_words = 0\n",
    "    for line in text_io:\n",
    "        nr_of_words += len(line.split())\n",
    "    return nr_of_words"
   ]
  },
  {
   "cell_type": "code",
   "execution_count": null,
   "metadata": {},
   "outputs": [],
   "source": [
    "with open(\"count_demo.txt\", \"r\") as in_file:\n",
    "    print(count_words_di(in_file))"
   ]
  },
  {
   "cell_type": "code",
   "execution_count": null,
   "metadata": {},
   "outputs": [],
   "source": [
    "from io import StringIO\n",
    "\n",
    "test_stream = StringIO(\"Das ist ein Test\")\n",
    "\n",
    "print(count_words_di(test_stream))"
   ]
  },
  {
   "attachments": {},
   "cell_type": "markdown",
   "metadata": {},
   "source": [
    "Frage: Welche Vorteile bietet der Ansatz *count_words_di*?"
   ]
  },
  {
   "attachments": {},
   "cell_type": "markdown",
   "metadata": {
    "slideshow": {
     "slide_type": "slide"
    }
   },
   "source": [
    "# Guter Code - wichtiger als die Wahl der Programmiersprache"
   ]
  },
  {
   "attachments": {},
   "cell_type": "markdown",
   "metadata": {
    "slideshow": {
     "slide_type": "fragment"
    }
   },
   "source": [
    "Code wird viel häufiger gelesen als geschrieben und es ist unstrittig, dass die Qualität des Codes entscheidenden Einfluss auf die Effizienz des Teams hat. Ein wichtiges Buch zu diesem Thema ist\n",
    "\n",
    "Robert C Martin: [Clean Code](https://content-select-com.ezproxy.hs-augsburg.de/de/portal/media/view/5c85864b-fe70-4252-afa0-6037b0dd2d03)\n",
    "\n",
    "Gleich am Anfang finden Sie ein einfaches [quantitatives Maß](http://www.osnews.com/story/19266/WTFs_m) für die Qualität von Code, **Wichtige Frage**: \"What's This For\".\n",
    "\n",
    "Es ist aus der Sicht Ihres Dozenten hilfreich, Teile dieses Buchs zu lesen und noch viel hilfreicher, sich an die beschriebenen Prinzipien zu halten ..."
   ]
  },
  {
   "attachments": {},
   "cell_type": "markdown",
   "metadata": {
    "ExecuteTime": {
     "end_time": "2019-10-06T10:11:24.977045Z",
     "start_time": "2019-10-06T10:11:24.974729Z"
    },
    "slideshow": {
     "slide_type": "slide"
    }
   },
   "source": [
    "# Beispiel: Visualisierung einer mathematischen Funktion (Fortsetzung)"
   ]
  },
  {
   "cell_type": "code",
   "execution_count": null,
   "metadata": {
    "ExecuteTime": {
     "end_time": "2020-10-19T05:41:44.273228Z",
     "start_time": "2020-10-19T05:41:44.270061Z"
    }
   },
   "outputs": [],
   "source": [
    "# Benoetigt fuer sin, cos etc.\n",
    "import math"
   ]
  },
  {
   "attachments": {},
   "cell_type": "markdown",
   "metadata": {
    "slideshow": {
     "slide_type": "subslide"
    }
   },
   "source": [
    "**Teilaufgaben:**\n",
    "1. Verarbeitung von Kommandozeilenparametern\n",
    "    <br/> Eingabe: Kommandozeilenparameter\n",
    "    <br/> Ausgabe: Intervall, Fenstergröße, Funktionsterm (Text)\n",
    "    1. Überprüfung Parameter-Anzahl \n",
    "        <br/> Eingabe: Kommandozeilenparameter\n",
    "        <br/> Ausgabe: OK (ja/nein)\n",
    "    1. Umwandlung Zeichenketten $\\rightarrow$ Zahlen \n",
    "        <br/> Eingabe: Zeichenketten aus der Kommandozeile\n",
    "        <br/>Ausgaben: Intervall, Fenstergröße"
   ]
  },
  {
   "attachments": {},
   "cell_type": "markdown",
   "metadata": {
    "slideshow": {
     "slide_type": "subslide"
    }
   },
   "source": [
    "1. Lösungsansätze (Algorithmen, Datenstrukturen)\n",
    "\n",
    "    Recherche: Kommandozeilenparameter werden als Array/Liste von Zeichenketten repräsentiert\n",
    "\n",
    "    * Option 1: Umwandlung in einzelne Zahlen (x_min, x_max, fenster_groesse_x, fenster_groesse_y, funktionsterm)\n",
    "    * Option 2: Zusammenfassung von Parametern (x_bereich.min, x_bereich.max, fenster_groesse.x, fenster_groesse.y)\n",
    "    * Option 3: Verwendung von [argparse](https://docs.python.org/3/library/argparse.html#module-argparse), eher für komplexere Argumentlisten ..."
   ]
  },
  {
   "attachments": {},
   "cell_type": "markdown",
   "metadata": {
    "slideshow": {
     "slide_type": "fragment"
    }
   },
   "source": [
    "**1. Entscheidung**\n",
    "\n",
    "Wir verwenden Option 2 aufgrund der besseren Lesbarkeit."
   ]
  },
  {
   "attachments": {},
   "cell_type": "markdown",
   "metadata": {
    "ExecuteTime": {
     "end_time": "2019-10-13T17:16:26.973226Z",
     "start_time": "2019-10-13T17:16:26.969224Z"
    },
    "slideshow": {
     "slide_type": "subslide"
    }
   },
   "source": [
    "**1. Implementierung, Test, Dokumentation**"
   ]
  },
  {
   "attachments": {},
   "cell_type": "markdown",
   "metadata": {
    "slideshow": {
     "slide_type": "fragment"
    }
   },
   "source": [
    "Kommandozeilenparameter: finden sich in *sys.argv*\n",
    "\n",
    "Erinnerung (Java):\n",
    "\n",
    "    public static void main (String[] args)"
   ]
  },
  {
   "cell_type": "code",
   "execution_count": null,
   "metadata": {
    "ExecuteTime": {
     "end_time": "2020-10-19T05:41:44.497479Z",
     "start_time": "2020-10-19T05:41:44.474748Z"
    },
    "slideshow": {
     "slide_type": "subslide"
    }
   },
   "outputs": [],
   "source": [
    "from collections import namedtuple\n",
    "from typing import NamedTuple\n",
    "\n",
    "Bereich = namedtuple(\"Bereich\", \"min max\")\n",
    "Groesse = namedtuple(\"Groesse\", \"x y\")\n",
    "\n",
    "\n",
    "def parameter_aus_argumenten(argv: list[str]) -> tuple[str, Bereich, Groesse]:\n",
    "    \"\"\"\n",
    "    Bestimmung von Parametern aus Kommandozeilenargumenten\n",
    "\n",
    "    Args:\n",
    "        argv: Kommandozeilenargumente\n",
    "    Returns:\n",
    "        tuple (Funktionsterm, Intervall, Groesse): Parameter\n",
    "            fuer die Funktionsdarstellung\n",
    "    \"\"\"\n",
    "    x_bereich = Bereich(min=float(argv[2]), max=float(argv[3]))\n",
    "    fenster_groesse = Groesse(x=int(argv[4]), y=int(argv[5]))\n",
    "    return (argv[1], x_bereich, fenster_groesse)"
   ]
  },
  {
   "cell_type": "code",
   "execution_count": null,
   "metadata": {
    "ExecuteTime": {
     "end_time": "2020-10-19T05:41:44.518502Z",
     "start_time": "2020-10-19T05:41:44.503794Z"
    },
    "slideshow": {
     "slide_type": "subslide"
    }
   },
   "outputs": [],
   "source": [
    "# vertrauensbildende Massnahme (kein Test)\n",
    "argv = [\"plot_funktion.py\", \"2*math.sin(x)+1\", \"-6\", \"8\", \"40\", \"4\"]\n",
    "term, x_bereich, fenster_groesse = parameter_aus_argumenten(argv)\n",
    "\n",
    "assert term == argv[1]\n",
    "assert (x_bereich.min, x_bereich.max) == (-6, 8)\n",
    "assert (fenster_groesse.x, fenster_groesse.y) == (40, 4)"
   ]
  },
  {
   "attachments": {},
   "cell_type": "markdown",
   "metadata": {},
   "source": [
    "## Von der Aufgabe zum Code"
   ]
  },
  {
   "attachments": {},
   "cell_type": "markdown",
   "metadata": {
    "slideshow": {
     "slide_type": "subslide"
    }
   },
   "source": [
    "2. Analyse des Funktionsterms\n",
    "    <br/> Eingabe: Funktionsterm, Intervall, (horizontale) Fenstergröße \n",
    "    <br/>Ausgabe: OK (ja/nein)\n",
    "    1. Umrechung von horizontalen Bildschirmkoordinaten $u_i$ in Funktionsargumente $x_i$ \n",
    "        <br/> Eingabe: $u_i$, Intervall, horizontale Fenstergröße \n",
    "        <br/> Ausgabe: Zahl $x_i$\n",
    "    1. Überprüfung, ob die Funktionswerte $f(x_i)$ berechnet werden können \n",
    "        <br/> Eingabe: Funktionsterm, Werte $x_i$\n",
    "        <br/> Ausgabe: OK (ja/nein)"
   ]
  },
  {
   "attachments": {},
   "cell_type": "markdown",
   "metadata": {
    "slideshow": {
     "slide_type": "subslide"
    }
   },
   "source": [
    "**2. Lösungsansätze (Algorithmen, Datenstrukturen)**\n",
    "1. Intervallgröße: $\\Delta i = (x_{\\rm max} - x_{\\rm min}) / ({\\rm fenster\\_groesse\\_x}\n",
    "        - 1)$\n",
    "      <br/> $x_i = x_{\\rm min} + i \\cdot \\Delta i, \\; i \\in [0, {\\rm fenster\\_groesse\\_x} -1]$\n",
    "1. Optionen:\n",
    "    1. Erstellung eines eigenen Funktionsparsers\n",
    "    1. Verwendung von [eval](https://docs.python.org/3/library/functions.html)"
   ]
  },
  {
   "attachments": {},
   "cell_type": "markdown",
   "metadata": {
    "slideshow": {
     "slide_type": "fragment"
    }
   },
   "source": [
    "**3. Entscheidung**\n",
    "1. Implementierung als Funktion *x_wert_aus_index*\n",
    "1. Verwendung von *eval*. Einfacher als Option a, aber weniger sicher (warum?)"
   ]
  },
  {
   "attachments": {},
   "cell_type": "markdown",
   "metadata": {
    "ExecuteTime": {
     "end_time": "2019-10-13T17:16:26.973226Z",
     "start_time": "2019-10-13T17:16:26.969224Z"
    },
    "slideshow": {
     "slide_type": "subslide"
    }
   },
   "source": [
    "**4. Implementierung, Test, Dokumentation**"
   ]
  },
  {
   "cell_type": "code",
   "execution_count": null,
   "metadata": {
    "ExecuteTime": {
     "end_time": "2020-10-19T05:41:44.531174Z",
     "start_time": "2020-10-19T05:41:44.521922Z"
    }
   },
   "outputs": [],
   "source": [
    "def x_wert_aus_index(\n",
    "    u_i: int, x_bereich: Bereich, fenster_groesse: Groesse\n",
    ") -> float:\n",
    "    \"\"\"Berechnung des Funktionsarguments, das einer\n",
    "    Fensterposition entspricht\n",
    "    Args:\n",
    "        u_i: Horizontale Fensterposition\n",
    "        x_bereich: Intervall (x_min, x_max)\n",
    "        fenster_groesse: Fenstergroesse (x, y)\n",
    "    Returns:\n",
    "        float: berechneter x_wert\n",
    "    \"\"\"\n",
    "    delta = (x_bereich.max - x_bereich.min) / (fenster_groesse.x - 1)\n",
    "    x_i = x_bereich.min + delta * u_i\n",
    "    return x_i"
   ]
  },
  {
   "cell_type": "code",
   "execution_count": null,
   "metadata": {
    "ExecuteTime": {
     "end_time": "2020-10-19T05:41:44.545308Z",
     "start_time": "2020-10-19T05:41:44.533758Z"
    },
    "slideshow": {
     "slide_type": "subslide"
    }
   },
   "outputs": [],
   "source": [
    "# Plausibilitaet\n",
    "for i in range(0, fenster_groesse.x, 3):\n",
    "    print(\n",
    "        f\"i: {i:2d}, x_i: {x_wert_aus_index(i, x_bereich, fenster_groesse):5.2f}\"\n",
    "    )"
   ]
  },
  {
   "cell_type": "code",
   "execution_count": null,
   "metadata": {
    "ExecuteTime": {
     "end_time": "2020-10-19T05:41:44.553310Z",
     "start_time": "2020-10-19T05:41:44.547940Z"
    },
    "slideshow": {
     "slide_type": "subslide"
    }
   },
   "outputs": [],
   "source": [
    "# Test unter Verwendung globaler Variablen:\n",
    "assert x_wert_aus_index(0, x_bereich, fenster_groesse) == x_bereich.min\n",
    "assert (\n",
    "    x_wert_aus_index(fenster_groesse.x - 1, x_bereich, fenster_groesse)\n",
    "    == x_bereich.max\n",
    ")"
   ]
  },
  {
   "attachments": {},
   "cell_type": "markdown",
   "metadata": {
    "ExecuteTime": {
     "end_time": "2019-10-13T19:44:09.923245Z",
     "start_time": "2019-10-13T19:44:09.919852Z"
    },
    "slideshow": {
     "slide_type": "subslide"
    }
   },
   "source": [
    "**Berechnung und Überprüfung der Funktionswerte**\n"
   ]
  },
  {
   "cell_type": "code",
   "execution_count": null,
   "metadata": {
    "ExecuteTime": {
     "end_time": "2020-10-19T05:41:44.563935Z",
     "start_time": "2020-10-19T05:41:44.556716Z"
    }
   },
   "outputs": [],
   "source": [
    "import math\n",
    "\n",
    "\n",
    "def funktionswerte_gueltig(term: str, argumente: list) -> bool:\n",
    "    \"\"\"Ueberpruefung, ob Funktionswerte berechnet werden können\n",
    "\n",
    "    Args:\n",
    "        term: Funktionsterm, f(x)\n",
    "        argumente: Funktionsargumente\n",
    "    Returns:\n",
    "        True, falls alle Funktionswerte definiert sind\n",
    "    \"\"\"\n",
    "    funktionswert_ok = True\n",
    "\n",
    "    for x in argumente:\n",
    "        try:\n",
    "            # Beschraenkung der globals aus Sicherheitsgründen\n",
    "            y = eval(term, {\"math\": math, \"x\": x})\n",
    "        except Exception:\n",
    "            funktionswert_ok = False\n",
    "            break\n",
    "    return funktionswert_ok"
   ]
  },
  {
   "cell_type": "code",
   "execution_count": null,
   "metadata": {
    "ExecuteTime": {
     "end_time": "2020-10-19T05:43:06.277801Z",
     "start_time": "2020-10-19T05:43:06.271814Z"
    },
    "slideshow": {
     "slide_type": "subslide"
    }
   },
   "outputs": [],
   "source": [
    "# einfacher Test:\n",
    "term = \"math.sin(x)\"\n",
    "argumente = [-2, -1, 0, 3, 4, 23]\n",
    "assert funktionswerte_gueltig(term, argumente) == True\n",
    "# hier wird durch 0 dividiert ...\n",
    "term = \"1/x\"\n",
    "assert funktionswerte_gueltig(term, argumente) == False"
   ]
  },
  {
   "attachments": {},
   "cell_type": "markdown",
   "metadata": {
    "slideshow": {
     "slide_type": "slide"
    }
   },
   "source": [
    "# Klassen"
   ]
  },
  {
   "cell_type": "code",
   "execution_count": null,
   "metadata": {
    "ExecuteTime": {
     "end_time": "2020-10-19T06:15:44.523764Z",
     "start_time": "2020-10-19T06:15:44.518211Z"
    }
   },
   "outputs": [],
   "source": [
    "class MeineKlasse:\n",
    "    # Konstruktor\n",
    "    def __init__(self, anfangs_wert):\n",
    "        self.attribut = anfangs_wert\n",
    "\n",
    "    # Methode\n",
    "    def erhoehe_attribut(self, delta=1):\n",
    "        self.attribut += delta"
   ]
  },
  {
   "cell_type": "code",
   "execution_count": null,
   "metadata": {
    "ExecuteTime": {
     "end_time": "2020-10-19T06:16:52.541994Z",
     "start_time": "2020-10-19T06:16:52.528502Z"
    },
    "slideshow": {
     "slide_type": "subslide"
    }
   },
   "outputs": [],
   "source": [
    "# Nutzung der Klasse\n",
    "ein_objekt = MeineKlasse(77)\n",
    "print(ein_objekt.attribut)\n",
    "ein_objekt.erhoehe_attribut(22)\n",
    "print(ein_objekt.attribut)\n",
    "ein_objekt.erhoehe_attribut()\n",
    "print(ein_objekt.attribut)"
   ]
  },
  {
   "cell_type": "code",
   "execution_count": null,
   "metadata": {
    "ExecuteTime": {
     "end_time": "2020-10-19T06:18:20.278422Z",
     "start_time": "2020-10-19T06:18:20.270465Z"
    },
    "slideshow": {
     "slide_type": "subslide"
    }
   },
   "outputs": [],
   "source": [
    "# Erklärung zu self\n",
    "# Diese Syntax bitte nicht verwenden ...\n",
    "MeineKlasse.erhoehe_attribut(ein_objekt, 11)\n",
    "print(ein_objekt.attribut)"
   ]
  },
  {
   "attachments": {},
   "cell_type": "markdown",
   "metadata": {
    "slideshow": {
     "slide_type": "slide"
    }
   },
   "source": [
    "# Module und Pakete"
   ]
  },
  {
   "attachments": {},
   "cell_type": "markdown",
   "metadata": {
    "slideshow": {
     "slide_type": "subslide"
    }
   },
   "source": [
    "## Import"
   ]
  },
  {
   "cell_type": "code",
   "execution_count": null,
   "metadata": {
    "ExecuteTime": {
     "end_time": "2020-10-19T06:27:10.020141Z",
     "start_time": "2020-10-19T06:27:10.012142Z"
    },
    "slideshow": {
     "slide_type": "subslide"
    }
   },
   "outputs": [],
   "source": [
    "# 1. Empfohlene Methode\n",
    "import math\n",
    "\n",
    "print(math.sin(1.3))"
   ]
  },
  {
   "cell_type": "code",
   "execution_count": null,
   "metadata": {
    "ExecuteTime": {
     "end_time": "2020-10-19T06:27:42.838848Z",
     "start_time": "2020-10-19T06:27:42.829638Z"
    },
    "slideshow": {
     "slide_type": "fragment"
    }
   },
   "outputs": [],
   "source": [
    "# 2. Problematischer Ansatz\n",
    "from math import sin\n",
    "\n",
    "print(sin(1.3))"
   ]
  },
  {
   "cell_type": "code",
   "execution_count": null,
   "metadata": {
    "ExecuteTime": {
     "end_time": "2020-10-19T06:28:54.476348Z",
     "start_time": "2020-10-19T06:28:54.468930Z"
    },
    "slideshow": {
     "slide_type": "fragment"
    }
   },
   "outputs": [],
   "source": [
    "# 3. So bitte auf gar keinen Fall\n",
    "from math import *\n",
    "\n",
    "print(sin(1.3))"
   ]
  },
  {
   "cell_type": "raw",
   "metadata": {
    "slideshow": {
     "slide_type": "fragment"
    }
   },
   "source": [
    "Frage: Warum sind die Ansätze 2 und 3 problematisch?"
   ]
  },
  {
   "attachments": {},
   "cell_type": "markdown",
   "metadata": {
    "slideshow": {
     "slide_type": "slide"
    }
   },
   "source": [
    "# Übungsaufgabe  (Abgabe 17. / 19.10. 2020)"
   ]
  },
  {
   "attachments": {},
   "cell_type": "markdown",
   "metadata": {},
   "source": [
    "Lösen Sie die Teilaufgabe **3. Berechnung und Ausgabe der Funktionswerte** nach unserem Schema und erstellen Sie ein Paket *plotfunction* inklusive Tests und Dokumentation, das die Spezifikationen erfüllt.\n",
    "\n",
    "**Bitte beachten:** Die Lösung soll ohne Verwendung der Bibliothek *termplotlib* erstellt werden."
   ]
  }
 ],
 "metadata": {
  "celltoolbar": "Slideshow",
  "kernelspec": {
   "display_name": "Python 3 (ipykernel)",
   "language": "python",
   "name": "python3"
  },
  "language_info": {
   "codemirror_mode": {
    "name": "ipython",
    "version": 3
   },
   "file_extension": ".py",
   "mimetype": "text/x-python",
   "name": "python",
   "nbconvert_exporter": "python",
   "pygments_lexer": "ipython3",
   "version": "3.11.4"
  },
  "latex_envs": {
   "LaTeX_envs_menu_present": true,
   "autoclose": false,
   "autocomplete": true,
   "bibliofile": "biblio.bib",
   "cite_by": "apalike",
   "current_citInitial": 1,
   "eqLabelWithNumbers": true,
   "eqNumInitial": 1,
   "hotkeys": {
    "equation": "Ctrl-E",
    "itemize": "Ctrl-I"
   },
   "labels_anchors": false,
   "latex_user_defs": false,
   "report_style_numbering": false,
   "user_envs_cfg": false
  },
  "toc": {
   "base_numbering": 1,
   "nav_menu": {},
   "number_sections": true,
   "sideBar": true,
   "skip_h1_title": false,
   "title_cell": "Table of Contents",
   "title_sidebar": "Contents",
   "toc_cell": false,
   "toc_position": {
    "height": "calc(100% - 180px)",
    "left": "10px",
    "top": "150px",
    "width": "395.333px"
   },
   "toc_section_display": true,
   "toc_window_display": true
  },
  "varInspector": {
   "cols": {
    "lenName": 16,
    "lenType": 16,
    "lenVar": 40
   },
   "kernels_config": {
    "python": {
     "delete_cmd_postfix": "",
     "delete_cmd_prefix": "del ",
     "library": "var_list.py",
     "varRefreshCmd": "print(var_dic_list())"
    },
    "r": {
     "delete_cmd_postfix": ") ",
     "delete_cmd_prefix": "rm(",
     "library": "var_list.r",
     "varRefreshCmd": "cat(var_dic_list()) "
    }
   },
   "types_to_exclude": [
    "module",
    "function",
    "builtin_function_or_method",
    "instance",
    "_Feature"
   ],
   "window_display": false
  }
 },
 "nbformat": 4,
 "nbformat_minor": 4
}
