{
 "cells": [
  {
   "cell_type": "markdown",
   "metadata": {
    "slideshow": {
     "slide_type": "slide"
    }
   },
   "source": [
    "\n",
    "Programmieren 3 - Optimierung\n",
    "\n",
    "Peter Rösch, Fakultät für Informatik\n",
    "\n",
    "Hochschule Augsburg, 2023/2024"
   ]
  },
  {
   "cell_type": "markdown",
   "metadata": {
    "slideshow": {
     "slide_type": "slide"
    }
   },
   "source": [
    "# Optimierung - Einführung"
   ]
  },
  {
   "cell_type": "markdown",
   "metadata": {},
   "source": [
    "Literatur:\n",
    "   \n",
    "* Michal Jaworski, Tarek Ziadé: \"Expert Python Programming\", PACKT Publishing, [eBook](https://learning.oreilly.com/library/view/expert-python-programming/9781801071109/Text/Chapter_13.xhtml#_idParaDest-260), Kap. 13\n",
    "* [Wikipedia](http://en.wikipedia.org/wiki/Program_optimization)"
   ]
  },
  {
   "cell_type": "markdown",
   "metadata": {
    "slideshow": {
     "slide_type": "subslide"
    }
   },
   "source": [
    "Frage: Warum sagt Donald E. Knuth \"[Premature Optimisation](https://www.goodreads.com/quotes/1194913-premature-optimization-is-the-root-of-all-evil) is the root of all evil\"\n",
    "\n",
    "Donald Knuth: Structured Programming with go to Statments. Computing Surveys **4** (1974) 261-301, [pdf, S. 39 rechts unten](http://web.archive.org/web/20130731202547/http://pplab.snu.ac.kr/courses/adv_pl05/papers/p261-knuth.pdf)"
   ]
  },
  {
   "cell_type": "markdown",
   "metadata": {
    "slideshow": {
     "slide_type": "subslide"
    }
   },
   "source": [
    "## Bestätigt aus eigener Erfahrung ..."
   ]
  },
  {
   "cell_type": "markdown",
   "metadata": {},
   "source": [
    "* Kent Beck: \"Make it Work, make it right, make it fast\" [Programmer Friday](https://tknilsson.com/2018/05/25/programmer-friday-make-it-work-make-it-right-make-it-fast/)\n",
    "* Zen of Python: \"Readability counts'\n",
    "* Die Optimierung von Algorithmen (Laufzeitkomplexität) bringt mehr als die Optimierung einer Implementierung.\n",
    "* Bevor man optimiert, sollte man die Anwendung klassifizieren (I/O- oder rechenlastig, Programm im Dauereinsatz oder \"Einweg-Skript\" etc).\n",
    "* Optimierung \"aus dem Bauch heraus\" bringt wenig. Besser ist der systematische Ansatz mit Messungen (Profiling).\n",
    "* Werkzeuge zur Optimierung werden immer stärker automatisiert, Augen offen halten ... "
   ]
  },
  {
   "cell_type": "markdown",
   "metadata": {
    "slideshow": {
     "slide_type": "subslide"
    }
   },
   "source": [
    "## Beispiel: TSP"
   ]
  },
  {
   "cell_type": "markdown",
   "metadata": {},
   "source": [
    "Eine Implementierung, die deutlich schneller als das einfache Ausprobieren aller Permutationen ist, finden Sie im Notebook *TSP_dynamisch.ipynb*. Hier ist der Schlüssel die [dynamische Programmierung](https://de.wikipedia.org/wiki/Dynamische_Programmierung)."
   ]
  },
  {
   "cell_type": "markdown",
   "metadata": {
    "slideshow": {
     "slide_type": "subslide"
    }
   },
   "source": [
    "## Vereinfachung der dynamischen Programmierung mit *lru_cache*"
   ]
  },
  {
   "cell_type": "markdown",
   "metadata": {
    "ExecuteTime": {
     "end_time": "2020-11-29T19:38:40.955803Z",
     "start_time": "2020-11-29T19:38:40.952246Z"
    }
   },
   "source": [
    "Quelle: Dawud Ibrahim Ismail: [Memoization in Python](https://idawud.tech/memoization-in-python).\n",
    "\n",
    "Idee: Verwendung des *lru-cache*"
   ]
  },
  {
   "cell_type": "code",
   "execution_count": null,
   "metadata": {
    "slideshow": {
     "slide_type": "subslide"
    }
   },
   "outputs": [],
   "source": [
    "def fibonacci(n: int) -> int:\n",
    "    if n == 0:\n",
    "        return 0\n",
    "    elif n == 1:\n",
    "        return 1\n",
    "    return fibonacci(n - 1) + fibonacci(n - 2)"
   ]
  },
  {
   "cell_type": "code",
   "execution_count": null,
   "metadata": {},
   "outputs": [],
   "source": [
    "import timeit\n",
    "\n",
    "timeit.timeit(\n",
    "    \"fibonacci(35)\", setup=\"from __main__ import fibonacci\", number=5\n",
    ")"
   ]
  },
  {
   "cell_type": "code",
   "execution_count": null,
   "metadata": {
    "slideshow": {
     "slide_type": "subslide"
    }
   },
   "outputs": [],
   "source": [
    "import functools\n",
    "\n",
    "\n",
    "@functools.lru_cache(maxsize=128)\n",
    "def fibonacci_dynamisch(n: int) -> int:\n",
    "    if n == 0:\n",
    "        return 0\n",
    "    elif n == 1:\n",
    "        return 1\n",
    "    return fibonacci_dynamisch(n - 1) + fibonacci_dynamisch(n - 2)"
   ]
  },
  {
   "cell_type": "code",
   "execution_count": null,
   "metadata": {},
   "outputs": [],
   "source": [
    "timeit.timeit(\n",
    "    \"fibonacci_dynamisch(35)\",\n",
    "    setup=\"from __main__ import fibonacci_dynamisch\",\n",
    "    number=5,\n",
    ")"
   ]
  },
  {
   "cell_type": "code",
   "execution_count": null,
   "metadata": {},
   "outputs": [],
   "source": [
    "fibonacci_dynamisch.cache_clear()"
   ]
  },
  {
   "cell_type": "code",
   "execution_count": null,
   "metadata": {
    "slideshow": {
     "slide_type": "subslide"
    }
   },
   "outputs": [],
   "source": [
    "# Vertrauensbildende Massnahme\n",
    "fibonacci(35) - fibonacci_dynamisch(35)"
   ]
  },
  {
   "cell_type": "markdown",
   "metadata": {
    "slideshow": {
     "slide_type": "subslide"
    }
   },
   "source": [
    "**Frage:** Wann ist bei der Verwendung von *lru_cache* Vorsicht geboten?"
   ]
  },
  {
   "cell_type": "markdown",
   "metadata": {
    "slideshow": {
     "slide_type": "subslide"
    }
   },
   "source": [
    "## Optimierung I/O-lastiger Anwendungen"
   ]
  },
  {
   "cell_type": "markdown",
   "metadata": {},
   "source": [
    "* Zunächst seriell zum Laufen bringen (Referenz) ...\n",
    "* Profiling\n",
    "* Nebenläufigkeit mit [*asyncio*](https://docs.python.org/3.10/library/asyncio.html).\n",
    "* Intelligente Caching-Strategie.\n",
    "* Vorhersehbare I/O-Operationen vorziehen."
   ]
  },
  {
   "cell_type": "markdown",
   "metadata": {},
   "source": [
    "## Optimierung rechenintensiver Anwendungen"
   ]
  },
  {
   "cell_type": "markdown",
   "metadata": {},
   "source": [
    "* Zunächst mit dem Fokus auf Lesbarkeit und Strukturierung in kleine Einheiten zum Laufen bringen (Referenz).\n",
    "* Profiling\n",
    "* Optimierung (Speicherzugriffe, Datentypen, Möglichkeiten der verwendeten CPU/GPU)\n",
    "* Parallelisierung (Nutzung aller Kerne/Threads)\n",
    "* Verteilung (Cluster)"
   ]
  },
  {
   "cell_type": "markdown",
   "metadata": {
    "slideshow": {
     "slide_type": "slide"
    }
   },
   "source": [
    "# Systematische Optimierung - Werkzeuge"
   ]
  },
  {
   "cell_type": "markdown",
   "metadata": {},
   "source": [
    "Bei der Optimierung sollte man unbeding systematisch vorgehen und sich nicht auf das \"Bauchgefühl\" verlassen.\n",
    "\n",
    "Im Buch \"Programming in Python 3\" von Mark Summerfield ([eBook](https://learning.oreilly.com/library/view/programming-in-python/9780321699909)) finden Sie einen interessanten Abschnitt zum Thema Profiling (Kap. 9)."
   ]
  },
  {
   "cell_type": "markdown",
   "metadata": {
    "slideshow": {
     "slide_type": "subslide"
    }
   },
   "source": [
    "Folgendes Programm berechnet den Mittelwert aus vielen Zufallszahlen, auf die die *sin*-Funktion angewendet wurde:"
   ]
  },
  {
   "cell_type": "code",
   "execution_count": null,
   "metadata": {},
   "outputs": [],
   "source": [
    "import random, math\n",
    "\n",
    "\n",
    "def zufalls_mittelwert_python(seed: int, n: int) -> float:\n",
    "    random.seed(seed)\n",
    "    sum = 0.0\n",
    "    for i in range(n):\n",
    "        sum += math.sin(random.random())\n",
    "    return sum / n"
   ]
  },
  {
   "cell_type": "markdown",
   "metadata": {
    "slideshow": {
     "slide_type": "subslide"
    }
   },
   "source": [
    "Mit *timeit* kann die absolute Ausführungszeit bestimmt werden:"
   ]
  },
  {
   "cell_type": "code",
   "execution_count": null,
   "metadata": {},
   "outputs": [],
   "source": [
    "%timeit zufalls_mittelwert_python(17635, 10**6)"
   ]
  },
  {
   "cell_type": "markdown",
   "metadata": {
    "slideshow": {
     "slide_type": "subslide"
    }
   },
   "source": [
    "Flaschenhälse ('Bottlenecks') oder 'hot spots' können mit einem profiler berechnet werden. Genaueres finden Sie in der [Dokumentation](https://docs.python.org/3.10/library/profile.html). IPython bietet das magische Kommando *%prun*, siehe "
   ]
  },
  {
   "cell_type": "code",
   "execution_count": null,
   "metadata": {},
   "outputs": [],
   "source": [
    "%prun zufalls_mittelwert_python(17635, 10**5)"
   ]
  },
  {
   "cell_type": "markdown",
   "metadata": {
    "slideshow": {
     "slide_type": "subslide"
    }
   },
   "source": [
    "Wesentlich komfortabler und mächtiger ist das Programm [scalene](https://pypi.org/project/scalene).\n"
   ]
  },
  {
   "cell_type": "code",
   "execution_count": null,
   "metadata": {},
   "outputs": [],
   "source": [
    "%load_ext scalene"
   ]
  },
  {
   "cell_type": "code",
   "execution_count": null,
   "metadata": {},
   "outputs": [],
   "source": [
    "import TSP"
   ]
  },
  {
   "cell_type": "code",
   "execution_count": null,
   "metadata": {
    "slideshow": {
     "slide_type": "subslide"
    }
   },
   "outputs": [],
   "source": [
    "%%scalene --reduced-profile --cpu-only\n",
    "result = TSP.shortest_closed_path(TSP.staedte_positionen[0:0], TSP.staedte_positionen[1:10])"
   ]
  },
  {
   "cell_type": "markdown",
   "metadata": {
    "slideshow": {
     "slide_type": "subslide"
    }
   },
   "source": [
    "Aufruf im Terminal:\n",
    "\n",
    "    scalene --html --outfile scalene_TSP.html TSP.py\n",
    "    firefox scalene_TSP.html"
   ]
  },
  {
   "cell_type": "markdown",
   "metadata": {
    "slideshow": {
     "slide_type": "slide"
    }
   },
   "source": [
    "# Das Paket numpy"
   ]
  },
  {
   "cell_type": "markdown",
   "metadata": {},
   "source": [
    "Fragen:\n",
    " 1. Warum sind Python-Listen für effiziente numerische Berechnungen nicht gut geeignet?\n",
    " 1. Welche Eigenschaften sollte eine Datenstruktur für effiziente numerische Berechnungen besitzen?\n",
    " 1. Wie sollte eine Integration effizienter Numerik in Python aussehen?"
   ]
  },
  {
   "cell_type": "markdown",
   "metadata": {
    "slideshow": {
     "slide_type": "subslide"
    }
   },
   "source": [
    "## numpy - Grundlagen"
   ]
  },
  {
   "cell_type": "markdown",
   "metadata": {},
   "source": [
    "Quellen:\n",
    "  - [numpy home page](http://www.numpy.org)\n",
    "  - [numpy-Dokumentation](http://docs.scipy.org/doc)\n",
    "  - [numpy-Buch (pdf)](http://csc.ucdavis.edu/~chaos/courses/nlp/Software/NumPyBook.pdf)\n",
    "  \n",
    "numpy nutzt die [intel math kernel library](https://software.intel.com/content/www/us/en/develop/tools/math-kernel-library.html) zur effizienten Nutzung der CPU.\n",
    "    "
   ]
  },
  {
   "cell_type": "code",
   "execution_count": null,
   "metadata": {
    "slideshow": {
     "slide_type": "subslide"
    }
   },
   "outputs": [],
   "source": [
    "import math"
   ]
  },
  {
   "cell_type": "code",
   "execution_count": null,
   "metadata": {},
   "outputs": [],
   "source": [
    "# Anzahl der Berechnungen\n",
    "N = 10000"
   ]
  },
  {
   "cell_type": "code",
   "execution_count": null,
   "metadata": {
    "slideshow": {
     "slide_type": "subslide"
    }
   },
   "outputs": [],
   "source": [
    "%%timeit\n",
    "l = [ math.sin(math.pi * i / N) for i in range(N) ]"
   ]
  },
  {
   "cell_type": "markdown",
   "metadata": {
    "slideshow": {
     "slide_type": "subslide"
    }
   },
   "source": [
    "Mit numpy-Arrays können Berechnungen wesentlich schneller durchgeführt werden:"
   ]
  },
  {
   "cell_type": "code",
   "execution_count": null,
   "metadata": {},
   "outputs": [],
   "source": [
    "import numpy as np"
   ]
  },
  {
   "cell_type": "code",
   "execution_count": null,
   "metadata": {
    "slideshow": {
     "slide_type": "fragment"
    }
   },
   "outputs": [],
   "source": [
    "%%timeit\n",
    "y = np.sin( np.arange(0, math.pi, math.pi / N) )"
   ]
  },
  {
   "cell_type": "markdown",
   "metadata": {
    "slideshow": {
     "slide_type": "subslide"
    }
   },
   "source": [
    "Im Gegensatz zu Python-Listen sind numpy-Arrays statisch, d.h. ihre Größe ändert sich nicht, und können nur Elemente des gleichen Typs (z.B. numpy.float32 oder numpy.float64) enthalten."
   ]
  },
  {
   "cell_type": "code",
   "execution_count": null,
   "metadata": {},
   "outputs": [],
   "source": [
    "a = np.arange(0, 10, 0.01, dtype=np.float32)\n",
    "print(\"shape:\", a.shape)\n",
    "print(\"type: \", type(a))\n",
    "print(\"dtype: \", a.dtype)"
   ]
  },
  {
   "cell_type": "markdown",
   "metadata": {
    "slideshow": {
     "slide_type": "subslide"
    }
   },
   "source": [
    "Numpy-Funktionen wirken *elementweise* auf numpy-Arrays."
   ]
  },
  {
   "cell_type": "code",
   "execution_count": null,
   "metadata": {},
   "outputs": [],
   "source": [
    "x = np.arange(0, math.pi, math.pi / 4)\n",
    "y = np.sin(x) ** 2\n",
    "print(\"sin(x)**2:\", y)\n",
    "print(\"Mittelwert von y:\", np.mean(y))"
   ]
  },
  {
   "cell_type": "markdown",
   "metadata": {
    "slideshow": {
     "slide_type": "subslide"
    }
   },
   "source": [
    "NumPy kann mit n-Dimensionalen Feldvariablen rechnen. Häufig verwendet werden Matrizen (dim=2). Bitte beachten Sie: \n",
    "\n",
    "Der Operator '\\*' bezeichnet die *elementweise* Multiplikation. Die Matrizen-Multiplikation heißt *numpy.dot* oder @ in neueren Python-Versionen!"
   ]
  },
  {
   "cell_type": "code",
   "execution_count": null,
   "metadata": {
    "slideshow": {
     "slide_type": "subslide"
    }
   },
   "outputs": [],
   "source": [
    "matrix1 = np.random.normal(2, 0.1, size=(3, 5))\n",
    "matrix2 = np.random.normal(3, 0.2, size=(5, 2))\n",
    "print(\"matrix1:\", matrix1)\n",
    "print(\"numpy.dot(matrix1, matrix2):\\n\", np.dot(matrix1, matrix2))\n",
    "# Vorsicht, Reihenfolge! Die naechste Zeile gibt einen Fehler\n",
    "# print(np.dot(matrix2, matrix1))\n",
    "# Wenn man die Reihenfolge ändern will, muss man transponieren:\n",
    "print(\"np.dot(matrix2.T, matrix1.T):\\n\", np.dot(matrix2.T, matrix1.T))"
   ]
  },
  {
   "cell_type": "markdown",
   "metadata": {
    "slideshow": {
     "slide_type": "subslide"
    }
   },
   "source": [
    "Matrizen können z.B. auch invertiert oder zerlegt werden. Die entsprechenden Funktionen finden sich im Paket *numpy.linalg*."
   ]
  },
  {
   "cell_type": "code",
   "execution_count": null,
   "metadata": {},
   "outputs": [],
   "source": [
    "# Nur quadratische Matzizen können invertiert werden ...\n",
    "m1 = np.random.normal(1, 0.2, size=(4, 4)).astype(np.float64)\n",
    "m1Inv = np.linalg.inv(m1)\n",
    "print(\"np.dot(m1, m1Inv):\\n\", np.dot(m1, m1Inv))"
   ]
  },
  {
   "cell_type": "code",
   "execution_count": null,
   "metadata": {
    "slideshow": {
     "slide_type": "subslide"
    }
   },
   "outputs": [],
   "source": [
    "# Singulaerwertzerlegung\n",
    "np.linalg.svd(m1[0:3, 0:3])"
   ]
  },
  {
   "cell_type": "markdown",
   "metadata": {
    "slideshow": {
     "slide_type": "subslide"
    }
   },
   "source": [
    "Die numpy-Syntax ist oft intuitiv fassbar:"
   ]
  },
  {
   "cell_type": "code",
   "execution_count": null,
   "metadata": {
    "scrolled": true
   },
   "outputs": [],
   "source": [
    "a = np.array([[1, 2, 3], [4, 5, 6], [7, 8, 9]], dtype=np.float64)\n",
    "print(\"a:\\n\", a)\n",
    "b = a.copy()\n",
    "b[b % 2 == 0] = 77\n",
    "print(\"b:\\n\", b)\n",
    "c = np.where(a > 5, a / 2, a)\n",
    "print(\"c:\", c)"
   ]
  },
  {
   "cell_type": "markdown",
   "metadata": {
    "slideshow": {
     "slide_type": "subslide"
    }
   },
   "source": [
    "Weitere Beispiele finden Sie im oben schon erwähnten Buch oder auf der [Homepage](http://www.numpy.org/)."
   ]
  },
  {
   "cell_type": "markdown",
   "metadata": {
    "slideshow": {
     "slide_type": "subslide"
    }
   },
   "source": [
    "## Optimierung - numexpr"
   ]
  },
  {
   "cell_type": "markdown",
   "metadata": {},
   "source": [
    "Das Paket [numexpr](https://github.com/pydata/numexpr) übersetzt *numpy*-Ausdrücke, die als Zeichenkette übergeben werden, in opcodes, die in einer virtuellen Maschine **parallelisiert** ausgeführt werden."
   ]
  },
  {
   "cell_type": "code",
   "execution_count": null,
   "metadata": {},
   "outputs": [],
   "source": [
    "import numpy as np\n",
    "\n",
    "x = np.random.uniform(low=0, high=10, size=10**6)"
   ]
  },
  {
   "cell_type": "code",
   "execution_count": null,
   "metadata": {
    "slideshow": {
     "slide_type": "subslide"
    }
   },
   "outputs": [],
   "source": [
    "def test_function_numpy(a):\n",
    "    a = a + 3\n",
    "    b = np.sin(a) * a**2.3 + 3 * a\n",
    "    return b"
   ]
  },
  {
   "cell_type": "code",
   "execution_count": null,
   "metadata": {},
   "outputs": [],
   "source": [
    "%timeit test_function_numpy(x)"
   ]
  },
  {
   "cell_type": "code",
   "execution_count": null,
   "metadata": {
    "slideshow": {
     "slide_type": "subslide"
    }
   },
   "outputs": [],
   "source": [
    "import numexpr\n",
    "\n",
    "\n",
    "def test_function_numexpr(a):\n",
    "    a = numexpr.evaluate(\"a + 3\")\n",
    "    b = numexpr.evaluate(\"sin(a) * a ** 2.3 + 3 * a\")\n",
    "    return b"
   ]
  },
  {
   "cell_type": "code",
   "execution_count": null,
   "metadata": {},
   "outputs": [],
   "source": [
    "%timeit test_function_numexpr(x)"
   ]
  },
  {
   "cell_type": "markdown",
   "metadata": {
    "slideshow": {
     "slide_type": "subslide"
    }
   },
   "source": [
    "# Optimierung - numba"
   ]
  },
  {
   "cell_type": "markdown",
   "metadata": {},
   "source": [
    "Bei [*numba*](http://numba.pydata.org/) handelt es sich um einen 'Just-in-time-Compiler', der auf  [*llvm*](http://llvm.org) basiert. Numba bietet eine sehr gute Optimierung mit extrem wenig Aufwand."
   ]
  },
  {
   "cell_type": "code",
   "execution_count": null,
   "metadata": {},
   "outputs": [],
   "source": [
    "from numba import jit\n",
    "\n",
    "import random, math\n",
    "\n",
    "\n",
    "@jit\n",
    "def zufalls_mittelwert_numba(seed, n):\n",
    "    random.seed(seed)\n",
    "    sum = 0.0\n",
    "    for i in range(n):\n",
    "        sum += math.sin(random.random())\n",
    "    return sum / n"
   ]
  },
  {
   "cell_type": "code",
   "execution_count": null,
   "metadata": {
    "slideshow": {
     "slide_type": "subslide"
    }
   },
   "outputs": [],
   "source": [
    "#zur Erinnerung:\n",
    "%timeit zufalls_mittelwert_python(17635, 10**6)"
   ]
  },
  {
   "cell_type": "code",
   "execution_count": null,
   "metadata": {
    "slideshow": {
     "slide_type": "fragment"
    }
   },
   "outputs": [],
   "source": [
    "%timeit zufalls_mittelwert_numba(17635, 10**6)"
   ]
  },
  {
   "cell_type": "markdown",
   "metadata": {
    "slideshow": {
     "slide_type": "subslide"
    }
   },
   "source": [
    "## Parallelisierung mit numba"
   ]
  },
  {
   "cell_type": "code",
   "execution_count": null,
   "metadata": {},
   "outputs": [],
   "source": [
    "from numba import jit, prange\n",
    "\n",
    "import random, math\n",
    "\n",
    "\n",
    "@jit(parallel=True, nopython=True)\n",
    "def zufalls_mittelwert_numba_parallel(seed, n):\n",
    "    random.seed(seed)\n",
    "    sum = 0.0\n",
    "    for i in prange(n):\n",
    "        sum += math.sin(random.random())\n",
    "    return sum / n"
   ]
  },
  {
   "cell_type": "code",
   "execution_count": null,
   "metadata": {},
   "outputs": [],
   "source": [
    "%timeit zufalls_mittelwert_numba(17635, 10**6)"
   ]
  },
  {
   "cell_type": "code",
   "execution_count": null,
   "metadata": {},
   "outputs": [],
   "source": [
    "%timeit zufalls_mittelwert_numba_parallel(17635, 10**6)"
   ]
  },
  {
   "cell_type": "markdown",
   "metadata": {
    "ExecuteTime": {
     "end_time": "2020-11-29T21:41:01.459210Z",
     "start_time": "2020-11-29T21:41:01.453987Z"
    },
    "slideshow": {
     "slide_type": "subslide"
    }
   },
   "source": [
    "numba kann Funktionen, die mit numpy-Arrays arbeiten, automatisch parallelisieren und auch die SIMD-Instruktionen der CPU verwenden:"
   ]
  },
  {
   "cell_type": "code",
   "execution_count": null,
   "metadata": {},
   "outputs": [],
   "source": [
    "import numpy as np\n",
    "from numba import jit\n",
    "\n",
    "x = np.random.uniform(low=0, high=10, size=10**6)\n",
    "\n",
    "\n",
    "@jit(parallel=True, nopython=True)\n",
    "def test_function_numba(a):\n",
    "    a = a + 3\n",
    "    b = np.sin(a) * a**2.3 + 3 * a\n",
    "    return b"
   ]
  },
  {
   "cell_type": "code",
   "execution_count": null,
   "metadata": {},
   "outputs": [],
   "source": [
    "%timeit test_function_numba(x) "
   ]
  },
  {
   "cell_type": "code",
   "execution_count": null,
   "metadata": {
    "scrolled": true,
    "slideshow": {
     "slide_type": "fragment"
    }
   },
   "outputs": [],
   "source": [
    "%timeit test_function_numpy(x)"
   ]
  },
  {
   "cell_type": "code",
   "execution_count": null,
   "metadata": {
    "slideshow": {
     "slide_type": "fragment"
    }
   },
   "outputs": [],
   "source": [
    "%timeit test_function_numexpr(x)"
   ]
  },
  {
   "cell_type": "markdown",
   "metadata": {
    "slideshow": {
     "slide_type": "slide"
    }
   },
   "source": [
    "# Ausblick: GPU-Computing"
   ]
  },
  {
   "cell_type": "markdown",
   "metadata": {
    "slideshow": {
     "slide_type": "subslide"
    }
   },
   "source": [
    "Quelle: [numba-Dokumentation](https://numba.pydata.org/numba-doc/latest/cuda/random.html)."
   ]
  },
  {
   "cell_type": "code",
   "execution_count": null,
   "metadata": {},
   "outputs": [],
   "source": [
    "from numba import cuda\n",
    "from numba.cuda.random import (\n",
    "    create_xoroshiro128p_states,\n",
    "    xoroshiro128p_uniform_float32,\n",
    ")\n",
    "import numpy as np"
   ]
  },
  {
   "cell_type": "code",
   "execution_count": null,
   "metadata": {
    "slideshow": {
     "slide_type": "subslide"
    }
   },
   "outputs": [],
   "source": [
    "# Source: https://numba.pydata.org/numba-doc/latest/cuda/random.html\n",
    "@cuda.jit\n",
    "def compute_pi(rng_states, iterations, out):\n",
    "    thread_id = cuda.grid(1)\n",
    "\n",
    "    # Compute pi by drawing random (x, y) points and finding what\n",
    "    # fraction lie inside a unit circle\n",
    "    inside = 0\n",
    "    for i in range(iterations):\n",
    "        x = xoroshiro128p_uniform_float32(rng_states, thread_id)\n",
    "        y = xoroshiro128p_uniform_float32(rng_states, thread_id)\n",
    "        if x**2 + y**2 <= 1.0:\n",
    "            inside += 1\n",
    "\n",
    "    out[thread_id] = 4.0 * inside / iterations"
   ]
  },
  {
   "cell_type": "code",
   "execution_count": null,
   "metadata": {
    "slideshow": {
     "slide_type": "subslide"
    }
   },
   "outputs": [],
   "source": [
    "def compute_pi_numba_cuda(nr_of_iterations, threads_per_block=64, blocks=64):\n",
    "    iterations_per_thread = nr_of_iterations // threads_per_block // blocks\n",
    "    rng_states = create_xoroshiro128p_states(\n",
    "        threads_per_block * blocks, seed=1\n",
    "    )\n",
    "    out = np.zeros(threads_per_block * blocks, dtype=np.float32)\n",
    "    compute_pi[blocks, threads_per_block](\n",
    "        rng_states, iterations_per_thread, out\n",
    "    )\n",
    "    return out.mean()"
   ]
  },
  {
   "cell_type": "code",
   "execution_count": null,
   "metadata": {
    "slideshow": {
     "slide_type": "subslide"
    }
   },
   "outputs": [],
   "source": [
    "# ohne GPU\n",
    "# N = 10**5\n",
    "# mit GPU\n",
    "N = 10**7\n",
    "print(compute_pi_numba_cuda(N))\n",
    "\n",
    "sm_count = 48\n",
    "\n",
    "for threads_per_block in (4, 8, 16, 32, 64, 128):\n",
    "    print(f'\\n{threads_per_block = }')\n",
    "    %timeit compute_pi_numba_cuda(N, threads_per_block, 2*sm_count)"
   ]
  },
  {
   "cell_type": "code",
   "execution_count": null,
   "metadata": {
    "slideshow": {
     "slide_type": "subslide"
    }
   },
   "outputs": [],
   "source": [
    "%timeit compute_pi_numba_cuda(N, 1, 1)"
   ]
  },
  {
   "cell_type": "markdown",
   "metadata": {},
   "source": [
    "Ausgabe, NVIDIA A4000\n",
    "\n",
    "1.03 s ± 1.91 ms per loop (mean ± std. dev. of 7 runs, 1 loop each)"
   ]
  },
  {
   "cell_type": "markdown",
   "metadata": {
    "slideshow": {
     "slide_type": "slide"
    }
   },
   "source": [
    "# Aufgaben, Abgabe 12.12. und 14.12.2023"
   ]
  },
  {
   "cell_type": "markdown",
   "metadata": {},
   "source": [
    "## Middleware / Docker"
   ]
  },
  {
   "cell_type": "markdown",
   "metadata": {},
   "source": [
    "1. Nennen und beschreiben Sie zwei wichtige Vorteile, die Entwickler durch den Einsatz einer Middleware haben? (ca. vier Sätze)\n",
    "1. Vergegenwärtigen Sie sich nochmals die Struktur und Funktionsweise der im Rahmen der Vorlesung vorgestellten verteilten Monte-Carlo-Simulation, die [Ice](http://www.zeroc.com) verwendet.\n",
    "1. Sie sollen eine verteilte Anwendung zur Berechnung der Werte der allgemeinen harmonischen und der allgemeinen alternierenden harmonischen Reihe erstellen. Eingabegrößen sind: Art der Reihe, $\\alpha$ sowie die Grenze $N$, bis zu der die Summation durchgeführt wird. Dabei soll der Server, der die Berechnungen durchführt, in Java und der Client in Python implementiert werden. Als Middleware ist [Ice](http://www.zeroc.com) zu verwenden. Gehen Sie nach dem in der ersten Veranstaltung eingeführten Schema vor, wobei Sie aufgrund der Vorgaben einige Schritte überspringen können. \n",
    "1. Erstellen und testen Sie ein Docker-Image für den in den letzten Teilaufgabe erstellten Server. Verwenden Sie dazu eigene Rechner mit der VM *bookworm*."
   ]
  },
  {
   "cell_type": "markdown",
   "metadata": {
    "slideshow": {
     "slide_type": "subslide"
    }
   },
   "source": [
    "## $\\pi$ nach Monte Carlo: Optimierung mit *numba*"
   ]
  },
  {
   "cell_type": "markdown",
   "metadata": {},
   "source": [
    "1. Analysieren Sie Ihre Lösung zur Berechnung von $\\pi$ quantitativ bezüglich des Ressourcen-Verbrauchs.\n",
    "1. Welche Schlußfolgerungen zur Vorbereitung der Optimierung können Sie aus den Ergebnissen ziehen?\n",
    "1. Verwenden Sie *numba*, um eine optimierte Version der $\\pi$-Berechnung zu erstellen, vergleichen Sie die Rechenzeit mit der Ihrer parallelisierten Python-Implementierung und erklären Sie Ihre Beobachtung.\n",
    "1. Erklären Sie die beobachtete Abhängigkeit zwischen dem Parameter *threads_per_block* und der Rechenzeit im oben gegebenen Beispiel zum GPU-Computing auf der NVIDIA RTX A4000."
   ]
  },
  {
   "cell_type": "markdown",
   "metadata": {
    "slideshow": {
     "slide_type": "slide"
    }
   },
   "source": [
    "# Überprüfung"
   ]
  },
  {
   "cell_type": "markdown",
   "metadata": {},
   "source": [
    "1. Was ist der unterschied zwischen *statistischem* und *deterministischem* Profiling?\n",
    "1. Nennen Sie zwei häufige Fehler, die im Zusammenhang mit Optimierung gemacht werden. (max. vier Sätze)"
   ]
  }
 ],
 "metadata": {
  "anaconda-cloud": {},
  "kernelspec": {
   "display_name": "Python 3 (ipykernel)",
   "language": "python",
   "name": "python3"
  },
  "language_info": {
   "codemirror_mode": {
    "name": "ipython",
    "version": 3
   },
   "file_extension": ".py",
   "mimetype": "text/x-python",
   "name": "python",
   "nbconvert_exporter": "python",
   "pygments_lexer": "ipython3",
   "version": "3.11.6"
  },
  "latex_envs": {
   "LaTeX_envs_menu_present": true,
   "autoclose": false,
   "autocomplete": true,
   "bibliofile": "biblio.bib",
   "cite_by": "apalike",
   "current_citInitial": 1,
   "eqLabelWithNumbers": true,
   "eqNumInitial": 1,
   "hotkeys": {
    "equation": "Ctrl-E",
    "itemize": "Ctrl-I"
   },
   "labels_anchors": false,
   "latex_user_defs": false,
   "report_style_numbering": false,
   "user_envs_cfg": false
  },
  "toc": {
   "base_numbering": 1,
   "nav_menu": {},
   "number_sections": true,
   "sideBar": true,
   "skip_h1_title": false,
   "title_cell": "Table of Contents",
   "title_sidebar": "Contents",
   "toc_cell": false,
   "toc_position": {
    "height": "calc(100% - 180px)",
    "left": "10px",
    "top": "150px",
    "width": "320px"
   },
   "toc_section_display": true,
   "toc_window_display": false
  },
  "varInspector": {
   "cols": {
    "lenName": 16,
    "lenType": 16,
    "lenVar": 40
   },
   "kernels_config": {
    "python": {
     "delete_cmd_postfix": "",
     "delete_cmd_prefix": "del ",
     "library": "var_list.py",
     "varRefreshCmd": "print(var_dic_list())"
    },
    "r": {
     "delete_cmd_postfix": ") ",
     "delete_cmd_prefix": "rm(",
     "library": "var_list.r",
     "varRefreshCmd": "cat(var_dic_list()) "
    }
   },
   "types_to_exclude": [
    "module",
    "function",
    "builtin_function_or_method",
    "instance",
    "_Feature"
   ],
   "window_display": false
  }
 },
 "nbformat": 4,
 "nbformat_minor": 4
}
