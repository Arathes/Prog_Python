{
 "cells": [
  {
   "cell_type": "markdown",
   "metadata": {
    "slideshow": {
     "slide_type": "slide"
    }
   },
   "source": [
    "Programmieren 3 - Verteilung\n",
    "\n",
    "Peter Rösch, Fakultät für Informatik\n",
    "\n",
    "Hochschule Augsburg, 2023/2024"
   ]
  },
  {
   "cell_type": "markdown",
   "metadata": {
    "slideshow": {
     "slide_type": "slide"
    }
   },
   "source": [
    "# Einführung"
   ]
  },
  {
   "cell_type": "markdown",
   "metadata": {},
   "source": [
    "**Frage:** Mit welchen Verteilten Systemen haben Sie schon gearbeitet?"
   ]
  },
  {
   "cell_type": "markdown",
   "metadata": {
    "slideshow": {
     "slide_type": "fragment"
    }
   },
   "source": [
    "[Email von Lesley Lamport](https://lamport.azurewebsites.net/pubs/distributed-system.txt) "
   ]
  },
  {
   "cell_type": "markdown",
   "metadata": {
    "slideshow": {
     "slide_type": "fragment"
    }
   },
   "source": [
    "Informationen zu verteilten Systemen finden Sie z.B. über die Bibliothek, [O'Reilly](https://www.hs-augsburg.de/Bibliothek/O-Reilly.html) oder bei Wikipedia: [Verteiltes System](http://de.wikipedia.org/wiki/Verteilte_Systeme), [Verteilte Anwendungen](http://de.wikipedia.org/wiki/Verteilte_Anwendung). "
   ]
  },
  {
   "cell_type": "markdown",
   "metadata": {
    "slideshow": {
     "slide_type": "slide"
    }
   },
   "source": [
    "**Frage:** Wie können Sie ein verteiltes System halbwegs bequem auf Ihrem Rechner (Singular) erstellen und testen?"
   ]
  },
  {
   "cell_type": "markdown",
   "metadata": {
    "slideshow": {
     "slide_type": "slide"
    }
   },
   "source": [
    "# Docker"
   ]
  },
  {
   "cell_type": "markdown",
   "metadata": {
    "slideshow": {
     "slide_type": "fragment"
    }
   },
   "source": [
    "**Frage:** Wie hat sich der Standard-Ansatz zur Erstellung eines Web-Servers mit der Zeit verändert?"
   ]
  },
  {
   "cell_type": "markdown",
   "metadata": {
    "slideshow": {
     "slide_type": "fragment"
    }
   },
   "source": [
    "(Ausgemusterter) Rechner $\\rightarrow$ Virtuelle Maschine $\\rightarrow$ Container (Docker)"
   ]
  },
  {
   "cell_type": "markdown",
   "metadata": {},
   "source": [
    "Welche Gründe gab es für diese Entwicklung?"
   ]
  },
  {
   "cell_type": "markdown",
   "metadata": {
    "slideshow": {
     "slide_type": "subslide"
    }
   },
   "source": [
    "## Einführung"
   ]
  },
  {
   "cell_type": "markdown",
   "metadata": {},
   "source": [
    "Quelle: Jeffrey Nickoloff, Stephen Kuenzli: Docker in Action, Second Edition [O'Reilly](https://learning.oreilly.com/library/view/docker-in-action/9781617294761).\n",
    "\n",
    "Hello world:"
   ]
  },
  {
   "cell_type": "code",
   "execution_count": null,
   "metadata": {},
   "outputs": [],
   "source": [
    "%%bash\n",
    "docker run dockerinaction/hello_world"
   ]
  },
  {
   "cell_type": "markdown",
   "metadata": {
    "slideshow": {
     "slide_type": "subslide"
    }
   },
   "source": [
    "Was ist da gerade passiert?\n",
    "\n",
    "[Visualisierung](https://learning.oreilly.com/api/v2/epubs/urn:orm:book:9781617294761/files/01fig01_alt.jpg)"
   ]
  },
  {
   "cell_type": "markdown",
   "metadata": {
    "slideshow": {
     "slide_type": "fragment"
    }
   },
   "source": [
    "Visual Studio Code bietet ein Plugin für Docker (Demo)."
   ]
  },
  {
   "cell_type": "markdown",
   "metadata": {
    "slideshow": {
     "slide_type": "subslide"
    }
   },
   "source": [
    "[Mehrere Container auf einem Linux-System](https://learning.oreilly.com/api/v2/epubs/urn:orm:book:9781617294761/files/01fig04_alt.jpg)\n",
    "\n",
    "Frage: Was ist der Unterschied zu Virtuellen Maschinen?"
   ]
  },
  {
   "cell_type": "markdown",
   "metadata": {
    "slideshow": {
     "slide_type": "subslide"
    }
   },
   "source": [
    "Beispiel für ein vom host isoliertes verteiltes System: [*nginx*, *watcher* und *mailer*](https://learning.oreilly.com/api/v2/epubs/urn:orm:book:9781617294761/files/02fig01_alt.jpg)\n",
    "\n",
    "Wir werden nur *nginx* und *watcher* ausprobieren."
   ]
  },
  {
   "cell_type": "code",
   "execution_count": null,
   "metadata": {},
   "outputs": [],
   "source": [
    "%%bash\n",
    "docker run --detach --name web nginx:latest"
   ]
  },
  {
   "cell_type": "markdown",
   "metadata": {
    "slideshow": {
     "slide_type": "subslide"
    }
   },
   "source": [
    "Starten eines interaktiven Containers, der mit den anderen Containern verbunden ist.\n",
    "\n",
    "Eingabe im Terminal:\n",
    "\n",
    "    docker run --interactive --tty --link web:web --name web_test busybox:1.29 /bin/sh"
   ]
  },
  {
   "cell_type": "markdown",
   "metadata": {},
   "source": [
    "Von *web_test* aus ausführen:\n",
    "    \n",
    "    wget -O - http://web:80/"
   ]
  },
  {
   "cell_type": "markdown",
   "metadata": {
    "slideshow": {
     "slide_type": "subslide"
    }
   },
   "source": [
    "Es gibt jede Menge erprobter [Docker-Images](https://hub.docker.com/search?type=image).\n",
    "\n",
    "**Frage:** Welche Einsatzmöglichkeiten sehen Sie für *docker*?"
   ]
  },
  {
   "cell_type": "markdown",
   "metadata": {
    "slideshow": {
     "slide_type": "subslide"
    }
   },
   "source": [
    "# Middleware"
   ]
  },
  {
   "cell_type": "markdown",
   "metadata": {},
   "source": [
    "Auch hier finden Sie Informationen über die [Bibliothek](https://www.hs-augsburg.de/Bibliothek.html) oder im entsprechenden [Wikipedia-Artikel](http://de.wikipedia.org/wiki/Middleware).\n",
    "\n",
    "Eine früher populäre Middleware ist [corba](https://corba.org). Diese Middleware hatte einige [Nachteile](https://www.answers.com/Q/What_are_the_advantages_and_disadvantage_OF_CORBA).\n",
    "\n",
    "Einen Vergleich unterschiedlicher Ansätze (2010) finden Sie [hier](https://pdfs.semanticscholar.org/b1d8/666a51ed67cef7ba7f0b6b7e8d0e0a777bba.pdf).\n",
    "\n",
    "Wir verwenden die Middleware *ice* von [zeroc](http://www.zeroc.com). Die Dokumentation finden Sie [hier](https://doc.zeroc.com/ice/3.7)."
   ]
  },
  {
   "cell_type": "markdown",
   "metadata": {
    "slideshow": {
     "slide_type": "subslide"
    }
   },
   "source": [
    "Frage: Welche Probleme können bei einer verteilten Anwendung auftauchen?"
   ]
  },
  {
   "cell_type": "markdown",
   "metadata": {
    "slideshow": {
     "slide_type": "subslide"
    }
   },
   "source": [
    "## Ein Server zur Berechnung von $\\pi$ mit *zeroc-ice*"
   ]
  },
  {
   "cell_type": "markdown",
   "metadata": {},
   "source": [
    "**Aufgabe:**\n",
    "\n",
    "Erstellen Sie einen Server in Java, der die Zahl $\\pi$ mit der Monte-Carlo-Methode berechnet. Der Server soll zu Demonstrationszwecken von einem in Python implementierten Client aus aufgerufen werden. Es werden maximal eine Million Versuche unterstützt.\n",
    "\n",
    "Sie können davon ausgehen, dass keine Firewalls involviert sind und kein redundanter Service notwendig ist.\n",
    "\n",
    "Als Technologie soll *zeroc-ice* verwendet werden."
   ]
  },
  {
   "cell_type": "markdown",
   "metadata": {
    "slideshow": {
     "slide_type": "fragment"
    }
   },
   "source": [
    "**Aufgabe verstehen:**\n",
    "\n",
    "Gibt es Fragen?"
   ]
  },
  {
   "cell_type": "markdown",
   "metadata": {
    "slideshow": {
     "slide_type": "subslide"
    }
   },
   "source": [
    "**Recherche:**\n",
    "    \n",
    "* Es existiert eine Implementierung der $\\pi$-Berechnung in Java (siehe unten)\n",
    "* Da die Technologie vorgegeben ist, findet man die Terminologie in der [Dokumentation](https://doc.zeroc.com/ice/3.7). "
   ]
  },
  {
   "cell_type": "code",
   "execution_count": null,
   "metadata": {
    "ExecuteTime": {
     "end_time": "2019-12-01T20:03:31.009607Z",
     "start_time": "2019-12-01T20:03:31.005707Z"
    },
    "slideshow": {
     "slide_type": "subslide"
    }
   },
   "outputs": [],
   "source": [
    "%%file /tmp/PiMonteCarlo.java\n",
    "import java.util.Random; \n",
    "\n",
    "public class PiMonteCarlo{\n",
    "    private Random rand;\n",
    "    private long seed = 20220512;\n",
    "\n",
    "    public PiMonteCarlo(){\n",
    "        rand = new Random(seed); \n",
    "    }\n",
    "    public double calcPi(long n){\n",
    "        long hits = 0;\n",
    "        for (int i=0; i<n; i++){\n",
    "            double x = this.rand.nextDouble();\n",
    "            double y = this.rand.nextDouble();\n",
    "            if (x * x + y * y <= 1.0)\n",
    "                    hits++;\n",
    "        }\n",
    "        return 4.0 * hits / n;\n",
    "    }\n",
    "    public static void main(String[] args){\n",
    "        long n = Long.valueOf(args[0]);\n",
    "        PiMonteCarlo aPiMonteCarlo  = new PiMonteCarlo();\n",
    "        double pi = aPiMonteCarlo.calcPi(n);\n",
    "        System.out.println(\"Pi:\" + pi);\n",
    "    }\n",
    "}"
   ]
  },
  {
   "cell_type": "code",
   "execution_count": null,
   "metadata": {
    "ExecuteTime": {
     "end_time": "2019-12-01T20:03:36.151105Z",
     "start_time": "2019-12-01T20:03:35.393653Z"
    }
   },
   "outputs": [],
   "source": [
    "%%script bash\n",
    "cd /tmp\n",
    "javac PiMonteCarlo.java\n",
    "java PiMonteCarlo 100000"
   ]
  },
  {
   "cell_type": "markdown",
   "metadata": {
    "slideshow": {
     "slide_type": "subslide"
    }
   },
   "source": [
    "**Zerlegung in Teilaufgaben:**\n",
    "\n",
    "Die Zerlegung ist hier weitgehend vorgegeben.\n",
    "\n",
    "* Entwurf der Architektur\n",
    "* Definition der Schnittstellen\n",
    "* Erstellung des Servers\n",
    "* Erstellung des Clients"
   ]
  },
  {
   "cell_type": "markdown",
   "metadata": {
    "slideshow": {
     "slide_type": "subslide"
    }
   },
   "source": [
    "**Lösungsansätze (Algorithmen und Datenstrukturen):**\n",
    "    \n",
    "* Der Algorithmus zur Berechnung von $\\pi$ existiert (siehe oben)\n",
    "* Es wird ein Server, ein Client und eine Middleware benötigt\n",
    "* In diesem Fall müssen nur einfache Datentypen (Anzahl der Schritte, Ergebnis für $\\pi$) ausgetauscht werden\n"
   ]
  },
  {
   "cell_type": "markdown",
   "metadata": {
    "slideshow": {
     "slide_type": "subslide"
    }
   },
   "source": [
    "**Entscheidungen (Ansatz, Werkzeuge):**\n",
    "\n",
    "Hier gibt es klare Vorgaben:\n",
    "\n",
    "* Middleware: *zeroc-ice*\n",
    "* Server: Programmiersprache Java, Code zur Berechnung wie oben dargestellt\n",
    "* Client: Programmiersprache Python\n",
    "* Es soll mit einem möglichst einfaches System begonnen werden"
   ]
  },
  {
   "cell_type": "code",
   "execution_count": null,
   "metadata": {
    "ExecuteTime": {
     "end_time": "2019-12-01T23:26:43.364719Z",
     "start_time": "2019-12-01T23:26:43.351613Z"
    },
    "slideshow": {
     "slide_type": "subslide"
    }
   },
   "outputs": [],
   "source": [
    "%%bash\n",
    "mkdir -p ice_example/slice\n",
    "mkdir -p ice_example/client\n",
    "mkdir -p ice_example/server"
   ]
  },
  {
   "cell_type": "markdown",
   "metadata": {
    "slideshow": {
     "slide_type": "subslide"
    }
   },
   "source": [
    "### Die Schnittstelle (*slice*)"
   ]
  },
  {
   "cell_type": "markdown",
   "metadata": {},
   "source": [
    "Ein Blick in die [Dokumentation](https://doc.zeroc.com/ice/3.7/the-slice-language) kann sehr hilfreich sein ..."
   ]
  },
  {
   "cell_type": "code",
   "execution_count": null,
   "metadata": {
    "ExecuteTime": {
     "end_time": "2019-12-01T23:26:45.991622Z",
     "start_time": "2019-12-01T23:26:45.985717Z"
    },
    "slideshow": {
     "slide_type": "subslide"
    }
   },
   "outputs": [],
   "source": [
    "%%file ice_example/slice/PiMonteCarlo.ice\n",
    "\n",
    "#pragma once\n",
    "\n",
    "module Calculators{\n",
    "\n",
    "    exception RangeError{\n",
    "        string reason = \"out of range\";\n",
    "    };\n",
    " \n",
    "    interface PiMonteCarlo {\n",
    "        double calculatePi(long N)\n",
    "            throws RangeError;\n",
    "    };\n",
    "};"
   ]
  },
  {
   "cell_type": "markdown",
   "metadata": {
    "ExecuteTime": {
     "end_time": "2019-12-01T23:26:47.501279Z",
     "start_time": "2019-12-01T23:26:47.497045Z"
    },
    "slideshow": {
     "slide_type": "subslide"
    }
   },
   "source": [
    "### Automatische Erzeugung der sprachspezifischen Dateien."
   ]
  },
  {
   "cell_type": "code",
   "execution_count": null,
   "metadata": {
    "ExecuteTime": {
     "end_time": "2019-12-01T23:27:13.010178Z",
     "start_time": "2019-12-01T23:27:12.819112Z"
    }
   },
   "outputs": [],
   "source": [
    "%%bash\n",
    "cd ice_example/client\n",
    "slice2py ../slice/PiMonteCarlo.ice\n",
    "cd ../server\n",
    "slice2java ../slice/PiMonteCarlo.ice"
   ]
  },
  {
   "cell_type": "markdown",
   "metadata": {
    "slideshow": {
     "slide_type": "subslide"
    }
   },
   "source": [
    "### Implementierung des Servers"
   ]
  },
  {
   "cell_type": "markdown",
   "metadata": {},
   "source": [
    "Und wieder schauen wir in die [Dokumentation](https://doc.zeroc.com/ice/3.7/language-mappings/java-mapping/server-side-slice-to-java-mapping) ..."
   ]
  },
  {
   "cell_type": "code",
   "execution_count": null,
   "metadata": {
    "ExecuteTime": {
     "end_time": "2019-12-01T23:27:52.657044Z",
     "start_time": "2019-12-01T23:27:52.650966Z"
    },
    "slideshow": {
     "slide_type": "subslide"
    }
   },
   "outputs": [],
   "source": [
    "%%file ice_example/server/PiMonteCarloI.java\n",
    "import java.util.Random; \n",
    "\n",
    "public class PiMonteCarloI implements Calculators.PiMonteCarlo{\n",
    "    private Random rand;\n",
    "    private long seed = 2122019;\n",
    "\n",
    "    public PiMonteCarloI(){\n",
    "        rand = new Random(seed); \n",
    "    }\n",
    "\n",
    "    public double calculatePi(long n, com.zeroc.Ice.Current current) \n",
    "            throws Calculators.RangeError{\n",
    "        if (n<=0 || n > 1e6)\n",
    "            throw new Calculators.RangeError();\n",
    "        long hits = 0;\n",
    "        for (int i=0; i<n; i++){\n",
    "            double x = this.rand.nextDouble();\n",
    "            double y = this.rand.nextDouble();\n",
    "            if (x * x + y * y <= 1.0)\n",
    "                    hits++;\n",
    "        }\n",
    "        return 4.0 * hits / n;\n",
    "    }\n",
    "}"
   ]
  },
  {
   "cell_type": "code",
   "execution_count": null,
   "metadata": {
    "ExecuteTime": {
     "end_time": "2019-12-01T23:27:49.336090Z",
     "start_time": "2019-12-01T23:27:49.331210Z"
    },
    "slideshow": {
     "slide_type": "subslide"
    }
   },
   "outputs": [],
   "source": [
    "%%file ice_example/server/Server.java\n",
    "\n",
    "public class Server {\n",
    "    public static void\n",
    "    main(String[] args)\n",
    "    {\n",
    "        int status = 0;\n",
    "        com.zeroc.Ice.Communicator ic = null;\n",
    "        try {\n",
    "            ic = com.zeroc.Ice.Util.initialize(args);\n",
    "            com.zeroc.Ice.ObjectAdapter adapter =\n",
    "                ic.createObjectAdapterWithEndpoints(\"PiCruncherAdapter\", \n",
    "                        \"default -p 34000\");\n",
    "            com.zeroc.Ice.Object obj = new PiMonteCarloI();\n",
    "            adapter.add(obj, com.zeroc.Ice.Util.stringToIdentity(\"PiCruncher\"));\n",
    "            adapter.activate();\n",
    "            ic.waitForShutdown();\n",
    "        } catch (com.zeroc.Ice.LocalException e) {\n",
    "            e.printStackTrace();\n",
    "            status = 1;\n",
    "        } catch (Exception e) {\n",
    "            System.err.println(e.getMessage());\n",
    "            status = 1;\n",
    "        }\n",
    "        if (ic != null) {\n",
    "            // Clean up\n",
    "            //\n",
    "            try {\n",
    "                ic.destroy();\n",
    "            } catch (Exception e) {\n",
    "                System.err.println(e.getMessage());\n",
    "                status = 1;\n",
    "            }\n",
    "        }\n",
    "        System.exit(status);\n",
    "    }\n",
    "}"
   ]
  },
  {
   "cell_type": "code",
   "execution_count": null,
   "metadata": {
    "ExecuteTime": {
     "end_time": "2019-12-01T23:31:19.225694Z",
     "start_time": "2019-12-01T23:31:19.088491Z"
    }
   },
   "outputs": [],
   "source": [
    "%%bash\n",
    "cd ice_example/server\n",
    "mkdir classes\n",
    "javac -d classes -classpath ./classes:/usr/share/java/ice-3.7.8.jar *.java Calculators/*.java"
   ]
  },
  {
   "cell_type": "markdown",
   "metadata": {
    "slideshow": {
     "slide_type": "subslide"
    }
   },
   "source": [
    "### Implementierung des Clients"
   ]
  },
  {
   "cell_type": "markdown",
   "metadata": {},
   "source": [
    "Wieder hilft die [Dokumentation](https://doc.zeroc.com/ice/3.6/language-mappings/python-mapping) ..."
   ]
  },
  {
   "cell_type": "code",
   "execution_count": null,
   "metadata": {
    "ExecuteTime": {
     "end_time": "2019-12-01T22:33:12.611981Z",
     "start_time": "2019-12-01T22:33:12.607474Z"
    },
    "slideshow": {
     "slide_type": "subslide"
    }
   },
   "outputs": [],
   "source": [
    "%%file ice_example/client/PiMonteCarloClientIce.py\n",
    "\n",
    "import Calculators\n",
    "import Ice\n",
    "import traceback\n",
    "import sys\n",
    "\n",
    "if __name__ == '__main__':\n",
    "    status = 0\n",
    "    ic = None\n",
    "    try:\n",
    "        ic = Ice.initialize(sys.argv)\n",
    "        obj = ic.stringToProxy('PiCruncher:default -h \"localhost\" -p 34000')\n",
    "        #obj = ic.stringToProxy('PiCruncher:default -h \"rechentier.informatik.hs-augsburg.de\" -p 34000')\n",
    "        PiCalculator = Calculators.PiMonteCarloPrx.checkedCast(obj)\n",
    "        pi = PiCalculator.calculatePi(1000000)\n",
    "        print('pi:', pi)\n",
    "    except Exception:\n",
    "        traceback.print_exc()\n",
    "        status = 1\n",
    "    finally:\n",
    "        try:\n",
    "            if ic is not None:\n",
    "                ic.destroy()\n",
    "        except Execption:\n",
    "            traceback.print_exc()\n",
    "            status = 1\n",
    "    sys.exit(status)"
   ]
  },
  {
   "cell_type": "markdown",
   "metadata": {
    "slideshow": {
     "slide_type": "subslide"
    }
   },
   "source": [
    "### Demonstration / Plausibilitätstest "
   ]
  },
  {
   "cell_type": "code",
   "execution_count": null,
   "metadata": {
    "ExecuteTime": {
     "end_time": "2019-12-01T23:34:37.511561Z",
     "start_time": "2019-12-01T23:34:37.423557Z"
    }
   },
   "outputs": [],
   "source": [
    "%%file ice_example/server/start_server.sh\n",
    "export CLASSPATH=$CLASSPATH:./classes:/usr/share/java/ice-3.7.8.jar:.\n",
    "java Server"
   ]
  },
  {
   "cell_type": "markdown",
   "metadata": {},
   "source": [
    "Diese Date muss von der shell aus ausgeführt werden mit\n",
    "    \n",
    "    cd ice_example/server\n",
    "    source start_server.sh"
   ]
  },
  {
   "cell_type": "code",
   "execution_count": null,
   "metadata": {},
   "outputs": [],
   "source": [
    "%%bash\n",
    "cd ice_example/client\n",
    "python PiMonteCarloClientIce.py"
   ]
  },
  {
   "cell_type": "markdown",
   "metadata": {
    "slideshow": {
     "slide_type": "subslide"
    }
   },
   "source": [
    "## Pi-Server in einem Docker-Container"
   ]
  },
  {
   "cell_type": "markdown",
   "metadata": {},
   "source": [
    "Ziel: Erstellung eines Docker-Containers, der unseren Pi-Server unter Port 34000 zur Verfügung stellt."
   ]
  },
  {
   "cell_type": "code",
   "execution_count": null,
   "metadata": {
    "slideshow": {
     "slide_type": "subslide"
    }
   },
   "outputs": [],
   "source": [
    "%%file Dockerfile\n",
    "\n",
    "FROM debian:bookworm\n",
    "\n",
    "LABEL maintainer=\"prog3@hs-augsburg.de\"\n",
    "\n",
    "RUN apt update && \\\n",
    "    apt-get -y install openjdk-17-jre && \\\n",
    "    apt-get -y install libzeroc-ice3.7-java && \\\n",
    "    adduser pi_calculator\n",
    "\n",
    "ENV APPROOT=\"/app\" \\\n",
    "    APP=\"start_server.sh\" \\\n",
    "    VERSION=\"0.42\"\n",
    "\n",
    "WORKDIR ${APPROOT}\n",
    "\n",
    "COPY [\"./ice_example/server/\", \"${APPROOT}\"]\n",
    "\n",
    "RUN chmod a+x ${APPROOT}/${APP} && \\\n",
    "    chown -R pi_calculator:pi_calculator ${APPROOT}\n",
    "\n",
    "USER pi_calculator:pi_calculator\n",
    "\n",
    "ENTRYPOINT ${APPROOT}/${APP}\n",
    "#ENTRYPOINT [\"/bin/bash\"]\n",
    "\n",
    "EXPOSE 34000"
   ]
  },
  {
   "cell_type": "code",
   "execution_count": null,
   "metadata": {
    "scrolled": true,
    "slideshow": {
     "slide_type": "subslide"
    }
   },
   "outputs": [],
   "source": [
    "%%bash\n",
    "docker image build -t pi_server:0.42 ."
   ]
  },
  {
   "cell_type": "code",
   "execution_count": null,
   "metadata": {
    "slideshow": {
     "slide_type": "subslide"
    }
   },
   "outputs": [],
   "source": [
    "%%bash\n",
    "docker run -d --rm -p 34000:34000/tcp pi_server:0.42"
   ]
  },
  {
   "cell_type": "markdown",
   "metadata": {
    "slideshow": {
     "slide_type": "slide"
    }
   },
   "source": [
    "# Verteilung mit multiprocessing"
   ]
  },
  {
   "cell_type": "markdown",
   "metadata": {},
   "source": [
    "Mit dem *multiprocessing*-Paket sind nur wenige Änderungen nötig, um eine auf Queues basierende parallelisierte Anwendung auf mehrere Rechner zu verteilen.\n",
    "\n",
    "Die Queues werden von einem *TaskManager* verwaltet, der auf einem der Rechner im Cluster läuft und über einen bestimmten Port erreichbar ist. Der *TaskManager* kümmert sich um den Zugriff aller Rechner auf die Objekte, die er verwaltet (in diesem Fall zwei Queues)."
   ]
  },
  {
   "cell_type": "code",
   "execution_count": null,
   "metadata": {
    "ExecuteTime": {
     "end_time": "2018-12-10T10:02:22.771040Z",
     "start_time": "2018-12-10T10:02:22.759534Z"
    },
    "slideshow": {
     "slide_type": "subslide"
    }
   },
   "outputs": [],
   "source": [
    "%%file /tmp/distributedQueue.py\n",
    "\n",
    "from multiprocessing.managers import BaseManager\n",
    "from multiprocessing import JoinableQueue, Queue\n",
    "\n",
    "class TaskManager(BaseManager):\n",
    "    pass\n",
    "\n",
    "if __name__ == '__main__':\n",
    "    from sys import argv, exit\n",
    "    if len(argv) != 2:\n",
    "        print('usage:', argv[0], b'socket_nr')\n",
    "        exit(0)\n",
    "    master_socket = int(argv[1])\n",
    "    task_queue = JoinableQueue()\n",
    "    result_queue = Queue()\n",
    "    TaskManager.register('get_job_queue', \n",
    "                         callable = lambda:task_queue)\n",
    "    TaskManager.register('get_result_queue', \n",
    "                         callable = lambda:result_queue)\n",
    "    m = TaskManager(address = ('', master_socket), \n",
    "                    authkey = b'secret')\n",
    "    print('starting queue server, socket', master_socket)\n",
    "    m.get_server().serve_forever()"
   ]
  },
  {
   "cell_type": "markdown",
   "metadata": {
    "slideshow": {
     "slide_type": "subslide"
    }
   },
   "source": [
    "Der Worker muss die IP-Adresse und den Port kennen, unter dem er den *TaskManager* und somit die beiden Queues erreichen kann. Auf jedem Rechner im Cluster sollte ein Worker gestartet werden."
   ]
  },
  {
   "cell_type": "code",
   "execution_count": null,
   "metadata": {
    "ExecuteTime": {
     "end_time": "2018-12-10T10:03:15.575402Z",
     "start_time": "2018-12-10T10:03:15.562867Z"
    },
    "slideshow": {
     "slide_type": "subslide"
    }
   },
   "outputs": [],
   "source": [
    "%%file /tmp/workerTSP.py\n",
    "\n",
    "from multiprocessing import cpu_count, Process\n",
    "from distributedQueue import TaskManager\n",
    "import math\n",
    "\n",
    "def _distance(p1, p2):\n",
    "    delta_x = p2[0] - p1[0]\n",
    "    delta_y = p2[1] - p1[1]\n",
    "    return math.sqrt(delta_x * delta_x + delta_y * delta_y)\n",
    "\n",
    "def _path_length(path):\n",
    "    total_len = 0.0\n",
    "    for i in range(1, len(path)):\n",
    "        total_len += _distance(path[i-1], path[i])\n",
    "    return total_len\n",
    "\n",
    "def _shortest_closed_path(path_completed, path_ahead,\n",
    "        min_length=None, min_path=None):\n",
    "    if len(path_ahead) == 1:\n",
    "        # create a closed path by adding the starting point\n",
    "        total_path = path_completed + path_ahead + (path_completed[0], )\n",
    "        total_path_length = _path_length(total_path)\n",
    "        if min_length == None or total_path_length < min_length:\n",
    "            min_length, min_path = total_path_length, total_path  \n",
    "    else:\n",
    "        # continue recursion\n",
    "        for i in range(len(path_ahead)):\n",
    "            min_length, min_path = \\\n",
    "                _shortest_closed_path(path_completed + (path_ahead[i], ),\n",
    "                                       path_ahead[:i] + path_ahead[i+1:],\n",
    "                                       min_length, min_path)\n",
    "    return min_length, min_path\n",
    "\n",
    "def _worker_function(job_queue, result_queue):\n",
    "    while True:\n",
    "        task = job_queue.get()\n",
    "        result = _shortest_closed_path(*task)\n",
    "        result_queue.put(result)\n",
    "        job_queue.task_done()\n",
    "\n",
    "def _start_workers(m):\n",
    "    job_queue, result_queue = m.get_job_queue(), m.get_result_queue()\n",
    "    nr_of_processes = cpu_count()\n",
    "    processes = [Process(target = _worker_function,\n",
    "            args = (job_queue, result_queue))\n",
    "        for i in range(nr_of_processes)]\n",
    "    for p in processes:\n",
    "        p.start()\n",
    "    return nr_of_processes\n",
    "\n",
    "if __name__ == '__main__':\n",
    "    from sys import argv, exit\n",
    "    if len(argv) < 3:\n",
    "        print('usage:', argv[0], 'server_IP server_socket')\n",
    "        exit(0)\n",
    "    server_ip = argv[1]\n",
    "    server_socket = int(argv[2])\n",
    "    TaskManager.register('get_job_queue')\n",
    "    TaskManager.register('get_result_queue')\n",
    "    m = TaskManager(address=(server_ip, server_socket), authkey = b'secret')\n",
    "    m.connect()\n",
    "    nr_of_processes = _start_workers(m)\n",
    "    print(nr_of_processes, 'workers started')"
   ]
  },
  {
   "cell_type": "markdown",
   "metadata": {
    "slideshow": {
     "slide_type": "subslide"
    }
   },
   "source": [
    "Der Master füllt die *jobQueue* mit Auftägen und wertet die Ergebnisse, die von den Workern auf die *resultQueue* gelegt wurden, aus. Dazu muss er ebenfalls wissen, wie er den TaskManager finden kann. "
   ]
  },
  {
   "cell_type": "code",
   "execution_count": null,
   "metadata": {
    "ExecuteTime": {
     "end_time": "2018-12-10T10:06:43.982382Z",
     "start_time": "2018-12-10T10:06:43.967358Z"
    },
    "slideshow": {
     "slide_type": "subslide"
    }
   },
   "outputs": [],
   "source": [
    "%%file /tmp/masterTSP.py\n",
    "\n",
    "from distributedQueue import TaskManager\n",
    "import random, math, time\n",
    "\n",
    "staedte_positionen = ((0.010319427306382911, 0.8956251389386756), (0.6999898714299346, 0.42254500074835377), (0.4294574582950912, 0.4568408794115657), (0.6005454852683483, 0.9295407203370832), (0.9590226056623925, 0.581453646599427), (0.748521134122647, 0.5437775417153159), (0.7571232013282426, 0.606435031856663), (0.07528757443413125, 0.07854082131763074), (0.32346175150639334, 0.7291706487873425), (0.012935451483722882, 0.974440252089956), (0.7894689664351368, 0.8925464165283283), (0.5017081207027582, 0.2323298297211428), (0.5994368069089712, 0.006438246252584379), (0.3471372841416518, 0.32362936726486546), (0.9080568556459205, 0.5872162265716462), (0.008216651916432838, 0.5605251786730867), (0.12281649843134745, 0.778836327426156), (0.9698199622470612, 0.9108771425774694), (0.22977122891732482, 0.9692739885317619), (0.8192293086323663, 0.5857981607663957), (0.1422079724040628, 0.8147259475583606), (0.6706795717064135, 0.591561956032189), (0.15756919328106178, 0.6331745919782176), (0.9932745190952539, 0.20429268341528184), (0.21104352892679712, 0.8836996377783977), (0.15162951778287448, 0.43829883402923786), (0.1014198097226855, 0.5877946138306056), (0.8961534561384676, 0.6498866051905969), (0.02348788064910401, 0.2555771312427847), (0.7629752603198586, 0.031097354437254032), (0.9202799257088203, 0.8545409146117934), (0.4740012769258859, 0.30554661789326976), (0.9662984341217945, 0.24235140218349704), (0.236385903920734, 0.8065137287975154), (0.7509340695304845, 0.9276718423781918), (0.891709366337186, 0.9691233497708065), (0.45766675798331646, 0.3966074453757069), (0.362463818656684, 0.629782983287922), (0.3895828182648007, 0.11182372435220689), (0.8007718207811885, 0.07083259575886258), (0.9395297121272306, 0.003549829042441055), (0.9990444201768337, 0.4816092706412669), (0.806664037655748, 0.45636915118812094), (0.7248316046403981, 0.4136143673445848), (0.9797254747122175, 0.5348075095243779), (0.832410347070477, 0.36236092065071435), (0.17697174259486892, 0.09903555437885947), (0.3320429025096797, 0.42538137689172295), (0.010390541304141299, 0.3196764197089256), (0.13647705960093703, 0.6166884292149969), (0.7413967117502017, 0.6758731780971651), (0.5057620560480408, 0.6176726900765315), (0.811221033004999, 0.15436803010778977), (0.5010541138760939, 0.35001152238091926), (0.9413826105193199, 0.9418596542666187), (0.891256361420491, 0.7886584654021789), (0.3676445849723219, 0.9387145658378656), (0.7976904766536591, 0.7297167662430665), (0.5966826978617474, 0.29179542156826277), (0.6209578021367281, 0.22193571777470145), (0.8298034730084203, 0.5164834220744453), (0.1974315640582841, 0.9764209254933037), (0.3181560706032852, 0.9659291942205317), (0.8665674546422951, 0.8281710981528015), (0.341232980616892, 0.5707946637100852), (0.8931358896561539, 0.40864805338293986), (0.26644032823825714, 0.9989727471390323), (0.3993087575662785, 0.009572468741341433), (0.7385521851703551, 0.8947961501854975), (0.3265958212912289, 0.12135269959328665), (0.33657186037515696, 0.04678149607307802), (0.6574688023519235, 0.14620381872693322), (0.9232073321379433, 0.464399378682132), (0.3350568606219765, 0.8140710044746052), (0.43439242705535963, 0.6850627844635814), (0.6748600302251079, 0.17179426903224415), (0.3257145924815924, 0.17892361406234325), (0.9843761318782708, 0.7246387654097534), (0.3302488609623919, 0.5461838792803725), (0.942182061647097, 0.271796972592925), (0.7992439374549364, 0.3344916623897427), (0.07722251160513627, 0.5998378921773792), (0.9551490162437984, 0.99084148343811), (0.2994585617190968, 0.8420506992016424), (0.692980959785355, 0.832838090803397), (0.31555831127132894, 0.06401272570899819), (0.02665227648457802, 0.5242147042171419), (0.1974784428862567, 0.9137326594564479), (0.8486377116437235, 0.773093204292392), (0.6588651068050204, 0.6191834372968826), (0.9294759207447961, 0.04471010558595201), (0.9407045003182903, 0.7240803846820537), (0.6814942236797052, 0.6579517970003296), (0.2956248273119104, 0.4141031496785965), (0.729642956744248, 0.18897087844791205), (0.6092213719795501, 0.12514914017649392), (0.7431271140678826, 0.12660475585183406), (0.9023640654012873, 0.21133242457776658), (0.3513947221768753, 0.10988741056845952), (0.7560785506387285, 0.1994584377393509))\n",
    "\n",
    "def _create_argument_list_TSP(path_completed, path_ahead, r_depth, l):\n",
    "    if len(path_completed) == r_depth:\n",
    "        l.append((path_completed, path_ahead))\n",
    "    else:\n",
    "        for i in range(len(path_ahead)):\n",
    "            _create_argument_list_TSP(path_completed + (path_ahead[i],) , \n",
    "                                       path_ahead[:i] + path_ahead[i+1:], r_depth, l)\n",
    "\n",
    "def _calculate(m, nr_of_cities):\n",
    "    job_queue, result_queue = m.get_job_queue(), m.get_result_queue()\n",
    "\n",
    "    in_list = []\n",
    "    result_list = []\n",
    "    _create_argument_list_TSP((staedte_positionen[0], ), \n",
    "                            staedte_positionen[1:nr_of_cities], 3, in_list)\n",
    "    for arg in in_list:\n",
    "        job_queue.put(arg)\n",
    "    job_queue.join()\n",
    "    while not result_queue.empty():\n",
    "        result_list.append(result_queue.get()) \n",
    "    return min(result_list)\n",
    "\n",
    "if __name__ == '__main__':\n",
    "    from sys import argv, exit\n",
    "    if len(argv) != 4:\n",
    "        print('usage:', argv[0], 'server_IP server_socket nr_of_cities')\n",
    "        exit(0)\n",
    "    server_ip = argv[1]\n",
    "    server_socket = int(argv[2])\n",
    "    TaskManager.register('get_job_queue')\n",
    "    TaskManager.register('get_result_queue')\n",
    "    m = TaskManager(address=(server_ip, server_socket), authkey = b'secret')\n",
    "    m.connect()\n",
    "\n",
    "    t1 = time.time()\n",
    "    result = _calculate(m, int(argv[3]))\n",
    "    t2 = time.time()\n",
    "    print(' result: ', result)\n",
    "    print(' time:   ', t2-t1, ' s\\n')"
   ]
  },
  {
   "cell_type": "markdown",
   "metadata": {
    "slideshow": {
     "slide_type": "slide"
    }
   },
   "source": [
    "# Verteilung mit IPython"
   ]
  },
  {
   "cell_type": "markdown",
   "metadata": {},
   "source": [
    "Die Verteilung erfolgt mit den Paket *IPython.parallel*, die Dokumentation finden Sie [hier](http://ipython.org/ipython-doc/stable/parallel/parallel_intro.html)\n",
    "\n",
    "Installation:\n",
    "\n",
    "    conda install -y ipyparallel"
   ]
  },
  {
   "cell_type": "markdown",
   "metadata": {
    "slideshow": {
     "slide_type": "subslide"
    }
   },
   "source": [
    "Folgende Schritte sind nötig, um ein Cluster mit IPython und python3 auf den Rechnern im Labor (Linux) aufzusetzen:\n",
    " 1. Auswahl eines Ports, 34000+N (N: Gruppen-Nummer), Platzhalter PORT\n",
    " 1. Feststellen der IP-Adresse, auf dem der *ipcontroller3* laufen soll z.B. mit \n",
    "            hostname -I\n",
    "   Platzhalter ist IP\n",
    " 1. Auf einem Rechner muss der Controller gestartet werden mit\n",
    "          ipcontroller --ip=IP --port=PORT\n",
    " Dabei werden die Dateien *ipcontroller-client.json* und *ipcontroller-engine.json* im Verzeichnis *~/.ipython/profile_default/security* erzeugt, die von den Engines und dem Notebook, das das Cluster nutzt, benötigt werden.\n",
    " 1. Jetzt können Sie sich *mit der selben Benutzerkennung* auf anderen Rechnern anmelden und Engines starten mit\n",
    "          ipengine&\n",
    "  Sie können natürlich mehrere Engines pro Rechner starten.\n",
    " 1. Starten Sie den Jupyter-Server, *wieder mit der gleichen Benutzerkennung*, durch Eingabe von \n",
    "         jupyter-notebook\n",
    "         \n",
    "Falls sich die beteiligten Rechner *nicht* das Verzeichnis *~/.ipython* teilen, müssen Sie die Dateien *ipcontroller-client.json* und *ipcontroller-engine.json* aus dem Verzeichnis *~/.ipython/profile_default/security* des Rechners, auf dem der Controller läuft, in das entsprechende Verzeichnis jedes Rechners kopieren, der für das Cluster rechnet bzw. das Cluster nutzen soll. **Dieser Schritt muss wiederholt werden, sobald der Controller neu gestartet wird.** Details finden Sie in der [Dokumentation](http://ipython.org/ipython-doc/stable/parallel/parallel_intro.html)."
   ]
  },
  {
   "cell_type": "markdown",
   "metadata": {
    "slideshow": {
     "slide_type": "subslide"
    }
   },
   "source": [
    "Der Befehl *Client* gibt eine Liste aller Engines zurück, die Teil des Clusters sind. \n",
    "\n",
    "Wird dagegen der Name einer Datei übergeben, so werden die Verbindungs-Daten zum *ipcontroller* aus dieser Datei gelesen (siehe unten)."
   ]
  },
  {
   "cell_type": "code",
   "execution_count": null,
   "metadata": {
    "ExecuteTime": {
     "end_time": "2018-12-10T10:12:31.474120Z",
     "start_time": "2018-12-10T10:12:31.423630Z"
    }
   },
   "outputs": [],
   "source": [
    "staedte_positionen = (\n",
    "    (0.010319427306382911, 0.8956251389386756),\n",
    "    (0.6999898714299346, 0.42254500074835377),\n",
    "    (0.4294574582950912, 0.4568408794115657),\n",
    "    (0.6005454852683483, 0.9295407203370832),\n",
    "    (0.9590226056623925, 0.581453646599427),\n",
    "    (0.748521134122647, 0.5437775417153159),\n",
    "    (0.7571232013282426, 0.606435031856663),\n",
    "    (0.07528757443413125, 0.07854082131763074),\n",
    "    (0.32346175150639334, 0.7291706487873425),\n",
    "    (0.012935451483722882, 0.974440252089956),\n",
    "    (0.7894689664351368, 0.8925464165283283),\n",
    "    (0.5017081207027582, 0.2323298297211428),\n",
    "    (0.5994368069089712, 0.006438246252584379),\n",
    "    (0.3471372841416518, 0.32362936726486546),\n",
    "    (0.9080568556459205, 0.5872162265716462),\n",
    "    (0.008216651916432838, 0.5605251786730867),\n",
    "    (0.12281649843134745, 0.778836327426156),\n",
    "    (0.9698199622470612, 0.9108771425774694),\n",
    "    (0.22977122891732482, 0.9692739885317619),\n",
    "    (0.8192293086323663, 0.5857981607663957),\n",
    "    (0.1422079724040628, 0.8147259475583606),\n",
    "    (0.6706795717064135, 0.591561956032189),\n",
    "    (0.15756919328106178, 0.6331745919782176),\n",
    "    (0.9932745190952539, 0.20429268341528184),\n",
    "    (0.21104352892679712, 0.8836996377783977),\n",
    "    (0.15162951778287448, 0.43829883402923786),\n",
    "    (0.1014198097226855, 0.5877946138306056),\n",
    "    (0.8961534561384676, 0.6498866051905969),\n",
    "    (0.02348788064910401, 0.2555771312427847),\n",
    "    (0.7629752603198586, 0.031097354437254032),\n",
    "    (0.9202799257088203, 0.8545409146117934),\n",
    "    (0.4740012769258859, 0.30554661789326976),\n",
    "    (0.9662984341217945, 0.24235140218349704),\n",
    "    (0.236385903920734, 0.8065137287975154),\n",
    "    (0.7509340695304845, 0.9276718423781918),\n",
    "    (0.891709366337186, 0.9691233497708065),\n",
    "    (0.45766675798331646, 0.3966074453757069),\n",
    "    (0.362463818656684, 0.629782983287922),\n",
    "    (0.3895828182648007, 0.11182372435220689),\n",
    "    (0.8007718207811885, 0.07083259575886258),\n",
    "    (0.9395297121272306, 0.003549829042441055),\n",
    "    (0.9990444201768337, 0.4816092706412669),\n",
    "    (0.806664037655748, 0.45636915118812094),\n",
    "    (0.7248316046403981, 0.4136143673445848),\n",
    "    (0.9797254747122175, 0.5348075095243779),\n",
    "    (0.832410347070477, 0.36236092065071435),\n",
    "    (0.17697174259486892, 0.09903555437885947),\n",
    "    (0.3320429025096797, 0.42538137689172295),\n",
    "    (0.010390541304141299, 0.3196764197089256),\n",
    "    (0.13647705960093703, 0.6166884292149969),\n",
    "    (0.7413967117502017, 0.6758731780971651),\n",
    "    (0.5057620560480408, 0.6176726900765315),\n",
    "    (0.811221033004999, 0.15436803010778977),\n",
    "    (0.5010541138760939, 0.35001152238091926),\n",
    "    (0.9413826105193199, 0.9418596542666187),\n",
    "    (0.891256361420491, 0.7886584654021789),\n",
    "    (0.3676445849723219, 0.9387145658378656),\n",
    "    (0.7976904766536591, 0.7297167662430665),\n",
    "    (0.5966826978617474, 0.29179542156826277),\n",
    "    (0.6209578021367281, 0.22193571777470145),\n",
    "    (0.8298034730084203, 0.5164834220744453),\n",
    "    (0.1974315640582841, 0.9764209254933037),\n",
    "    (0.3181560706032852, 0.9659291942205317),\n",
    "    (0.8665674546422951, 0.8281710981528015),\n",
    "    (0.341232980616892, 0.5707946637100852),\n",
    "    (0.8931358896561539, 0.40864805338293986),\n",
    "    (0.26644032823825714, 0.9989727471390323),\n",
    "    (0.3993087575662785, 0.009572468741341433),\n",
    "    (0.7385521851703551, 0.8947961501854975),\n",
    "    (0.3265958212912289, 0.12135269959328665),\n",
    "    (0.33657186037515696, 0.04678149607307802),\n",
    "    (0.6574688023519235, 0.14620381872693322),\n",
    "    (0.9232073321379433, 0.464399378682132),\n",
    "    (0.3350568606219765, 0.8140710044746052),\n",
    "    (0.43439242705535963, 0.6850627844635814),\n",
    "    (0.6748600302251079, 0.17179426903224415),\n",
    "    (0.3257145924815924, 0.17892361406234325),\n",
    "    (0.9843761318782708, 0.7246387654097534),\n",
    "    (0.3302488609623919, 0.5461838792803725),\n",
    "    (0.942182061647097, 0.271796972592925),\n",
    "    (0.7992439374549364, 0.3344916623897427),\n",
    "    (0.07722251160513627, 0.5998378921773792),\n",
    "    (0.9551490162437984, 0.99084148343811),\n",
    "    (0.2994585617190968, 0.8420506992016424),\n",
    "    (0.692980959785355, 0.832838090803397),\n",
    "    (0.31555831127132894, 0.06401272570899819),\n",
    "    (0.02665227648457802, 0.5242147042171419),\n",
    "    (0.1974784428862567, 0.9137326594564479),\n",
    "    (0.8486377116437235, 0.773093204292392),\n",
    "    (0.6588651068050204, 0.6191834372968826),\n",
    "    (0.9294759207447961, 0.04471010558595201),\n",
    "    (0.9407045003182903, 0.7240803846820537),\n",
    "    (0.6814942236797052, 0.6579517970003296),\n",
    "    (0.2956248273119104, 0.4141031496785965),\n",
    "    (0.729642956744248, 0.18897087844791205),\n",
    "    (0.6092213719795501, 0.12514914017649392),\n",
    "    (0.7431271140678826, 0.12660475585183406),\n",
    "    (0.9023640654012873, 0.21133242457776658),\n",
    "    (0.3513947221768753, 0.10988741056845952),\n",
    "    (0.7560785506387285, 0.1994584377393509),\n",
    ")"
   ]
  },
  {
   "cell_type": "code",
   "execution_count": null,
   "metadata": {
    "ExecuteTime": {
     "end_time": "2018-12-10T10:12:34.559615Z",
     "start_time": "2018-12-10T10:12:34.554897Z"
    }
   },
   "outputs": [],
   "source": [
    "from ipyparallel import Client"
   ]
  },
  {
   "cell_type": "code",
   "execution_count": null,
   "metadata": {
    "ExecuteTime": {
     "end_time": "2018-12-10T10:13:01.334328Z",
     "start_time": "2018-12-10T10:13:01.326285Z"
    },
    "slideshow": {
     "slide_type": "subslide"
    }
   },
   "outputs": [],
   "source": [
    "c = None\n",
    "\n",
    "\n",
    "def setup_client():\n",
    "    global c\n",
    "    c = Client()\n",
    "    print(\"Nr of Engines:\", len(c))"
   ]
  },
  {
   "cell_type": "markdown",
   "metadata": {
    "slideshow": {
     "slide_type": "subslide"
    }
   },
   "source": [
    "Die folgende Funktion verwendet eine *load_balanced_view*, um den Algorithmus zum TSP verteilt im Cluster auszuführen."
   ]
  },
  {
   "cell_type": "code",
   "execution_count": null,
   "metadata": {
    "ExecuteTime": {
     "end_time": "2018-12-10T10:13:07.944104Z",
     "start_time": "2018-12-10T10:13:07.908252Z"
    }
   },
   "outputs": [],
   "source": [
    "setup_client()"
   ]
  },
  {
   "cell_type": "code",
   "execution_count": null,
   "metadata": {
    "ExecuteTime": {
     "end_time": "2018-12-09T21:38:32.951415Z",
     "start_time": "2018-12-09T21:38:32.940403Z"
    }
   },
   "outputs": [],
   "source": [
    "def TSP_IPython_cluster(path_completed, path_ahead, r_depth):\n",
    "    def _shortest_closed_path_tuple_call(arg_tupel):\n",
    "        return _shortest_closed_path(*arg_tupel)\n",
    "\n",
    "    def _create_argument_list_TSP(path_completed, path_ahead, r_depth, l):\n",
    "        if len(path_completed) == r_depth:\n",
    "            l.append((path_completed, path_ahead))\n",
    "        else:\n",
    "            for i in range(len(path_ahead)):\n",
    "                _create_argument_list_TSP(\n",
    "                    path_completed + (path_ahead[i],),\n",
    "                    path_ahead[:i] + path_ahead[i + 1 :],\n",
    "                    r_depth,\n",
    "                    l,\n",
    "                )\n",
    "\n",
    "    l_in = []\n",
    "    _create_argument_list_TSP(path_completed, path_ahead, r_depth, l_in)\n",
    "    #\n",
    "    # Load-Balanced view (fuer Cluster)\n",
    "    lview = c.load_balanced_view()\n",
    "    lOut = lview.map_sync(_shortest_closed_path_tuple_call, l_in)\n",
    "    return min(lOut)"
   ]
  },
  {
   "cell_type": "markdown",
   "metadata": {
    "slideshow": {
     "slide_type": "subslide"
    }
   },
   "source": [
    "Bevor die nächsten Zeilen funktionieren, müssen erst einige Engines und ggf. ein Controller gestartet werden."
   ]
  },
  {
   "cell_type": "code",
   "execution_count": null,
   "metadata": {
    "ExecuteTime": {
     "end_time": "2018-12-09T21:38:34.922518Z",
     "start_time": "2018-12-09T21:38:34.885043Z"
    }
   },
   "outputs": [],
   "source": [
    "setup_client()\n",
    "nr_of_cities = 10\n",
    "\n",
    "r_depth = 2"
   ]
  },
  {
   "cell_type": "markdown",
   "metadata": {
    "slideshow": {
     "slide_type": "subslide"
    }
   },
   "source": [
    "Das magische Kommando *%%px* bewirkt, das der Inhalt der Zelle auf allen Engines ausgeführt wird."
   ]
  },
  {
   "cell_type": "code",
   "execution_count": null,
   "metadata": {
    "ExecuteTime": {
     "end_time": "2018-12-09T21:39:38.255200Z",
     "start_time": "2018-12-09T21:38:36.708033Z"
    }
   },
   "outputs": [],
   "source": [
    "%%px\n",
    "\n",
    "import math\n",
    "\n",
    "def _distance(p1, p2):\n",
    "    delta_x = p2[0] - p1[0]\n",
    "    delta_y = p2[1] - p1[1]\n",
    "    return math.sqrt(delta_x * delta_x + delta_y * delta_y)\n",
    "\n",
    "def _path_length(path):\n",
    "    total_len = 0.0\n",
    "    for i in range(1, len(path)):\n",
    "        total_len += _distance(path[i-1], path[i])\n",
    "    return total_len\n",
    "\n",
    "def _shortest_closed_path(path_completed, path_ahead,\n",
    "        min_length=None, min_path=None):\n",
    "    if len(path_ahead) == 1:\n",
    "        # create a closed path by adding the starting point\n",
    "        total_path = path_completed + path_ahead + (path_completed[0], )\n",
    "        total_path_length = _path_length(total_path)\n",
    "        if min_length == None or total_path_length < min_length:\n",
    "            min_length, min_path = total_path_length, total_path  \n",
    "    else:\n",
    "        # continue recursion\n",
    "        for i in range(len(path_ahead)):\n",
    "            min_length, min_path = \\\n",
    "                _shortest_closed_path(path_completed + (path_ahead[i], ),\n",
    "                                       path_ahead[:i] + path_ahead[i+1:],\n",
    "                                       min_length, min_path)\n",
    "    return min_length, min_path"
   ]
  },
  {
   "cell_type": "markdown",
   "metadata": {
    "slideshow": {
     "slide_type": "subslide"
    }
   },
   "source": [
    "Jetzt kann der TSP-Algorithmus im Cluster ausgeführt werden:"
   ]
  },
  {
   "cell_type": "code",
   "execution_count": null,
   "metadata": {
    "ExecuteTime": {
     "end_time": "2018-12-09T21:39:38.258158Z",
     "start_time": "2018-12-09T21:38:38.689Z"
    }
   },
   "outputs": [],
   "source": [
    "%%timeit\n",
    "TSP_IPython_cluster((staedte_positionen[0], ), staedte_positionen[1:nr_of_cities], r_depth)"
   ]
  },
  {
   "cell_type": "markdown",
   "metadata": {
    "slideshow": {
     "slide_type": "slide"
    }
   },
   "source": [
    "# Ausblick: High-Level-Ansatz mit *dask*"
   ]
  },
  {
   "cell_type": "markdown",
   "metadata": {},
   "source": [
    "Durch eine Repräsentation einer Aufgabe als Datenfluß-Graph ('Task Graph') kann [*dask*](https://dask.org) das Problem unter Einsatz verschiedener [Scheduler](https://docs.dask.org/en/latest/) lösen. Je nach Scheduler werden die Berechnungen auf einem Rechner seriell, parallel oder verteilt in einem Cluster gelöst."
   ]
  },
  {
   "cell_type": "markdown",
   "metadata": {},
   "source": [
    "Im Terminal eingeben:\n",
    "\n",
    "    conda install -y dask"
   ]
  },
  {
   "cell_type": "code",
   "execution_count": null,
   "metadata": {
    "slideshow": {
     "slide_type": "subslide"
    }
   },
   "outputs": [],
   "source": [
    "import dask.array as da\n",
    "import numpy as np\n",
    "from dask.threaded import get as get_threaded\n",
    "from operator import add\n",
    "\n",
    "data_size = (10000, 10000)\n",
    "\n",
    "data = da.random.normal(41.41, 1, size=data_size, chunks=(1000, 1000))\n",
    "dsk = {\"x\": data, \"y\": (add, \"x\", 1.01), \"z\": (da.mean, \"y\")}"
   ]
  },
  {
   "cell_type": "code",
   "execution_count": null,
   "metadata": {
    "slideshow": {
     "slide_type": "subslide"
    }
   },
   "outputs": [],
   "source": [
    "data"
   ]
  },
  {
   "cell_type": "markdown",
   "metadata": {
    "slideshow": {
     "slide_type": "subslide"
    }
   },
   "source": [
    "Die Berechnungen werden hier parallelisiert auf einem Rechner ausgeführt."
   ]
  },
  {
   "cell_type": "code",
   "execution_count": null,
   "metadata": {},
   "outputs": [],
   "source": [
    "m = np.array(get_threaded(dsk, \"z\"))\n",
    "print(m)"
   ]
  },
  {
   "cell_type": "markdown",
   "metadata": {
    "slideshow": {
     "slide_type": "subslide"
    }
   },
   "source": [
    "Dir Rechenzeit pro Aufruf wird mit *timeit* bestimmt:"
   ]
  },
  {
   "cell_type": "code",
   "execution_count": null,
   "metadata": {},
   "outputs": [],
   "source": [
    "%timeit m  = np.array(get_threaded(dsk, 'z'))"
   ]
  },
  {
   "cell_type": "markdown",
   "metadata": {
    "slideshow": {
     "slide_type": "subslide"
    }
   },
   "source": [
    "Falls genügend Hauptspeicher vorhanden ist, können die Daten im RAM gehalten werden."
   ]
  },
  {
   "cell_type": "code",
   "execution_count": null,
   "metadata": {},
   "outputs": [],
   "source": [
    "data_p = data.persist()\n",
    "dsk_p = {\"x\": data_p, \"y\": (add, \"x\", 1.01), \"z\": (da.mean, \"y\")}"
   ]
  },
  {
   "cell_type": "code",
   "execution_count": null,
   "metadata": {
    "slideshow": {
     "slide_type": "subslide"
    }
   },
   "outputs": [],
   "source": [
    "%timeit m  = np.array(get_threaded(dsk_p, 'z'))"
   ]
  },
  {
   "cell_type": "code",
   "execution_count": null,
   "metadata": {},
   "outputs": [],
   "source": [
    "del data, data_p"
   ]
  },
  {
   "cell_type": "code",
   "execution_count": null,
   "metadata": {
    "slideshow": {
     "slide_type": "subslide"
    }
   },
   "outputs": [],
   "source": [
    "np_data = np.random.normal(41.41, 1, size=(10000, 10000))"
   ]
  },
  {
   "cell_type": "code",
   "execution_count": null,
   "metadata": {
    "slideshow": {
     "slide_type": "fragment"
    }
   },
   "outputs": [],
   "source": [
    "%%timeit\n",
    "m = np.mean(np_data+1.01)"
   ]
  },
  {
   "cell_type": "code",
   "execution_count": null,
   "metadata": {
    "slideshow": {
     "slide_type": "fragment"
    }
   },
   "outputs": [],
   "source": [
    "del np_data"
   ]
  },
  {
   "cell_type": "markdown",
   "metadata": {
    "slideshow": {
     "slide_type": "slide"
    }
   },
   "source": [
    "# Aufgaben am 05.12. und 07.12.2023"
   ]
  },
  {
   "cell_type": "markdown",
   "metadata": {},
   "source": [
    "**Wichtiger Hinweis:** Um Konflikte zu vermeiden, verwendet jedes Team den Port $34000 + N_{\\rm G}$, wobei \n",
    "$N_{\\rm G}$ der Team-Nummer entspricht."
   ]
  },
  {
   "cell_type": "markdown",
   "metadata": {},
   "source": [
    "## Multiprocessing"
   ]
  },
  {
   "cell_type": "markdown",
   "metadata": {},
   "source": [
    "Sie sollen die Berechnung von Pi nach Monte Carlo auf mehrere Rechner verteilen.\n",
    "1. Skizzieren Sie die benötigten Komponenten und das Zusammenspiel (Datenfluss).\n",
    "1. Implementieren die verteilte Anwendung und messen Sie die Rechenzeiten der auf mehrere Rechner verteilten Pi-Berechnung im labor M2.02.\n",
    "1. Stellen Sie sicher, dass Sie auch alle Prozessoren auf den einzelnen Rechnern auslasten.\n",
    "1. Visualisieren Sie die Systemlast mit Xosview und erklären Sie Ihre Beobachtungen."
   ]
  },
  {
   "cell_type": "markdown",
   "metadata": {
    "slideshow": {
     "slide_type": "subslide"
    }
   },
   "source": [
    "## Middleware / docker"
   ]
  },
  {
   "cell_type": "markdown",
   "metadata": {},
   "source": [
    "1. Erstellen Sie ein Java-Programm zur Berechnung der Werte der allgemeinen harmonischen und der allgemeinen alternierenden harmonischen Reihe erstellen. Eingabegrößen sind: Art der Reihe, $\\alpha$ sowie die Grenze $N$, bis zu der die Summation durchgeführt wird.\n",
    "1. Nennen und beschreiben Sie zwei wichtige Vorteile, die Entwickler durch den Einsatz einer Middleware haben? (ca. vier Sätze)\n",
    "1. Vergegenwärtigen Sie sich nochmals die Struktur und Funktionsweise der im Rahmen der Vorlesung vorgestellten verteilten Monte-Carlo-Simulation, die [Ice](http://www.zeroc.com) verwendet.\n",
    "1. Sie sollen eine verteilte Anwendung zur Berechnung der Werte der allgemeinen harmonischen und der allgemeinen alternierenden harmonischen Reihe erstellen. Eingabegrößen sind: Art der Reihe, $\\alpha$ sowie die Grenze $N$, bis zu der die Summation durchgeführt wird. Dabei soll der Server, der die Berechnungen durchführt, in Java und der Client in Python implementiert werden. Als Middleware ist [Ice](http://www.zeroc.com) zu verwenden. Gehen Sie nach dem in der ersten Veranstaltung eingeführten Schema vor, wobei Sie aufgrund der Vorgaben einige Schritte überspringen können. \n",
    "1. Erstellen und testen Sie ein Docker-Image für den in den letzten Teilaufgabe erstellten Server. Beachten Sie hierzu die Anleitung zur Verwendung von Docker in moodle.\n",
    "\n",
    "**Hinweis:** Seite 535 des Buchs [Konkrete Mathematik (nicht nur) für Informatiker* von Edmund Weitz](https://link.springer.com/book/10.1007/978-3-662-62618-4)"
   ]
  },
  {
   "cell_type": "markdown",
   "metadata": {
    "slideshow": {
     "slide_type": "slide"
    }
   },
   "source": [
    "# Überprüfung"
   ]
  },
  {
   "cell_type": "markdown",
   "metadata": {},
   "source": [
    "1. Was bedeutet der Begriff \"Remote Procedure Call\" (RPC)? (max. drei Sätze)\n",
    "1. Sie wollen eine Berechnung, die Sie auf einem Rechner mit *multiprocessing* parallelisiert haben, auf mehrere Rechner verteilen. Auf welche Faktoren müssen Sie achten, damit die Verteilung zu einer Verkürzung der Rechenzeit führt? (ca. vier Sätze)\n",
    "1. Was bedeutet der Begriff Lastverteilung (\"load balancing\")? (max. fünf Sätze)\n",
    "1. Geben Sie ein Beispiel für ein parallelisierbares Problem, das sich *nicht* für eine Verteilung auf mehrere Rechner eignet. (ca. vier Sätze)\n",
    "1. Welche Vorteile bietet *docker* im Vergleich zu *VirtualBox*?"
   ]
  }
 ],
 "metadata": {
  "anaconda-cloud": {},
  "celltoolbar": "Slideshow",
  "kernelspec": {
   "display_name": "Python 3 (ipykernel)",
   "language": "python",
   "name": "python3"
  },
  "language_info": {
   "codemirror_mode": {
    "name": "ipython",
    "version": 3
   },
   "file_extension": ".py",
   "mimetype": "text/x-python",
   "name": "python",
   "nbconvert_exporter": "python",
   "pygments_lexer": "ipython3",
   "version": "3.11.6"
  },
  "latex_envs": {
   "LaTeX_envs_menu_present": true,
   "autoclose": false,
   "autocomplete": true,
   "bibliofile": "biblio.bib",
   "cite_by": "apalike",
   "current_citInitial": 1,
   "eqLabelWithNumbers": true,
   "eqNumInitial": 1,
   "hotkeys": {
    "equation": "Ctrl-E",
    "itemize": "Ctrl-I"
   },
   "labels_anchors": false,
   "latex_user_defs": false,
   "report_style_numbering": false,
   "user_envs_cfg": false
  },
  "toc": {
   "base_numbering": 1,
   "nav_menu": {},
   "number_sections": true,
   "sideBar": true,
   "skip_h1_title": false,
   "title_cell": "Table of Contents",
   "title_sidebar": "Contents",
   "toc_cell": false,
   "toc_position": {
    "height": "calc(100% - 180px)",
    "left": "10px",
    "top": "150px",
    "width": "288px"
   },
   "toc_section_display": true,
   "toc_window_display": false
  },
  "varInspector": {
   "cols": {
    "lenName": 16,
    "lenType": 16,
    "lenVar": 40
   },
   "kernels_config": {
    "python": {
     "delete_cmd_postfix": "",
     "delete_cmd_prefix": "del ",
     "library": "var_list.py",
     "varRefreshCmd": "print(var_dic_list())"
    },
    "r": {
     "delete_cmd_postfix": ") ",
     "delete_cmd_prefix": "rm(",
     "library": "var_list.r",
     "varRefreshCmd": "cat(var_dic_list()) "
    }
   },
   "types_to_exclude": [
    "module",
    "function",
    "builtin_function_or_method",
    "instance",
    "_Feature"
   ],
   "window_display": false
  }
 },
 "nbformat": 4,
 "nbformat_minor": 4
}
