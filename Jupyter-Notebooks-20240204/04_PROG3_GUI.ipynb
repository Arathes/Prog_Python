{
 "cells": [
  {
   "cell_type": "markdown",
   "metadata": {
    "slideshow": {
     "slide_type": "slide"
    }
   },
   "source": [
    "Programmieren 3 - Grafische Benutzerschnittstellen\n",
    "\n",
    "Peter Rösch, Fakultät für Informatik\n",
    "\n",
    "Hochschule Augsburg, 2023/2024"
   ]
  },
  {
   "cell_type": "code",
   "execution_count": null,
   "metadata": {
    "ExecuteTime": {
     "end_time": "2020-10-26T06:27:44.672668Z",
     "start_time": "2020-10-26T06:27:44.664428Z"
    },
    "slideshow": {
     "slide_type": "subslide"
    }
   },
   "outputs": [],
   "source": [
    "# Speichern des urspruenglichen Verzeichnisses\n",
    "%bookmark myNotebookDirectory"
   ]
  },
  {
   "cell_type": "markdown",
   "metadata": {
    "slideshow": {
     "slide_type": "slide"
    }
   },
   "source": [
    "# Nachträge und Ergänzungen"
   ]
  },
  {
   "cell_type": "markdown",
   "metadata": {
    "slideshow": {
     "slide_type": "subslide"
    }
   },
   "source": [
    "## Pylint und nicht genutzte Zählvariable"
   ]
  },
  {
   "cell_type": "markdown",
   "metadata": {},
   "source": [
    "Wird das Ergebnis der Iteration in einer Schleife nicht genutzt, so gibt es Punktabzug von *pylint*.\n",
    "\n",
    "**Lösung:** Nennen Sie die Variable \"_\""
   ]
  },
  {
   "cell_type": "markdown",
   "metadata": {
    "slideshow": {
     "slide_type": "subslide"
    }
   },
   "source": [
    "    # Version mit pylint-Meldung\n",
    "    for i in range(10):\n",
    "        print('Ausgabe ohne i')\n",
    "\n",
    "    # Version ohne Punktabzug\n",
    "    for _ in range(10):\n",
    "        print('Ausgabe ohne i')"
   ]
  },
  {
   "cell_type": "markdown",
   "metadata": {
    "slideshow": {
     "slide_type": "slide"
    }
   },
   "source": [
    "## numpy: Prototypen-Entwicklung - Schiefer Wurf"
   ]
  },
  {
   "cell_type": "markdown",
   "metadata": {},
   "source": [
    "**Kontext:** (Fast) alle Informatik-Projekte sind interdisziplinär, so dass Sie sich künftig recht häufig in Themen außerhalb der Informatik einarbeiten werden. Entscheidend ist, dass Sie die Aufgabe systematisch analysieren und offen Fragen mit Kunden bzw. Experten klären."
   ]
  },
  {
   "cell_type": "markdown",
   "metadata": {},
   "source": [
    "**Aufgabe:** Berechnen Sie die Bahnkurven für den schiefen Wurf im Vakuum auf der Erde für verschiedene Startwinkel und Startgeschwindigkeiten. Stellen Sie das Ergebnis grafisch dar."
   ]
  },
  {
   "cell_type": "markdown",
   "metadata": {
    "slideshow": {
     "slide_type": "fragment"
    }
   },
   "source": [
    "**Problem verstehen:** Gibt es Fragen?"
   ]
  },
  {
   "cell_type": "markdown",
   "metadata": {
    "slideshow": {
     "slide_type": "subslide"
    }
   },
   "source": [
    "**Recherche / Theorie**: </br>\n",
    "Es wirkt die Gewichtskraft in negative z-Richtung\n",
    "$$F_z = -m g, \\; g = 9.81 \\frac{m}{s^2}$$\n",
    "Daraus ergibt sich die konstante Beschleunigung in $z$ -Richtung\n",
    "$$a_z = -g$$\n",
    "also\n",
    "$$\\vec{a} = \\left( \\begin{array}{c} 0 \\\\ 0 \\\\ -g \\end{array}\\right)$$"
   ]
  },
  {
   "cell_type": "markdown",
   "metadata": {
    "slideshow": {
     "slide_type": "subslide"
    }
   },
   "source": [
    "Die Bewegung findet in einer Ebene statt. Entscheidung: Wir betrachten die $xz$-Ebene.\n",
    "Vorgegeben ist eine Anfangsgeschwindigkeit $|v_0|$, ein Startwinkel $\\alpha$ und ein Startpunkt $\\vec{x}_0$\n",
    "Daraus folgt:\n",
    "$$\\vec{v_0} = \\left( \\begin{array}{c} v_0 \\cos(\\alpha) \\\\ 0 \\\\ v_0 \\sin(\\alpha) \\end{array}\\right)$$\n",
    "Iteration:\n",
    "$$\\vec{x}_{n+1} = \\vec{x}_n + \\vec{v} \\, \\Delta t + \\vec{a} \\, \\frac{\\Delta t^2}{2}$$\n",
    "$$\\vec{v}_{n+1} = \\vec{v}_n +  \\vec{a} \\, \\Delta t$$"
   ]
  },
  {
   "cell_type": "markdown",
   "metadata": {
    "slideshow": {
     "slide_type": "subslide"
    }
   },
   "source": [
    "**Teilaufgaben:**\n",
    "    \n",
    "* Initialisierung des Systems (Anfangsbedingungen)\n",
    "* Berechnung und Speicherung der Bahnkurve\n",
    "* Visualiseriung der Ergebnisse"
   ]
  },
  {
   "cell_type": "markdown",
   "metadata": {
    "slideshow": {
     "slide_type": "subslide"
    }
   },
   "source": [
    "**Ansätze und Entscheidungen:** (Algorithmen und Datenstrukturen)\n",
    "\n",
    "* Verwendung von *numpy*-Arrays für die Vektoren $\\vec{x}, \\vec{v}, \\vec{a}$\n",
    "* Schrittweise Simulation unter Verwendung der oben gegebenen Formeln\n",
    "* Speichern der Position als Funktion der Zeit in einem *numpy*-array\n",
    "* Anzeige mit *matplotlib*\n"
   ]
  },
  {
   "cell_type": "code",
   "execution_count": null,
   "metadata": {
    "ExecuteTime": {
     "end_time": "2020-10-26T07:39:15.083836Z",
     "start_time": "2020-10-26T07:39:15.057267Z"
    },
    "slideshow": {
     "slide_type": "subslide"
    }
   },
   "outputs": [],
   "source": [
    "# Initialisierung\n",
    "import numpy as np\n",
    "import math\n",
    "import matplotlib.pyplot as plt\n",
    "%matplotlib ipympl\n",
    "#\n",
    "# Start\n",
    "x0 = np.array([20, 0, 10], np.float32)\n",
    "v0_abs = 20\n",
    "alpha = 45\n",
    "#alpha = 0\n",
    "alpha_rad = math.radians(alpha)\n",
    "g = 9.81\n",
    "a = np.array([0, 0, -g], np.float32)\n",
    "delta_t = 0.01\n",
    "x = x0.copy()\n",
    "v = np.array([v0_abs*math.cos(alpha_rad), 0, \n",
    "              v0_abs*math.sin(alpha_rad)],\n",
    "              np.float32)"
   ]
  },
  {
   "cell_type": "code",
   "execution_count": null,
   "metadata": {
    "ExecuteTime": {
     "end_time": "2020-10-26T07:41:26.288447Z",
     "start_time": "2020-10-26T07:41:25.891106Z"
    },
    "slideshow": {
     "slide_type": "subslide"
    }
   },
   "outputs": [],
   "source": [
    "#\n",
    "# Liste fuer die Zwischenpositionen\n",
    "pos_list = []\n",
    "#\n",
    "# Berechnung\n",
    "while x[2] >= 0.0:\n",
    "    x = x + v * delta_t + a * delta_t**2 / 2\n",
    "    v = v + a * delta_t\n",
    "    pos_list.append(x)\n",
    "\n",
    "# Umwandlung in ein zweidimensionales Numpy-Array\n",
    "pos_array = np.array(pos_list, dtype=np.float32)\n",
    "#\n",
    "# Anzeige, z als Funktion von x\n",
    "ax = plt.figure().add_subplot(111)\n",
    "ax.plot(pos_array[:, 0], pos_array[:, 2])"
   ]
  },
  {
   "cell_type": "markdown",
   "metadata": {},
   "source": [
    "## Interaktion im Notebook"
   ]
  },
  {
   "cell_type": "markdown",
   "metadata": {},
   "source": [
    "### Erstellen einer geeigneten Funktion für die Berechnung"
   ]
  },
  {
   "cell_type": "code",
   "execution_count": null,
   "metadata": {},
   "outputs": [],
   "source": [
    "import math\n",
    "\n",
    "G_EARTH = 9.81\n",
    "\n",
    "\n",
    "def projectile_simulation_vacuum(\n",
    "    initial_height_m: float,\n",
    "    initial_absolute_velocity_m_s: float = 20,\n",
    "    angle_deg: float = 20,\n",
    "    time_step_s: float = 0.01,\n",
    ") -> np.ndarray:\n",
    "    position = np.array([0, 0, initial_height_m], np.float32)\n",
    "    # math requires angles in radians\n",
    "    alpha_rad = math.radians(angle_deg)\n",
    "    velocity = np.array(\n",
    "        [\n",
    "            initial_absolute_velocity_m_s * math.cos(alpha_rad),\n",
    "            0,\n",
    "            initial_absolute_velocity_m_s * math.sin(alpha_rad),\n",
    "        ],\n",
    "        np.float32,\n",
    "    )\n",
    "    acceleration = np.array([0, 0, -G_EARTH], dtype=np.float32)\n",
    "    position_list = []\n",
    "    while position[2] >= 0.0:\n",
    "        position = (\n",
    "            position\n",
    "            + velocity * time_step_s\n",
    "            + 0.5 * acceleration * time_step_s**2\n",
    "        )\n",
    "        velocity = velocity + acceleration * time_step_s\n",
    "        position_list.append(position)\n",
    "    return np.array(position_list, dtype=np.float32)"
   ]
  },
  {
   "cell_type": "markdown",
   "metadata": {},
   "source": [
    "### Vertrauensbildende Massnahme"
   ]
  },
  {
   "cell_type": "code",
   "execution_count": null,
   "metadata": {},
   "outputs": [],
   "source": [
    "trajectory = projectile_simulation_vacuum(\n",
    "    initial_height_m=10,\n",
    "    initial_absolute_velocity_m_s=20,\n",
    "    angle_deg=45,\n",
    "    time_step_s=0.01,\n",
    ")\n",
    "ax = plt.figure().add_subplot(111)\n",
    "ax.plot(trajectory[:, 0], trajectory[:, 2])"
   ]
  },
  {
   "cell_type": "markdown",
   "metadata": {},
   "source": [
    "Jetzt wollen wir erreichen, dass eine Grafik ausgegeben wird und die Kurve sich während der Interaktion ändert.\n",
    "Quelle: [stackoverflow](https://stackoverflow.com/questions/44329068/jupyter-notebook-interactive-plot-with-widgets)"
   ]
  },
  {
   "cell_type": "code",
   "execution_count": null,
   "metadata": {},
   "outputs": [],
   "source": [
    "\n",
    "trajectory = projectile_simulation_vacuum(\n",
    "    initial_height_m=10,\n",
    "    initial_absolute_velocity_m_s=20,\n",
    "    angle_deg=45,\n",
    "    time_step_s=0.01,\n",
    ")"
   ]
  },
  {
   "cell_type": "code",
   "execution_count": null,
   "metadata": {},
   "outputs": [],
   "source": [
    "ax = plt.figure().add_subplot(111)\n",
    "\n",
    "from ipywidgets import interact\n",
    "\n",
    "\n",
    "def update(\n",
    "    initial_height_m=10,\n",
    "    initial_absolute_velocity_m_s=20,\n",
    "    angle_deg=45,\n",
    "    time_step_s=-0.01,\n",
    "):\n",
    "    trajectory = projectile_simulation_vacuum(\n",
    "        initial_height_m,\n",
    "        initial_absolute_velocity_m_s,\n",
    "        angle_deg,\n",
    "        time_step_s,\n",
    "    )\n",
    "    ax.clear()\n",
    "    ax.set_xlabel(\"x / m\")\n",
    "    ax.set_ylabel(\"z / m\")\n",
    "    title = (\n",
    "        f\"h0={initial_height_m:.1f}, \"\n",
    "        f\"v0={initial_absolute_velocity_m_s:.1f}, alpha={angle_deg:.1f}, \"\n",
    "        f\"x_max={trajectory[-1, 0]:.1f}\"\n",
    "    )\n",
    "    ax.set_title(title)\n",
    "    ax.plot(trajectory[:, 0], trajectory[:, 2])"
   ]
  },
  {
   "cell_type": "code",
   "execution_count": null,
   "metadata": {},
   "outputs": [],
   "source": [
    "interact(\n",
    "    update,\n",
    "    initial_height_m=(0, 20, 1),\n",
    "    initial_absolute_velocity=(5, 30, 1),\n",
    "    angle_deg=(0, 90, 1),\n",
    "    time_step_s=(0.01, 1.01, 0.05),\n",
    ")"
   ]
  },
  {
   "cell_type": "markdown",
   "metadata": {
    "slideshow": {
     "slide_type": "subslide"
    }
   },
   "source": [
    "## Gruppenarbeit (15 Minuten)"
   ]
  },
  {
   "cell_type": "markdown",
   "metadata": {},
   "source": [
    "Erweitern Sie die oben gegebene Simulation des schiefen Wurfs, so dass der Luftwiderstand berücksichtigt wird. Es soll eine Kugel der Masse 10 kg und variablem Radius $r$ (Einheit: m) bei $20^{\\circ}$ auf Meereshöhe betrachtet werden. Die Parameter $\\alpha$, $|v_0|$ und $r$ sollen über Schieberegler im Notebook (Stichwort *interact* ) modifizierbar sein. Wie ändert sich die Kurve mit wachsendem $r$?\n",
    "\n",
    "**Hilfestellung:**\n",
    "$$ \\vec{F}_{\\rm L} = - \\frac{1}{2} \\vec{v} \\cdot |\\vec{v}| \\cdot A \\cdot c_W \\cdot \\rho_{\\rm Luft},\\; A = \\pi r^2 $$\n",
    "\n",
    "Dabei bezeichnet $\\rho_{\\rm Luft}$ die Luftdichte und $c_W$ den Strömungswiderstandskoeffizienten. Wir setzen für die Kugel [$c_W = 0.5$](https://www.code-knacker.de/cw-wert.htm).\n",
    "\n",
    "**Visualisierung:** [phet.colorado.edu](https://phet.colorado.edu/sims/html/projectile-motion/latest/projectile-motion_en.html)"
   ]
  },
  {
   "cell_type": "markdown",
   "metadata": {
    "slideshow": {
     "slide_type": "subslide"
    }
   },
   "source": [
    "# Grafische Benutzerschnittstellen - Ziele"
   ]
  },
  {
   "cell_type": "markdown",
   "metadata": {},
   "source": [
    "* Studierende kennen die Grundprinzipien grafischer Benutzerschnittstellen.\n",
    "* Teilnehmer(innen) können anspruchsvolle GUI-Anwendungen mit dem Qt Designer, PyQt5 und Python interaktiv erstellen und vom IPython-Notebook aus nutzen.\n",
    "* Das vorgegebene Beispiel *galaxy_renderer* kann von Studierenden für das Semester-Projekt verwendet und ggf. modifiziert werden."
   ]
  },
  {
   "cell_type": "markdown",
   "metadata": {
    "slideshow": {
     "slide_type": "slide"
    }
   },
   "source": [
    "# Einführung und Wiederholung"
   ]
  },
  {
   "cell_type": "markdown",
   "metadata": {},
   "source": [
    "Die Geschichte der grafischen Benutzerschnittstellen begann in den sechziger Jahren des letzten Jahrhunderts. Zusammenfassungen finden sich bei [Wikipedia](https://www.sitepoint.com/real-history-gui/) sowie [hier](http://www.sitepoint.com/real-history-gui). Bemerkenswert ist, dass der erste [Prototyp einer Computer-Maus](https://de.wikipedia.org/wiki/Maus_%28Computer%29) schon 1963 entstand.\n",
    "\n",
    "Zentral für die GUI-Programmierung ist die Behandlung von Ereignissen ([Events](http://en.wikipedia.org/wiki/Event_%28computing%29)), die vom Benutzer durch Eingaben mit Maus, Tastatur etc. ausgelöst werden. Verschiedene GUI-Toolkits setzen unterschiedliche Mechanismen ein, um diese Ereignisse zu verarbeiten. \n",
    "\n",
    "Ausgehend vom bereits bekannten *ActionListener*-Interfaces (Java) wird der *Signal/Slot*-Mechanismus [PyQt](http://www.riverbankcomputing.com/software/pyqt/intro) eingeführt. Der letzte Abschnitt nutzt dann [Callback-Funktionen](http://en.wikipedia.org/wiki/Callback_%28computer_programming%29) im Zusammenhang mit [tkinter](https://wiki.python.org/moin/TkInter)."
   ]
  },
  {
   "cell_type": "markdown",
   "metadata": {
    "slideshow": {
     "slide_type": "slide"
    }
   },
   "source": [
    "# Qt mit Python"
   ]
  },
  {
   "cell_type": "markdown",
   "metadata": {
    "slideshow": {
     "slide_type": "subslide"
    }
   },
   "source": [
    "## Pylint und die Bibliothek *PyQt5*"
   ]
  },
  {
   "cell_type": "markdown",
   "metadata": {},
   "source": [
    "*pylint* hat Probleme, Namen in C-Erweiterungen wie *Qt* zu finden und erzeugt Fehlermeldungen. Eine mögliche Lösung ist, das Modul zu importieren und dann nach Namen zu suchen, siehe [Dokumentation](https://pylint.pycqa.org/en/latest/technical_reference/c_extensions.html).\n",
    "\n",
    "**Konkret:** Erstellen Sie eine Datei ~/.pylintrc wie folgt:"
   ]
  },
  {
   "cell_type": "code",
   "execution_count": null,
   "metadata": {
    "slideshow": {
     "slide_type": "fragment"
    }
   },
   "outputs": [],
   "source": [
    "%%file ~/.pylintrc\n",
    "[MASTER]\n",
    "    extension-pkg-allow-list=PyQt5"
   ]
  },
  {
   "cell_type": "markdown",
   "metadata": {
    "slideshow": {
     "slide_type": "subslide"
    }
   },
   "source": [
    "## Qt - Grundlagen"
   ]
  },
  {
   "cell_type": "markdown",
   "metadata": {},
   "source": [
    "Die Verarbeitung von Ereignissen in Qt basiert auf dem [Signal-Slot-Konzept](http://de.wikipedia.org/wiki/Signal-Slot-Konzept), wobei die Kern-Funktionalität in C++ implementiert ist. Das Paket [PyQt](http://www.riverbankcomputing.com/software/pyqt/intro) erlaubt die Nutzung der Qt-Software von Python aus. Eine sehr gute Einführung bietet das Buch [Rapid GUI Programming with Python and Qt](http://www.qtrac.eu/pyqtbook.html) von Mark Summerfield, das auch über O'Reilly verfügbar ist.\n",
    "\n",
    "Qt lässt sich von unterschiedlichen [Programmiersprachen](http://en.wikipedia.org/wiki/List_of_language_bindings_for_Qt_5) aus nutzen und funktioniert auf vielen Plattformen."
   ]
  },
  {
   "cell_type": "markdown",
   "metadata": {
    "slideshow": {
     "slide_type": "subslide"
    }
   },
   "source": [
    "## PyQt5"
   ]
  },
  {
   "cell_type": "markdown",
   "metadata": {},
   "source": [
    "Die Integration von PyQt in IPython-Notebooks geschieht über die \"magische Funktion\" *%gui qt5*, wie in der [Dokumentation](http://ipython.readthedocs.io/en/stable/config/eventloops.html) nachzulesen ist. "
   ]
  },
  {
   "cell_type": "code",
   "execution_count": null,
   "metadata": {
    "ExecuteTime": {
     "end_time": "2020-10-26T09:03:35.787535Z",
     "start_time": "2020-10-26T09:03:35.774686Z"
    },
    "slideshow": {
     "slide_type": "subslide"
    }
   },
   "outputs": [],
   "source": [
    "%gui\n",
    "%gui qt5\n",
    "# zurueck ins Notebook-Verzeichnis\n",
    "#  ansonsten wird die Datei exit.png nicht gefunden\n",
    "%cd myNotebookDirectory"
   ]
  },
  {
   "cell_type": "markdown",
   "metadata": {},
   "source": [
    "Das folgende Beispiel enthält viele wiederverwendbare \"Bausteine\":"
   ]
  },
  {
   "cell_type": "code",
   "execution_count": null,
   "metadata": {
    "ExecuteTime": {
     "end_time": "2020-10-26T09:10:29.210858Z",
     "start_time": "2020-10-26T09:10:29.181329Z"
    },
    "slideshow": {
     "slide_type": "subslide"
    }
   },
   "outputs": [],
   "source": [
    "from PyQt5 import QtWidgets, QtCore\n",
    "import sys\n",
    "\n",
    "\n",
    "class QuitButton(QtWidgets.QWidget):\n",
    "    def __init__(self, parent=None):\n",
    "        super(QuitButton, self).__init__(parent)\n",
    "        self.setGeometry(300, 300, 250, 150)\n",
    "        self.setWindowTitle(\"Icon\")\n",
    "        self.quit = QtWidgets.QPushButton(\"Quit\", self)\n",
    "        self.quit.setGeometry(10, 10, 60, 35)\n",
    "        self.quit.clicked.connect(self.close)\n",
    "\n",
    "\n",
    "qb = QuitButton()\n",
    "qb.show()"
   ]
  },
  {
   "cell_type": "markdown",
   "metadata": {
    "slideshow": {
     "slide_type": "subslide"
    }
   },
   "source": [
    "**Bitte beachten:** Eine Vorlage für Anwendungen ausserhalb des Notebooks sieht so aus:"
   ]
  },
  {
   "cell_type": "code",
   "execution_count": null,
   "metadata": {},
   "outputs": [],
   "source": [
    "%%file qt_demo.py\n",
    "from PyQt5 import QtWidgets, QtCore\n",
    "import sys\n",
    "\n",
    "class QuitButton(QtWidgets.QWidget):\n",
    "    def __init__(self, parent=None):\n",
    "        super(QuitButton, self).__init__(parent)\n",
    "        self.setGeometry(300, 300, 250, 150)\n",
    "        self.setWindowTitle('Icon')\n",
    "        self.quit = QtWidgets.QPushButton('Quit', self)\n",
    "        self.quit.setGeometry(10, 10, 60, 35)\n",
    "        self.quit.clicked.connect(self.close)\n",
    "\n",
    "if __name__ == '__main__':\n",
    "    app = QtWidgets.QApplication(sys.argv)\n",
    "    qb = QuitButton()\n",
    "    qb.show()\n",
    "    sys.exit(app.exec_())"
   ]
  },
  {
   "cell_type": "markdown",
   "metadata": {},
   "source": [
    "Die Anwendung können Sie vom Terminal aus starten mit *python qt_demo.py*."
   ]
  },
  {
   "cell_type": "markdown",
   "metadata": {
    "slideshow": {
     "slide_type": "fragment"
    }
   },
   "source": [
    "Außer der *QWidget*-Klasse gibt es weitere vordefinierte Elemente, die als Basis für eigene Anwendungen verwendet werden können. Beispiel: *QMainWindow*"
   ]
  },
  {
   "cell_type": "code",
   "execution_count": null,
   "metadata": {
    "ExecuteTime": {
     "end_time": "2020-10-26T09:12:46.910714Z",
     "start_time": "2020-10-26T09:12:46.865663Z"
    },
    "slideshow": {
     "slide_type": "subslide"
    }
   },
   "outputs": [],
   "source": [
    "# source: http://zetcode.com/gui/pyqt5/menustoolbars/\n",
    "from PyQt5 import QtWidgets, QtGui\n",
    "\n",
    "\n",
    "class MainWindow(QtWidgets.QMainWindow):\n",
    "    \"\"\"\n",
    "    MainWindows with symbol, tooltip etc.\n",
    "    \"\"\"\n",
    "\n",
    "    def __init__(self):\n",
    "        QtWidgets.QMainWindow.__init__(self)\n",
    "\n",
    "        self.resize(350, 250)\n",
    "        self.setWindowTitle(\"MainWindow\")\n",
    "        textEdit = QtWidgets.QTextEdit()\n",
    "        self.setCentralWidget(textEdit)\n",
    "        exit = QtWidgets.QAction(QtGui.QIcon(\"exit.png\"), \"&Exit\", self)\n",
    "        exit.setShortcut(\"Ctrl+Q\")\n",
    "        exit.setStatusTip(\"Exit application\")\n",
    "        exit.triggered.connect(self.close)\n",
    "        self.statusBar()\n",
    "        menubar = self.menuBar()\n",
    "        file = menubar.addMenu(\"&File\")\n",
    "        file.addAction(exit)\n",
    "        toolbar = self.addToolBar(\"Exit\")\n",
    "        toolbar.addAction(exit)\n",
    "\n",
    "\n",
    "main = MainWindow()\n",
    "main.show()"
   ]
  },
  {
   "cell_type": "markdown",
   "metadata": {
    "slideshow": {
     "slide_type": "subslide"
    }
   },
   "source": [
    "**Aufgaben (empfohlen):** \n",
    "\n",
    "1. Experimentieren Sie mit den Interaktions-Möglichkeiten, die Ihnen die Klasse MainWindow bietet und schauen Sie die Befehle, die unklar sind, in der [Dokumentation](http://pyqt.sourceforge.net/Docs/PyQt5) nach.\n",
    "1. Ergänzen Sie das Beispiel um einen Menü-Punkt Ihrer Wahl."
   ]
  },
  {
   "cell_type": "markdown",
   "metadata": {
    "slideshow": {
     "slide_type": "subslide"
    }
   },
   "source": [
    "Widgets können durch *Signals* und *Slots* miteinander verbunden werden:"
   ]
  },
  {
   "cell_type": "code",
   "execution_count": null,
   "metadata": {
    "ExecuteTime": {
     "end_time": "2020-10-26T09:17:59.689605Z",
     "start_time": "2020-10-26T09:17:59.664157Z"
    },
    "slideshow": {
     "slide_type": "subslide"
    }
   },
   "outputs": [],
   "source": [
    "import sys\n",
    "from PyQt5 import QtGui, QtWidgets, QtCore\n",
    "\n",
    "\n",
    "class SigSlot(QtWidgets.QDialog):\n",
    "    def __init__(self, parent=None):\n",
    "        QtWidgets.QDialog.__init__(self)\n",
    "        self.setWindowTitle(\"signal & slot\")\n",
    "        self.dial = QtWidgets.QDial()\n",
    "        self.dial.setNotchesVisible(True)\n",
    "        self.spinbox = QtWidgets.QSpinBox()\n",
    "        self.layout = QtWidgets.QHBoxLayout()\n",
    "        self.layout.addWidget(self.dial)\n",
    "        self.layout.addWidget(self.spinbox)\n",
    "        self.setLayout(self.layout)\n",
    "        self.dial.valueChanged.connect(self.spinbox.setValue)\n",
    "        self.spinbox.valueChanged.connect(self.dial.setValue)\n",
    "\n",
    "\n",
    "qb = SigSlot()\n",
    "qb.show()"
   ]
  },
  {
   "cell_type": "markdown",
   "metadata": {
    "slideshow": {
     "slide_type": "subslide"
    }
   },
   "source": [
    "Mit Signals und Slots können auch eigene Funktionen und Methoden mit Bedienelementen verknüpft werden."
   ]
  },
  {
   "cell_type": "code",
   "execution_count": null,
   "metadata": {
    "ExecuteTime": {
     "end_time": "2020-10-26T09:20:14.461557Z",
     "start_time": "2020-10-26T09:20:14.436928Z"
    },
    "slideshow": {
     "slide_type": "subslide"
    }
   },
   "outputs": [],
   "source": [
    "from PyQt5 import QtWidgets\n",
    "\n",
    "\n",
    "class MoinButton(QtWidgets.QWidget):\n",
    "    def __init__(self, parent=None):\n",
    "        QtWidgets.QWidget.__init__(self)\n",
    "        self.setGeometry(300, 300, 250, 150)\n",
    "        self.setWindowTitle(\"Moin\")\n",
    "        self.moinButton = QtWidgets.QPushButton(\"Moin\", self)\n",
    "        self.moinButton.setGeometry(100, 10, 60, 35)\n",
    "        self.moinButton.clicked.connect(self.moin)\n",
    "\n",
    "    def moin(self):\n",
    "        QtWidgets.QMessageBox.about(self, \"\", \"MoinMoin\")\n",
    "\n",
    "\n",
    "qb = MoinButton()\n",
    "qb.show()"
   ]
  },
  {
   "cell_type": "markdown",
   "metadata": {
    "slideshow": {
     "slide_type": "subslide"
    }
   },
   "source": [
    "**Aufgaben (empfohlen):**\n",
    "\n",
    "1. Verschaffen Sie sich einen Überblick über [dieses Tutorial](http://zetcode.com/gui/pyqt5).\n",
    "1. Ergänzen Sie die Klasse *SigSlot* um einen Schieberegler, der mit den anderen Elementen gekoppelt ist. Sobald Sie die Einstellung eines Elements modifizieren, sollen sich die anderen beiden Elemente anpassen.\n",
    "1. Visualisieren Sie die Beziehungen zwischen den Widgets in der von Ihnen ergänzten Anwendung (Papier / Bleistift)."
   ]
  },
  {
   "cell_type": "markdown",
   "metadata": {
    "slideshow": {
     "slide_type": "slide"
    }
   },
   "source": [
    "# Der Qt-Designer"
   ]
  },
  {
   "cell_type": "markdown",
   "metadata": {
    "slideshow": {
     "slide_type": "subslide"
    }
   },
   "source": [
    "## Erstellung einer GUI"
   ]
  },
  {
   "cell_type": "markdown",
   "metadata": {},
   "source": [
    "Das Programm *designer* erlaubt es Ihnen, grafische Benutzerschnittstellen interaktiv zu erstellen und zu modifizieren.\n",
    "\n",
    "**Aufgaben:**\n",
    "\n",
    "1. Verschaffen Sie sich einen Überblick über die [Dokumentation des Qt-Designers](https://doc.qt.io/qt-5/qtdesigner-manual.html).\n",
    "1. Welche wichtigen Gründe gibt es dafür, Benutzeroberflächen mit dem Designer zu entwerfen anstatt sie im Programm-Code zu definieren?"
   ]
  },
  {
   "cell_type": "markdown",
   "metadata": {
    "slideshow": {
     "slide_type": "subslide"
    }
   },
   "source": [
    "## Einbindung in eine Python-Anwendung"
   ]
  },
  {
   "cell_type": "markdown",
   "metadata": {},
   "source": [
    "Folgende Applikation lädt eine mit dem Designer erstellte ui-Datei und nutzt die Signal/Slot-Verbindungen, die im Designer definiert wurden."
   ]
  },
  {
   "cell_type": "code",
   "execution_count": null,
   "metadata": {
    "ExecuteTime": {
     "end_time": "2020-10-26T09:25:37.214420Z",
     "start_time": "2020-10-26T09:25:37.207511Z"
    }
   },
   "outputs": [],
   "source": [
    "%cd myNotebookDirectory"
   ]
  },
  {
   "cell_type": "code",
   "execution_count": null,
   "metadata": {
    "ExecuteTime": {
     "end_time": "2020-10-26T09:26:27.946195Z",
     "start_time": "2020-10-26T09:26:27.899504Z"
    },
    "slideshow": {
     "slide_type": "subslide"
    }
   },
   "outputs": [],
   "source": [
    "from PyQt5 import QtWidgets, QtGui, uic\n",
    "\n",
    "\n",
    "class UiDemo(QtWidgets.QDialog):\n",
    "    # constructor\n",
    "    def __init__(self):\n",
    "        QtWidgets.QDialog.__init__(self)\n",
    "        # load and show the user interface created with the designer.\n",
    "        self.ui = uic.loadUi(\"qtDemo.ui\")\n",
    "        self.ui.show()\n",
    "\n",
    "\n",
    "uiDemo = UiDemo()"
   ]
  },
  {
   "cell_type": "code",
   "execution_count": null,
   "metadata": {},
   "outputs": [],
   "source": [
    "uiDemo.ui.myHorizontalSlider.setValue(20)"
   ]
  },
  {
   "cell_type": "markdown",
   "metadata": {
    "slideshow": {
     "slide_type": "subslide"
    }
   },
   "source": [
    "Das nächste Beispiel verbindet eine selbst definierte Methode mit einem Button-Signal:"
   ]
  },
  {
   "cell_type": "code",
   "execution_count": null,
   "metadata": {
    "ExecuteTime": {
     "end_time": "2020-10-26T09:38:22.858639Z",
     "start_time": "2020-10-26T09:38:22.774523Z"
    },
    "slideshow": {
     "slide_type": "subslide"
    }
   },
   "outputs": [],
   "source": [
    "from PyQt5 import QtWidgets, QtGui, uic\n",
    "\n",
    "\n",
    "class UiDemo(QtWidgets.QDialog):\n",
    "    # constructor\n",
    "    def __init__(self):\n",
    "        QtWidgets.QDialog.__init__(self)\n",
    "\n",
    "        # load and show the user interface from Designer.\n",
    "        self.ui = uic.loadUi(\"qtDemo.ui\")\n",
    "        self.ui.show()\n",
    "\n",
    "        # Connect up the button.\n",
    "        self.ui.myPushButton.clicked.connect(self.printLcdNumber)\n",
    "\n",
    "    # own function to print a number\n",
    "    def printLcdNumber(self):\n",
    "        number = self.ui.myHorizontalSlider.value()\n",
    "        QtWidgets.QMessageBox.about(self, \"\", f\"number: {number}\")\n",
    "\n",
    "\n",
    "uiDemo = UiDemo()"
   ]
  },
  {
   "cell_type": "markdown",
   "metadata": {
    "slideshow": {
     "slide_type": "subslide"
    }
   },
   "source": [
    "Mit der Bibliothek *matplotlib* können Funktionsgraphen in PyQt-Anwendungen eingebunden werden: "
   ]
  },
  {
   "cell_type": "code",
   "execution_count": null,
   "metadata": {
    "ExecuteTime": {
     "end_time": "2020-10-26T09:41:41.877099Z",
     "start_time": "2020-10-26T09:41:41.552269Z"
    },
    "code_folding": [
     8,
     25,
     34,
     38
    ],
    "slideshow": {
     "slide_type": "subslide"
    }
   },
   "outputs": [],
   "source": [
    "from PyQt5 import QtWidgets, uic\n",
    "from numpy import arange, sin, cos, pi\n",
    "from matplotlib.backends.backend_qt5agg import (\n",
    "    FigureCanvasQTAgg as FigureCanvas,\n",
    ")\n",
    "from matplotlib.figure import Figure\n",
    "\n",
    "\n",
    "class MatplotlibDemo(QtWidgets.QMainWindow):\n",
    "    def __init__(self):\n",
    "        QtWidgets.QMainWindow.__init__(self)\n",
    "        self.ui = uic.loadUi(\"matplotlib_demo.ui\")\n",
    "        self.fig = Figure(figsize=(5, 4), dpi=100)\n",
    "        self.figureCanvas = FigureCanvas(self.fig)\n",
    "        self.figureCanvas.setParent(self.ui.drawWidget)\n",
    "\n",
    "        self.axes = self.fig.add_subplot(111)\n",
    "        self.figureCanvas.setSizePolicy(\n",
    "            QtWidgets.QSizePolicy.Expanding, QtWidgets.QSizePolicy.Expanding\n",
    "        )\n",
    "        self.figureCanvas.updateGeometry()\n",
    "        self.ui.show()\n",
    "        self.__zeichneFunktion(lambda x: 0 * x)\n",
    "        self.ui.sinusKnopf.clicked.connect(self.zeichneSinus)\n",
    "        self.ui.cosinusKnopf.clicked.connect(self.zeichneCosinus)\n",
    "        self.ui.sincKnopf.clicked.connect(self.zeichneSinc)\n",
    "\n",
    "    def __zeichneFunktion(self, f, yGrenzen=(-1.2, 1.2)):\n",
    "        xGrenzen = (-5 * pi, 5 * pi)\n",
    "        x = arange(xGrenzen[0], xGrenzen[1], 0.01)\n",
    "        self.axes.clear()\n",
    "        self.axes.plot(x, f(x))\n",
    "        self.axes.set_xlim(xGrenzen)\n",
    "        self.axes.set_ylim(yGrenzen)\n",
    "        self.figureCanvas.draw()\n",
    "\n",
    "    def zeichneSinus(self):\n",
    "        self.ui.statusZeile.showMessage(\"Sinus-Kurve\")\n",
    "        self.__zeichneFunktion(sin)\n",
    "\n",
    "    def zeichneCosinus(self):\n",
    "        self.ui.statusZeile.showMessage(\"Cosinus-Kurve\")\n",
    "        self.__zeichneFunktion(cos)\n",
    "\n",
    "    def zeichneSinc(self):\n",
    "        self.ui.statusZeile.showMessage(\"Sinc-Kurve, sin(x)/x\")\n",
    "        self.__zeichneFunktion(lambda x: sin(x) / x, yGrenzen=(-0.3, 1.1))\n",
    "\n",
    "\n",
    "matplotlibDemo = MatplotlibDemo()"
   ]
  },
  {
   "cell_type": "markdown",
   "metadata": {
    "slideshow": {
     "slide_type": "subslide"
    }
   },
   "source": [
    "**Aufgaben (empfohlen):**\n",
    "\n",
    "1. Greifen Sie von einer Zelle des IPython-Notebooks auf Methoden des Objekts *uiDemo* zu, während die Anwendung läuft.\n",
    "1. Ergänzen Sie die Benutzeroberfläche *qtDemo* im Designer um einen Button, der die Anwendung beendet.\n",
    "1. Experimentieren Sie mit der Klasse *MatplotlibDemo*."
   ]
  },
  {
   "cell_type": "markdown",
   "metadata": {
    "slideshow": {
     "slide_type": "slide"
    }
   },
   "source": [
    "# Tkinter mit Python"
   ]
  },
  {
   "cell_type": "markdown",
   "metadata": {},
   "source": [
    "## Tkinter - Grundlagen"
   ]
  },
  {
   "cell_type": "markdown",
   "metadata": {},
   "source": [
    "Tkinter ist Teil der Python-Standard-Distribution und nutzt callback-Funktionen, um Widgets mit Ereignissen zu verbinden. Ein Tutorial finden Sie [hier](http://zetcode.com/gui/tkinter/). "
   ]
  },
  {
   "cell_type": "code",
   "execution_count": null,
   "metadata": {
    "ExecuteTime": {
     "end_time": "2020-10-26T09:45:56.467677Z",
     "start_time": "2020-10-26T09:45:56.456539Z"
    },
    "slideshow": {
     "slide_type": "subslide"
    }
   },
   "outputs": [],
   "source": [
    "%%file /tmp/calc.py\n",
    "import tkinter\n",
    "from tkinter import W, E, N, S\n",
    "from tkinter import ttk\n",
    "\n",
    "def calculate(*args):\n",
    "    try:\n",
    "        value = float(feet.get())\n",
    "        meters.set((0.3048 * value * 10000.0 + 0.5)/10000.0)\n",
    "    except ValueError:\n",
    "        print('Value Error')\n",
    "    \n",
    "root = tkinter.Tk()\n",
    "root.title(\"Feet to Meters\")\n",
    "\n",
    "mainframe = ttk.Frame(root, padding=\"3 3 12 12\")\n",
    "mainframe.grid(column=0, row=0, sticky=(N, W, E, S))\n",
    "mainframe.columnconfigure(0, weight=1)\n",
    "mainframe.rowconfigure(0, weight=1)\n",
    "\n",
    "feet = tkinter.StringVar()\n",
    "meters = tkinter.StringVar()\n",
    "\n",
    "feet_entry = ttk.Entry(mainframe, width=7, textvariable=feet)\n",
    "feet_entry.grid(column=2, row=1, sticky=(W, E))\n",
    "\n",
    "ttk.Label(mainframe, textvariable=meters).grid(\n",
    "                                    column=2, row=2, sticky=(W, E))\n",
    "ttk.Button(mainframe, text=\"Calculate\", command=calculate).grid(\n",
    "                                    column=3, row=3, sticky=W)\n",
    "\n",
    "ttk.Label(mainframe, text=\"feet\").grid(column=3, row=1, sticky=W)\n",
    "ttk.Label(mainframe, text=\"is equivalent to\").grid(column=1,\n",
    "                                                   row=2, sticky=E)\n",
    "ttk.Label(mainframe, text=\"meters\").grid(column=3, row=2, sticky=W)\n",
    "\n",
    "for child in mainframe.winfo_children(): child.grid_configure(\n",
    "                                                    padx=5, pady=5)\n",
    "\n",
    "feet_entry.focus()\n",
    "root.bind('<Return>', calculate)\n",
    "\n",
    "root.mainloop()"
   ]
  },
  {
   "cell_type": "code",
   "execution_count": null,
   "metadata": {
    "ExecuteTime": {
     "end_time": "2020-10-26T09:46:25.966298Z",
     "start_time": "2020-10-26T09:46:01.506658Z"
    },
    "slideshow": {
     "slide_type": "subslide"
    }
   },
   "outputs": [],
   "source": [
    "%run /tmp/calc"
   ]
  },
  {
   "cell_type": "markdown",
   "metadata": {},
   "source": [
    "**Aufgaben (freiwillig):**\n",
    "\n",
    "1. Schauen Sie sich das [Tkinter-Tutorial](http://www.tkdocs.com/tutorial/index.html) an und verschaffen Sie sich einen Überblick über die Widgets, die Tkinter zur Verfügung stellt.\n",
    "1. Vergleichen Sie die Vor- und Nachteile von tkinter und PyQt5 (Tabelle)."
   ]
  },
  {
   "cell_type": "markdown",
   "metadata": {
    "slideshow": {
     "slide_type": "slide"
    }
   },
   "source": [
    "# Übungsaufgaben, Abgabe  31.10.2023 bzw. 02.11.2023"
   ]
  },
  {
   "cell_type": "markdown",
   "metadata": {},
   "source": [
    "1. Vervollständigen Sie Ihre Anwendung *funktionsplotter* (Python-Paket, Kommandozeilen-Schnittstelle, html-Dokumentation).\n",
    "1. Erstellen Sie mit dem Designer und PyQt5 eine GUI für den Funktionsplotter. Die Größe des Text-Ausgabefensters soll konstant 40 Zeichen breit und 31 Zeichen hoch sein. Der Funktionsterm sowie das Intervall, in der die Funktion ausgeben wird, soll durch geeignete Bedienelemente eingestellt werden können.\n",
    "1. Semester-Projekt: Definieren Sie schriftlich, wie sich Ihr Biest in speziellen Situationen verhalten soll und demonstrieren Sie in einem Jupyter-Notebook, wie Sie das gewünschte Verhalten in Python umsetzen können. Finden Sie Situationen, die für Ihre Steuerung eine Herausforderung darstellen und analysieren Sie das Verhalten Ihrer Lösung in diesen Fällen."
   ]
  },
  {
   "cell_type": "markdown",
   "metadata": {
    "slideshow": {
     "slide_type": "subslide"
    }
   },
   "source": [
    "# Überprüfung"
   ]
  },
  {
   "cell_type": "markdown",
   "metadata": {},
   "source": [
    "1. Erklären Sie den Unterschied zwischen \"Callback-Funktionen\" und dem \"Signal / Slot\"-Mechanismus. (max. vier Sätze)\n",
    "1. Welche Vorteile bietet die Kombination von IPython-Notebooks und PyQt5 für die interaktive Software-Entwicklung? (max. zwei Sätze)"
   ]
  }
 ],
 "metadata": {
  "celltoolbar": "Slideshow",
  "kernelspec": {
   "display_name": "Python 3 (ipykernel)",
   "language": "python",
   "name": "python3"
  },
  "language_info": {
   "codemirror_mode": {
    "name": "ipython",
    "version": 3
   },
   "file_extension": ".py",
   "mimetype": "text/x-python",
   "name": "python",
   "nbconvert_exporter": "python",
   "pygments_lexer": "ipython3",
   "version": "3.11.6"
  },
  "latex_envs": {
   "LaTeX_envs_menu_present": true,
   "autoclose": false,
   "autocomplete": true,
   "bibliofile": "biblio.bib",
   "cite_by": "apalike",
   "current_citInitial": 1,
   "eqLabelWithNumbers": true,
   "eqNumInitial": 1,
   "hotkeys": {
    "equation": "Ctrl-E",
    "itemize": "Ctrl-I"
   },
   "labels_anchors": false,
   "latex_user_defs": false,
   "report_style_numbering": false,
   "user_envs_cfg": false
  },
  "toc": {
   "base_numbering": 1,
   "nav_menu": {},
   "number_sections": true,
   "sideBar": true,
   "skip_h1_title": false,
   "title_cell": "Table of Contents",
   "title_sidebar": "Contents",
   "toc_cell": false,
   "toc_position": {
    "height": "calc(100% - 180px)",
    "left": "10px",
    "top": "150px",
    "width": "384px"
   },
   "toc_section_display": true,
   "toc_window_display": true
  },
  "varInspector": {
   "cols": {
    "lenName": 16,
    "lenType": 16,
    "lenVar": 40
   },
   "kernels_config": {
    "python": {
     "delete_cmd_postfix": "",
     "delete_cmd_prefix": "del ",
     "library": "var_list.py",
     "varRefreshCmd": "print(var_dic_list())"
    },
    "r": {
     "delete_cmd_postfix": ") ",
     "delete_cmd_prefix": "rm(",
     "library": "var_list.r",
     "varRefreshCmd": "cat(var_dic_list()) "
    }
   },
   "types_to_exclude": [
    "module",
    "function",
    "builtin_function_or_method",
    "instance",
    "_Feature"
   ],
   "window_display": false
  }
 },
 "nbformat": 4,
 "nbformat_minor": 4
}
