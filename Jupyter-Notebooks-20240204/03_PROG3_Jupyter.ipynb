{
 "cells": [
  {
   "cell_type": "markdown",
   "metadata": {
    "slideshow": {
     "slide_type": "slide"
    }
   },
   "source": [
    "**Programmieren 3 - Jupyter-Notebooks**\n",
    "\n",
    "**Peter Rösch**\n",
    "\n",
    "**Fakultät für Informatik, Hochschule Augsburg**\n",
    "\n",
    "**Winter 2023/2024**"
   ]
  },
  {
   "cell_type": "markdown",
   "metadata": {
    "slideshow": {
     "slide_type": "slide"
    }
   },
   "source": [
    "**Inhalt:**\n",
    "\n",
    "* \"Linux Survival Kit\"\n",
    "* Kennenlernen der Jupyter-Notebooks.\n",
    "* Python-Konstrukte: Vertiefung."
   ]
  },
  {
   "cell_type": "markdown",
   "metadata": {
    "slideshow": {
     "slide_type": "slide"
    }
   },
   "source": [
    "# Fragen und Ergänzungen"
   ]
  },
  {
   "cell_type": "markdown",
   "metadata": {
    "slideshow": {
     "slide_type": "subslide"
    }
   },
   "source": [
    "## Mehrere Fälle in einem *match*"
   ]
  },
  {
   "cell_type": "markdown",
   "metadata": {},
   "source": [
    "Quelle: https://peps.python.org/pep-0634/#or-patterns"
   ]
  },
  {
   "cell_type": "code",
   "execution_count": null,
   "metadata": {
    "slideshow": {
     "slide_type": "subslide"
    }
   },
   "outputs": [],
   "source": [
    "l1 = [1, 2, 3]\n",
    "l2 = [1, [2, 3]]\n",
    "l3 = [1, 2, 3, 4]\n",
    "l4 = [\"Moin\"]\n",
    "\n",
    "for l in (l1, l2, l3, l4):\n",
    "    match l:\n",
    "        case [a, b, c] | [a, [b, c]]:\n",
    "            print(f\"{l = }, first case\")\n",
    "        case [a, b, c, d]:\n",
    "            print(f\"{l = }, second case\")\n",
    "        case _:\n",
    "            print(f\"{l = }, wildcard\")"
   ]
  },
  {
   "cell_type": "code",
   "execution_count": null,
   "metadata": {
    "slideshow": {
     "slide_type": "subslide"
    }
   },
   "outputs": [],
   "source": [
    "# Vorsicht ...\n",
    "l1 = [1, 2, 3]\n",
    "l2 = [1, [2, 3]]\n",
    "l3 = [1, 2, 3, 4]\n",
    "l4 = [\"Moin\"]\n",
    "\n",
    "for l in (l1, l2, l3, l4):\n",
    "    match l:\n",
    "        case [a, b]:\n",
    "            print(f\"{l = }, new case, {a = }, {b = }\")\n",
    "        case [a, b, c] | [a, [b, c]]:\n",
    "            print(f\"{l = }, old first case\")\n",
    "        case [a, b, c, d]:\n",
    "            print(f\"{l = }, old second case\")\n",
    "        case _:\n",
    "            print(f\"{l = }, wildcard\")"
   ]
  },
  {
   "cell_type": "markdown",
   "metadata": {
    "slideshow": {
     "slide_type": "subslide"
    }
   },
   "source": [
    "## Funktionsplotter: Berechung der Indizes in y-Richtung"
   ]
  },
  {
   "cell_type": "markdown",
   "metadata": {
    "slideshow": {
     "slide_type": "subslide"
    }
   },
   "source": [
    "Analog zur horizontalen Richtung:\n",
    "$$ \\Delta y = \\frac{y_{\\rm max} - y_{\\rm min}}{N_y -1} $$\n",
    "\n",
    "$y$-Wert in der Mitte des $i$ ten Kästchens ($i \\in [0, N_y -1]$: vertikaler Index)\n",
    "$$ y_i = y_{\\rm min} + i \\Delta y$$\n",
    "\n",
    "Den Index $i$ zum Funktionswert $y$ erhält man durch Auflösen nach $i$ und Rundung:\n",
    "\n",
    "$$i = {\\rm round}\\left( \\frac{y - y_{\\rm min}}{\\Delta y} \\right) $$"
   ]
  },
  {
   "cell_type": "markdown",
   "metadata": {
    "slideshow": {
     "slide_type": "slide"
    }
   },
   "source": [
    "# Linux / debian64: \"Survival Kit\""
   ]
  },
  {
   "cell_type": "markdown",
   "metadata": {},
   "source": [
    "Quellen:\n",
    "* [Debian](https://www.debian.org)\n",
    "* [Kommandozeilen-Befehle](https://linuxconfig.org/linux-commands-top-20-most-important-commands-you-need-to-know)\n",
    "* [xfce4-Umgebung](https://docs.xfce.org/start)\n",
    "* [VirtualBox](https://www.virtualbox.org)"
   ]
  },
  {
   "cell_type": "markdown",
   "metadata": {
    "slideshow": {
     "slide_type": "fragment"
    }
   },
   "source": [
    "Gibt es Fragen?"
   ]
  },
  {
   "cell_type": "markdown",
   "metadata": {
    "slideshow": {
     "slide_type": "slide"
    }
   },
   "source": [
    "# Virtuelle Umgebungen in *conda*"
   ]
  },
  {
   "cell_type": "markdown",
   "metadata": {},
   "source": [
    "**Situation:** Sie haben Software mit folgender Konfiguration an zwei Kunden ausgeliefert:\n",
    "* Kunde 1: Python 3.8.5, numpy 1.20.2\n",
    "* Kunde 2: Python 3.9.2, numpy 1.21.5\n",
    "\n",
    "**Frage:** Wie können Sie die Software für beide Kunden auf Ihrem Rechner warten?"
   ]
  },
  {
   "cell_type": "markdown",
   "metadata": {
    "slideshow": {
     "slide_type": "subslide"
    }
   },
   "source": [
    "**Lösung:** Virtuelle Umgebungen"
   ]
  },
  {
   "cell_type": "code",
   "execution_count": null,
   "metadata": {},
   "outputs": [],
   "source": [
    "# Das Argument '-y' verhindert Rückfragen\n",
    "!conda create -n kunde_1 -y python=3.8.5 numpy=1.20.2\n",
    "!conda create -n kunde_2 -y python=3.9.2 numpy=1.21.5"
   ]
  },
  {
   "cell_type": "code",
   "execution_count": null,
   "metadata": {},
   "outputs": [],
   "source": [
    "# verfügbare Umgebungen anzeigen\n",
    "!conda info --envs"
   ]
  },
  {
   "cell_type": "markdown",
   "metadata": {
    "slideshow": {
     "slide_type": "subslide"
    }
   },
   "source": [
    "Geben Sie in einem Terminal folgende Befehle ein:\n",
    "    \n",
    "        conda activate kunde_1\n",
    "        python --version\n",
    "        python -c 'import numpy as np; print(np.__version__)'\n",
    "        conda deactivate\n",
    "        conda activate kunde_2\n",
    "        python --version\n",
    "        python -c 'import numpy as np; print(np.__version__)'"
   ]
  },
  {
   "cell_type": "code",
   "execution_count": null,
   "metadata": {
    "slideshow": {
     "slide_type": "subslide"
    }
   },
   "outputs": [],
   "source": [
    "# Löschen der Umgebungen und aufräumen\n",
    "!conda remove --all -y -n kunde_1\n",
    "!conda remove --all -y -n kunde_2\n",
    "!conda clean -ay"
   ]
  },
  {
   "cell_type": "code",
   "execution_count": null,
   "metadata": {
    "slideshow": {
     "slide_type": "subslide"
    }
   },
   "outputs": [],
   "source": [
    "# verfügbare Umgebungen anzeigen\n",
    "!conda info --envs"
   ]
  },
  {
   "cell_type": "markdown",
   "metadata": {},
   "source": [
    "## Installation der Software auf Intel-Mac-Rechnern mit retina-Displays\n",
    "\n",
    "Die Software *VirtualBox* funktioniert aufgrund der hohen Auflösung des Bildschirms nicht korrekt.\n",
    "\n",
    "Lösung: Direkte Installation der Software. Eine Anleitung finden Sie [hier](https://moodle.hs-augsburg.de/mod/page/view.php?id=340075) in moodle. Vielen Dank an Herrn Sturm für die Bereitstellung seines Rechners während des Online-Tutoriums."
   ]
  },
  {
   "cell_type": "markdown",
   "metadata": {
    "slideshow": {
     "slide_type": "slide"
    }
   },
   "source": [
    "# IPython und das Jupyter-Notebook"
   ]
  },
  {
   "cell_type": "markdown",
   "metadata": {},
   "source": [
    "Die primäre Informations-Quelle für IPython ist die [IPython-Homepage](http://ipython.org/).\n",
    "\n",
    "Informationen zum Projekt Jupyter finden Sie [hier](http://jupyter.org).\n",
    "\n",
    "Es gibt ein Buch \"Learning IPython for Interactive Computing and Data Visualization\" von Cyrille Rossant, das auch elektronisch verfügbar ist ([O'Reilly](https://learning.oreilly.com/library/view/ipython-interactive-computing/9781785888632/)).\n",
    "\n",
    "Falls Sie Notebooks veröffentlichen oder veröffentlichte Notebooks anschauen möchten, bietet sich der [Notebook Viewer](http://nbviewer.jupyter.org/) an."
   ]
  },
  {
   "cell_type": "markdown",
   "metadata": {
    "slideshow": {
     "slide_type": "subslide"
    }
   },
   "source": [
    "## History"
   ]
  },
  {
   "cell_type": "code",
   "execution_count": null,
   "metadata": {},
   "outputs": [],
   "source": [
    "l = [1, 3, 4]"
   ]
  },
  {
   "cell_type": "code",
   "execution_count": null,
   "metadata": {
    "ExecuteTime": {
     "end_time": "2020-10-19T06:46:08.656573Z",
     "start_time": "2020-10-19T06:46:08.649117Z"
    },
    "slideshow": {
     "slide_type": "subslide"
    }
   },
   "outputs": [],
   "source": [
    "%history 1-2"
   ]
  },
  {
   "cell_type": "code",
   "execution_count": null,
   "metadata": {
    "ExecuteTime": {
     "end_time": "2020-10-19T06:46:50.412660Z",
     "start_time": "2020-10-19T06:46:46.704110Z"
    },
    "slideshow": {
     "slide_type": "subslide"
    }
   },
   "outputs": [],
   "source": [
    "%save /tmp/start.py 2"
   ]
  },
  {
   "cell_type": "markdown",
   "metadata": {},
   "source": [
    "* Schauen Sie sich mit *%history?* die Hilfe zu diesem Befehl an.\n",
    "* Welche Anwendungen fallen Ihnen zu *%history, %save,* etc. ein?"
   ]
  },
  {
   "cell_type": "markdown",
   "metadata": {
    "slideshow": {
     "slide_type": "subslide"
    }
   },
   "source": [
    "## Tab"
   ]
  },
  {
   "cell_type": "code",
   "execution_count": null,
   "metadata": {
    "ExecuteTime": {
     "end_time": "2020-10-19T06:47:25.851199Z",
     "start_time": "2020-10-19T06:47:25.845564Z"
    }
   },
   "outputs": [],
   "source": [
    "l = [1, 2, 3, 4]"
   ]
  },
  {
   "cell_type": "markdown",
   "metadata": {},
   "source": [
    "Welche Methoden besitzt eine Liste?"
   ]
  },
  {
   "cell_type": "code",
   "execution_count": null,
   "metadata": {},
   "outputs": [],
   "source": [
    "l."
   ]
  },
  {
   "cell_type": "markdown",
   "metadata": {
    "slideshow": {
     "slide_type": "subslide"
    }
   },
   "source": [
    "### %run und %bash"
   ]
  },
  {
   "cell_type": "code",
   "execution_count": null,
   "metadata": {
    "ExecuteTime": {
     "end_time": "2020-10-19T06:48:14.809835Z",
     "start_time": "2020-10-19T06:48:14.802447Z"
    }
   },
   "outputs": [],
   "source": [
    "%%file hello.py\n",
    "print(\"Hallo!\")"
   ]
  },
  {
   "cell_type": "code",
   "execution_count": null,
   "metadata": {
    "ExecuteTime": {
     "end_time": "2020-10-19T06:48:24.278092Z",
     "start_time": "2020-10-19T06:48:24.259096Z"
    }
   },
   "outputs": [],
   "source": [
    "%run hello"
   ]
  },
  {
   "cell_type": "code",
   "execution_count": null,
   "metadata": {
    "ExecuteTime": {
     "end_time": "2020-10-19T06:48:41.813099Z",
     "start_time": "2020-10-19T06:48:41.785134Z"
    },
    "slideshow": {
     "slide_type": "subslide"
    }
   },
   "outputs": [],
   "source": [
    "%%bash\n",
    "echo \"hello from $BASH\"\n",
    "echo \"your home directory is $HOME\""
   ]
  },
  {
   "cell_type": "markdown",
   "metadata": {
    "slideshow": {
     "slide_type": "subslide"
    }
   },
   "source": [
    "## Notebook-Server"
   ]
  },
  {
   "cell_type": "markdown",
   "metadata": {},
   "source": [
    "Eine Anleitung zur Installation eines Notebook-Servers für einen Benutzer finden Sie [hier](https://jupyter-server.readthedocs.io/en/latest/operators/public-server.html), für mehrere Benutzer ist [JupyterHub](https://jupyterhub.readthedocs.io/en/latest/) besser geeignet.\n",
    "\n",
    "Auf dem Notebook-Server können Sie mit jedem Gerät arbeiten, auf dem ein aktueller Web-Browser verfügbar ist. Eine Installation von Python auf diesem Gerät ist *nicht* nötig."
   ]
  },
  {
   "cell_type": "markdown",
   "metadata": {
    "slideshow": {
     "slide_type": "subslide"
    }
   },
   "source": [
    "## Magie"
   ]
  },
  {
   "cell_type": "code",
   "execution_count": null,
   "metadata": {
    "ExecuteTime": {
     "end_time": "2020-10-19T06:51:26.959147Z",
     "start_time": "2020-10-19T06:51:24.580939Z"
    },
    "slideshow": {
     "slide_type": "subslide"
    }
   },
   "outputs": [],
   "source": [
    "%%timeit\n",
    "a = []\n",
    "for i in range(5000):\n",
    "    a.append(i**4)"
   ]
  },
  {
   "cell_type": "markdown",
   "metadata": {
    "slideshow": {
     "slide_type": "fragment"
    }
   },
   "source": [
    "Geben Sie *%magic* ein, um die Dokumentation zu den \"magischen\" Befehlen zu sehen."
   ]
  },
  {
   "cell_type": "code",
   "execution_count": null,
   "metadata": {},
   "outputs": [],
   "source": [
    "%magic"
   ]
  },
  {
   "cell_type": "markdown",
   "metadata": {
    "slideshow": {
     "slide_type": "subslide"
    }
   },
   "source": [
    "## Interaktion"
   ]
  },
  {
   "cell_type": "markdown",
   "metadata": {},
   "source": [
    "Idee: Entwicklung interaktiver Prototypen im Notebook, siehe [Dokumentation](https://ipywidgets.readthedocs.io/en/stable/examples/Using%20Interact.html?highlight=interact)."
   ]
  },
  {
   "cell_type": "code",
   "execution_count": null,
   "metadata": {
    "ExecuteTime": {
     "end_time": "2020-10-19T06:53:33.176251Z",
     "start_time": "2020-10-19T06:53:33.167118Z"
    },
    "slideshow": {
     "slide_type": "subslide"
    }
   },
   "outputs": [],
   "source": [
    "# Funktion zur Berechnung der Summe\n",
    "def summen_ausgabe(x: float | int, y: float | int) -> float | int:\n",
    "    print(f\"Summe: {x+y}\")"
   ]
  },
  {
   "cell_type": "code",
   "execution_count": null,
   "metadata": {
    "ExecuteTime": {
     "end_time": "2020-10-19T06:53:58.724319Z",
     "start_time": "2020-10-19T06:53:58.719537Z"
    },
    "slideshow": {
     "slide_type": "subslide"
    }
   },
   "outputs": [],
   "source": [
    "from ipywidgets import interact"
   ]
  },
  {
   "cell_type": "code",
   "execution_count": null,
   "metadata": {
    "ExecuteTime": {
     "end_time": "2020-10-19T06:54:21.092412Z",
     "start_time": "2020-10-19T06:54:20.989473Z"
    },
    "slideshow": {
     "slide_type": "fragment"
    }
   },
   "outputs": [],
   "source": [
    "interact(summen_ausgabe, x=(0, 10, 2), y=(-3.3, 10.2))"
   ]
  },
  {
   "cell_type": "code",
   "execution_count": null,
   "metadata": {
    "ExecuteTime": {
     "end_time": "2020-10-19T06:55:09.975419Z",
     "start_time": "2020-10-19T06:55:09.970015Z"
    },
    "slideshow": {
     "slide_type": "subslide"
    }
   },
   "outputs": [],
   "source": [
    "def cocktail_auswahl(fruchtsaft: str, alkohol: str) -> None:\n",
    "    print(f\"Sie haben {fruchtsaft} mit {alkohol} bestellt.\")"
   ]
  },
  {
   "cell_type": "code",
   "execution_count": null,
   "metadata": {
    "ExecuteTime": {
     "end_time": "2020-10-19T06:55:35.365431Z",
     "start_time": "2020-10-19T06:55:35.278044Z"
    },
    "slideshow": {
     "slide_type": "fragment"
    }
   },
   "outputs": [],
   "source": [
    "interact(\n",
    "    cocktail_auswahl,\n",
    "    fruchtsaft=[\"Orangensaft\", \"Kirschsaft\", \"Zitronensaft\"],\n",
    "    alkohol=[\"Jägermeister\", \"Gin\", \"Wodka\"],\n",
    ")"
   ]
  },
  {
   "cell_type": "markdown",
   "metadata": {},
   "source": [
    "## Interaktion über einen decorator"
   ]
  },
  {
   "cell_type": "code",
   "execution_count": null,
   "metadata": {},
   "outputs": [],
   "source": [
    "@interact(x=(0, 10, 2), y=(-3.3, 10.2))\n",
    "def summen_ausgabe(x: float | int, y: float | int) -> float | int:\n",
    "    print(f\"Summe: {x+y}\")"
   ]
  },
  {
   "cell_type": "markdown",
   "metadata": {
    "slideshow": {
     "slide_type": "subslide"
    }
   },
   "source": [
    "## Einbinden von Grafiken"
   ]
  },
  {
   "cell_type": "code",
   "execution_count": null,
   "metadata": {
    "ExecuteTime": {
     "end_time": "2020-10-19T07:01:06.247263Z",
     "start_time": "2020-10-19T07:01:05.843812Z"
    },
    "scrolled": true,
    "slideshow": {
     "slide_type": "subslide"
    }
   },
   "outputs": [],
   "source": [
    "import numpy as np\n",
    "import matplotlib.pyplot as plt\n",
    "%matplotlib ipympl\n",
    "x = np.arange(-5, 5, 0.05)\n",
    "y = np.sin(x)**2\n",
    "fig, ax1 = plt.subplots()\n",
    "ax1.set_title('Das ist der Sinus im Quadrat: $\\sin(x)^2$')\n",
    "ax1.set_xlabel('x')\n",
    "ax1.set_ylabel('$\\sin(x)^2$')\n",
    "ax1.plot(x, y)"
   ]
  },
  {
   "cell_type": "code",
   "execution_count": null,
   "metadata": {
    "slideshow": {
     "slide_type": "subslide"
    }
   },
   "outputs": [],
   "source": [
    "import skimage\n",
    "\n",
    "\n",
    "def bild_anzeige(bild_name: str) -> None:\n",
    "    bild = skimage.io.imread(bild_name)\n",
    "    fig2, ax2 = plt.subplots()\n",
    "    ax2.axis(\"off\")\n",
    "    ax2.imshow(bild, cmap=\"gray\")"
   ]
  },
  {
   "cell_type": "code",
   "execution_count": null,
   "metadata": {
    "slideshow": {
     "slide_type": "subslide"
    }
   },
   "outputs": [],
   "source": [
    "import glob\n",
    "\n",
    "bilder_namen = list(glob.iglob(\"/data/images2D/*.png\"))\n",
    "interact(bild_anzeige, bild_name=bilder_namen)"
   ]
  },
  {
   "cell_type": "markdown",
   "metadata": {
    "slideshow": {
     "slide_type": "slide"
    }
   },
   "source": [
    "# Daten speichern"
   ]
  },
  {
   "cell_type": "markdown",
   "metadata": {
    "slideshow": {
     "slide_type": "subslide"
    }
   },
   "source": [
    "## Speichern-Quellen und Ergänzungen"
   ]
  },
  {
   "cell_type": "markdown",
   "metadata": {},
   "source": [
    "Schauen Sie sich Kapitel 3 im empfohlenen Lehrbuch *Python 3 Intensivkurs* an, link zur pdf-Version siehe moodle.\n",
    "\n",
    "Die offizielle Quelle ist die [Python-Dokumentation](https://docs.python.org/3/library/stdtypes.html).\n",
    "\n",
    "Das [Python-Tuturial](https://docs.python.org/3.10/tutorial/index.html) beschäftigt sich auch mit Datentypen."
   ]
  },
  {
   "cell_type": "markdown",
   "metadata": {
    "slideshow": {
     "slide_type": "subslide"
    }
   },
   "source": [
    "## Objekt-Referenzen"
   ]
  },
  {
   "cell_type": "code",
   "execution_count": null,
   "metadata": {
    "ExecuteTime": {
     "end_time": "2020-10-19T08:04:25.767051Z",
     "start_time": "2020-10-19T08:04:25.744339Z"
    }
   },
   "outputs": [],
   "source": [
    "l1 = [1, 2, 3, 4]\n",
    "l2 = l1\n",
    "print(f\"{l1 == l2 = }\")\n",
    "print(f\"{l1 is l2 = }\")\n",
    "l3 = l1[:]  # oder l3 = l1.copy()\n",
    "print(f\"{l1 == l3 = }\")\n",
    "print(f\"{l1 is l3 = }\")"
   ]
  },
  {
   "cell_type": "markdown",
   "metadata": {
    "slideshow": {
     "slide_type": "subslide"
    }
   },
   "source": [
    "*==* vergleicht den Inhalt der Listen, *is* vergleicht die identität der Objekte."
   ]
  },
  {
   "cell_type": "markdown",
   "metadata": {
    "slideshow": {
     "slide_type": "subslide"
    }
   },
   "source": [
    "## Boolsche Variablen"
   ]
  },
  {
   "cell_type": "code",
   "execution_count": null,
   "metadata": {
    "ExecuteTime": {
     "end_time": "2020-10-19T08:07:45.662752Z",
     "start_time": "2020-10-19T08:07:45.652813Z"
    }
   },
   "outputs": [],
   "source": [
    "print(f\"{3*3 == 9 = }\")\n",
    "# Oder-Verknuepfung\n",
    "a = None\n",
    "l = []\n",
    "print(f\"{a or 42, l or [1,2,3] = }\")\n",
    "#\n",
    "print(f\"{type(a==3) = }\")"
   ]
  },
  {
   "cell_type": "markdown",
   "metadata": {
    "slideshow": {
     "slide_type": "fragment"
    }
   },
   "source": [
    "Sollte man  die mit *Oder-Verknuepfung* vorgestellte Methode verwenden?"
   ]
  },
  {
   "cell_type": "markdown",
   "metadata": {
    "slideshow": {
     "slide_type": "subslide"
    }
   },
   "source": [
    "## Zahlen"
   ]
  },
  {
   "cell_type": "code",
   "execution_count": null,
   "metadata": {
    "ExecuteTime": {
     "end_time": "2020-10-19T08:09:25.270078Z",
     "start_time": "2020-10-19T08:09:25.254077Z"
    }
   },
   "outputs": [],
   "source": [
    "# Division\n",
    "print(f\"{3 / 4=}\")\n",
    "print(f\"{3 // 4=}\")\n",
    "# ganze Zahlen\n",
    "print(f\"{type(3*3)=}\")\n",
    "print(f\"{17**33=}\")\n",
    "print(f\"{type(17**33)=}\")"
   ]
  },
  {
   "cell_type": "markdown",
   "metadata": {
    "slideshow": {
     "slide_type": "subslide"
    }
   },
   "source": [
    "**Vorsicht:** In Python Version 2 ist die Division von Integer-Objekten anders definiert!"
   ]
  },
  {
   "cell_type": "markdown",
   "metadata": {},
   "source": [
    "## Einschub: Experimente mit Python 2.7"
   ]
  },
  {
   "cell_type": "markdown",
   "metadata": {},
   "source": [
    "Zunächst erzeugen wir eine virtuelle conda-Umgebung mit der alten Python-Version:"
   ]
  },
  {
   "cell_type": "code",
   "execution_count": null,
   "metadata": {},
   "outputs": [],
   "source": [
    "!conda create -y -n legacy python=2.7"
   ]
  },
  {
   "cell_type": "markdown",
   "metadata": {},
   "source": [
    "Jetzt können wir die neue Umgebung verwenden (die nächste Zelle ist Linux-spezifisch)"
   ]
  },
  {
   "cell_type": "code",
   "execution_count": null,
   "metadata": {
    "ExecuteTime": {
     "end_time": "2020-10-19T08:11:37.065135Z",
     "start_time": "2020-10-19T08:11:37.023690Z"
    }
   },
   "outputs": [],
   "source": [
    "%%bash\n",
    "source $HOME/miniforge3/etc/profile.d/conda.sh\n",
    "conda activate legacy\n",
    "python2.7 -c 'print \"6/2:\", 6/2'\n",
    "python2.7 -c 'print \"3/2:\", 3/2'\n",
    "python2.7 -c 'print \"3.0/2.0:\", 3.0/2.0'"
   ]
  },
  {
   "cell_type": "markdown",
   "metadata": {
    "slideshow": {
     "slide_type": "subslide"
    }
   },
   "source": [
    "**Vorsicht:** In Python Version 2 wird zwischen *int* und *long* unterschieden"
   ]
  },
  {
   "cell_type": "code",
   "execution_count": null,
   "metadata": {
    "ExecuteTime": {
     "end_time": "2020-10-19T08:12:20.694465Z",
     "start_time": "2020-10-19T08:12:20.646963Z"
    }
   },
   "outputs": [],
   "source": [
    "%%bash\n",
    "source $HOME/miniforge3/etc/profile.d/conda.sh\n",
    "conda activate legacy\n",
    "python2.7 -c \"a = 33; print 'a:', type(a)\"\n",
    "python2.7 -c \"b = 33**23; print 'b:', type(b)\""
   ]
  },
  {
   "cell_type": "markdown",
   "metadata": {},
   "source": [
    "Jetzt können wir die virtuelle Umgebung wieder löschen:"
   ]
  },
  {
   "cell_type": "code",
   "execution_count": null,
   "metadata": {},
   "outputs": [],
   "source": [
    "!conda remove --all -y -n legacy\n",
    "!conda clean -ay"
   ]
  },
  {
   "cell_type": "code",
   "execution_count": null,
   "metadata": {
    "ExecuteTime": {
     "end_time": "2020-10-19T08:13:55.945667Z",
     "start_time": "2020-10-19T08:13:55.920389Z"
    },
    "slideshow": {
     "slide_type": "subslide"
    }
   },
   "outputs": [],
   "source": [
    "# fractions\n",
    "import fractions\n",
    "\n",
    "fr1 = fractions.Fraction(2, 3)\n",
    "fr2 = fractions.Fraction(7, 17)\n",
    "print(f\"{fr1 * fr2 = }\")\n",
    "print(f\"{fr1 + fr2 = }\")\n",
    "fr3 = fractions.Fraction(7, 21)\n",
    "print(f\"{fr3 = }\")\n",
    "print(f\"{float(fr2) = }\")"
   ]
  },
  {
   "cell_type": "markdown",
   "metadata": {
    "slideshow": {
     "slide_type": "subslide"
    }
   },
   "source": [
    "## Named Tuple"
   ]
  },
  {
   "cell_type": "code",
   "execution_count": null,
   "metadata": {
    "ExecuteTime": {
     "end_time": "2020-10-19T08:15:12.965293Z",
     "start_time": "2020-10-19T08:15:12.956002Z"
    }
   },
   "outputs": [],
   "source": [
    "# (Marke, Modell, leergewicht_kg, leistung_PS, farbe)\n",
    "# ...\n",
    "INDEX_LEERGEWICHT = 2\n",
    "kaefer = (\"VW\", \"Kaefer\", 730, 30, \"schwarz\")\n",
    "print(f\"Leergewicht: {kaefer[INDEX_LEERGEWICHT]} kg\")"
   ]
  },
  {
   "cell_type": "code",
   "execution_count": null,
   "metadata": {
    "ExecuteTime": {
     "end_time": "2020-10-19T08:16:23.179715Z",
     "start_time": "2020-10-19T08:16:23.164666Z"
    },
    "slideshow": {
     "slide_type": "subslide"
    }
   },
   "outputs": [],
   "source": [
    "# Named Tuple\n",
    "import collections\n",
    "\n",
    "Automobil = collections.namedtuple(\n",
    "    \"Automobil\", \"marke, modell, leergewicht_kg, leistung_PS, farbe\"\n",
    ")\n",
    "kaefer = Automobil(\n",
    "    marke=\"VW\",\n",
    "    modell=\"Kaefer\",\n",
    "    leergewicht_kg=730,\n",
    "    leistung_PS=30,\n",
    "    farbe=\"schwarz\",\n",
    ")\n",
    "print(kaefer)\n",
    "print(f\"{kaefer.leergewicht_kg = }\")"
   ]
  },
  {
   "cell_type": "code",
   "execution_count": null,
   "metadata": {
    "ExecuteTime": {
     "end_time": "2020-10-19T08:17:00.398419Z",
     "start_time": "2020-10-19T08:17:00.389704Z"
    },
    "slideshow": {
     "slide_type": "subslide"
    }
   },
   "outputs": [],
   "source": [
    "# Es handelt sich weiterhin um ein Tupel ...\n",
    "# Die folgende Zeile führt zu einer Fehlermeldung\n",
    "# kaefer.leergewicht_kg = 800"
   ]
  },
  {
   "cell_type": "markdown",
   "metadata": {},
   "source": [
    "Frage: In welchen Fällen ist der Einsatz dieses Datentyps sinnvoll?"
   ]
  },
  {
   "cell_type": "markdown",
   "metadata": {
    "slideshow": {
     "slide_type": "subslide"
    }
   },
   "source": [
    "## Enum"
   ]
  },
  {
   "cell_type": "code",
   "execution_count": null,
   "metadata": {
    "ExecuteTime": {
     "end_time": "2020-10-19T08:17:42.284407Z",
     "start_time": "2020-10-19T08:17:42.276097Z"
    }
   },
   "outputs": [],
   "source": [
    "# Nicht so gut ...\n",
    "STATUS_INITIALISIERUNG = 1\n",
    "STATUS_BEARBEITUNG = 2\n",
    "STATUS_BEENDET = 3\n",
    "print(f\"{STATUS_BEARBEITUNG = }\")"
   ]
  },
  {
   "cell_type": "code",
   "execution_count": null,
   "metadata": {
    "ExecuteTime": {
     "end_time": "2020-10-19T08:19:03.745427Z",
     "start_time": "2020-10-19T08:19:03.730392Z"
    },
    "slideshow": {
     "slide_type": "subslide"
    }
   },
   "outputs": [],
   "source": [
    "# Besser\n",
    "import enum\n",
    "\n",
    "\n",
    "class Status(enum.Enum):\n",
    "    INITIALISIERUNG = enum.auto()\n",
    "    BEARBEITUNG = enum.auto()\n",
    "    BEENDET = enum.auto()\n",
    "\n",
    "\n",
    "aktueller_status = Status.BEARBEITUNG\n",
    "print(f\"{aktueller_status = }\")"
   ]
  },
  {
   "cell_type": "markdown",
   "metadata": {
    "slideshow": {
     "slide_type": "fragment"
    }
   },
   "source": [
    "Dokumentation zu [repr](https://docs.python.org/3.7/library/functions.html#repr)"
   ]
  },
  {
   "cell_type": "code",
   "execution_count": null,
   "metadata": {
    "ExecuteTime": {
     "end_time": "2020-10-19T08:22:16.858747Z",
     "start_time": "2020-10-19T08:22:16.834961Z"
    },
    "slideshow": {
     "slide_type": "subslide"
    }
   },
   "outputs": [],
   "source": [
    "# Listen\n",
    "l = [1, 2.2, \"a\", \"b\"]\n",
    "print(f\"{l = }\")\n",
    "l2 = [\"0\", \"-1\", \"-2\", \"-3\"]\n",
    "print(f\"{list(zip(l[:3], l2[:3])) = }\")\n",
    "l2[1:3] = []\n",
    "print(f\"{l2 = }\")"
   ]
  },
  {
   "cell_type": "markdown",
   "metadata": {
    "slideshow": {
     "slide_type": "subslide"
    }
   },
   "source": [
    "Frage: Welchen Rückgabetyp erwarten Sie von *zip*?"
   ]
  },
  {
   "cell_type": "code",
   "execution_count": null,
   "metadata": {
    "ExecuteTime": {
     "end_time": "2020-10-19T08:23:35.553019Z",
     "start_time": "2020-10-19T08:23:35.545803Z"
    },
    "slideshow": {
     "slide_type": "fragment"
    }
   },
   "outputs": [],
   "source": [
    "print(type(zip(l[:2], l2[:2])))"
   ]
  },
  {
   "cell_type": "code",
   "execution_count": null,
   "metadata": {
    "ExecuteTime": {
     "end_time": "2020-10-19T08:26:29.859327Z",
     "start_time": "2020-10-19T08:26:29.833109Z"
    },
    "slideshow": {
     "slide_type": "subslide"
    }
   },
   "outputs": [],
   "source": [
    "# Strings\n",
    "s = \"Das_ist_ein_String\"\n",
    "print(f\"{s[::2] = }\")\n",
    "print(f\"{s.replace('a', 'ie') = }\")\n",
    "print(r\"C:\\myDir\\newFile\")\n",
    "print(f\"{'ist' in s = }\")\n",
    "print(f\"{s.lower() = }\")\n",
    "print(f\"{s.count('i') = }\")"
   ]
  },
  {
   "cell_type": "code",
   "execution_count": null,
   "metadata": {
    "ExecuteTime": {
     "end_time": "2020-10-19T08:29:35.064572Z",
     "start_time": "2020-10-19T08:29:35.052315Z"
    },
    "slideshow": {
     "slide_type": "subslide"
    }
   },
   "outputs": [],
   "source": [
    "# Formatierte Ausgabe (alte Methoden, bitte nicht verwenden)\n",
    "person = \"Ernie\"\n",
    "nahrungsmittel = \"die Kekse\"\n",
    "\n",
    "print(f\"{'%s hat %s aufgegessen' % (person, nahrungsmittel) = }\")\n",
    "print(f\"{'{0} hat {1} aufgegessen'.format(person, nahrungsmittel) = }\")\n",
    "print(f\"{'{p} hat {f} aufgegessen'.format(f=nahrungsmittel, p=person) = }\")"
   ]
  },
  {
   "cell_type": "code",
   "execution_count": null,
   "metadata": {
    "ExecuteTime": {
     "end_time": "2020-10-19T08:30:12.856720Z",
     "start_time": "2020-10-19T08:30:12.850103Z"
    },
    "slideshow": {
     "slide_type": "fragment"
    }
   },
   "outputs": [],
   "source": [
    "# Neue, emfpohlene Methode\n",
    "print(f\"{f'{person} hat {nahrungsmittel} aufgegessen' = }\")"
   ]
  },
  {
   "cell_type": "markdown",
   "metadata": {
    "slideshow": {
     "slide_type": "subslide"
    }
   },
   "source": [
    "Seit Python Version 3 werden Strings im Unicode-Format repräsentiert. Welche Vorteile bringt dies mit sich?"
   ]
  },
  {
   "cell_type": "code",
   "execution_count": null,
   "metadata": {
    "ExecuteTime": {
     "end_time": "2020-10-19T08:32:29.376300Z",
     "start_time": "2020-10-19T08:32:29.361961Z"
    },
    "slideshow": {
     "slide_type": "subslide"
    }
   },
   "outputs": [],
   "source": [
    "# byte arrays\n",
    "b = b\"Das ist ein Byte-Array\"\n",
    "print(f\"{type(b) = }\")\n",
    "s = \"Ein Strüng\"\n",
    "print(f\"{s, type(s) = }\")\n",
    "b2 = s.encode(encoding=\"utf-8\")\n",
    "print(f\"{b2 = }\")"
   ]
  },
  {
   "cell_type": "markdown",
   "metadata": {
    "slideshow": {
     "slide_type": "fragment"
    }
   },
   "source": [
    "Wann werden Byte-Arrays verwendet?"
   ]
  },
  {
   "cell_type": "markdown",
   "metadata": {
    "slideshow": {
     "slide_type": "subslide"
    }
   },
   "source": [
    "## Assoziative Listen (dictionaries)"
   ]
  },
  {
   "cell_type": "code",
   "execution_count": null,
   "metadata": {
    "ExecuteTime": {
     "end_time": "2020-10-19T08:36:04.145635Z",
     "start_time": "2020-10-19T08:36:04.129060Z"
    }
   },
   "outputs": [],
   "source": [
    "# Erinnerung\n",
    "d = {\"Haus\": \"house\", \"Maus\": \"mouse\", \"Auto\": \"car\", \"Bild\": \"picture\"}\n",
    "print(f\"{d['Maus'] = }\")\n",
    "print(f\"{d.keys() = }\")\n",
    "l = list(d.keys())\n",
    "l.sort()\n",
    "print(f\"{l = }\")\n",
    "print(f\"{'Maus' in d = }\")\n",
    "print(f\"{'mouse' in d = }\")\n",
    "print(f\"{'mouse' in d.values() = }\")\n",
    "d.get(\"LKW\", \"*unbekannt*\")\n",
    "# Exception !\n",
    "# d['LKW']"
   ]
  },
  {
   "cell_type": "code",
   "execution_count": null,
   "metadata": {
    "ExecuteTime": {
     "end_time": "2020-10-19T08:42:17.996301Z",
     "start_time": "2020-10-19T08:42:17.981480Z"
    },
    "slideshow": {
     "slide_type": "subslide"
    }
   },
   "outputs": [],
   "source": [
    "# ordered dicts\n",
    "import collections\n",
    "\n",
    "od_d = collections.OrderedDict(sorted(d.items(), key=lambda t: t[0]))\n",
    "print(od_d)\n",
    "\n",
    "od_e = collections.OrderedDict(sorted(d.items(), key=lambda t: t[1]))\n",
    "print(od_e)"
   ]
  },
  {
   "cell_type": "markdown",
   "metadata": {
    "slideshow": {
     "slide_type": "fragment"
    }
   },
   "source": [
    "Seit Python 3.5 bleibt die Reihenfolge, in der Elemente in ein Standard-*dict* eingefügt werden, erhalten. Es ist trotzdem sinnvoll, in bestimmten Fällen *OrderedDict* zu verwenden, siehe [Greg Gandenberger](http://gandenberger.org/2018/03/10/ordered-dicts-vs-ordereddict)."
   ]
  },
  {
   "cell_type": "markdown",
   "metadata": {
    "slideshow": {
     "slide_type": "subslide"
    }
   },
   "source": [
    "## Mengen"
   ]
  },
  {
   "cell_type": "code",
   "execution_count": null,
   "metadata": {
    "ExecuteTime": {
     "end_time": "2020-10-19T08:45:24.806575Z",
     "start_time": "2020-10-19T08:45:24.785776Z"
    }
   },
   "outputs": [],
   "source": [
    "l = [1, 2, 99, 36, 3, 5, 3, 1, 7, 64]\n",
    "s = set(l)\n",
    "print(f'{s  = }')\n",
    "s2 = set([i*i for i in range(5,9)])\n",
    "print(f'{s2 = }')\n",
    "print(f'{s.intersection(s2) = }')\n",
    "print(f'{s.difference(s2) = }')\n",
    "print(f'{s.union(s2) = }')"
   ]
  },
  {
   "cell_type": "markdown",
   "metadata": {
    "slideshow": {
     "slide_type": "subslide"
    }
   },
   "source": [
    "## Persistenz"
   ]
  },
  {
   "cell_type": "code",
   "execution_count": null,
   "metadata": {
    "ExecuteTime": {
     "end_time": "2020-10-19T08:46:16.930906Z",
     "start_time": "2020-10-19T08:46:16.924379Z"
    }
   },
   "outputs": [],
   "source": [
    "out_file = open(\"test_file.txt\", \"w\")\n",
    "out_file.write(\"Datei-Inhalt\\nZeile2\")\n",
    "out_file.close()"
   ]
  },
  {
   "cell_type": "code",
   "execution_count": null,
   "metadata": {
    "ExecuteTime": {
     "end_time": "2020-10-19T08:46:22.875991Z",
     "start_time": "2020-10-19T08:46:22.725364Z"
    },
    "slideshow": {
     "slide_type": "fragment"
    }
   },
   "outputs": [],
   "source": [
    "!cat test_file.txt"
   ]
  },
  {
   "cell_type": "code",
   "execution_count": null,
   "metadata": {
    "ExecuteTime": {
     "end_time": "2020-10-19T08:49:09.471060Z",
     "start_time": "2020-10-19T08:49:09.465095Z"
    },
    "slideshow": {
     "slide_type": "subslide"
    }
   },
   "outputs": [],
   "source": [
    "# Alternative: Kontext\n",
    "with open(\"test_file_2.txt\", \"w\") as out_file:\n",
    "    out_file.write(\"Datei-Inhalt 2\\nZeile2\")"
   ]
  },
  {
   "cell_type": "code",
   "execution_count": null,
   "metadata": {
    "ExecuteTime": {
     "end_time": "2020-10-19T08:49:16.031825Z",
     "start_time": "2020-10-19T08:49:15.888509Z"
    },
    "slideshow": {
     "slide_type": "fragment"
    }
   },
   "outputs": [],
   "source": [
    "!cat test_file_2.txt"
   ]
  },
  {
   "cell_type": "markdown",
   "metadata": {
    "ExecuteTime": {
     "end_time": "2019-10-20T10:32:58.622149Z",
     "start_time": "2019-10-20T10:32:58.618439Z"
    },
    "slideshow": {
     "slide_type": "subslide"
    }
   },
   "source": [
    "Objekte können mit [*pickle*](https://docs.python.org/3.7/library/pickle.html) gespeichert und wieder geladen werden."
   ]
  },
  {
   "cell_type": "code",
   "execution_count": null,
   "metadata": {
    "ExecuteTime": {
     "end_time": "2020-10-19T08:52:10.172238Z",
     "start_time": "2020-10-19T08:52:10.153407Z"
    },
    "slideshow": {
     "slide_type": "fragment"
    }
   },
   "outputs": [],
   "source": [
    "l = [\"a\", \"abc\", \"def\", \"ENDE\"]\n",
    "d = {\"a\": 0, \"b\": 1, \"c\": 2, 42: \"answer\"}\n",
    "import pickle\n",
    "\n",
    "with open(\"myVar.dump\", \"wb\") as out_file:\n",
    "    pickle.dump((l, d), out_file)\n",
    "del l\n",
    "del d\n",
    "with open(\"myVar.dump\", \"rb\") as in_file:\n",
    "    l, d = pickle.load(in_file)\n",
    "print(l)\n",
    "print(d)"
   ]
  },
  {
   "cell_type": "markdown",
   "metadata": {
    "slideshow": {
     "slide_type": "subslide"
    }
   },
   "source": [
    "## Konfigurations-Dateien"
   ]
  },
  {
   "cell_type": "code",
   "execution_count": null,
   "metadata": {
    "ExecuteTime": {
     "end_time": "2020-10-19T08:54:16.293653Z",
     "start_time": "2020-10-19T08:54:16.276636Z"
    }
   },
   "outputs": [],
   "source": [
    "%%file example.toml\n",
    "# This is a TOML document, Source: https://toml.io/en/\n",
    "\n",
    "title = \"TOML Example\"\n",
    "\n",
    "[owner]\n",
    "name = \"Tom Preston-Werner\"\n",
    "dob = 1979-05-27T07:32:00-08:00\n",
    "\n",
    "[database]\n",
    "enabled = true\n",
    "ports = [ 8000, 8001, 8002 ]\n",
    "data = [ [\"delta\", \"phi\"], [3.14] ]\n",
    "temp_targets = { cpu = 79.5, case = 72.0 }\n",
    "\n",
    "[servers]\n",
    "\n",
    "[servers.alpha]\n",
    "ip = \"10.0.0.1\"\n",
    "role = \"frontend\"\n",
    "\n",
    "[servers.beta]\n",
    "ip = \"10.0.0.2\"\n",
    "role = \"backend\""
   ]
  },
  {
   "cell_type": "code",
   "execution_count": null,
   "metadata": {
    "ExecuteTime": {
     "end_time": "2020-10-19T08:56:35.259745Z",
     "start_time": "2020-10-19T08:56:35.232108Z"
    },
    "slideshow": {
     "slide_type": "subslide"
    }
   },
   "outputs": [],
   "source": [
    "import tomllib\n",
    "\n",
    "with open(\"example.toml\", \"rb\") as toml_file:\n",
    "    configuration = tomllib.load(toml_file)\n",
    "print(configuration)\n",
    "print(configuration[\"owner\"][\"dob\"])\n",
    "print(configuration[\"database\"][\"temp_targets\"][\"case\"])\n",
    "print(configuration[\"servers\"][\"beta\"][\"role\"])"
   ]
  },
  {
   "cell_type": "markdown",
   "metadata": {
    "slideshow": {
     "slide_type": "subslide"
    }
   },
   "source": [
    "Welche Vorteile bieten Konfigurations-Dateien im Vergleich zur interaktiven Einstellung von Parametern?"
   ]
  },
  {
   "cell_type": "markdown",
   "metadata": {
    "slideshow": {
     "slide_type": "slide"
    }
   },
   "source": [
    "# Programmieren"
   ]
  },
  {
   "cell_type": "markdown",
   "metadata": {
    "slideshow": {
     "slide_type": "subslide"
    }
   },
   "source": [
    "## for-Schleifen"
   ]
  },
  {
   "cell_type": "code",
   "execution_count": null,
   "metadata": {
    "ExecuteTime": {
     "end_time": "2020-10-19T08:59:31.006662Z",
     "start_time": "2020-10-19T08:59:30.993473Z"
    },
    "slideshow": {
     "slide_type": "subslide"
    }
   },
   "outputs": [],
   "source": [
    "tier_liste = ['Affe', 'Krokodil', 'Elefant']\n",
    "# bitte so\n",
    "for tier in tier_liste:\n",
    "    print (f'Ein {tier} ist ein Tier') "
   ]
  },
  {
   "cell_type": "code",
   "execution_count": null,
   "metadata": {
    "ExecuteTime": {
     "end_time": "2020-10-19T05:46:06.191277Z",
     "start_time": "2020-10-19T05:46:06.182113Z"
    },
    "slideshow": {
     "slide_type": "fragment"
    }
   },
   "outputs": [],
   "source": [
    "# ... und nicht so\n",
    "for i in range(len(tier_liste)):\n",
    "    print(f'Ein {tier_liste[i]} ist ein Tier')"
   ]
  },
  {
   "cell_type": "code",
   "execution_count": null,
   "metadata": {
    "slideshow": {
     "slide_type": "subslide"
    }
   },
   "outputs": [],
   "source": [
    "# falls ein Index benötigt wird:\n",
    "for i, tier in enumerate(tier_liste):\n",
    "    print(f'Ein {tier} ist ein Tier mit dem Index {i}')"
   ]
  },
  {
   "cell_type": "markdown",
   "metadata": {
    "slideshow": {
     "slide_type": "subslide"
    }
   },
   "source": [
    "## Funktionen"
   ]
  },
  {
   "cell_type": "code",
   "execution_count": null,
   "metadata": {
    "ExecuteTime": {
     "end_time": "2020-10-19T09:01:30.812123Z",
     "start_time": "2020-10-19T09:01:30.783250Z"
    }
   },
   "outputs": [],
   "source": [
    "def meine_funktion(\n",
    "    vorname: str, nachname: str = \"Mustermann\"\n",
    ") -> list[int, int]:\n",
    "    print(\"Ihr Name ist:\", vorname, nachname)\n",
    "    quersummen = [0, 0]\n",
    "    for c in vorname:\n",
    "        quersummen[0] += ord(c)\n",
    "    for c in nachname:\n",
    "        quersummen[1] += ord(c)\n",
    "    return quersummen\n",
    "\n",
    "\n",
    "print(\"Quersummen:\", meine_funktion(\"Eva\"))\n",
    "print(\"Quersummen:\", meine_funktion(\"Karl-Eduard\", \"Musterfrau\"))\n",
    "argumente = (\"Karl-Eduard\", \"Musterfrau\")\n",
    "print(\"Quersummen:\", meine_funktion(*argumente))"
   ]
  },
  {
   "cell_type": "code",
   "execution_count": null,
   "metadata": {
    "ExecuteTime": {
     "end_time": "2020-10-19T09:02:38.606181Z",
     "start_time": "2020-10-19T09:02:38.596363Z"
    },
    "slideshow": {
     "slide_type": "subslide"
    }
   },
   "outputs": [],
   "source": [
    "# Funktion mit beliebig vielen Argumenten\n",
    "# args: Tuple von Argumenten\n",
    "# kwargs: dict name:wert\n",
    "\n",
    "\n",
    "def demo_funktion(a, b, *args, **kwargs) -> None:\n",
    "    print(\"a, b:\", a, b)\n",
    "    print(\"args:\", args)\n",
    "    print(\"kwargs:\", kwargs)\n",
    "\n",
    "\n",
    "demo_funktion(11, 22, \"hallo\", [2, 3], n=\"prog3\", pi=3.14)"
   ]
  },
  {
   "cell_type": "markdown",
   "metadata": {
    "slideshow": {
     "slide_type": "subslide"
    }
   },
   "source": [
    "Verschiedene Arten, eine Funktion aufzurufen:"
   ]
  },
  {
   "cell_type": "code",
   "execution_count": null,
   "metadata": {
    "slideshow": {
     "slide_type": "-"
    }
   },
   "outputs": [],
   "source": [
    "def argument_drucker(a: int, b: float, c: str, d: int, e: int) -> None:\n",
    "    print(f\"{(a, b, c, d, e) = }\")"
   ]
  },
  {
   "cell_type": "code",
   "execution_count": null,
   "metadata": {
    "slideshow": {
     "slide_type": "fragment"
    }
   },
   "outputs": [],
   "source": [
    "# standard-Aufruf:\n",
    "argument_drucker(1, 2.2, \"moin\", 4, 5)"
   ]
  },
  {
   "cell_type": "code",
   "execution_count": null,
   "metadata": {
    "slideshow": {
     "slide_type": "fragment"
    }
   },
   "outputs": [],
   "source": [
    "# Aufruf mit einem Tupel\n",
    "arg_tupel = (1, 2.2, \"moin\", 4, 5)\n",
    "argument_drucker(*arg_tupel)"
   ]
  },
  {
   "cell_type": "code",
   "execution_count": null,
   "metadata": {
    "slideshow": {
     "slide_type": "fragment"
    }
   },
   "outputs": [],
   "source": [
    "# Aufruf mit einem dict\n",
    "arg_dict = {\"e\": 5, \"d\": 4, \"a\": 1, \"b\": 2.2, \"c\": \"moin\"}\n",
    "argument_drucker(**arg_dict)"
   ]
  },
  {
   "cell_type": "markdown",
   "metadata": {
    "slideshow": {
     "slide_type": "subslide"
    }
   },
   "source": [
    "Einschränkung der Optionen zum Aufruf einer Funktion"
   ]
  },
  {
   "cell_type": "code",
   "execution_count": null,
   "metadata": {
    "slideshow": {
     "slide_type": "-"
    }
   },
   "outputs": [],
   "source": [
    "# a, b: nur über die Position\n",
    "# c: Postion oder Name\n",
    "# d, e: nur über den Namen\n",
    "# Trennung durch '/' und '*'\n",
    "def argument_drucker_eingeschraenkt(\n",
    "    a: int, b: float, /, c: str, *, d: int, e: int\n",
    ") -> None:\n",
    "    print(f\"{(a, b, c, d, e)=}\")"
   ]
  },
  {
   "cell_type": "code",
   "execution_count": null,
   "metadata": {
    "slideshow": {
     "slide_type": "fragment"
    }
   },
   "outputs": [],
   "source": [
    "# OK\n",
    "argument_drucker_eingeschraenkt(3, 4.2, \"hallo\", d=12, e=13)\n",
    "argument_drucker_eingeschraenkt(3, 4.2, c=\"hallo\", d=12, e=13)"
   ]
  },
  {
   "cell_type": "code",
   "execution_count": null,
   "metadata": {},
   "outputs": [],
   "source": [
    "# Fehler\n",
    "# argument_drucker_eingeschraenkt(3, b=4.2, c='hallo', d=12, e=13)"
   ]
  },
  {
   "cell_type": "markdown",
   "metadata": {
    "slideshow": {
     "slide_type": "slide"
    }
   },
   "source": [
    "## Generische Programmierung"
   ]
  },
  {
   "cell_type": "code",
   "execution_count": null,
   "metadata": {
    "ExecuteTime": {
     "end_time": "2020-10-19T09:05:11.026171Z",
     "start_time": "2020-10-19T09:05:11.017348Z"
    },
    "slideshow": {
     "slide_type": "-"
    }
   },
   "outputs": [],
   "source": [
    "from typing import Any\n",
    "\n",
    "\n",
    "def myMax(a: Any, b: Any) -> Any:\n",
    "    if a > b:\n",
    "        return a\n",
    "    else:\n",
    "        return b\n",
    "\n",
    "\n",
    "print(f\"{myMax(3, 4) = }\")\n",
    "print(f'{myMax(\"a\", \"x\") = }')\n",
    "print(f\"{myMax((3, 10, 0), (3, 10, 4)) = }\")"
   ]
  },
  {
   "cell_type": "markdown",
   "metadata": {
    "slideshow": {
     "slide_type": "subslide"
    }
   },
   "source": [
    "## Generatoren"
   ]
  },
  {
   "cell_type": "code",
   "execution_count": null,
   "metadata": {
    "ExecuteTime": {
     "end_time": "2020-10-19T09:07:52.343106Z",
     "start_time": "2020-10-19T09:07:52.328986Z"
    },
    "slideshow": {
     "slide_type": "subslide"
    }
   },
   "outputs": [],
   "source": [
    "from typing import Generator\n",
    "\n",
    "\n",
    "def fib(N: int) -> Generator[int, None, None]:\n",
    "    a, b = 0, 1\n",
    "    count = 1\n",
    "    yield a\n",
    "    while count < N:\n",
    "        yield b\n",
    "        a, b = b, a + b\n",
    "        count += 1\n",
    "\n",
    "\n",
    "fibonacciZahlen = fib(15)\n",
    "\n",
    "for i in fibonacciZahlen:\n",
    "    print(i, end=\" \")"
   ]
  },
  {
   "cell_type": "code",
   "execution_count": null,
   "metadata": {
    "ExecuteTime": {
     "end_time": "2020-10-19T09:09:19.010682Z",
     "start_time": "2020-10-19T09:09:19.001392Z"
    },
    "slideshow": {
     "slide_type": "subslide"
    }
   },
   "outputs": [],
   "source": [
    "import random\n",
    "from typing import Generator\n",
    "\n",
    "\n",
    "def zufalls_schluessel(\n",
    "    d: dict[str, str], n: int\n",
    ") -> Generator[str, None, None]:\n",
    "    \"\"\"\n",
    "    Zufaellige Auswahl von n Schluesseln aus dem dict d\n",
    "    \"\"\"\n",
    "    if n > len(d):\n",
    "        raise IndexError(\"Liste enthaelt nicht genuegend Elemente\")\n",
    "    else:\n",
    "        k_list = list(d.keys())\n",
    "        random.shuffle(k_list)\n",
    "        for k in k_list[:n]:\n",
    "            yield k"
   ]
  },
  {
   "cell_type": "code",
   "execution_count": null,
   "metadata": {
    "ExecuteTime": {
     "end_time": "2020-10-19T09:09:24.303157Z",
     "start_time": "2020-10-19T09:09:24.291048Z"
    },
    "slideshow": {
     "slide_type": "subslide"
    }
   },
   "outputs": [],
   "source": [
    "d = {\"dog\": \"Hund\", \"car\": \"Auto\", \"nose\": \"Nase\", \"small\": \"klein\"}\n",
    "for z_k in zufalls_schluessel(d, 2):\n",
    "    print(z_k, d[z_k])"
   ]
  },
  {
   "cell_type": "markdown",
   "metadata": {
    "slideshow": {
     "slide_type": "subslide"
    }
   },
   "source": [
    "# Debugger im Notebook"
   ]
  },
  {
   "cell_type": "code",
   "execution_count": null,
   "metadata": {},
   "outputs": [],
   "source": [
    "def meine_funktion(a: int | float, b: int | float) -> float:\n",
    "    c = float(\"NaN\")\n",
    "    try:\n",
    "        c = a / b\n",
    "    except ZeroDivisionError:\n",
    "        import pdb\n",
    "        pdb.set_trace()\n",
    "    return c\n",
    "\n",
    "\n",
    "if __name__ == \"__main__\":\n",
    "    print(f\"{meine_funktion(3, 4) = }\")\n",
    "    print(f\"{meine_funktion(7, 0) = }\")"
   ]
  },
  {
   "cell_type": "markdown",
   "metadata": {
    "slideshow": {
     "slide_type": "subslide"
    }
   },
   "source": [
    "* Experimentieren Sie mit dem oben angegebenen Programm. Folgende *ipdb*-Befehle könnten hilfreich sein: ? (Hilfe), l (list), c (continue)\n",
    "\n",
    "* Welche Vorteile bietet die hier angegebene Vorgehensweise im Vergleich zur Arbeit mit *breakpoints* bzw. dem interaktiven Springen von Zeile zu Zeile?"
   ]
  },
  {
   "cell_type": "markdown",
   "metadata": {
    "slideshow": {
     "slide_type": "slide"
    }
   },
   "source": [
    "# Pakete und Import"
   ]
  },
  {
   "cell_type": "markdown",
   "metadata": {},
   "source": [
    "Module werden aus dem aktuellen Verzeichnis und anderen in *sys.path* gespeicherten Verzeichnissen gesucht.\n",
    "\n",
    "Bereits vom Interpreter (Kernel) importierte Module werden normalerweise nicht nochmals importiert."
   ]
  },
  {
   "cell_type": "code",
   "execution_count": null,
   "metadata": {},
   "outputs": [],
   "source": [
    "import sys\n",
    "\n",
    "sys.path"
   ]
  },
  {
   "cell_type": "markdown",
   "metadata": {
    "slideshow": {
     "slide_type": "subslide"
    }
   },
   "source": [
    "Bitte importieren und verwenden Sie Module so:\n",
    "\n",
    "    import numpy\n",
    "    s = numpy.sin(a)\n",
    "    \n",
    "oder so\n",
    "    \n",
    "    import numpy as np\n",
    "    s = np.sin(a)\n",
    "    \n",
    "aber besser nicht so:\n",
    "\n",
    "    from numpy import sin\n",
    "    \n",
    "und schon gar nicht so:\n",
    "\n",
    "    from numpy import *\n",
    "    \n",
    "Frage: Begründung?"
   ]
  },
  {
   "cell_type": "markdown",
   "metadata": {
    "slideshow": {
     "slide_type": "slide"
    }
   },
   "source": [
    "# Übungsaufgaben bis zum 24.10. und 26.10.2023"
   ]
  },
  {
   "cell_type": "markdown",
   "metadata": {},
   "source": [
    "1. Gegeben sind die zweidimensionalen Koordinaten von N Punkten, also $((x_0, y_0), (x_1, y_1) \\dots (x_{N-1}, y_{N-1}))$. Gesucht ist der kürzeste Rundweg, der alle Punkte miteinander verbindet (Travelling Salesman Problem, TSP). Der kürzeste Rundweg soll zusammen\n",
    "mit den Punkt-Positionen grafisch ausgegeben werden.\n",
    "    1. Analysieren Sie die Problemstellung nach dem im ersten \n",
    "        Notebook gegebenen Schama.\n",
    "    1. Erstellen Sie eine Implementierung unter Verwendung\n",
    "        geeigneter Bausteine aus der Python-Standardbibliothek und\n",
    "        den bekannten Erweiterungen wie z.B. *matplotlib*. Das Ergebnis soll ein installierbares\n",
    "        Paket *tsp* inklusive Tests und html-Dokumentation sein.\n",
    "    1. Testen Sie Ihre Software **mit den ersten zehn Positionen** aus dem\n",
    "        unten angegebenen Tupel *staedte_positionen*.\n",
    "        **Musterlösung:** Die gesuchte Länge beträgt 3.32402248\n",
    "        \n",
    "1. Lesen sie die Aufgabenstellung zum Semesterprojekt genau durch und identifizieren Sie mindestens zwei Teilprobleme, die für die Lösung unabhängig von der gewählten Strategie gelöst werden müssen. Erklären Sie zunächst jeweils einen Algorithmus zur Lösung des Teilproblems und erstellen Sie eine Notebook-Zelle mit einer prototypischen Lösung in Python (vorzugsweise als Funktion)."
   ]
  },
  {
   "cell_type": "code",
   "execution_count": null,
   "metadata": {
    "ExecuteTime": {
     "end_time": "2020-10-19T09:12:36.780308Z",
     "start_time": "2020-10-19T09:12:36.730448Z"
    }
   },
   "outputs": [],
   "source": [
    "staedte_positionen = (\n",
    "    (0.010319427306382911, 0.8956251389386756),\n",
    "    (0.6999898714299346, 0.42254500074835377),\n",
    "    (0.4294574582950912, 0.4568408794115657),\n",
    "    (0.6005454852683483, 0.9295407203370832),\n",
    "    (0.9590226056623925, 0.581453646599427),\n",
    "    (0.748521134122647, 0.5437775417153159),\n",
    "    (0.7571232013282426, 0.606435031856663),\n",
    "    (0.07528757443413125, 0.07854082131763074),\n",
    "    (0.32346175150639334, 0.7291706487873425),\n",
    "    (0.012935451483722882, 0.974440252089956),\n",
    "    (0.7894689664351368, 0.8925464165283283),\n",
    "    (0.5017081207027582, 0.2323298297211428),\n",
    "    (0.5994368069089712, 0.006438246252584379),\n",
    "    (0.3471372841416518, 0.32362936726486546),\n",
    "    (0.9080568556459205, 0.5872162265716462),\n",
    "    (0.008216651916432838, 0.5605251786730867),\n",
    "    (0.12281649843134745, 0.778836327426156),\n",
    "    (0.9698199622470612, 0.9108771425774694),\n",
    "    (0.22977122891732482, 0.9692739885317619),\n",
    "    (0.8192293086323663, 0.5857981607663957),\n",
    "    (0.1422079724040628, 0.8147259475583606),\n",
    "    (0.6706795717064135, 0.591561956032189),\n",
    "    (0.15756919328106178, 0.6331745919782176),\n",
    "    (0.9932745190952539, 0.20429268341528184),\n",
    "    (0.21104352892679712, 0.8836996377783977),\n",
    "    (0.15162951778287448, 0.43829883402923786),\n",
    "    (0.1014198097226855, 0.5877946138306056),\n",
    "    (0.8961534561384676, 0.6498866051905969),\n",
    "    (0.02348788064910401, 0.2555771312427847),\n",
    "    (0.7629752603198586, 0.031097354437254032),\n",
    "    (0.9202799257088203, 0.8545409146117934),\n",
    "    (0.4740012769258859, 0.30554661789326976),\n",
    "    (0.9662984341217945, 0.24235140218349704),\n",
    "    (0.236385903920734, 0.8065137287975154),\n",
    "    (0.7509340695304845, 0.9276718423781918),\n",
    "    (0.891709366337186, 0.9691233497708065),\n",
    "    (0.45766675798331646, 0.3966074453757069),\n",
    "    (0.362463818656684, 0.629782983287922),\n",
    "    (0.3895828182648007, 0.11182372435220689),\n",
    "    (0.8007718207811885, 0.07083259575886258),\n",
    "    (0.9395297121272306, 0.003549829042441055),\n",
    "    (0.9990444201768337, 0.4816092706412669),\n",
    "    (0.806664037655748, 0.45636915118812094),\n",
    "    (0.7248316046403981, 0.4136143673445848),\n",
    "    (0.9797254747122175, 0.5348075095243779),\n",
    "    (0.832410347070477, 0.36236092065071435),\n",
    "    (0.17697174259486892, 0.09903555437885947),\n",
    "    (0.3320429025096797, 0.42538137689172295),\n",
    "    (0.010390541304141299, 0.3196764197089256),\n",
    "    (0.13647705960093703, 0.6166884292149969),\n",
    "    (0.7413967117502017, 0.6758731780971651),\n",
    "    (0.5057620560480408, 0.6176726900765315),\n",
    "    (0.811221033004999, 0.15436803010778977),\n",
    "    (0.5010541138760939, 0.35001152238091926),\n",
    "    (0.9413826105193199, 0.9418596542666187),\n",
    "    (0.891256361420491, 0.7886584654021789),\n",
    "    (0.3676445849723219, 0.9387145658378656),\n",
    "    (0.7976904766536591, 0.7297167662430665),\n",
    "    (0.5966826978617474, 0.29179542156826277),\n",
    "    (0.6209578021367281, 0.22193571777470145),\n",
    "    (0.8298034730084203, 0.5164834220744453),\n",
    "    (0.1974315640582841, 0.9764209254933037),\n",
    "    (0.3181560706032852, 0.9659291942205317),\n",
    "    (0.8665674546422951, 0.8281710981528015),\n",
    "    (0.341232980616892, 0.5707946637100852),\n",
    "    (0.8931358896561539, 0.40864805338293986),\n",
    "    (0.26644032823825714, 0.9989727471390323),\n",
    "    (0.3993087575662785, 0.009572468741341433),\n",
    "    (0.7385521851703551, 0.8947961501854975),\n",
    "    (0.3265958212912289, 0.12135269959328665),\n",
    "    (0.33657186037515696, 0.04678149607307802),\n",
    "    (0.6574688023519235, 0.14620381872693322),\n",
    "    (0.9232073321379433, 0.464399378682132),\n",
    "    (0.3350568606219765, 0.8140710044746052),\n",
    "    (0.43439242705535963, 0.6850627844635814),\n",
    "    (0.6748600302251079, 0.17179426903224415),\n",
    "    (0.3257145924815924, 0.17892361406234325),\n",
    "    (0.9843761318782708, 0.7246387654097534),\n",
    "    (0.3302488609623919, 0.5461838792803725),\n",
    "    (0.942182061647097, 0.271796972592925),\n",
    "    (0.7992439374549364, 0.3344916623897427),\n",
    "    (0.07722251160513627, 0.5998378921773792),\n",
    "    (0.9551490162437984, 0.99084148343811),\n",
    "    (0.2994585617190968, 0.8420506992016424),\n",
    "    (0.692980959785355, 0.832838090803397),\n",
    "    (0.31555831127132894, 0.06401272570899819),\n",
    "    (0.02665227648457802, 0.5242147042171419),\n",
    "    (0.1974784428862567, 0.9137326594564479),\n",
    "    (0.8486377116437235, 0.773093204292392),\n",
    "    (0.6588651068050204, 0.6191834372968826),\n",
    "    (0.9294759207447961, 0.04471010558595201),\n",
    "    (0.9407045003182903, 0.7240803846820537),\n",
    "    (0.6814942236797052, 0.6579517970003296),\n",
    "    (0.2956248273119104, 0.4141031496785965),\n",
    "    (0.729642956744248, 0.18897087844791205),\n",
    "    (0.6092213719795501, 0.12514914017649392),\n",
    "    (0.7431271140678826, 0.12660475585183406),\n",
    "    (0.9023640654012873, 0.21133242457776658),\n",
    "    (0.3513947221768753, 0.10988741056845952),\n",
    "    (0.7560785506387285, 0.1994584377393509),\n",
    ")"
   ]
  },
  {
   "cell_type": "code",
   "execution_count": null,
   "metadata": {
    "ExecuteTime": {
     "end_time": "2020-10-19T09:12:39.714417Z",
     "start_time": "2020-10-19T09:12:39.333515Z"
    }
   },
   "outputs": [],
   "source": [
    "# Hilfestellung, das ist sicher nicht der kürzeste Rundweg ...\n",
    "import numpy as np\n",
    "import matplotlib.pyplot as plt\n",
    "%matplotlib ipympl\n",
    "rundweg_array = np.array(staedte_positionen[:10] + staedte_positionen[:1])\n",
    "print(f'array_shape: {rundweg_array.shape}')\n",
    "ax = plt.figure().add_subplot(111)\n",
    "ax.plot(rundweg_array[0, 0], rundweg_array[0, 1], 'ro')\n",
    "ax.plot(rundweg_array[1:-1, 0], rundweg_array[1:-1, 1], 'bo')\n",
    "ax.plot(rundweg_array[:, 0], rundweg_array[:, 1], 'g-')"
   ]
  }
 ],
 "metadata": {
  "celltoolbar": "Slideshow",
  "kernelspec": {
   "display_name": "Python 3 (ipykernel)",
   "language": "python",
   "name": "python3"
  },
  "language_info": {
   "codemirror_mode": {
    "name": "ipython",
    "version": 3
   },
   "file_extension": ".py",
   "mimetype": "text/x-python",
   "name": "python",
   "nbconvert_exporter": "python",
   "pygments_lexer": "ipython3",
   "version": "3.11.6"
  },
  "latex_envs": {
   "LaTeX_envs_menu_present": true,
   "autoclose": false,
   "autocomplete": true,
   "bibliofile": "biblio.bib",
   "cite_by": "apalike",
   "current_citInitial": 1,
   "eqLabelWithNumbers": true,
   "eqNumInitial": 1,
   "hotkeys": {
    "equation": "Ctrl-E",
    "itemize": "Ctrl-I"
   },
   "labels_anchors": false,
   "latex_user_defs": false,
   "report_style_numbering": false,
   "user_envs_cfg": false
  },
  "toc": {
   "base_numbering": 1,
   "nav_menu": {},
   "number_sections": true,
   "sideBar": true,
   "skip_h1_title": false,
   "title_cell": "Table of Contents",
   "title_sidebar": "Contents",
   "toc_cell": false,
   "toc_position": {
    "height": "calc(100% - 180px)",
    "left": "10px",
    "top": "150px",
    "width": "320px"
   },
   "toc_section_display": true,
   "toc_window_display": false
  },
  "varInspector": {
   "cols": {
    "lenName": 16,
    "lenType": 16,
    "lenVar": 40
   },
   "kernels_config": {
    "python": {
     "delete_cmd_postfix": "",
     "delete_cmd_prefix": "del ",
     "library": "var_list.py",
     "varRefreshCmd": "print(var_dic_list())"
    },
    "r": {
     "delete_cmd_postfix": ") ",
     "delete_cmd_prefix": "rm(",
     "library": "var_list.r",
     "varRefreshCmd": "cat(var_dic_list()) "
    }
   },
   "types_to_exclude": [
    "module",
    "function",
    "builtin_function_or_method",
    "instance",
    "_Feature"
   ],
   "window_display": false
  }
 },
 "nbformat": 4,
 "nbformat_minor": 4
}
