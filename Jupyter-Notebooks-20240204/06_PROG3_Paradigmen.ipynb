{
 "cells": [
  {
   "cell_type": "markdown",
   "metadata": {
    "slideshow": {
     "slide_type": "slide"
    }
   },
   "source": [
    "Programmieren 3 - Programmierparadigmen\n",
    "\n",
    "Peter Rösch, Fakultät für Informatik \n",
    "\n",
    "Hochschule Augsburg, 2023/2024"
   ]
  },
  {
   "cell_type": "code",
   "execution_count": null,
   "metadata": {
    "ExecuteTime": {
     "end_time": "2019-11-09T20:13:53.902357Z",
     "start_time": "2019-11-09T20:13:53.705248Z"
    },
    "slideshow": {
     "slide_type": "subslide"
    }
   },
   "outputs": [],
   "source": [
    "import numpy as np\n",
    "import matplotlib.pyplot as plt\n",
    "%matplotlib notebook"
   ]
  },
  {
   "cell_type": "markdown",
   "metadata": {
    "slideshow": {
     "slide_type": "slide"
    }
   },
   "source": [
    "# Nachträge und Ergänzungen"
   ]
  },
  {
   "cell_type": "markdown",
   "metadata": {
    "slideshow": {
     "slide_type": "subslide"
    }
   },
   "source": [
    "## Verwendung von *enumerate* mit slicing"
   ]
  },
  {
   "cell_type": "code",
   "execution_count": null,
   "metadata": {},
   "outputs": [],
   "source": [
    "l = ['Sonne', 'Merkur', 'Venus']\n",
    "for i1, p1 in enumerate(l):\n",
    "    for i2, p2 in enumerate(l[1:]):\n",
    "        if i1 != i2:\n",
    "            print(f'{p1} != {p2}')\n",
    "        else:\n",
    "            print(f'{p1} == {p2}')"
   ]
  },
  {
   "cell_type": "code",
   "execution_count": null,
   "metadata": {},
   "outputs": [],
   "source": [
    "for i1, p1 in enumerate(l):\n",
    "    for i2, p2 in enumerate(l[1:]):\n",
    "        if p1 is not p2:\n",
    "            print(f'{p1} != {p2}')\n",
    "        else:\n",
    "            print(f'{p1} == {p2}')"
   ]
  },
  {
   "cell_type": "markdown",
   "metadata": {
    "slideshow": {
     "slide_type": "subslide"
    }
   },
   "source": [
    "## TSP - Dynamische Programmierung"
   ]
  },
  {
   "cell_type": "markdown",
   "metadata": {},
   "source": [
    "Gibt es Fragen zum Inhalt des Notebooks *TSP_dynamisch.ipynb*?"
   ]
  },
  {
   "cell_type": "markdown",
   "metadata": {
    "slideshow": {
     "slide_type": "slide"
    }
   },
   "source": [
    "# Programmierparadigmen-Einführung"
   ]
  },
  {
   "cell_type": "markdown",
   "metadata": {},
   "source": [
    "Laut Brockhaus ist ein Paradigma ein *Beispiel, Muster* und ein Programmierparadigma ist \"das grundlegende Konzept, das einer Programmiermethodik beziehungsweise einer Programmiersprache zugrunde liegt\".\n",
    "\n",
    "Es gibt unterschiedliche Meinungen darüber, welche Programmierparadigmen es eigentlich gibt. So ist auch der entsprechende [Wikipedia-Artikel](http://de.wikipedia.org/wiki/Programmierparadigma) eher unübersichtlich."
   ]
  },
  {
   "cell_type": "markdown",
   "metadata": {
    "slideshow": {
     "slide_type": "subslide"
    }
   },
   "source": [
    "Die [Enzyklopädie der Wirtschaftsinformatik](http://www.enzyklopaedie-der-wirtschaftsinformatik.de/wi-enzyklopaedie/lexikon/technologien-methoden/Sprache/Programmiersprache/Paradigma) bezeichnet die folgenden vier Paradigmen als grundlegend:\n",
    "\n",
    "* Logische Programmierung\n",
    "* Funktionale Programmierung\n",
    "* Imperative Programmierung\n",
    "* Objektorientierte Programmierung"
   ]
  },
  {
   "cell_type": "markdown",
   "metadata": {
    "slideshow": {
     "slide_type": "subslide"
    }
   },
   "source": [
    "[Andere Darstellungen](http://de.wikipedia.org/wiki/Prozedurale_Programmierung) ordnen die objektorientierte Programmierung der imperativen Programmierung zu und nehmen folgende Klassifikation vor:\n",
    "\n",
    "* Deklarative Programmierung\n",
    "    * Logische Programmierung\n",
    "    * Funktionale Programmierung\n",
    "* Imperative Programmierung\n",
    "    * Prozedurale Programmeriung\n",
    "    * Objektorientierte Programmierung"
   ]
  },
  {
   "cell_type": "markdown",
   "metadata": {
    "slideshow": {
     "slide_type": "subslide"
    }
   },
   "source": [
    "Bis auf die logische Programmierung können alle gennante Paradigmen ohne Zusatzpakete mit Python umgesetzt werden. \n",
    "\n",
    "Jupyter Notebooks unterstützen ansatzweise die [literate Programmierung](http://de.wikipedia.org/wiki/Literate_programming). Die logische Programmierung in Python ist mit dem Paket [pydatalog](https://sites.google.com/site/pydatalog) möglich."
   ]
  },
  {
   "cell_type": "markdown",
   "metadata": {
    "slideshow": {
     "slide_type": "slide"
    }
   },
   "source": [
    "## Logische Programmierung"
   ]
  },
  {
   "cell_type": "markdown",
   "metadata": {},
   "source": [
    "Die Quelle zu diesem Abschnitt finden Sie [hier](http://www.enzyklopaedie-der-wirtschaftsinformatik.de/wi-enzyklopaedie/lexikon/technologien-methoden/Sprache/Programmiersprache/Paradigma).\n",
    "\n",
    "Ein wichtiger Vertreter der Programmiersprachen, die logische Programmierung unterstützen, ist [Prolog](http://www.cse.unsw.edu.au/~billw/cs9414/notes/prolog/intro.html). Es wird nicht der *Weg* beschrieben, wie ein Problem gelöst wird, sondern es werden die Eigenschaften beschrieben, die eine Lösung erfüllen muß (deklarative Programmierung). Antworten werden durch systematisches Ausprobieren gefunden."
   ]
  },
  {
   "cell_type": "markdown",
   "metadata": {
    "slideshow": {
     "slide_type": "subslide"
    }
   },
   "source": [
    "Aus dem Inhalt der folgenden Zelle kann das Prolog-System zum Beispiel die Frage beantworten, ob *adam* der *grossvater* von *ulrike* ist. Das Beispiel stammt von [hier](http://de.wikipedia.org/wiki/Prolog_%28Programmiersprache%29)."
   ]
  },
  {
   "cell_type": "code",
   "execution_count": null,
   "metadata": {
    "ExecuteTime": {
     "end_time": "2019-11-09T20:14:18.791680Z",
     "start_time": "2019-11-09T20:14:18.787730Z"
    },
    "slideshow": {
     "slide_type": "subslide"
    }
   },
   "outputs": [],
   "source": [
    "%%file /tmp/familie.pl\n",
    "mann(adam).\n",
    "mann(tobias).\n",
    "mann(frank).\n",
    "frau(eva).\n",
    "frau(daniela).\n",
    "frau(ulrike).\n",
    "vater(adam,tobias).\n",
    "vater(tobias,frank).\n",
    "vater(tobias,ulrike).\n",
    "mutter(eva,tobias).\n",
    "mutter(daniela,frank).\n",
    "mutter(daniela,ulrike).\n",
    "ehepaar(daniela, tobias).\n",
    "ehepaar(eva, adam).\n",
    "ehepaar(X, Y) :- ehepaar(Y, X).\n",
    "grossvater(X, Y) :- vater(X,Z), vater(Z,Y).\n",
    "grossvater(X, Y) :- vater(X,Z), mutter(Z,Y)."
   ]
  },
  {
   "cell_type": "markdown",
   "metadata": {
    "slideshow": {
     "slide_type": "subslide"
    }
   },
   "source": [
    "    grossvater(X, Y) :- vater(X,Z), vater(Z,Y).\n",
    "    grossvater(X, Y) :- vater(X,Z), mutter(Z,Y)."
   ]
  },
  {
   "cell_type": "markdown",
   "metadata": {},
   "source": [
    "Hier wird der [Regeloperator](http://de.wikipedia.org/wiki/Prolog_%28Programmiersprache%29) angewendet, d.h. \n",
    "\n",
    "X ist der Großvater von Y, wenn es ein Z gibt, so dass X der Vater von Z ist und Z Mutter oder Vater von Y ist."
   ]
  },
  {
   "cell_type": "markdown",
   "metadata": {
    "slideshow": {
     "slide_type": "subslide"
    }
   },
   "source": [
    "### Logische Programmierung - Demo"
   ]
  },
  {
   "cell_type": "markdown",
   "metadata": {
    "slideshow": {
     "slide_type": "subslide"
    }
   },
   "source": [
    "1. Führen Sie die oben gegebene Zelle aus, so dass die Datei \"/tmp/familie.pl\" entsteht.\n",
    "1. Geben Sie in einem Terminal (M2.02 oder VirtualBox) diese Befehle ein \n",
    "        swipl\n",
    "        ['familie.pl'].\n",
    "        listing.\n",
    "        grossvater(adam, ulrike).\n",
    "        halt.\n",
    "    (Punkte am Zeilende nicht vergessen ...) und führen Sie eigene Experimente durch.\n",
    "1. Ergänzen Sie das Prolog-Programm, so dass überprüft werden kann, ob *eva* die *grossmutter* von *frank* ist."
   ]
  },
  {
   "cell_type": "markdown",
   "metadata": {
    "slideshow": {
     "slide_type": "subslide"
    }
   },
   "source": [
    "    # Ausgabe im Terminal (ohne listing.):\n",
    "    ?- ['familie.pl'].\n",
    "    % familie.pl compiled 0.00 sec, 4,232 bytes\n",
    "    true.\n",
    "    ?- grossvater(adam, ulrike).\n",
    "    true .\n",
    "    halt."
   ]
  },
  {
   "cell_type": "markdown",
   "metadata": {
    "slideshow": {
     "slide_type": "slide"
    }
   },
   "source": [
    "## Literate Programmierung"
   ]
  },
  {
   "cell_type": "markdown",
   "metadata": {},
   "source": [
    "Diese Methode wurde von [Donald E. Knuth](https://en.wikipedia.org/wiki/Donald_Knuth#The_Art_of_Computer_Programming_.28TAOCP.29), dem Autor von $\\TeX$ eingeführt. Eine Einführung in die Grundideen findet sich [hier](https://de.wikipedia.org/wiki/Literate_programming). "
   ]
  },
  {
   "cell_type": "markdown",
   "metadata": {
    "slideshow": {
     "slide_type": "subslide"
    }
   },
   "source": [
    "Der [Wikipedia-Artikel](https://de.wikipedia.org/wiki/Literate_programming) betont, dass die Lesbarkeit des Computerprogramms für Menschen im Vordergrund steht und dass sich Source-Code und Dokumentation in einem Dokument befinden. D. Knuth hat spezielle Werkzeuge entwickelt, die den Code von der Dokumentation trennen und dann übersetzen. Der englische [Wikipedia-Artikel](http://en.wikipedia.org/wiki/Literate_programming) enthält das folgende Beispiel:\n",
    "    \n",
    "    "
   ]
  },
  {
   "cell_type": "raw",
   "metadata": {
    "slideshow": {
     "slide_type": "subslide"
    }
   },
   "source": [
    "The purpose of wc is to count lines, words, and/or characters in a list of files. The number of lines in a file is ......../more explanations/\n",
    "\n",
    "Here, then, is an overview of the file wc.c that is defined by the noweb program wc.nw:\n",
    "    <<*>>=\n",
    "    <<Header files to include>>\n",
    "    <<Definitions>>\n",
    "    <<Global variables>>\n",
    "    <<Functions>>\n",
    "    <<The main program>>\n",
    "    @\n",
    " \n",
    "We must include the standard I/O definitions, since we want to send formatted output\n",
    "to stdout and stderr.\n",
    "    <<Header files to include>>=\n",
    "    #include <stdio.h>\n",
    "    @"
   ]
  },
  {
   "cell_type": "markdown",
   "metadata": {
    "slideshow": {
     "slide_type": "subslide"
    }
   },
   "source": [
    "        \n",
    "Wie zu erkennen ist, werden die Werkzeuge *noweb* verwendet, um z.B. den Platzhalter\n",
    "\n",
    "    <<Header files to include>> \n",
    "\n",
    "durch den C-Code \n",
    "\n",
    "    #include <stdio.h>\n",
    "\n",
    "zu ersetzen."
   ]
  },
  {
   "cell_type": "markdown",
   "metadata": {
    "slideshow": {
     "slide_type": "subslide"
    }
   },
   "source": [
    "### Literate Programmierung-Fragen"
   ]
  },
  {
   "cell_type": "markdown",
   "metadata": {},
   "source": [
    "1. Welche Vorteile bietet die literate Programmierung?\n",
    "1. Welche Funktionalität des Jupyter Notebooks kann dafür eingesetzt werden, um den Code für Menschen besser verständlich zu machen?\n",
    "1. Wo kann diese Methode aus Ihrer Sicht sinnvoll angewendet werden?"
   ]
  },
  {
   "cell_type": "markdown",
   "metadata": {
    "slideshow": {
     "slide_type": "slide"
    }
   },
   "source": [
    "# Imperative Programmierung"
   ]
  },
  {
   "cell_type": "markdown",
   "metadata": {},
   "source": [
    "Prof. Dr. Uwe Kastens schreibt in der [Enzyklopädie der Wirtschaftsinformatik](http://www.enzyklopaedie-der-wirtschaftsinformatik.de/wi-enzyklopaedie/lexikon/technologien-methoden/Sprache/Programmiersprache/Paradigma):\n",
    "\n",
    ">Ein Prozessor führt eine verzweigte Folge von Instruktionen aus, die Daten im Speicher verändern. ... Parametrisierte Funktionen werden verwendet, um  Berechnungen zu abstrahieren und an verschiedenen Stellen im Programm aufzurufen. ... Die meisten objektorientierten Sprachen bauen auf den Konstrukten der imperativen Sprachen auf."
   ]
  },
  {
   "cell_type": "markdown",
   "metadata": {
    "slideshow": {
     "slide_type": "subslide"
    }
   },
   "source": [
    "Python erlaubt sowohl die direkte Ausführung von Befehlen im Interpreter oder aus Skripten als auch die Definition von Funktionen und Modulen zur Strukturierung der Funktionalität."
   ]
  },
  {
   "cell_type": "markdown",
   "metadata": {
    "slideshow": {
     "slide_type": "subslide"
    }
   },
   "source": [
    "## Zuweisungen"
   ]
  },
  {
   "cell_type": "markdown",
   "metadata": {},
   "source": [
    "Im [Python-Tutorial](http://docs.python.org/3.2/tutorial/classes.html) heißt es:\n",
    "\n",
    "Assignments do not copy data, they just bind names to objects.\n",
    "\n",
    "Durch eine Zuweisung werden also keine Objekte verändert, sondern es werden neue *Verknüpfungen* geschaffen. Insbesondere [gilt](http://www.spontaneoussymmetry.com/blog/archives/438):\n",
    "\n",
    "Eine Zuweisung kann niemals das ändern, was rechts vom Gleichheitszeichen steht.\n",
    "    \n",
    "Daraus ergeben sich Folgerungen, die anfänglich verwirrend wirken."
   ]
  },
  {
   "cell_type": "markdown",
   "metadata": {
    "slideshow": {
     "slide_type": "subslide"
    }
   },
   "source": [
    "Es gibt es in Python unveränderliche (immutable) Objekte wie *int, float, bool, string, tuple und frozenset* sowie veränderliche (mutable) Objekte wie *list, dict und set*.  "
   ]
  },
  {
   "cell_type": "code",
   "execution_count": null,
   "metadata": {
    "ExecuteTime": {
     "end_time": "2019-11-09T20:14:49.798976Z",
     "start_time": "2019-11-09T20:14:49.790943Z"
    },
    "slideshow": {
     "slide_type": "subslide"
    }
   },
   "outputs": [],
   "source": [
    "a = 32\n",
    "b = a\n",
    "print(f'{a == b = }')\n",
    "print(f'{a is b = }')\n",
    "b = b + 10\n",
    "print(f'{b = }')\n",
    "print(f'{a == b = }')\n",
    "c = 32\n",
    "print(f'{c is a = }')"
   ]
  },
  {
   "cell_type": "code",
   "execution_count": null,
   "metadata": {
    "ExecuteTime": {
     "end_time": "2019-11-09T20:14:50.474968Z",
     "start_time": "2019-11-09T20:14:50.467598Z"
    },
    "slideshow": {
     "slide_type": "subslide"
    }
   },
   "outputs": [],
   "source": [
    "la = [1, 2]\n",
    "lb = la\n",
    "print(f'{la == lb = }')\n",
    "print(f'{la is lb = }')\n",
    "lb.append(3)\n",
    "print('-- append')\n",
    "print(f'{la = }')\n",
    "print(f'{la == lb = }')\n",
    "print(f'{la is lb = }')"
   ]
  },
  {
   "cell_type": "code",
   "execution_count": null,
   "metadata": {
    "ExecuteTime": {
     "end_time": "2019-11-09T20:14:50.802305Z",
     "start_time": "2019-11-09T20:14:50.795155Z"
    },
    "slideshow": {
     "slide_type": "subslide"
    }
   },
   "outputs": [],
   "source": [
    "la = la + [4]\n",
    "print('-- add')\n",
    "print(f'{la = }')\n",
    "print(f'{lb = }')\n",
    "lc = [1, 2, 3, 4]\n",
    "print('-- lc')\n",
    "print(f'{la == lc = }')\n",
    "print(f'{la is lc = }')"
   ]
  },
  {
   "cell_type": "code",
   "execution_count": null,
   "metadata": {
    "ExecuteTime": {
     "end_time": "2019-11-09T20:14:55.059091Z",
     "start_time": "2019-11-09T20:14:55.050464Z"
    },
    "slideshow": {
     "slide_type": "subslide"
    }
   },
   "outputs": [],
   "source": [
    "s1 = 'einString'\n",
    "s2 = 'einString'\n",
    "print(f'{s1 is s2 = }')\n",
    "s2 = s2 + '!!'\n",
    "print(f'{s1 = }')\n",
    "print(f'{s2 = }')\n",
    "s3 = s1\n",
    "print(f'{s1 is s3 = }')\n",
    "s1 += ' geändert'\n",
    "print(f'{s1 = }')\n",
    "print(f'{s3 = }')"
   ]
  },
  {
   "cell_type": "markdown",
   "metadata": {
    "slideshow": {
     "slide_type": "slide"
    }
   },
   "source": [
    "## Funktions-Parameter"
   ]
  },
  {
   "cell_type": "markdown",
   "metadata": {},
   "source": [
    "Auch bei Funktions-Parametern müssen die Prinzipien aus dem vorhergehenden Abschnitt beachtet werden:"
   ]
  },
  {
   "cell_type": "code",
   "execution_count": null,
   "metadata": {
    "ExecuteTime": {
     "end_time": "2019-11-09T20:15:00.795028Z",
     "start_time": "2019-11-09T20:15:00.788098Z"
    },
    "slideshow": {
     "slide_type": "subslide"
    }
   },
   "outputs": [],
   "source": [
    "def list_f1(l: list) -> None:\n",
    "    l.append(\"das kommt von list_f1\")\n",
    "\n",
    "\n",
    "def list_f2(l: list) -> None:\n",
    "    l = l + [\"das kommt von list_f2\"]\n",
    "\n",
    "\n",
    "l1 = [1, 2, 3]\n",
    "l2 = l1[:]\n",
    "list_f1(l1)\n",
    "print(f\"{l1 = }\")\n",
    "list_f2(l2)\n",
    "print(f\"{l2 = }\")"
   ]
  },
  {
   "cell_type": "code",
   "execution_count": null,
   "metadata": {
    "ExecuteTime": {
     "end_time": "2019-11-09T20:15:26.284852Z",
     "start_time": "2019-11-09T20:15:26.280125Z"
    },
    "slideshow": {
     "slide_type": "subslide"
    }
   },
   "outputs": [],
   "source": [
    "# vorsicht bei leeren Listen als Default-Parametern\n",
    "def add_an_element_wrong(entry: str, l: list = []) -> None:\n",
    "    l.append(entry)\n",
    "    print(f\"l: {l}\")\n",
    "\n",
    "\n",
    "add_an_element_wrong(\"new_element\")\n",
    "add_an_element_wrong(\"another_element\")"
   ]
  },
  {
   "cell_type": "markdown",
   "metadata": {
    "slideshow": {
     "slide_type": "fragment"
    }
   },
   "source": [
    "Frage: Wo ist das Problem"
   ]
  },
  {
   "cell_type": "code",
   "execution_count": null,
   "metadata": {
    "ExecuteTime": {
     "end_time": "2019-11-09T20:20:10.213395Z",
     "start_time": "2019-11-09T20:20:10.208177Z"
    },
    "slideshow": {
     "slide_type": "subslide"
    }
   },
   "outputs": [],
   "source": [
    "# Veränderbare Objekte (Listen, Strings, ...) sollten den\n",
    "# Default-Wert None erhalten\n",
    "# vorsicht bei leeren Listen als Default-Parametern\n",
    "# siehe https://docs.python-guide.org/writing/gotchas/\n",
    "\n",
    "def add_an_element_correct(entry: str, l: list = None):\n",
    "    if l is None:\n",
    "        l = []\n",
    "    l.append(entry)\n",
    "    print(f'l: {l}')\n",
    "\n",
    "\n",
    "add_an_element_correct('new_element')\n",
    "add_an_element_correct('another_element')"
   ]
  },
  {
   "cell_type": "markdown",
   "metadata": {
    "slideshow": {
     "slide_type": "fragment"
    }
   },
   "source": [
    "Ausdrücke, die Default-Werte angeben, werden **bei der Definition der Funktion einmal** ausgewertet und das entstandene Objekt wird an den Namen des Arguments gebunden, siehe [python-guide.org](https://docs.python-guide.org/writing/gotchas)."
   ]
  },
  {
   "cell_type": "markdown",
   "metadata": {
    "slideshow": {
     "slide_type": "subslide"
    }
   },
   "source": [
    "## Gültigkeitsbereiche"
   ]
  },
  {
   "cell_type": "code",
   "execution_count": null,
   "metadata": {
    "ExecuteTime": {
     "end_time": "2019-11-09T20:20:57.751043Z",
     "start_time": "2019-11-09T20:20:57.745757Z"
    },
    "slideshow": {
     "slide_type": "subslide"
    }
   },
   "outputs": [],
   "source": [
    "a = 33\n",
    "def f1():\n",
    "    a=44\n",
    "    return a + 2\n",
    "def f2():\n",
    "    global a\n",
    "    a = a + 2\n",
    "    return a\n",
    "print(f'{a, f1(), a = }')\n",
    "print(f'{a, f2(), a = }')"
   ]
  },
  {
   "cell_type": "code",
   "execution_count": null,
   "metadata": {
    "ExecuteTime": {
     "end_time": "2019-11-09T20:20:57.900967Z",
     "start_time": "2019-11-09T20:20:57.895696Z"
    },
    "slideshow": {
     "slide_type": "subslide"
    }
   },
   "outputs": [],
   "source": [
    "# nonlocal. \n",
    "a = 33\n",
    "def f1():\n",
    "    def f2():\n",
    "        #global a\n",
    "        nonlocal a\n",
    "        a = a + 2\n",
    "    a=44\n",
    "    f2()\n",
    "    return a\n",
    "print(f'{a, f1(), a = }')"
   ]
  },
  {
   "cell_type": "markdown",
   "metadata": {
    "slideshow": {
     "slide_type": "fragment"
    }
   },
   "source": [
    "Sollte man Ihrer Meinung nach *nonlocal* verwenden oder eher vermeiden?"
   ]
  },
  {
   "cell_type": "markdown",
   "metadata": {
    "slideshow": {
     "slide_type": "slide"
    }
   },
   "source": [
    "## Module"
   ]
  },
  {
   "cell_type": "code",
   "execution_count": null,
   "metadata": {
    "ExecuteTime": {
     "end_time": "2019-11-09T20:21:00.242538Z",
     "start_time": "2019-11-09T20:21:00.238836Z"
    },
    "slideshow": {
     "slide_type": "subslide"
    }
   },
   "outputs": [],
   "source": [
    "%%file /tmp/my_module.py\n",
    "\n",
    "\"\"\" Dieses Modul dient als Beispiel fuer \n",
    "    die Lehrveranstaltung Programmieren 3 \"\"\"\n",
    "\n",
    "inkrement = 1\n",
    "\n",
    "def eineFunktion(x: int) -> int:\n",
    "    \"\"\" Diese Funktion berechnet x + inkrement\n",
    "        Args: x Die zu inkrementierende Zahl\n",
    "        Return: x + inkrement\n",
    "    \"\"\"\n",
    "    return x + inkrement\n",
    "\n",
    "if __name__ == '__main__':\n",
    "    print('das ist das Beispiel-Modul')\n",
    "    print('eineFunktion(3):', eineFunktion(3))\n",
    "else:\n",
    "    print('\\nModul wurde importiert\\n')"
   ]
  },
  {
   "cell_type": "code",
   "execution_count": null,
   "metadata": {
    "ExecuteTime": {
     "end_time": "2019-11-09T20:21:05.322912Z",
     "start_time": "2019-11-09T20:21:05.310315Z"
    },
    "slideshow": {
     "slide_type": "subslide"
    }
   },
   "outputs": [],
   "source": [
    "import sys\n",
    "\n",
    "sys.path.append(\"/tmp\")\n",
    "inkrement = 33\n",
    "import my_module\n",
    "\n",
    "print(f\"{my_module.inkrement, inkrement = }\")\n",
    "from my_module import inkrement\n",
    "\n",
    "print(f\"{my_module.inkrement, inkrement = }\")\n",
    "print(f\"{my_module.eineFunktion(38) = }\")\n",
    "help(my_module)\n",
    "dir(my_module)"
   ]
  },
  {
   "cell_type": "code",
   "execution_count": null,
   "metadata": {
    "ExecuteTime": {
     "end_time": "2019-11-09T20:21:23.014693Z",
     "start_time": "2019-11-09T20:21:23.010313Z"
    },
    "slideshow": {
     "slide_type": "subslide"
    }
   },
   "outputs": [],
   "source": [
    "%run /tmp/my_module.py"
   ]
  },
  {
   "cell_type": "markdown",
   "metadata": {
    "slideshow": {
     "slide_type": "subslide"
    }
   },
   "source": [
    "## Numpy-Arrays"
   ]
  },
  {
   "cell_type": "code",
   "execution_count": null,
   "metadata": {},
   "outputs": [],
   "source": [
    "n_array = np.array([1,2,3,4,5,6], dtype=np.float64)"
   ]
  },
  {
   "cell_type": "code",
   "execution_count": null,
   "metadata": {},
   "outputs": [],
   "source": [
    "# low level eigenschaften\n",
    "n_array.flags"
   ]
  },
  {
   "cell_type": "code",
   "execution_count": null,
   "metadata": {
    "slideshow": {
     "slide_type": "subslide"
    }
   },
   "outputs": [],
   "source": [
    "# andere Sicht auf die Daten von n_array\n",
    "n_array_ausschnitt = n_array[3:5] \n",
    "# deep copy: n_a|rray_ausschnitt = n_array[3:5].copy()\n",
    "print(n_array_ausschnitt)\n",
    "n_array_ausschnitt.flags"
   ]
  },
  {
   "cell_type": "code",
   "execution_count": null,
   "metadata": {
    "slideshow": {
     "slide_type": "slide"
    }
   },
   "outputs": [],
   "source": [
    "# Vorsicht: Hier wird a_array geändert\n",
    "n_array_ausschnitt[0]=33.4\n",
    "print(n_array)"
   ]
  },
  {
   "cell_type": "markdown",
   "metadata": {
    "slideshow": {
     "slide_type": "slide"
    }
   },
   "source": [
    "# Funktionale Programmierung"
   ]
  },
  {
   "cell_type": "markdown",
   "metadata": {},
   "source": [
    "Im Gegensatz zur imperativen Programmierung wird bei der funktionalen Programmierung kein Ablauf mit Verzweigungen, Zuweisungen etc. formuliert, sondern das Problem wird anhand von Funktionen beschrieben."
   ]
  },
  {
   "cell_type": "markdown",
   "metadata": {
    "slideshow": {
     "slide_type": "subslide"
    }
   },
   "source": [
    "In ihrer reinen Form unterstützt die funktionale Programmierung keine Zustandsvariablen, d.h. der Rückgabewerte einer Funktion hängt *nur* von den übergebenen Parametern ab, nicht jedoch von der \"Vorgeschichte\" der Anwendung. Dieser Verzicht auf einen \"Zustand\" (oder auf \"Nebeneffekte\") erschwert z.B. den Umgang mit Benutzer-Eingaben immens (warum?), so dass rein funktionale Sprachen auf Hilfskonstrukte zurückgreifen müssen, um Ein- Ausgabe-Operationen zu ermöglichen. Eine ausführlichere Diskussion findet sich im entsprechenden [Wikipedia-Artikel](http://de.wikipedia.org/wiki/Funktionale_Programmierung)."
   ]
  },
  {
   "cell_type": "markdown",
   "metadata": {
    "slideshow": {
     "slide_type": "subslide"
    }
   },
   "source": [
    "Python als multi-Paradigmensprache erlaubt die Verwendung von Konstrukten aus der Funktonalen Programmierung, wie in [diesem HOWTO](https://docs.python.org/3.10/howto/functional.html) nachzulesen ist. Im Gegensatz zu den rein funktionalen Sprachen kann man jedoch in Python für jeden Teil der Anwendung das passende Paradigma verwenden und ist nicht dazu gezwungen, die \"reine Lehre\" so zu verbiegen, dass relevante Aufgabenstellungen (wie z.B. die Interaktion mit einem Benutzer) gelöst werden können. Die folgende Diskussion konzentriert sich auf die Sprache Python, wobei viele der folgenden Beispiele aus dem schon erwähnten [HOWTO](https://docs.python.org/3.10/howto/functional.html) stammen."
   ]
  },
  {
   "cell_type": "markdown",
   "metadata": {
    "slideshow": {
     "slide_type": "subslide"
    }
   },
   "source": [
    "## Rekursion statt Schleifen"
   ]
  },
  {
   "cell_type": "markdown",
   "metadata": {},
   "source": [
    "Klassische Schleifen sind mit Zuweisungen an lokale Variablen verbunden und haben daher Nebeneffekte. Daher werden in der funktionalen Programmierung Schleifen durch Rekursion ersetzt. Als weiteres Beispiel für rekursive Funktionen wird hier der quicksort-Algorithmus wiederholt:"
   ]
  },
  {
   "cell_type": "code",
   "execution_count": null,
   "metadata": {
    "ExecuteTime": {
     "end_time": "2019-11-09T20:22:24.063076Z",
     "start_time": "2019-11-09T20:22:24.054655Z"
    },
    "slideshow": {
     "slide_type": "subslide"
    }
   },
   "outputs": [],
   "source": [
    "# quicksort rekursiv und generisch in Python\n",
    "\n",
    "\n",
    "def qsort(l: list[int | float | str]) -> list[int | float | str]:\n",
    "    if len(l) <= 1:\n",
    "        return l\n",
    "    else:\n",
    "        return (\n",
    "            qsort([x for x in l[1:] if x < l[0]])\n",
    "            + [l[0]]\n",
    "            + qsort([y for y in l[1:] if y >= l[0]])\n",
    "        )\n",
    "\n",
    "\n",
    "if __name__ == \"__main__\":\n",
    "    print(f\"{qsort([11, 3, 88, -9, 22, -113]) = }\")\n",
    "    print(f\"{qsort([1.4, 1e30, -1.3e17, 2.11]) = }\")\n",
    "    print(f\"{qsort([ 'Birne', 'Apfel', 'Kiwi' ]) = }\")"
   ]
  },
  {
   "cell_type": "code",
   "execution_count": null,
   "metadata": {
    "ExecuteTime": {
     "end_time": "2019-11-09T20:22:24.219598Z",
     "start_time": "2019-11-09T20:22:24.215626Z"
    },
    "slideshow": {
     "slide_type": "subslide"
    }
   },
   "outputs": [],
   "source": [
    "%%file /tmp/QuickSort.java \n",
    "/* QuickSort rekursiv und generisch in Java\n",
    "    Quelle: http://en.literateprograms.org/Quicksort_(Java) */\n",
    "\n",
    "public class QuickSort {\n",
    "\n",
    "    static <T extends Comparable<? super T>> void quicksort(T[] array) {\n",
    "        quicksort(array, 0, array.length - 1);\n",
    "    }\n",
    "\n",
    "    static <T extends Comparable<? super T>> void quicksort(T[] array,\n",
    "            int left0, int right0) {\n",
    "        int left, right;\n",
    "        T pivot, temp;\n",
    "        left = left0;\n",
    "        right = right0 + 1;\n",
    "\n",
    "        pivot = array[left0];\n",
    "        do {\n",
    "            do\n",
    "                left++;\n",
    "            while (left <= right0 && array[left].compareTo(pivot) < 0);\n",
    "            do\n",
    "                right--;\n",
    "            while (array[right].compareTo(pivot) > 0);\n",
    "\n",
    "            if (left < right) {\n",
    "                temp = array[left];\n",
    "                array[left] = array[right];\n",
    "                array[right] = temp;\n",
    "            }\n",
    "        } while (left <= right);\n",
    "\n",
    "        temp = array[left0];\n",
    "        array[left0] = array[right];\n",
    "        array[right] = temp;\n",
    "\n",
    "        if (left0 < right)\n",
    "            quicksort(array, left0, right);\n",
    "        if (left < right0)\n",
    "            quicksort(array, left, right0);\n",
    "    }\n",
    "\n",
    "    public void integerSorting() {\n",
    "        System.out.println(\"integerSorting:\");\n",
    "        Integer[] array = new Integer[] { 5, 3, 4, 2, 1 };\n",
    "        quicksort(array);\n",
    "        for (int i = 0; i < array.length; i++)\n",
    "            System.out.println(\"  \" + array[i]);\n",
    "\n",
    "    }\n",
    "\n",
    "    public void floatSorting() {\n",
    "        System.out.println(\"floatSorting:\");\n",
    "        Float[] array = new Float[] { 1.8F, 3.6F, 4F, 5F, 2F };\n",
    "        quicksort(array);\n",
    "        for (int i = 0; i < array.length; i++)\n",
    "            System.out.println(\"  \" + array[i]);\n",
    "    }\n",
    "\n",
    "    public void stringSorting() {\n",
    "        System.out.println(\"stringSorting:\");\n",
    "        String[] array = new String[] { \"Batman\", \"Spiderman\", \"Anthony\",\n",
    "                \"Zoolander\" };\n",
    "        quicksort(array);\n",
    "        for (int i = 0; i < array.length; i++)\n",
    "            System.out.println(\"  \" + array[i]);\n",
    "    }\n",
    "\n",
    "    public static void main(String args[]) {\n",
    "        QuickSort aQuickSort = new QuickSort();\n",
    "        aQuickSort.integerSorting();\n",
    "        aQuickSort.floatSorting();\n",
    "        aQuickSort.stringSorting();\n",
    "    }\n",
    "}\n"
   ]
  },
  {
   "cell_type": "code",
   "execution_count": null,
   "metadata": {
    "ExecuteTime": {
     "end_time": "2019-11-09T20:22:25.938389Z",
     "start_time": "2019-11-09T20:22:25.024405Z"
    },
    "slideshow": {
     "slide_type": "subslide"
    }
   },
   "outputs": [],
   "source": [
    "!javac /tmp/QuickSort.java\n",
    "!cd /tmp; java QuickSort"
   ]
  },
  {
   "cell_type": "markdown",
   "metadata": {
    "slideshow": {
     "slide_type": "subslide"
    }
   },
   "source": [
    "1. Was sind die Abbruchbedingungen der Rekursion und was wird an die nächste Stufe der Rekursion übergeben?\n",
    "1. Vergleichen Sie die Vor- und Nachteile der Python- und Java-Implementierung."
   ]
  },
  {
   "cell_type": "markdown",
   "metadata": {
    "slideshow": {
     "slide_type": "subslide"
    }
   },
   "source": [
    "## Iteratoren"
   ]
  },
  {
   "cell_type": "markdown",
   "metadata": {},
   "source": [
    "*for*-Schleifen in Python iterieren über ein Objekt und basieren nicht auf der Veränderung einer lokalen Variablen (Index). "
   ]
  },
  {
   "cell_type": "code",
   "execution_count": null,
   "metadata": {
    "ExecuteTime": {
     "end_time": "2019-11-09T20:23:08.468261Z",
     "start_time": "2019-11-09T20:23:08.464063Z"
    }
   },
   "outputs": [],
   "source": [
    "l = [\"eins\", \"zwei\", \"drei\"]\n",
    "for s in iter(l):\n",
    "    print(s)\n",
    "#\n",
    "# als Abkuerzung geht auch\n",
    "for s in l:\n",
    "    print(s)"
   ]
  },
  {
   "cell_type": "markdown",
   "metadata": {
    "slideshow": {
     "slide_type": "subslide"
    }
   },
   "source": [
    "Falls der Index benötigt wird, verwendet man *enumerate*:"
   ]
  },
  {
   "cell_type": "code",
   "execution_count": null,
   "metadata": {
    "ExecuteTime": {
     "end_time": "2019-11-09T20:23:09.519009Z",
     "start_time": "2019-11-09T20:23:09.513999Z"
    }
   },
   "outputs": [],
   "source": [
    "for index, s in enumerate(l):\n",
    "    print(index, \":\", s)"
   ]
  },
  {
   "cell_type": "markdown",
   "metadata": {
    "slideshow": {
     "slide_type": "slide"
    }
   },
   "source": [
    "Ein Iterator über eine assoziative Liste iteriert über die Schlüssel:"
   ]
  },
  {
   "cell_type": "code",
   "execution_count": null,
   "metadata": {
    "ExecuteTime": {
     "end_time": "2019-11-09T20:23:10.812830Z",
     "start_time": "2019-11-09T20:23:10.808040Z"
    }
   },
   "outputs": [],
   "source": [
    "d = {1: \"one\", 2: \"two\", 3: \"three\", 4: \"four\"}\n",
    "for k in d:\n",
    "    print(k, d[k])"
   ]
  },
  {
   "cell_type": "markdown",
   "metadata": {
    "slideshow": {
     "slide_type": "subslide"
    }
   },
   "source": [
    "Sie können auch eigene Iteratoren schreiben, die die Methoden *\\_\\_iter\\_\\_* und *\\_\\_next\\_\\_* implementieren "
   ]
  },
  {
   "cell_type": "code",
   "execution_count": null,
   "metadata": {
    "ExecuteTime": {
     "end_time": "2019-11-09T20:23:14.995164Z",
     "start_time": "2019-11-09T20:23:14.985585Z"
    },
    "slideshow": {
     "slide_type": "subslide"
    }
   },
   "outputs": [],
   "source": [
    "import random\n",
    "\n",
    "\n",
    "class RandomIterator:\n",
    "    def __init__(self, l):\n",
    "        self._l = l[:]\n",
    "        random.shuffle(self._l)\n",
    "        self._iterator = iter(self._l)\n",
    "\n",
    "    def __iter__(self):\n",
    "        return self\n",
    "\n",
    "    def __next__(self):\n",
    "        return next(self._iterator)\n",
    "\n",
    "\n",
    "rIt = RandomIterator(list(range(1, 10)))\n",
    "for i in rIt:\n",
    "    print(i, end=\" \")"
   ]
  },
  {
   "cell_type": "markdown",
   "metadata": {
    "slideshow": {
     "slide_type": "subslide"
    }
   },
   "source": [
    "## Generatoren und List Comprehensions"
   ]
  },
  {
   "cell_type": "markdown",
   "metadata": {},
   "source": [
    "Generatoren und List Comprehensions stammen aus der Sprache *Haskell* und erzeugen Sequenzen von Werten, wobei List Comprehensions die Werte \"auf Vorrat\" berechnen und speichern, während Generatoren die Werte bei Bedarf erzeugen."
   ]
  },
  {
   "cell_type": "code",
   "execution_count": null,
   "metadata": {
    "ExecuteTime": {
     "end_time": "2019-11-09T20:23:30.352819Z",
     "start_time": "2019-11-09T20:23:29.986716Z"
    },
    "slideshow": {
     "slide_type": "subslide"
    }
   },
   "outputs": [],
   "source": [
    "import tracemalloc\n",
    "\n",
    "N = 100000\n",
    "tracemalloc.start()\n",
    "snapshot1 = tracemalloc.take_snapshot()\n",
    "squareList = [ x*x for x in range(1, N+1) ]\n",
    "snapshot2 = tracemalloc.take_snapshot()\n",
    "squareGenerator = ( x * x for x in range(1, N+1) )\n",
    "snapshot3 = tracemalloc.take_snapshot()\n",
    "diffStats_12 = snapshot2.compare_to(snapshot1, 'lineno')\n",
    "diffStats_23 = snapshot3.compare_to(snapshot2, 'lineno')\n",
    "\n",
    "print('squareList:', diffStats_12[0])\n",
    "print('squareGenerator:', diffStats_23[0])\n",
    "\n",
    "tracemalloc.stop()"
   ]
  },
  {
   "cell_type": "markdown",
   "metadata": {
    "slideshow": {
     "slide_type": "subslide"
    }
   },
   "source": [
    "Seit Python 2.5 kann man auch Werte an den Generator [senden](http://docs.python.org/3.4/howto/functional.html):"
   ]
  },
  {
   "cell_type": "code",
   "execution_count": null,
   "metadata": {
    "ExecuteTime": {
     "end_time": "2019-11-09T20:23:40.518623Z",
     "start_time": "2019-11-09T20:23:40.512199Z"
    },
    "slideshow": {
     "slide_type": "subslide"
    }
   },
   "outputs": [],
   "source": [
    "def zaehler(N: int):\n",
    "    aktuellerStand = 0\n",
    "    while (aktuellerStand) < N:\n",
    "        wert = yield aktuellerStand\n",
    "        if wert is not None:\n",
    "            aktuellerStand = wert\n",
    "        else:\n",
    "            aktuellerStand += 1\n",
    "\n",
    "\n",
    "it = zaehler(10)\n",
    "print(next(it))\n",
    "print(next(it))\n",
    "it.send(8)\n",
    "print(next(it))"
   ]
  },
  {
   "cell_type": "markdown",
   "metadata": {
    "slideshow": {
     "slide_type": "slide"
    }
   },
   "source": [
    "## map und filter"
   ]
  },
  {
   "cell_type": "markdown",
   "metadata": {},
   "source": [
    "Es kommt häufig vor, dass eine Funktion auf mehrere Argumente angewendet werden soll. Dazu braucht man keine Schleifen:"
   ]
  },
  {
   "cell_type": "code",
   "execution_count": null,
   "metadata": {
    "ExecuteTime": {
     "end_time": "2019-11-09T21:02:16.666798Z",
     "start_time": "2019-11-09T21:02:16.659491Z"
    },
    "slideshow": {
     "slide_type": "subslide"
    }
   },
   "outputs": [],
   "source": [
    "import math\n",
    "\n",
    "l = [0.1, 0.2, 0.3]\n",
    "sinL = list(map(math.sin, l))\n",
    "print(f\"{l=}\")\n",
    "print(f\"{sinL=}\")\n",
    "m = map(math.sin, l)\n",
    "print(m)\n",
    "for x in m:\n",
    "    print(x, end=\" \")"
   ]
  },
  {
   "cell_type": "markdown",
   "metadata": {
    "slideshow": {
     "slide_type": "subslide"
    }
   },
   "source": [
    "Auch die Auswahl von Elementen, die eine bestimmte Bedingung erfüllen, geht ohne Schleife:"
   ]
  },
  {
   "cell_type": "code",
   "execution_count": null,
   "metadata": {
    "ExecuteTime": {
     "end_time": "2019-11-09T21:02:24.803140Z",
     "start_time": "2019-11-09T21:02:24.797386Z"
    }
   },
   "outputs": [],
   "source": [
    "def durchDreiTeilbar(i):\n",
    "    return i % 3 == 0\n",
    "\n",
    "\n",
    "ql = [i * i for i in range(1, 10)]\n",
    "ql3 = list(filter(durchDreiTeilbar, ql))\n",
    "print(f\"{ql = }\")\n",
    "print(f\"{ql3 = }\")"
   ]
  },
  {
   "cell_type": "markdown",
   "metadata": {
    "slideshow": {
     "slide_type": "subslide"
    }
   },
   "source": [
    "1. Warum ist es seit Python3 notwendig, die Ergebnisse von *map* und *filter* explizit in eine Liste umzuwandeln?\n",
    "1. Warum benötigen *map* und *filter* weniger Rechenzeit als eine Schleife?"
   ]
  },
  {
   "cell_type": "markdown",
   "metadata": {
    "slideshow": {
     "slide_type": "subslide"
    }
   },
   "source": [
    "## Das Modul *itertools*"
   ]
  },
  {
   "cell_type": "markdown",
   "metadata": {},
   "source": [
    "Dieses Paket stellt nützliche Iteratoren zur Verfügung und erlaubt die Kombination von Iteratoren. Details finden Sie im [HOWTO](http://docs.python.org/3.6/howto/functional.html)."
   ]
  },
  {
   "cell_type": "code",
   "execution_count": null,
   "metadata": {
    "ExecuteTime": {
     "end_time": "2019-11-09T21:02:31.150687Z",
     "start_time": "2019-11-09T21:02:31.144379Z"
    },
    "slideshow": {
     "slide_type": "subslide"
    }
   },
   "outputs": [],
   "source": [
    "import itertools\n",
    "\n",
    "endlose_wiederholung = itertools.cycle(\n",
    "    [\n",
    "        \"a\",\n",
    "        \"b\",\n",
    "        \"c\",\n",
    "        \"d\",\n",
    "    ]\n",
    ")\n",
    "not_bremse = 20\n",
    "for c in endlose_wiederholung:\n",
    "    if not_bremse == 0:\n",
    "        break\n",
    "    else:\n",
    "        print(c, end=\" \")\n",
    "        not_bremse -= 1"
   ]
  },
  {
   "cell_type": "code",
   "execution_count": null,
   "metadata": {
    "ExecuteTime": {
     "end_time": "2019-11-09T21:02:36.189335Z",
     "start_time": "2019-11-09T21:02:36.184251Z"
    },
    "slideshow": {
     "slide_type": "subslide"
    }
   },
   "outputs": [],
   "source": [
    "immer_das_gleiche = itertools.repeat(\"abc\", 10)\n",
    "for s in immer_das_gleiche:\n",
    "    print(s, end=\" \")"
   ]
  },
  {
   "cell_type": "code",
   "execution_count": null,
   "metadata": {
    "ExecuteTime": {
     "end_time": "2019-11-09T21:02:36.714515Z",
     "start_time": "2019-11-09T21:02:36.708964Z"
    },
    "slideshow": {
     "slide_type": "subslide"
    }
   },
   "outputs": [],
   "source": [
    "kette = itertools.chain([1, 2, 3], ('a', 'b', 'c'))\n",
    "for k in kette:  \n",
    "    print(k, end=' ')   "
   ]
  },
  {
   "cell_type": "code",
   "execution_count": null,
   "metadata": {
    "ExecuteTime": {
     "end_time": "2019-11-09T21:02:38.009828Z",
     "start_time": "2019-11-09T21:02:38.005584Z"
    },
    "slideshow": {
     "slide_type": "subslide"
    }
   },
   "outputs": [],
   "source": [
    "zahlen = range(20)\n",
    "gerade_8_bis_16 = itertools.islice(zahlen, 8, 17, 2)\n",
    "for i in gerade_8_bis_16:\n",
    "    print(i, end=' ')"
   ]
  },
  {
   "cell_type": "code",
   "execution_count": null,
   "metadata": {
    "scrolled": true,
    "slideshow": {
     "slide_type": "subslide"
    }
   },
   "outputs": [],
   "source": [
    "l = [1, 2, 3]\n",
    "print(\"combinations:\\n\\t\", list(itertools.combinations(l, 2)))\n",
    "print(\n",
    "    \"combinations_with_replacement:\\n\\t\",\n",
    "    list(itertools.combinations_with_replacement(l, 2)),\n",
    ")\n",
    "print(\"permutations:\\n\\t\", list(itertools.permutations(l)))"
   ]
  },
  {
   "cell_type": "markdown",
   "metadata": {},
   "source": [
    "1. Schauen Sie sich die noch nicht besprochenen Funktionen des Pakets *itertools* im [HOWTO](http://docs.python.org/3.4/howto/functional.html) an.\n",
    "1. Welchen Vorteile bietet die Verwendung von *itertools* gegenüber der Verwendung von Schleifen?"
   ]
  },
  {
   "cell_type": "markdown",
   "metadata": {
    "slideshow": {
     "slide_type": "subslide"
    }
   },
   "source": [
    "## Das Modul *functools*"
   ]
  },
  {
   "cell_type": "markdown",
   "metadata": {},
   "source": [
    "Dieses Modul enthält Funktionen höherer Ordnung, also Funktionen, die auf Funktionen angewendet werden und Funktionen zurückgeben. *functools.partial* erlaubte es zum Beispiel, eine Funktion zu erzeugen, die eine andere Funktion aufruft und dabei bestimmte Argumente mit vorgegebenen Werten füllt."
   ]
  },
  {
   "cell_type": "code",
   "execution_count": null,
   "metadata": {
    "slideshow": {
     "slide_type": "subslide"
    }
   },
   "outputs": [],
   "source": [
    "# Erinnerung: Funktionen sind Objekte\n",
    "\n",
    "import typing\n",
    "\n",
    "\n",
    "def inkrementier_funktion(delta: int = 1) -> typing.Callable:\n",
    "    def lokale_funktion(x: int | float) -> int | float:\n",
    "        return x + delta\n",
    "\n",
    "    return lokale_funktion\n",
    "\n",
    "\n",
    "addiere_drei = inkrementier_funktion(3)\n",
    "print(f\"{addiere_drei(22) = }\")"
   ]
  },
  {
   "cell_type": "code",
   "execution_count": null,
   "metadata": {
    "ExecuteTime": {
     "end_time": "2019-11-09T21:02:42.655093Z",
     "start_time": "2019-11-09T21:02:42.647887Z"
    },
    "scrolled": true,
    "slideshow": {
     "slide_type": "subslide"
    }
   },
   "outputs": [],
   "source": [
    "import functools\n",
    "\n",
    "def adress_ausgabe(vorname, nachname, strasse, hausnummer,\n",
    "                   postleitzahl, stadt, land):\n",
    "    print(vorname, nachname)\n",
    "    print(strasse, hausnummer)\n",
    "    print(postleitzahl, stadt)\n",
    "    print(land)\n",
    "\n",
    "adress_ausgabe_augsburg_city = functools.partial(adress_ausgabe,\n",
    "                                                 postleitzahl=86161,\n",
    "                                                 stadt='Augsburg',\n",
    "                                                 land='Deutschland')\n",
    "\n",
    "adress_ausgabe('Erika', 'Mustermann', 'Musterstrasse', 7,\n",
    "               86161, 'Augsburg', 'Deutschland')\n",
    "print()\n",
    "adress_ausgabe_augsburg_city('Erika', 'Mustermann',\n",
    "                             'Musterstrasse', 7)"
   ]
  },
  {
   "cell_type": "markdown",
   "metadata": {
    "slideshow": {
     "slide_type": "subslide"
    }
   },
   "source": [
    "Eine wichtige Funktion für die funktionale Programierung ist *reduce*. *reduce* wendet eine Funktion, die zwei Parameter benötigt, auf die Elemente einer Liste an, wobei das Ergebnis des vorhergehenden Schritts für den nächsten Schritt verwende wird. Beispiel:\n",
    "    functools.reduce(func, (A, B, C, D)) -> func(func(func(A, B), C), D)\n",
    "In Kombination mit dem Modul *operator* kann man so zum Beispiel den Mittelwert einer Zahlenfolge bestimmen:"
   ]
  },
  {
   "cell_type": "code",
   "execution_count": null,
   "metadata": {
    "ExecuteTime": {
     "end_time": "2019-11-09T21:02:46.008874Z",
     "start_time": "2019-11-09T21:02:46.002817Z"
    },
    "slideshow": {
     "slide_type": "subslide"
    }
   },
   "outputs": [],
   "source": [
    "import functools, operator\n",
    "\n",
    "sequence = range(1, 100)\n",
    "avg = functools.reduce(operator.add, sequence) / len(sequence)\n",
    "print(avg)"
   ]
  },
  {
   "cell_type": "markdown",
   "metadata": {
    "slideshow": {
     "slide_type": "subslide"
    }
   },
   "source": [
    "## Anonyme Funktionen: *lambda*"
   ]
  },
  {
   "cell_type": "markdown",
   "metadata": {},
   "source": [
    "Insbesondere bei der Verwendung des *functools*-Moduls werden oft \"Einweg-Funktionen\" benötigt, die nur als Argument für andere Funktionen. Um die Definition solcher anonymen Funktionen zu vereinfachen, gibt es *lambda*:"
   ]
  },
  {
   "cell_type": "code",
   "execution_count": null,
   "metadata": {
    "ExecuteTime": {
     "end_time": "2019-11-09T21:02:56.070836Z",
     "start_time": "2019-11-09T21:02:56.067083Z"
    }
   },
   "outputs": [],
   "source": [
    "g = lambda y : y * y\n",
    "print(f'{g(2) = }')"
   ]
  },
  {
   "cell_type": "code",
   "execution_count": null,
   "metadata": {
    "ExecuteTime": {
     "end_time": "2019-11-09T21:02:56.878582Z",
     "start_time": "2019-11-09T21:02:56.870615Z"
    },
    "slideshow": {
     "slide_type": "subslide"
    }
   },
   "outputs": [],
   "source": [
    "ql = [i * i for i in range(1, 10)]\n",
    "ql3 = list(filter(lambda x: x % 3 == 0, ql))\n",
    "print(f\"{ql = }\")\n",
    "print(f\"{ql3 = }\")\n",
    "sequence = range(1, 100)\n",
    "avg = functools.reduce(lambda a, b: a + b, sequence) / len(sequence)\n",
    "print(f\"{avg = }\")"
   ]
  },
  {
   "cell_type": "markdown",
   "metadata": {
    "slideshow": {
     "slide_type": "subslide"
    }
   },
   "source": [
    "## Funktionale Programmierung - Fragen"
   ]
  },
  {
   "cell_type": "markdown",
   "metadata": {},
   "source": [
    "1. Warum ist es schwierig, in einer rein funktionalen Programmiersprache ein Programm zu entwickeln, das kontinuierlich die Uhrzeit auf dem Bildschirm ausgibt?\n",
    "1. In welchen Situationen ist es sinnvoll, das funktionale Paradigma anzuwenden?\n"
   ]
  },
  {
   "cell_type": "markdown",
   "metadata": {
    "slideshow": {
     "slide_type": "subslide"
    }
   },
   "source": [
    "# Objektorientierte Programmierung"
   ]
  },
  {
   "cell_type": "markdown",
   "metadata": {},
   "source": [
    "Im Gegensatz zur funktionalen Programmierung ist der **Zustand** von Objekten, der durch den Aufruf von **Methoden** geändert werden kann, ein zentrales Element der objektorientierten Programmierung. Aus Sicht der rein funktionalen Programmierung lebt die objektorientierte Programmierung also von \"Nebeneffekten\"."
   ]
  },
  {
   "cell_type": "markdown",
   "metadata": {
    "slideshow": {
     "slide_type": "subslide"
    }
   },
   "source": [
    "Gegenüber der prozeduralen Vorgehensweise bietet die Vereinigung von Funktionalität (Methoden) und Daten (Attribute) Potential, für die Erstellung wiederverwendbarer Klassen, die bestimmte Aufgaben erfüllen ohne ihre interne Funktionsweise zu offenbaren."
   ]
  },
  {
   "cell_type": "markdown",
   "metadata": {
    "slideshow": {
     "slide_type": "subslide"
    }
   },
   "source": [
    "In Python kann die objektorientierter Programmierung mit der dynamischen Typisierung kombiniert werden.\n",
    "\n",
    "Die folgenden Beispiele stammen teilweise aus dem Buch \"Expert Python Programming\" ([O'Reilly])."
   ]
  },
  {
   "cell_type": "markdown",
   "metadata": {
    "slideshow": {
     "slide_type": "subslide"
    }
   },
   "source": [
    "## Vererbung"
   ]
  },
  {
   "cell_type": "markdown",
   "metadata": {},
   "source": [
    "Wenn Sie eine Klasse erstellen wollen, die sich wie eine erweiterte Liste verhält, ist es sinnvoll, von der vorhanden Klasse *collections.UserList* abzuleiten. Die Klasse *list* sollte nicht als Basisklasse für eigene Klassen verwendet werden, da die *list*-Implementierung stark [optimiert ist](https://treyhunner.com/2019/04/why-you-shouldnt-inherit-from-list-and-dict-in-python)."
   ]
  },
  {
   "cell_type": "code",
   "execution_count": null,
   "metadata": {
    "ExecuteTime": {
     "end_time": "2019-11-09T21:03:01.256012Z",
     "start_time": "2019-11-09T21:03:01.247921Z"
    },
    "slideshow": {
     "slide_type": "subslide"
    }
   },
   "outputs": [],
   "source": [
    "from collections import UserList\n",
    "\n",
    "\n",
    "class Folder(UserList):\n",
    "    def __init__(self, name):\n",
    "        super().__init__()\n",
    "        self.name = name\n",
    "\n",
    "    def __str__(self):\n",
    "        answer = \"I am the \" + self.name + \" folder:\\n\"\n",
    "        for el in self:\n",
    "            answer += el + \"\\n\"\n",
    "        return answer\n",
    "\n",
    "\n",
    "f = Folder(\"secret\")\n",
    "f.append(\"photos\")\n",
    "f.append(\"music\")\n",
    "f.append(\"letters\")\n",
    "print(f)\n",
    "print(f\"{f.data[0:2] = }\")"
   ]
  },
  {
   "cell_type": "markdown",
   "metadata": {
    "slideshow": {
     "slide_type": "subslide"
    }
   },
   "source": [
    "Python erlaubt zwar Mehrfachvererbung, das bedeutet aber nicht, dass es viele sinnvolle Einsatzmöglichkeiten für dieses Sprach-Feature gibt.\n",
    "\n",
    "Glücklicherweise ist die Reihenfolge, mit der Methoden in Basisklassen gesucht werden, in Python klar definiert ([C3-Linearisierung](https://de.abcdef.wiki/wiki/C3_linearization)).\n",
    "\n",
    "Michele Simionato:\n",
    "\n",
    "    The linearization of C is the sum of C plus the merge of the linearizations of the\n",
    "    parents and the list of the parents."
   ]
  },
  {
   "cell_type": "code",
   "execution_count": null,
   "metadata": {
    "slideshow": {
     "slide_type": "subslide"
    }
   },
   "outputs": [],
   "source": [
    " class CommonBase:\n",
    "    pass\n",
    "\n",
    "class Base1(CommonBase):\n",
    "    pass\n",
    "\n",
    "class Base2(CommonBase):\n",
    "    pass\n",
    "\n",
    "class MyClass(Base1, Base2):\n",
    "    pass\n",
    "\n",
    "print(f'{MyClass.mro() = }')"
   ]
  },
  {
   "cell_type": "markdown",
   "metadata": {},
   "source": [
    "Die einzelnen Schritte der Berechnung finden sich im Buch *Expert Python Programming, 4th Ed.* auf Seite 118f."
   ]
  },
  {
   "cell_type": "markdown",
   "metadata": {
    "slideshow": {
     "slide_type": "subslide"
    }
   },
   "source": [
    "## Überladen von Operatoren"
   ]
  },
  {
   "cell_type": "code",
   "execution_count": null,
   "metadata": {
    "slideshow": {
     "slide_type": "subslide"
    }
   },
   "outputs": [],
   "source": [
    "# Vorwärts-Referenz erlauben\n",
    "from __future__ import annotations\n",
    "\n",
    "\n",
    "class Vector:\n",
    "    def __init__(self, x: float, y: float):\n",
    "        self.x, self.y = x, y\n",
    "\n",
    "    # +\n",
    "    def __add__(self, v2: Vector) -> Vector:\n",
    "        return Vector(self.x + v2.x, self.y + v2.y)\n",
    "\n",
    "    # +=\n",
    "    def __iadd__(self, v2: Vector) -> Vector:\n",
    "        return self + v2\n",
    "\n",
    "    def __str__(self) -> str:\n",
    "        return f\"({self.x}, {self.y})\"\n",
    "\n",
    "    # []\n",
    "    def __getitem__(self, key: str | int) -> float:\n",
    "        match key:\n",
    "            case \"x\" | 0:\n",
    "                return self.x\n",
    "            case \"y\" | 1:\n",
    "                return self.y\n",
    "            case _:\n",
    "                raise KeyError(f\"Illegal key '{key}'\")"
   ]
  },
  {
   "cell_type": "code",
   "execution_count": null,
   "metadata": {
    "slideshow": {
     "slide_type": "subslide"
    }
   },
   "outputs": [],
   "source": [
    "v1 = Vector(3.0, 4.0)\n",
    "v2 = Vector(5.0, 6.0)\n",
    "print(f\"{v1 + v2}\")\n",
    "v1 += Vector(1.0, 1.0)\n",
    "print(v1)\n",
    "print(f\"{v1['x'] = }\")\n",
    "print(f\"{v1.x = }\")\n",
    "print(f\"{v1[0] = }, {v1[1] = }\")\n",
    "# print(f\"{v1['z'] = }\")\n",
    "print(v1.y)"
   ]
  },
  {
   "cell_type": "markdown",
   "metadata": {
    "slideshow": {
     "slide_type": "subslide"
    }
   },
   "source": [
    "## *dataclasses.dataclass*"
   ]
  },
  {
   "cell_type": "code",
   "execution_count": null,
   "metadata": {
    "slideshow": {
     "slide_type": "subslide"
    }
   },
   "outputs": [],
   "source": [
    "v1 = Vector(3, 4)\n",
    "v2 = Vector(3, 4)\n",
    "# __eq__ ist nicht überladen\n",
    "print(f'{v1 == v2 = }')\n",
    "# __repr__ ist nicht überladen\n",
    "print(f'{repr(v1) = }')"
   ]
  },
  {
   "cell_type": "markdown",
   "metadata": {
    "slideshow": {
     "slide_type": "subslide"
    }
   },
   "source": [
    "*dataclasses.dataclass* erstellt den \"Boilerplate Code\" für datenzentrierte Klassen mit einfacher Initialisierung automatisch. Insbesondere werden die Methoden *\\_\\_init\\_\\_(), \\_\\_repr\\_\\_(), \\_\\_eq\\_\\_()* automatisch definiert."
   ]
  },
  {
   "cell_type": "code",
   "execution_count": null,
   "metadata": {},
   "outputs": [],
   "source": [
    "# Vorwärts-Referenz erlauben\n",
    "from __future__ import annotations\n",
    "from dataclasses import dataclass\n",
    "\n",
    "\n",
    "@dataclass\n",
    "class Vector2:\n",
    "    x: float\n",
    "    y: float\n",
    "\n",
    "    def __add__(self, v2: Vector2) -> Vector2:\n",
    "        return Vector2(self.x + v2.x, self.y + v2.y)\n",
    "\n",
    "    def __iadd__(self, v2: Vector2) -> Vector2:\n",
    "        return self + v2\n",
    "\n",
    "    def __str__(self) -> str:\n",
    "        return f\"({self.x}, {self.y})\""
   ]
  },
  {
   "cell_type": "code",
   "execution_count": null,
   "metadata": {
    "slideshow": {
     "slide_type": "subslide"
    }
   },
   "outputs": [],
   "source": [
    "v1 = Vector2(3, 4)\n",
    "v2 = Vector2(3, 4)\n",
    "print(v1 + v2)\n",
    "print(f\"{v1 == v2 = }\")\n",
    "print(f\"{repr(v1) = }\")"
   ]
  },
  {
   "cell_type": "markdown",
   "metadata": {
    "slideshow": {
     "slide_type": "subslide"
    }
   },
   "source": [
    "## Abstract Base Classes (ABC)"
   ]
  },
  {
   "cell_type": "code",
   "execution_count": null,
   "metadata": {
    "ExecuteTime": {
     "end_time": "2019-11-09T21:03:04.227942Z",
     "start_time": "2019-11-09T21:03:04.223748Z"
    }
   },
   "outputs": [],
   "source": [
    "from abc import ABC, abstractmethod\n",
    "\n",
    "\n",
    "class MySpecification(ABC):\n",
    "    def __init__(self, a):\n",
    "        super().__init__()\n",
    "        self.counter = a\n",
    "\n",
    "    @abstractmethod\n",
    "    def modify_counter(self, delta):\n",
    "        pass\n",
    "\n",
    "    @property\n",
    "    @abstractmethod\n",
    "    def counter_value(self):\n",
    "        pass"
   ]
  },
  {
   "cell_type": "code",
   "execution_count": null,
   "metadata": {
    "ExecuteTime": {
     "end_time": "2019-11-09T21:03:09.867033Z",
     "start_time": "2019-11-09T21:03:09.792211Z"
    },
    "slideshow": {
     "slide_type": "fragment"
    }
   },
   "outputs": [],
   "source": [
    "my_instance = MySpecification(24)"
   ]
  },
  {
   "cell_type": "code",
   "execution_count": null,
   "metadata": {
    "ExecuteTime": {
     "end_time": "2019-11-09T21:05:09.825167Z",
     "start_time": "2019-11-09T21:05:09.821257Z"
    },
    "slideshow": {
     "slide_type": "subslide"
    }
   },
   "outputs": [],
   "source": [
    "class MyClass(MySpecification):\n",
    "    def __init__(self, a):\n",
    "        super().__init__(a)\n",
    "\n",
    "    def modify_counter(self, delta):\n",
    "        self.counter += delta\n",
    "\n",
    "    @property\n",
    "    def counter_value(self):\n",
    "        return self.counter"
   ]
  },
  {
   "cell_type": "code",
   "execution_count": null,
   "metadata": {
    "ExecuteTime": {
     "end_time": "2019-11-09T21:05:10.656580Z",
     "start_time": "2019-11-09T21:05:10.652321Z"
    }
   },
   "outputs": [],
   "source": [
    "my_instance_2 = MyClass(45)\n",
    "print(my_instance_2.counter_value)\n",
    "my_instance_2.modify_counter(23)\n",
    "print(my_instance_2.counter_value)"
   ]
  },
  {
   "cell_type": "markdown",
   "metadata": {
    "slideshow": {
     "slide_type": "subslide"
    }
   },
   "source": [
    "## Kapselung"
   ]
  },
  {
   "cell_type": "markdown",
   "metadata": {},
   "source": [
    "Getter und Setter sind in Python eher unüblich, Häufig beginnt man mit öffentlichen Attributen, die man in *properties* ändern kann, ohne den aufrufenden Code zu verändern:"
   ]
  },
  {
   "cell_type": "code",
   "execution_count": null,
   "metadata": {
    "ExecuteTime": {
     "end_time": "2019-11-09T21:05:17.507064Z",
     "start_time": "2019-11-09T21:05:17.500424Z"
    },
    "slideshow": {
     "slide_type": "subslide"
    }
   },
   "outputs": [],
   "source": [
    "class GetSetDemonstrator:\n",
    "    def __init__(self):\n",
    "        self._geheim = 42\n",
    "\n",
    "    @property\n",
    "    def geheim(self):\n",
    "        print(\"getter-Aufruf\")\n",
    "        return self._geheim\n",
    "\n",
    "    @geheim.setter\n",
    "    def geheim(self, value):\n",
    "        if value < 100:\n",
    "            print(\"setze Wert auf\", value)\n",
    "            self._geheim = value\n",
    "        else:\n",
    "            print(\"Wert zu gross\")\n",
    "\n",
    "    def inkrementiere_geheim(self):\n",
    "        self.geheim += 1\n",
    "\n",
    "\n",
    "d = GetSetDemonstrator()\n",
    "print(d.geheim)\n",
    "d.geheim = 50\n",
    "d.geheim = 123\n",
    "d.inkrementiere_geheim()"
   ]
  },
  {
   "cell_type": "markdown",
   "metadata": {
    "slideshow": {
     "slide_type": "subslide"
    }
   },
   "source": [
    "## Dynamische Erweiterung"
   ]
  },
  {
   "cell_type": "code",
   "execution_count": null,
   "metadata": {
    "ExecuteTime": {
     "end_time": "2019-11-09T21:05:20.193423Z",
     "start_time": "2019-11-09T21:05:20.189643Z"
    }
   },
   "outputs": [],
   "source": [
    "d = GetSetDemonstrator()\n",
    "d.neuesAttribut = \"dynamischErweitert\"\n",
    "print(d.neuesAttribut)"
   ]
  },
  {
   "cell_type": "markdown",
   "metadata": {
    "slideshow": {
     "slide_type": "fragment"
    }
   },
   "source": [
    "Welche Gefahren ergeben sich durch die Möglichkeit, Klassen dynamisch zu erweitern?"
   ]
  },
  {
   "cell_type": "markdown",
   "metadata": {
    "slideshow": {
     "slide_type": "subslide"
    }
   },
   "source": [
    "Mit \\_\\_slots\\_\\_ können Sie verhindern, dass Ihre Objekte dynamisch erweitert werden:"
   ]
  },
  {
   "cell_type": "code",
   "execution_count": null,
   "metadata": {
    "ExecuteTime": {
     "end_time": "2019-11-09T21:05:27.401015Z",
     "start_time": "2019-11-09T21:05:27.394010Z"
    }
   },
   "outputs": [],
   "source": [
    "class X:\n",
    "    __slots__ = (\"attr1\", \"attr2\")\n",
    "\n",
    "    def __init__(self, a1=1, a2=0):\n",
    "        self.attr1 = a1\n",
    "        self.attr2 = a2\n",
    "\n",
    "\n",
    "einX = X(a2=43)\n",
    "einX.attr2 = 77\n",
    "print(einX.attr1, einX.attr2)\n",
    "# folgende Zeile resultiert jetzt in einem AttributeError\n",
    "# einX.neuesAttribut = 'dynamischErweitert'"
   ]
  },
  {
   "cell_type": "markdown",
   "metadata": {
    "slideshow": {
     "slide_type": "slide"
    }
   },
   "source": [
    "## Klassen sind Objekte"
   ]
  },
  {
   "cell_type": "code",
   "execution_count": null,
   "metadata": {
    "slideshow": {
     "slide_type": "fragment"
    }
   },
   "outputs": [],
   "source": [
    "from typing import Callable\n",
    "from collections.abc import Generator\n",
    "\n",
    "\n",
    "class BerechnungsKlassenBasis:\n",
    "    pass\n",
    "\n",
    "\n",
    "def berechnungs_klassen_generator(\n",
    "    funktionen: list[Callable[[int | float], int | float]]\n",
    ") -> Generator[BerechnungsKlassenBasis, None, None]:\n",
    "    for f in funktionen:\n",
    "\n",
    "        class BerechnungsKlasse(BerechnungsKlassenBasis):\n",
    "            def funktionswert(self, x: int | float) -> tuple[str, int | float]:\n",
    "                return f.__name__, f(x)\n",
    "\n",
    "        yield BerechnungsKlasse"
   ]
  },
  {
   "cell_type": "code",
   "execution_count": null,
   "metadata": {
    "slideshow": {
     "slide_type": "subslide"
    }
   },
   "outputs": [],
   "source": [
    "import math\n",
    "\n",
    "\n",
    "def antwort(x):\n",
    "    return 42\n",
    "\n",
    "\n",
    "b_g = berechnungs_klassen_generator([math.sin, math.exp, antwort])\n",
    "\n",
    "for GenerierteKlasse in b_g:\n",
    "    berechnungs_objekt = GenerierteKlasse()\n",
    "    argument = 2.2\n",
    "    name, wert = berechnungs_objekt.funktionswert(argument)\n",
    "    print(f\"{name}({argument}) = {wert}\")"
   ]
  },
  {
   "cell_type": "markdown",
   "metadata": {
    "slideshow": {
     "slide_type": "slide"
    }
   },
   "source": [
    "# Übungsaufgaben, Abgabe am  14.11. bzw. 16.11.2023"
   ]
  },
  {
   "cell_type": "markdown",
   "metadata": {},
   "source": [
    "1. Experimentieren Sie mit den funktionalen Konstukten, die Python zur Verfügung steht, um folgende Aufgaben ohne die Verwendung von *numpy* zu lösen. Versuchen Sie dabei Schleifen möglichst zu vermeiden:\n",
    "     1. Erzeugung einer Wertetabelle für die Funktion $y(x) = \\sin(x)\\, e^{-x^2}$ für den Definitionsbereich $x = [0:7]$\n",
    "     1. Re-Implementierung der Funktion *max* für Listen unter Verwendung von *reduce*.\n",
    "     1. Welche Vorteile bietet die Verwendung der funktionalen Programmierung?\n",
    "1. Das Ergebnis, das eine Pi-Bestimmung nach Monte Carlo liefert, hängt stark vom verwendeten Zufallsgenerator ab.\n",
    "    1. Implementieren und testen Sie die Bestimmung von $\\pi$ nach Monte Carlo unter Verwendung von *random.random*.\n",
    "    1. Implementieren Sie einen eigenen Generator für Zufallszahlen in Python. Verwenden Sie dafür einen [linearen Kongruenzgenerator](http://de.wikipedia.org/wiki/Kongruenzgenerator). Geeignete Einstellungen für die Parameter finden Sie in einer Tabelle auf [dieser Seite](http://en.wikipedia.org/wiki/Linear_congruential_generator). \n",
    "    1. Wie ändert sich die Genauigkeit Ihrer $\\pi$-Berechnung, wenn Sie ihren eigenen Generator verwenden? (Experiment)"
   ]
  },
  {
   "cell_type": "markdown",
   "metadata": {},
   "source": [
    "# Überprüfung"
   ]
  },
  {
   "cell_type": "markdown",
   "metadata": {
    "slideshow": {
     "slide_type": "slide"
    }
   },
   "source": [
    "1. Warum unterstützen die meisten in der Praxis verwendeten Programmiersprachen mehrere Programmierparadigmen? (maximal drei Sätze)\n",
    "1. Weshalb lassen sich rein funktional erstellte Programme gut parallelisieren? (maximal drei Sätze)"
   ]
  }
 ],
 "metadata": {
  "celltoolbar": "Slideshow",
  "kernelspec": {
   "display_name": "Python 3 (ipykernel)",
   "language": "python",
   "name": "python3"
  },
  "language_info": {
   "codemirror_mode": {
    "name": "ipython",
    "version": 3
   },
   "file_extension": ".py",
   "mimetype": "text/x-python",
   "name": "python",
   "nbconvert_exporter": "python",
   "pygments_lexer": "ipython3",
   "version": "3.11.6"
  },
  "latex_envs": {
   "LaTeX_envs_menu_present": true,
   "autoclose": false,
   "autocomplete": true,
   "bibliofile": "biblio.bib",
   "cite_by": "apalike",
   "current_citInitial": 1,
   "eqLabelWithNumbers": true,
   "eqNumInitial": 1,
   "hotkeys": {
    "equation": "Ctrl-E",
    "itemize": "Ctrl-I"
   },
   "labels_anchors": false,
   "latex_user_defs": false,
   "report_style_numbering": false,
   "user_envs_cfg": false
  },
  "toc": {
   "base_numbering": 1,
   "nav_menu": {},
   "number_sections": true,
   "sideBar": true,
   "skip_h1_title": false,
   "title_cell": "Table of Contents",
   "title_sidebar": "Contents",
   "toc_cell": false,
   "toc_position": {
    "height": "calc(100% - 180px)",
    "left": "10px",
    "top": "150px",
    "width": "301.5px"
   },
   "toc_section_display": true,
   "toc_window_display": false
  },
  "varInspector": {
   "cols": {
    "lenName": 16,
    "lenType": 16,
    "lenVar": 40
   },
   "kernels_config": {
    "python": {
     "delete_cmd_postfix": "",
     "delete_cmd_prefix": "del ",
     "library": "var_list.py",
     "varRefreshCmd": "print(var_dic_list())"
    },
    "r": {
     "delete_cmd_postfix": ") ",
     "delete_cmd_prefix": "rm(",
     "library": "var_list.r",
     "varRefreshCmd": "cat(var_dic_list()) "
    }
   },
   "types_to_exclude": [
    "module",
    "function",
    "builtin_function_or_method",
    "instance",
    "_Feature"
   ],
   "window_display": false
  }
 },
 "nbformat": 4,
 "nbformat_minor": 1
}
