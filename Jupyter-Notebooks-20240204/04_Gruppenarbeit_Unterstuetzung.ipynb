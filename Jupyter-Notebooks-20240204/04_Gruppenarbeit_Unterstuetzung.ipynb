{
 "cells": [
  {
   "cell_type": "markdown",
   "metadata": {
    "slideshow": {
     "slide_type": "slide"
    }
   },
   "source": [
    "Programmieren 3 - Unterstützung zum Thema \"Schiefer Wurf mit Luftwiderstand\"\n",
    "\n",
    "Peter Rösch, Fakultät für Informatik\n",
    "\n",
    "Hochschule Augsburg, 2023/2024"
   ]
  },
  {
   "cell_type": "markdown",
   "metadata": {
    "slideshow": {
     "slide_type": "slide"
    }
   },
   "source": [
    "# Prototypen-Entwicklung mit Jupyter - Schiefer Wurf"
   ]
  },
  {
   "cell_type": "markdown",
   "metadata": {},
   "source": [
    "**Aufgabe:** Berechnen Sie die Bahnkurven für den schiefen Wurf im Vakuum auf der Erde für verschiedene Startwinkel und Startgeschwindigkeiten. Stellen Sie das Ergebnis grafisch dar."
   ]
  },
  {
   "cell_type": "markdown",
   "metadata": {},
   "source": [
    "**Problem verstehen:** Gibt es Fragen?"
   ]
  },
  {
   "cell_type": "markdown",
   "metadata": {},
   "source": [
    "**Recherche / Theorie**: </br>\n",
    "Es wirkt die Gewichtskraft in negative z-Richtung\n",
    "$$ F_z = -m g, \\; g = 9.81 \\frac{m}{s^2} $$\n",
    "Daraus ergibt sich die konstante Beschleunigung in $z$ -Richtung\n",
    "$$a_z = -g$$\n",
    "also\n",
    "$$\\vec{a} = \\left( \\begin{array}{c} 0 \\\\ 0 \\\\ -g \\end{array}\\right)$$"
   ]
  },
  {
   "cell_type": "markdown",
   "metadata": {
    "slideshow": {
     "slide_type": "subslide"
    }
   },
   "source": [
    "Die Bewegung findet in einer Ebene statt. Entscheidung: Wir betrachten die $xz$-Ebene.\n",
    "Vorgegeben ist eine Anfangsgeschwindigkeit $|v_0|$, ein Startwinkel $\\alpha$ und ein Startpunkt $\\vec{x}_0$\n",
    "Daraus folgt:\n",
    "$$\\vec{v_0} = \\left( \\begin{array}{c} v_0 \\cos(\\alpha) \\\\ 0 \\\\ v_0 \\sin(\\alpha) \\end{array}\\right)$$\n",
    "Iteration:\n",
    "$$\\vec{x}_{n+1} = \\vec{x}_n + \\vec{v} \\, \\Delta t + \\vec{a} \\, \\frac{\\Delta t^2}{2}$$\n",
    "$$\\vec{v}_{n+1} = \\vec{v}_n +  \\vec{a} \\, \\Delta t$$"
   ]
  },
  {
   "cell_type": "markdown",
   "metadata": {
    "slideshow": {
     "slide_type": "subslide"
    }
   },
   "source": [
    "**Teilaufgaben:**\n",
    "    \n",
    "* Initialisierung des Systems (Anfangsbedingungen)\n",
    "* Berechnung und Speicherung der Bahnkurve\n",
    "* Visualiseriung der Ergebnisse"
   ]
  },
  {
   "cell_type": "markdown",
   "metadata": {
    "slideshow": {
     "slide_type": "subslide"
    }
   },
   "source": [
    "**Ansätze und Entscheidungen:** (Algorithmen und Datenstrukturen)\n",
    "\n",
    "* Verwendung von *numpy*-Arrays für die Vektoren $\\vec{x}, \\vec{v}, \\vec{a}$\n",
    "* Schrittweise Simulation unter Verwendung der oben gegebenen Formeln\n",
    "* Speichern der Position als Funktion der Zeit in einem *numpy*-array\n",
    "* Anzeige mit *matplotlib*\n"
   ]
  },
  {
   "cell_type": "code",
   "execution_count": null,
   "metadata": {
    "ExecuteTime": {
     "end_time": "2020-11-02T07:38:48.630808Z",
     "start_time": "2020-11-02T07:38:48.609253Z"
    },
    "slideshow": {
     "slide_type": "subslide"
    }
   },
   "outputs": [],
   "source": [
    "# Initialisierung\n",
    "import numpy as np\n",
    "import math\n",
    "import matplotlib.pyplot as plt\n",
    "%matplotlib ipympl\n",
    "#\n",
    "# Start\n",
    "x0 = np.array([20, 0, 10], np.float32)\n",
    "v0_abs = 20\n",
    "alpha = 45\n",
    "#alpha = 0\n",
    "alpha_rad = math.radians(alpha)\n",
    "g = 9.81\n",
    "a = np.array([0, 0, -g], np.float32)\n",
    "delta_t = 0.01\n",
    "x = x0.copy()\n",
    "v = np.array([v0_abs*math.cos(alpha_rad), 0, \n",
    "              v0_abs*math.sin(alpha_rad)],\n",
    "              np.float32)"
   ]
  },
  {
   "cell_type": "code",
   "execution_count": null,
   "metadata": {
    "ExecuteTime": {
     "end_time": "2020-11-02T07:38:51.529256Z",
     "start_time": "2020-11-02T07:38:51.163880Z"
    },
    "slideshow": {
     "slide_type": "subslide"
    }
   },
   "outputs": [],
   "source": [
    "#\n",
    "# Liste fuer die Zwischenpositionen\n",
    "pos_list = []\n",
    "#\n",
    "# Berechnung\n",
    "while x[2] >= 0.0:\n",
    "    x = x + v * delta_t + a * delta_t**2 / 2\n",
    "    v = v + a * delta_t\n",
    "    pos_list.append(x)\n",
    "#\n",
    "# Anzeige\n",
    "ax = plt.figure().add_subplot(111)\n",
    "ax.plot([x[0] for x in pos_list], [x[2] for x in pos_list])"
   ]
  },
  {
   "cell_type": "markdown",
   "metadata": {},
   "source": [
    "# Gruppenarbeit"
   ]
  },
  {
   "cell_type": "markdown",
   "metadata": {},
   "source": [
    "Erweitern Sie die oben gegebene Simulation des schiefen Wurfs, so dass der Luftwiderstand berücksichtigt wird. Es soll eine Kugel der Masse 10 kg und variablem Radius $r$ (Einheit: m) bei $20^{\\circ}$ C auf Meereshöhe betrachtet werden. Die Parameter $\\alpha$, $|v_0|$ und $r$ sollen über Schieberegler im Notebook (Stichwort *interact*) modifizierbar sein. Wie ändert sich die Kurve mit wachsendem $r$?\n",
    "\n",
    "Bitte teilen Sie die Aufgaben innerhalb des Teams auf.\n",
    "\n",
    "**Hilfestellung:**\n",
    "\\begin{equation}\n",
    "\\vec{F}_{\\rm L} = - \\frac{1}{2} \\vec{v} \\cdot |\\vec{v}| \\cdot A \\cdot c_W \\cdot \\rho_{\\rm Luft},\\; A = \\pi r^2\n",
    "\\end{equation}\n",
    "\n",
    "Dabei bezeichnet $\\rho_{\\rm Luft}$ die Luftdichte und $c_W$ den Strömungswiderstandskoeffizienten. Wir setzen für die Kugel [$c_W = 0.5$](https://www.code-knacker.de/cw-wert.htm).\n",
    "\n",
    "**Nach 10 Minuten treffen wir uns wieder kurz im Plenum, um offene Fragen zu klären.**"
   ]
  },
  {
   "cell_type": "markdown",
   "metadata": {},
   "source": [
    "# Vorgehensweise  (Vorschlag)"
   ]
  },
  {
   "cell_type": "markdown",
   "metadata": {},
   "source": [
    "## Zerlegung in Teilaufgaben"
   ]
  },
  {
   "cell_type": "markdown",
   "metadata": {},
   "source": [
    "1. Teilprobleme in der Formel\n",
    "    1. Finden der fehlenden Konstante $\\rho_{\\rm Luft}$\n",
    "    1. Berechnung der Länge eines Vektors\n",
    "    1. Eigentliche Bestimmung von $\\vec{F}_{\\rm L}$\n",
    "1. Integration von $\\vec{F}_{\\rm L}$ in die vorgegebene Lösung\n",
    "1. Refaktorisierung des Codes\n",
    "    1. Strukturierung (Funktionen, Konstanten, etc.)\n",
    "    1. Definition einer Schnittstelle für eine interaktive Anwendung\n",
    "1. Realisierung der interaktiven Anwendung"
   ]
  },
  {
   "cell_type": "markdown",
   "metadata": {},
   "source": [
    "## Recherche"
   ]
  },
  {
   "cell_type": "markdown",
   "metadata": {},
   "source": [
    "* https://de.wikipedia.org/wiki/Luftdichte: $\\rho_{\\rm Luft} = 1.2 \\frac{\\rm kg}{m^3}$ \n",
    "* Berechnung der Länge eines Vektors, 3 Möglichkeiten:\n",
    "\n",
    "        l_v = math.sqrt(v[0]**2 + v[1]**2 + v[2]**2)\n",
    "        l_v = math.sqrt(np.dot(v, v))\n",
    "        l_v = np.linalg.norm(v) "
   ]
  },
  {
   "cell_type": "markdown",
   "metadata": {},
   "source": [
    "## Algorithmen und Datenstrukturen"
   ]
  },
  {
   "cell_type": "markdown",
   "metadata": {},
   "source": [
    "Es soll eine Funktion erstellt werden, die $\\vec{F}_{\\rm L}$ berechnet.\n",
    "* Eingabegrößen: Geschwindigkeit $\\vec{v}$ (numpy-arrray, x/y/z), Radius r (float)\n",
    "* Ausgabegröße: $\\vec{F}_{\\rm L}$ (numpy-array, x/y/z)\n",
    "\n",
    "Außerdem soll die Berechnung der entsprechenden Beschleunigung als Funktion zur Verfügung gestellt werden.\n",
    "* Eingabegrößen: Geschwindigkeit $\\vec{v}$ (numpy-arrray, x/y/z), Radius r (float), Masse m (float)\n",
    "* Ausgabegröße: $\\vec{a}_{\\rm L}$ (numpy-array, x/y/z)"
   ]
  },
  {
   "cell_type": "markdown",
   "metadata": {},
   "source": [
    "## Implementierung und vertrauensbildende Maßnahme"
   ]
  },
  {
   "cell_type": "code",
   "execution_count": null,
   "metadata": {
    "ExecuteTime": {
     "end_time": "2020-11-02T07:43:38.636877Z",
     "start_time": "2020-11-02T07:43:38.624423Z"
    }
   },
   "outputs": [],
   "source": [
    "# Konstanten\n",
    "CW_KUGEL = 0.5\n",
    "RHO_LUFT = 1.2\n",
    "\n",
    "\n",
    "def luftwiderstand_kraft(v: np.ndarray, r: float) -> np.ndarray:\n",
    "    \"\"\"Berechnung der aus dem Luftwiderstand resultierenden Kraft\n",
    "\n",
    "    Args:\n",
    "        v (np.array, x/y/z): Geschwindigkeits-Vektor in m/s\n",
    "        r (float): Radius in m\n",
    "\n",
    "    Returns:\n",
    "        Kraft F_L (np.array, x/y/z): Kraft in kg m / s**2\n",
    "    \"\"\"\n",
    "    l_v = np.linalg.norm(v)\n",
    "    A = np.pi * r**2\n",
    "    F_L = -1 / 2 * v * l_v * A * CW_KUGEL * RHO_LUFT\n",
    "    return F_L\n",
    "\n",
    "\n",
    "def luftwiderstand_beschleunigung(\n",
    "    v: np.ndarray, r: float, m: float\n",
    ") -> np.ndarray:\n",
    "    \"\"\"Berechnung der aus dem Luftwiderstand resultierenden Beschleunigung\n",
    "\n",
    "    Args:\n",
    "        v (np.array, x/y/z): Geschwindigkeits-Vektor in m/s\n",
    "        r (float): Radius in m\n",
    "        m (float): Masse in kg\n",
    "\n",
    "    Returns:\n",
    "        Beschleunigung a_L (np.array, x/y/z): Beschleunigung in m / s**2\n",
    "    \"\"\"\n",
    "    a_L = luftwiderstand_kraft(v, r) / m\n",
    "    return a_L"
   ]
  },
  {
   "cell_type": "markdown",
   "metadata": {},
   "source": [
    "### Plausibilität"
   ]
  },
  {
   "cell_type": "markdown",
   "metadata": {},
   "source": [
    "**Hinweis**: Dieser Untersuchung war eigentlich nicht gefragt und ist als \"Fingerübung\" für *numpy* gedacht ... \n",
    "\n",
    "**Ziel:** Schaffen von Vertrauen in die oben implementierten Funktionen.\n",
    "\n",
    "**Frage:** Welche Geschwindigkeit kann ein Fallschirmspringer im freien Fall (negative z-Richtung) maximal erreichen?\n",
    "\n",
    "**Annahmen/Näherung:** Wir nehmen an, ein Fallschirmspringer hat ein effektive Fläche von  $(1.8 \\cdot 0.5)m^2$ und wiegt 80 kg. Die Luftdichte sei unabhängig von der Höhe.\n",
    "\n",
    "**Idee:** Der Fallschirmspringer wird so lange immer schneller, bis die Erdbeschleunigung durch die aus dem Luftwidertand resultierende Beschleunigung aufgehoben wird. Wir suchen also die Geschwindigkeit $|\\vec{v}_{\\rm max}|$, für die gilt:\n",
    "$\\vec{a}_{\\rm L}(\\vec{v}_{\\rm max}) = \\left( \\begin{array}{rrr} 0\\\\ 0\\\\ g \\end{array} \\right)$\n",
    "\n",
    "**Umsetzung:** Anstatt die Gleichungen einfach aufzulösen, erzeugen wir eine grafische Lösung mit unserer Implementierung."
   ]
  },
  {
   "cell_type": "code",
   "execution_count": null,
   "metadata": {
    "ExecuteTime": {
     "end_time": "2020-11-02T07:48:48.854284Z",
     "start_time": "2020-11-02T07:48:48.364261Z"
    }
   },
   "outputs": [],
   "source": [
    "# Anzahl der Punkte\n",
    "n_punkte = 100\n",
    "# Geschwindigkeits-Bereich, der betrachtet werden soll in m/s\n",
    "geschwindigeits_bereich = (0, 100)\n",
    "# Feld für die Geschwindigkeiten\n",
    "v_array = np.zeros((n_punkte, 3), dtype=np.float32)\n",
    "# Belegen der z-Komponenten mit den Test-Geschwindikgeiten\n",
    "schrittweite = (\n",
    "    geschwindigeits_bereich[1] - geschwindigeits_bereich[0]\n",
    ") / n_punkte\n",
    "v_array[:, 2] = np.arange(\n",
    "    geschwindigeits_bereich[0], geschwindigeits_bereich[1], schrittweite\n",
    ")\n",
    "# Feld für die Beschleunigungen\n",
    "a_L = np.full_like(v_array, fill_value=0)\n",
    "# Berechnung des Radius aus der effektiven Fläche\n",
    "A = 1.8 * 0.5\n",
    "eff_radius = np.sqrt(A / np.pi)\n",
    "# Speichern der Beschleunigungen im Feld a_L\n",
    "for index, v in enumerate(v_array):\n",
    "    a_L[index] = luftwiderstand_beschleunigung(v, r=eff_radius, m=80)\n",
    "# Plot vergrößern, damit mehr zu erkennen ist ...\n",
    "ax = plt.figure().add_subplot(111)\n",
    "# Gitter einzeichnen\n",
    "ax.grid()\n",
    "# Wir skalieren die x-Achse mit 3.6, um km/h zu erhalten\n",
    "x = v_array[:, 2] * 3.6\n",
    "ax.set_xlabel(\"v / km/h\")\n",
    "# Die Maximal-Geschwindigkeit entspricht dem Nulldurchgang (wegen +g)\n",
    "y = a_L[:, 2] + g\n",
    "ax.set_ylabel(\"a + g\")\n",
    "# Anzeigen der Kurve\n",
    "ax.plot(x, y)"
   ]
  },
  {
   "cell_type": "markdown",
   "metadata": {},
   "source": [
    "Es ergibt sich eine Grenzgeschwindigkeit knapp unterhalb von 200 km/h. Das ist plausibel, siehe [swr.de](https://www.swr.de/wissen/1000-antworten/wissenschaft-und-forschung/1000-antworten-1384.html)"
   ]
  },
  {
   "cell_type": "markdown",
   "metadata": {},
   "source": [
    "## Integration in die existierende Lösung (Prototyp)"
   ]
  },
  {
   "cell_type": "markdown",
   "metadata": {},
   "source": [
    "Wir benennen die Variable *a* in der Initialiseriungs-Zelle in a_g um und nennen die Startgeschwindigkeit *v0*."
   ]
  },
  {
   "cell_type": "code",
   "execution_count": null,
   "metadata": {},
   "outputs": [],
   "source": [
    "# Initialisierung\n",
    "import numpy as np\n",
    "import math\n",
    "import matplotlib.pyplot as plt\n",
    "%matplotlib inline\n",
    "#\n",
    "# Start\n",
    "x0 = np.array([20, 0, 10], np.float32)\n",
    "v0_abs = 20\n",
    "alpha = 45\n",
    "#alpha = 0\n",
    "alpha_rad = math.radians(alpha)\n",
    "g = 9.81\n",
    "a_g = np.array([0, 0, -g], np.float32)\n",
    "delta_t = 0.01\n",
    "v0 = np.array([v0_abs*math.cos(alpha_rad), 0, \n",
    "              v0_abs*math.sin(alpha_rad)],\n",
    "              np.float32)"
   ]
  },
  {
   "cell_type": "markdown",
   "metadata": {},
   "source": [
    "Wir vergleichen Bahnkurven mit und ohne Luftwiderstand"
   ]
  },
  {
   "cell_type": "code",
   "execution_count": null,
   "metadata": {
    "ExecuteTime": {
     "end_time": "2020-11-02T07:50:27.412413Z",
     "start_time": "2020-11-02T07:50:27.004263Z"
    }
   },
   "outputs": [],
   "source": [
    "#\n",
    "# Liste fuer die Zwischenpositionen ohne Luftwiderstand\n",
    "pos_list_ohne_FL = []\n",
    "#\n",
    "# Berechnung ohne FL\n",
    "x = x0.copy()\n",
    "v = v0.copy()\n",
    "while x[2] >= 0.0:\n",
    "    x = x + v * delta_t + a_g * delta_t**2 / 2\n",
    "    v = v + a_g * delta_t\n",
    "    pos_list_ohne_FL.append(x)\n",
    "#\n",
    "# Berechnung mit FL\n",
    "pos_list_mit_FL = []\n",
    "x = x0.copy()\n",
    "v = v0.copy()\n",
    "while x[2] >= 0.0:\n",
    "    a = a_g + luftwiderstand_beschleunigung(v, r=1, m=10)\n",
    "    x = x + v * delta_t + a * delta_t**2 / 2\n",
    "    v = v + a * delta_t\n",
    "    pos_list_mit_FL.append(x)\n",
    "#\n",
    "# Anzeige\n",
    "ax = plt.figure().add_subplot(111)\n",
    "ax.plot([x[0] for x in pos_list_ohne_FL], [x[2] for x in pos_list_ohne_FL])\n",
    "ax.plot([x[0] for x in pos_list_mit_FL], [x[2] for x in pos_list_mit_FL])"
   ]
  },
  {
   "cell_type": "markdown",
   "metadata": {},
   "source": [
    "## Refactoring und Interaktion"
   ]
  },
  {
   "cell_type": "markdown",
   "metadata": {},
   "source": [
    "Diese Schritte sind Ihnen überlassen ..."
   ]
  }
 ],
 "metadata": {
  "kernelspec": {
   "display_name": "Python 3 (ipykernel)",
   "language": "python",
   "name": "python3"
  },
  "language_info": {
   "codemirror_mode": {
    "name": "ipython",
    "version": 3
   },
   "file_extension": ".py",
   "mimetype": "text/x-python",
   "name": "python",
   "nbconvert_exporter": "python",
   "pygments_lexer": "ipython3",
   "version": "3.11.6"
  },
  "latex_envs": {
   "LaTeX_envs_menu_present": true,
   "autoclose": false,
   "autocomplete": true,
   "bibliofile": "biblio.bib",
   "cite_by": "apalike",
   "current_citInitial": 1,
   "eqLabelWithNumbers": true,
   "eqNumInitial": 1,
   "hotkeys": {
    "equation": "Ctrl-E",
    "itemize": "Ctrl-I"
   },
   "labels_anchors": false,
   "latex_user_defs": false,
   "report_style_numbering": false,
   "user_envs_cfg": false
  },
  "toc": {
   "base_numbering": 1,
   "nav_menu": {},
   "number_sections": true,
   "sideBar": true,
   "skip_h1_title": false,
   "title_cell": "Table of Contents",
   "title_sidebar": "Contents",
   "toc_cell": false,
   "toc_position": {
    "height": "calc(100% - 180px)",
    "left": "10px",
    "top": "150px",
    "width": "384px"
   },
   "toc_section_display": true,
   "toc_window_display": false
  },
  "varInspector": {
   "cols": {
    "lenName": 16,
    "lenType": 16,
    "lenVar": 40
   },
   "kernels_config": {
    "python": {
     "delete_cmd_postfix": "",
     "delete_cmd_prefix": "del ",
     "library": "var_list.py",
     "varRefreshCmd": "print(var_dic_list())"
    },
    "r": {
     "delete_cmd_postfix": ") ",
     "delete_cmd_prefix": "rm(",
     "library": "var_list.r",
     "varRefreshCmd": "cat(var_dic_list()) "
    }
   },
   "types_to_exclude": [
    "module",
    "function",
    "builtin_function_or_method",
    "instance",
    "_Feature"
   ],
   "window_display": false
  }
 },
 "nbformat": 4,
 "nbformat_minor": 4
}
