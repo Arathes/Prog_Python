{
 "cells": [
  {
   "cell_type": "markdown",
   "id": "56a1d6e4",
   "metadata": {
    "slideshow": {
     "slide_type": "slide"
    }
   },
   "source": [
    "<font size=\"6\"> Python-Projekte erstellen </font> \n",
    "<br><br>\n",
    "<font size=\"4\">&copy;2023 Peter Rösch </font>"
   ]
  },
  {
   "cell_type": "markdown",
   "id": "c819a1fa-5238-45ff-9c04-c304d8f6b49b",
   "metadata": {
    "slideshow": {
     "slide_type": "slide"
    }
   },
   "source": [
    "# Einleitung"
   ]
  },
  {
   "cell_type": "markdown",
   "id": "9d78a3f3-68b1-45f0-b015-06bcf007ba28",
   "metadata": {},
   "source": [
    "## Ziele"
   ]
  },
  {
   "cell_type": "markdown",
   "id": "fa30587c-f60e-4eac-a008-6211ec7513f6",
   "metadata": {},
   "source": [
    "* Sie können ein installierbares Python-Paket inklusive Tests und Dokumentation erstellen.\n",
    "* Durch entsprechende \"Kochrezepte\" können Sie einschlägige Werkzeuge (z.B. *sphinx* *pydoc*, *black*, *pylint*) praktisch einsetzen.\n",
    "* Die Vorteile der dargestellten Vorgehensweise, die von erfolgreichen Paketen inspiriert wurde, ist ihnen klar.\n",
    "* Die Vorlage soll Plattform-unabhängig sein.\n",
    "\n",
    "**Wichtig:** Damit Sie etwas von diesem Notebook haben, sollten Sie auftretende Fragen sofort stellen und nachfragen, falls Unklarheiten bleiben."
   ]
  },
  {
   "cell_type": "markdown",
   "id": "f011c204-4658-481b-a56c-7df4af7e8810",
   "metadata": {
    "slideshow": {
     "slide_type": "subslide"
    }
   },
   "source": [
    "## Überblick"
   ]
  },
  {
   "cell_type": "markdown",
   "id": "18019f1d-13f6-43ea-aad0-ecd7c2fe5f75",
   "metadata": {},
   "source": [
    "In Verlauf des Notebooks wird ein sehr einfaches Python-Paket erstellt, an dem Sie anschließend mit einer Entwicklungsumgebung weiterarbeiten können. Die Struktur ist als Vorlage für eigene Pakete gedacht. Daher ist z.B. der Name des Projekts in einer Variablen *project_name* gespeichert und kann für eigene Projekte angepasst werden.\n",
    "\n",
    "Die Funktionalität des Pakets *calculator* steht nicht im Vordergrund, so dass nur ein Modul *add_sub* mit zwei einfachen Funktionen \n",
    "*my_add* und *add_main* implementiert wird. Darüber hinaus wird ein leeres Module *mul_div* erstellt.\n",
    "\n",
    "Für das Modul *add_sub* wird auch ein einfacher Test *test_add_sub.py* erstellt, der mit *pytest* automatisch gefunden und durchgeführt werden kann.\n",
    "\n",
    "Schließlich wird noch mit *sphinx* automatisch eine Schnittstellen-Dokumentation im html-Format erzeugt."
   ]
  },
  {
   "cell_type": "markdown",
   "id": "0c27963b-486a-44f7-9746-92e1d0f67e12",
   "metadata": {
    "slideshow": {
     "slide_type": "subslide"
    },
    "tags": []
   },
   "source": [
    "# Einstellungen"
   ]
  },
  {
   "cell_type": "markdown",
   "id": "3e93e3fa-d14e-435b-8c69-ad0cd677f0e8",
   "metadata": {},
   "source": [
    "Die Vorlage kann durch Anpassungen der Variablen in der folgenden Zelle an eigene Projekte angepasst werden. Wir erzeugen das Projekt im Verzeichnis *tmp* innerhalb Ihres Home-Verzeichnisses."
   ]
  },
  {
   "cell_type": "code",
   "execution_count": null,
   "id": "0d8460f8",
   "metadata": {},
   "outputs": [],
   "source": [
    "from pathlib import Path\n",
    "\n",
    "# path where the project directory should be created\n",
    "base_path = Path.home() / \"tmp\"\n",
    "\n",
    "project_name = \"project_example\"\n",
    "\n",
    "# Please don't use spaces in the author name:\n",
    "# underlines will be automatically replaced by spaces\n",
    "author_name = \"Project_Team\"\n",
    "\n",
    "project_version = \"0.0.1\"\n",
    "project_release = \"0.0.1\"\n",
    "\n",
    "package_name = \"calculator\"\n",
    "# name of package modules\n",
    "module_names = [\"add_sub\", \"mul_div\"]\n",
    "\n",
    "test_dir_name = \"tests\"\n",
    "doc_dir_name = \"docs\"\n",
    "\n",
    "# theme for sphinx documentation\n",
    "sphinx_html_theme = \"classic\"\n",
    "\n",
    "# path of project directories\n",
    "project_path = base_path / project_name\n",
    "# names of directories to be created\n",
    "subdir_names = [package_name, test_dir_name, doc_dir_name]"
   ]
  },
  {
   "cell_type": "markdown",
   "id": "325cff87-c2e5-4d44-a160-decf1d6f6802",
   "metadata": {
    "slideshow": {
     "slide_type": "slide"
    },
    "tags": []
   },
   "source": [
    "# Verzeichnis-Struktur"
   ]
  },
  {
   "cell_type": "markdown",
   "id": "2f16aefa-64a8-4638-b57f-1913907c88dd",
   "metadata": {},
   "source": [
    "Zunächst wird das Projektverzeichnis komplett gelöscht, anschließend werden die benötigten Unterverzeichnisse generiert.\n",
    "\n",
    "Für jedes Modul wird eine bis auf einen Docstring leere Python-Datei sowie eine ebenfalls leere Test-Datei erzeugt."
   ]
  },
  {
   "cell_type": "code",
   "execution_count": null,
   "id": "55ee2ee5-a14a-41cd-9f6f-65263d27d987",
   "metadata": {
    "slideshow": {
     "slide_type": "subslide"
    }
   },
   "outputs": [],
   "source": [
    "# check if project path exists\n",
    "if project_path.exists():\n",
    "    print(f\"Project path {project_path} already exists\")\n",
    "    print(f\"Please remove or rename {project_path}\")\n",
    "    print(\"and execute this cell again.\")\n",
    "else:\n",
    "    # create parent directory including intermediate directories\n",
    "    Path.mkdir(project_path)\n",
    "    # create default subdirectories\n",
    "    for subdir_name in subdir_names:\n",
    "        Path.mkdir(project_path / subdir_name)\n",
    "    # create empty module and test files\n",
    "    package_path = project_path / package_name\n",
    "    test_path = project_path / test_dir_name\n",
    "    for module_name in module_names:\n",
    "        module_file_path = package_path / (module_name + \".py\")\n",
    "        module_file_path.write_text(\n",
    "            f'\"\"\" TODO: Enter docstring for module {module_name}\"\"\"\\n'\n",
    "        )\n",
    "        test_file_path = test_path / (\"test_\" + module_name + \".py\")\n",
    "        test_file_path.write_text(f'\"\"\" Tests for module {module_name}\"\"\"\\n')\n",
    "    print(\"Project directory successfully created\")"
   ]
  },
  {
   "cell_type": "markdown",
   "id": "faf6f6c4",
   "metadata": {
    "slideshow": {
     "slide_type": "subslide"
    }
   },
   "source": [
    "Jetzt können wir den Inhalt des Verzeichnisses anzeigen:"
   ]
  },
  {
   "cell_type": "code",
   "execution_count": null,
   "id": "418aed1c",
   "metadata": {},
   "outputs": [],
   "source": [
    "%ls -R $project_path"
   ]
  },
  {
   "cell_type": "markdown",
   "id": "58b79604-3f50-4884-b5d4-d8f183678c98",
   "metadata": {
    "slideshow": {
     "slide_type": "subslide"
    }
   },
   "source": [
    "Damit ein Verzeichnis als Paket erkannt wird, muss es eine Datei *\\_\\_init.py\\_\\_* enthalten, die auch leer sein kann. Die folgende Funktion erzeugt eine Datei *\\_\\_init\\_\\_.py* im angegebenen Verzeichnis."
   ]
  },
  {
   "cell_type": "code",
   "execution_count": null,
   "id": "9c07600c-7146-49b9-a9d9-c24d7ef47b57",
   "metadata": {},
   "outputs": [],
   "source": [
    "def create_init_file(dir_path: Path, comment: str) -> None:\n",
    "    init_file_path = dir_path / \"__init__.py\"\n",
    "    init_file_path.write_text(f\"{comment}\")"
   ]
  },
  {
   "cell_type": "markdown",
   "id": "98700332-01e8-494c-b87e-13fa3701b6a2",
   "metadata": {
    "slideshow": {
     "slide_type": "subslide"
    }
   },
   "source": [
    "Dateien *\\_\\_init\\_\\_.py* werden im Paket- und Test-Verzeichnis erzeugt. "
   ]
  },
  {
   "cell_type": "code",
   "execution_count": null,
   "id": "2224b930-1789-4836-9d15-13550e4c1d16",
   "metadata": {},
   "outputs": [],
   "source": [
    "create_init_file(package_path, f'\"\"\"\\nPackage {package_name}\\n\"\"\"')\n",
    "create_init_file(test_path, f'\"\"\"\\nTests for package {package_name}\\n\"\"\"')"
   ]
  },
  {
   "cell_type": "markdown",
   "id": "4bfbc65b-eef6-40ec-bd64-ba7b5e768db0",
   "metadata": {
    "slideshow": {
     "slide_type": "subslide"
    }
   },
   "source": [
    "Die Datei *README.md* enthält eine Beschreibung des Pakets im [markdown](https://www.markdownguide.org/)-Format, die z.B. in [PyPi](https://pypi.org/) angezeigt wird."
   ]
  },
  {
   "cell_type": "code",
   "execution_count": null,
   "id": "6bc899d0-7896-4963-a0cc-c81064df3b24",
   "metadata": {},
   "outputs": [],
   "source": [
    "# create README.md\n",
    "(project_path / \"README.md\").write_text(f\"{project_name} is a great project\\n\")"
   ]
  },
  {
   "cell_type": "markdown",
   "id": "44c2a02a-890e-42cd-9f91-9f242e1dba90",
   "metadata": {
    "slideshow": {
     "slide_type": "subslide"
    }
   },
   "source": [
    "# *setup.py* "
   ]
  },
  {
   "cell_type": "markdown",
   "id": "2f5024c4-f5f1-4c71-8737-074671909973",
   "metadata": {
    "slideshow": {
     "slide_type": "subslide"
    }
   },
   "source": [
    "Die Datei setup.py steuert die Erstellung eines Python-Pakets (in der Regel eine mit *pip* installierbare Datei mit der Endung *.whl*. Die hier erstellte Datei *setup.py* ist sehr einfach gehalten. Details zur weiterführenden Optionen finden Sie in der [Dokumentation](https://docs.python.org/3/distutils/setupscript.html).\n",
    "\n",
    "Besonders wichtig sind folgende Einstellungen:\n",
    "\n",
    "* package_name: Name des Pakets\n",
    "* python_requires: Einschränkung der Python-Versionen, für die das Paket installiert werden kann\n",
    "* install_requires: Abhängigkeiten des Pakets. Bei der Installation wird überprüft, ob die Abhängigkeiten erfüllt sind. Gegebenenfalls werden fehlende Pakete nachinstalliert.\n",
    "* entry_points: Es können automatisch ausführbare Programme erzeugt werden, die direkt vom Terminal ausgeführt werden können. In diesem Fall wird eine Kommandozeilen-Anwendung *add_float* erzeugt, die die funktion *add_main* im Modul *add_sub.py* aufruft. Kommandozeilenparameter stehen in Python über die Liste *sys.argv* zur Verfügung."
   ]
  },
  {
   "cell_type": "code",
   "execution_count": null,
   "id": "4f38e28a-40a4-4d60-9766-ab1f2d632e6c",
   "metadata": {
    "slideshow": {
     "slide_type": "subslide"
    }
   },
   "outputs": [],
   "source": [
    "setup_string = f'''\n",
    "\"\"\"\n",
    "setup file for project {project_name}\n",
    "\"\"\"\n",
    "\n",
    "from pathlib import Path\n",
    "from setuptools import setup\n",
    "\n",
    "def read(fname):\n",
    "    f_path = Path(__file__).parent / fname\n",
    "    return f_path.read_text()\n",
    "\n",
    "\n",
    "setup(\n",
    "    name=\"{package_name}\",\n",
    "    version=\"{project_version}\",\n",
    "    # replace underline characters by spaces\n",
    "    author=\"{author_name.replace('_', ' ')}\",\n",
    "    author_email=\"Vorname.Nachname@gmail.com\",\n",
    "    description=(\"A very simple setup.py file\"),\n",
    "    license=\"GPL\",\n",
    "    keywords=\"example\",\n",
    "    url=\"http://myUrl.com\",\n",
    "    packages=[\"{package_name}\"],\n",
    "    long_description=read(\"README.md\"),\n",
    "    classifiers=[\n",
    "        \"Development Status :: 3 - Alpha\",\n",
    "        \"Topic :: Demonstration\",\n",
    "        \"License :: GPL License\",\n",
    "    ],\n",
    "    python_requires=\">=3.10, <4\",\n",
    "    install_requires=[\"setuptools>=60\"],\n",
    "    entry_points=dict(console_scripts= [\n",
    "            \"add_float={package_name}.add_sub:add_main\",\n",
    "        ]\n",
    "    ),\n",
    ")\n",
    "'''\n",
    "\n",
    "with open(project_path / \"setup.py\", \"w\") as setup_file:\n",
    "    setup_file.write(setup_string)"
   ]
  },
  {
   "cell_type": "markdown",
   "id": "44426cf8-c998-4a00-b48f-0811d25fbef1",
   "metadata": {
    "slideshow": {
     "slide_type": "subslide"
    },
    "tags": []
   },
   "source": [
    "# Dokumentation"
   ]
  },
  {
   "cell_type": "markdown",
   "id": "e751e7f4-35c6-4b85-b624-da54a9c8abde",
   "metadata": {},
   "source": [
    "Für die Erzeugung der Dokumentation verwenden wir [sphinx](https://www.sphinx-doc.org/en/master/). Zum Einstieg erzeugen wir nur die Schnittstellen-Dokumentation automatisch aus den Docstrings, nutzen also nur einen kleinen Teil der zur Verfügung stehenden Funktionalität. Da wir noch keine Module implementiert haben, wird hier nur der Rahmen erstellt.\n",
    "\n",
    "Als Nebeneffekt sehen Sie in der folgenden Zelle, wie man in Python mit dem Modul [subprocess](https://docs.python.org/3/library/subprocess.html) Programme starten kann. "
   ]
  },
  {
   "cell_type": "code",
   "execution_count": null,
   "id": "b9a87dd2-7b50-467e-944a-33bee0b8d0cd",
   "metadata": {},
   "outputs": [],
   "source": [
    "import subprocess\n",
    "\n",
    "documentation_path = project_path / doc_dir_name\n",
    "\n",
    "if not documentation_path.exists():\n",
    "    Path.mkdir(documentation_path)\n",
    "# check if directory is empty\n",
    "if len(list(documentation_path.iterdir())) > 0:\n",
    "    print(f\"Directory {documentation_path} is not empty\")\n",
    "    print(f\"Please remove or rename {documentation_path}\")\n",
    "else:\n",
    "    # call sphinx-quickstart\n",
    "    quickstart_cmd = f\"sphinx-quickstart -p {project_name} -a {author_name} \"\n",
    "    quickstart_cmd += (\n",
    "        f\"-v {project_version} -r {project_release} -l en --no-sep \"\n",
    "    )\n",
    "    quickstart_cmd += \"--ext-autodoc --extensions=sphinx.ext.napoleon\"\n",
    "    quickstart_args = quickstart_cmd.split()\n",
    "    subprocess.run(quickstart_args, cwd=documentation_path)\n",
    "    # modyfy sys.path in conf.py\n",
    "    with open(documentation_path / \"conf.py\", \"r\") as in_file:\n",
    "        conf_orig = in_file.read()\n",
    "    with open(documentation_path / \"conf.py\", \"w\") as out_file:\n",
    "        out_file.write(\n",
    "            \"import sys; import os; sys.path.insert(0, os.path.abspath('../'))\\n\"\n",
    "        )\n",
    "        out_file.write(conf_orig)\n",
    "        if len(sphinx_html_theme) > 0:\n",
    "            out_file.write(f\"html_theme = '{sphinx_html_theme}'\\n\")\n",
    "    # call apidoc\n",
    "    apidoc_cmd = f\"sphinx-apidoc -o {doc_dir_name} {package_name}\"\n",
    "    apidoc_args = apidoc_cmd.split()\n",
    "    subprocess.run(apidoc_args, cwd=project_path)"
   ]
  },
  {
   "cell_type": "markdown",
   "id": "dc6b0d06",
   "metadata": {},
   "source": [
    "Außer der Dokumentation der Schnittstelle sollte die Dokumentation folgende Komponenten enthalten:\n",
    "* Tutorial\n",
    "* HOW-TOs\n",
    "* Hintergrundinformationen\n",
    "\n",
    "Quelle: [Daniele Procida: The four kinds of Documentation](https://www.writethedocs.org/videos/eu/2017/the-four-kinds-of-documentation-and-why-you-need-to-understand-what-they-are-daniele-procida)"
   ]
  },
  {
   "cell_type": "code",
   "execution_count": null,
   "id": "decf6f48",
   "metadata": {},
   "outputs": [],
   "source": [
    "%%file $documentation_path/how-tos.rst\n",
    "How-to-guides\n",
    "=============\n",
    "\n",
    "Goal-oriented how-to guides."
   ]
  },
  {
   "cell_type": "code",
   "execution_count": null,
   "id": "f700cae3",
   "metadata": {},
   "outputs": [],
   "source": [
    "%%file $documentation_path/tutorials.rst\n",
    "Tutorials\n",
    "=========\n",
    "\n",
    "Learning-oriented tutorials."
   ]
  },
  {
   "cell_type": "code",
   "execution_count": null,
   "id": "7a6655b3",
   "metadata": {},
   "outputs": [],
   "source": [
    "%%file $documentation_path/explanations.rst\n",
    "Background information\n",
    "======================\n",
    "\n",
    "Understanding-oriented discussions."
   ]
  },
  {
   "cell_type": "code",
   "execution_count": null,
   "id": "86dd4a0a",
   "metadata": {},
   "outputs": [],
   "source": [
    "%%file $documentation_path/index.rst\n",
    "Overview\n",
    "========\n",
    "This is a great project\n",
    "\n",
    "Documentation\n",
    "=============\n",
    ".. toctree::\n",
    "   :maxdepth: 2\n",
    "\n",
    "   tutorials\n",
    "   how-tos\n",
    "   explanations\n",
    "\n",
    "Reference\n",
    "=========\n",
    ".. toctree::\n",
    "   :maxdepth: 2\n",
    "\n",
    "   modules\n",
    "\n",
    "Indices and tables\n",
    "==================\n",
    "\n",
    "* :ref:`genindex`\n",
    "* :ref:`modindex`\n",
    "* :ref:`search`"
   ]
  },
  {
   "cell_type": "markdown",
   "id": "0060c58d",
   "metadata": {},
   "source": [
    "# Versionsverwaltung"
   ]
  },
  {
   "cell_type": "markdown",
   "id": "85947dc0",
   "metadata": {},
   "source": [
    "Welche Dateien sollen von der Versionsverwaltung ausgeschlossen sein?"
   ]
  },
  {
   "cell_type": "code",
   "execution_count": null,
   "id": "0ba0f59e",
   "metadata": {},
   "outputs": [],
   "source": [
    "%%file $project_path/.gitignore\n",
    "########\n",
    "# editor\n",
    "*~\n",
    "*.bak\n",
    "*.swp\n",
    ".vscode\n",
    "\n",
    "########\n",
    "# python\n",
    "*.pyc\n",
    "build/\n",
    "_build/\n",
    "*.egg-info/\n",
    "__pycache__/\n",
    "dist/\n",
    ".mutmut-cache/\n",
    "\n",
    "#########\n",
    "# jupyter\n",
    "Untitled*.ipynb\n",
    ".ipynb_checkpoints/"
   ]
  },
  {
   "cell_type": "markdown",
   "id": "6c02f3bb",
   "metadata": {},
   "source": [
    "Ablauf für Gitlab CI/CD (bei Bedarf muss der Typ der folgenden Zelle auf 'Code' umgestellt werden)"
   ]
  },
  {
   "cell_type": "raw",
   "id": "043c3556",
   "metadata": {},
   "source": [
    "%%file $project_path/.gitlab-ci.yml\n",
    "\n",
    "image: python:3.10-slim\n",
    "        \n",
    "stages:          # List of stages for jobs, and their order of execution\n",
    "  - build\n",
    "  - test\n",
    "\n",
    "build-job:       # This job runs in the build stage, which runs first.\n",
    "  stage: build\n",
    "  script:\n",
    "    - uname -a\n",
    "    - python --version\n",
    "    - python setup.py bdist_wheel\n",
    "  artifacts:\n",
    "    paths:\n",
    "      - dist/*.whl\n",
    "\n",
    "pytest-job:   # This job runs in the test stage.\n",
    "  stage: test    # It only starts when the job in the build stage completes successfully.\n",
    "  script:\n",
    "    - pip install pytest\n",
    "    - pip install dist/*.whl\n",
    "    - pytest --doctest-modules --ignore docs"
   ]
  },
  {
   "cell_type": "markdown",
   "id": "dabe32eb",
   "metadata": {},
   "source": [
    "Bisher wurden die folgenden Dateien erzeugt:"
   ]
  },
  {
   "cell_type": "code",
   "execution_count": null,
   "id": "32f9a1c2",
   "metadata": {},
   "outputs": [],
   "source": [
    "%ls -R $project_path"
   ]
  },
  {
   "cell_type": "markdown",
   "id": "c0706560",
   "metadata": {},
   "source": [
    "Diese werden jetzt einheitlich mit [black](https://pypi.org/project/black/) formatiert, wobei keine Zeile länger als 79 Zeichen sein soll."
   ]
  },
  {
   "cell_type": "code",
   "execution_count": null,
   "id": "7a4086a4",
   "metadata": {},
   "outputs": [],
   "source": [
    "%cd $project_path\n",
    "!black -l 79 ."
   ]
  },
  {
   "cell_type": "markdown",
   "id": "0f667fe9",
   "metadata": {},
   "source": [
    "Diese Dateien werden im weiteren Verlauf des Projekts mit Funktionaltiät \"gefüllt\". Es kommen zusätzliche, automatisch generierte Dateien (z.B. die html-Dokumentation) hinzu, die jedoch nicht in die Versionverwaltung übernommen werden müssen, da sie jederzeit neu erzeugt werden können.\n",
    "\n",
    "Es ist daher sinnvoll, an dieser Stelle das komplette Projektverzeichnis in die Versionsverwaltung zu übernehmen. Von der Kommandozeile erfolgt das beispielsweise so:\n",
    "\n",
    "    cd  ~/tmp/project_example\n",
    "    git init --initial-branch=main\n",
    "    git add .\n",
    "    git commit -m \"Initial commit\"\n",
    "    git branch develop\n",
    "    git checkout develop\n",
    "    \n",
    "    # Hier muss die URL angepasst werden\n",
    "    git remote add origin ssh://git@myserver.de:2222/username/project_example.git\n",
    "    git checkout main\n",
    "    git push -u origin main\n",
    "    git checkout develop\n",
    "    git push origin develop\n",
    "    \n",
    "    \n",
    "    \n",
    "Die folgenden Abschnitte demonstrieren die weitere Vorgehensweise anhand eines einfachen Beispiels."
   ]
  },
  {
   "cell_type": "markdown",
   "id": "b72e5ac5",
   "metadata": {},
   "source": [
    "## Beispiel: pre-commit (lokal) "
   ]
  },
  {
   "cell_type": "markdown",
   "id": "df4dd4e3",
   "metadata": {},
   "source": [
    "Verwendete Werkzeuge: [mypy](https://mypy.readthedocs.io/en/latest/), [black](https://pypi.org/project/black/), [git-pylint-commit-hook](https://git-pylint-commit-hook.readthedocs.io/en/latest/index.html)\n",
    "\n",
    "Vorarbeiten:\n",
    "    \n",
    "    pip install git-pylint-commit-hook\n",
    "    \n",
    "Hinweis: Die Datei *.git/hooks/pre-commit* muss unter Linux ausführbar gemacht werden mit\n",
    "\n",
    "    chmod +x pre-commit"
   ]
  },
  {
   "cell_type": "code",
   "execution_count": 73,
   "id": "dc0fa467",
   "metadata": {},
   "outputs": [],
   "source": [
    "pre_commit_str = f\"\"\"\n",
    "#!/bin/bash\n",
    "\n",
    "echo \"*** running mypy\"\n",
    "mypy -p {package_name}\n",
    "\n",
    "echo \"*** running black\"\n",
    "black -l 79 .\n",
    "\n",
    "echo \"*** running pylint\"\n",
    "git-pylint-commit-hook --limit 8\n",
    "\"\"\"\n",
    "\n",
    "git_path = project_path / \".git\"\n",
    "if git_path.is_dir():\n",
    "    hook_dir = git_path / \"hooks\"\n",
    "    Path.mkdir(hook_dir)\n",
    "    file_path = hook_dir / \"pre-commit\"\n",
    "    file_path.write_text(pre_commit_str)"
   ]
  },
  {
   "cell_type": "markdown",
   "id": "db682f96-46c2-48b3-9a16-7d9e575cc149",
   "metadata": {},
   "source": [
    "# Modul *add_sub* (spezifisch für dieses Beispiel)"
   ]
  },
  {
   "cell_type": "markdown",
   "id": "965c1b99-44aa-423f-8b8e-2567f68bc481",
   "metadata": {},
   "source": [
    "Das folgende Modul enthält eine Funktion *my_add*, die zwei float-Zahlen addiert sowie eine Funktion *add_main*, die als Einsprungspunkt für eine Kommandozeilen-Anwendung dient. Dazu wird in der Datei *setup.py* (weiter unten) über *entry_points* auf diese Funktion verwiesen.\n",
    "\n",
    "Für die automatische Erzeugung der Dokumentation ist es essenziell, dass alle Funktionen mit einem *docstring* versehen sind, wobei hier der [google-style](https://sphinxcontrib-napoleon.readthedocs.io/en/latest/example_google.html) verwendet wird.\n",
    "\n",
    "Das Konstrukt \n",
    "\n",
    "    if __name__ == '__main__':\n",
    "        # Block\n",
    "        \n",
    "bewirkt, dass der entsprechende Block nur dann ausgeführt wird, wenn das Modul mit\n",
    "    \n",
    "    python add_sub.py 3 4\n",
    "\n",
    "beziehungsweise mit\n",
    "\n",
    "    python -m calculator.add_sub 3 4\n",
    "    \n",
    "aufgerufen wird. Beim Import steht in der Variablen *\\_\\_name\\_\\_* der Name des Moduls und der Block wird nicht ausgeführt."
   ]
  },
  {
   "cell_type": "code",
   "execution_count": null,
   "id": "03e4bb7c-1e15-4648-94a2-a9660c0e320a",
   "metadata": {},
   "outputs": [],
   "source": [
    "%%file $project_path/calculator/add_sub.py\n",
    "\n",
    "\"\"\"Add and subtract numbers\"\"\"\n",
    "\n",
    "import sys\n",
    "\n",
    "# import the package\n",
    "import calculator\n",
    "\n",
    "\n",
    "def my_add(n1: float, n2: float = 0) -> float:\n",
    "    \"\"\"\n",
    "    Add two numbers and return the sum\n",
    "\n",
    "    Args:\n",
    "        n1: first number\n",
    "        n2: second number\n",
    "\n",
    "    Returns:\n",
    "        n1 + n2\n",
    "\n",
    "    Example:\n",
    "        >>> int(my_add(3,4))\n",
    "        7\n",
    "    \"\"\"\n",
    "    return float(n1 + n2)\n",
    "\n",
    "\n",
    "def add_main():\n",
    "    \"\"\"\n",
    "    Entry point for command line call using arguments from sys.argv\n",
    "\n",
    "    \"\"\"\n",
    "    if (argnum := len(sys.argv)) not in (2, 3):\n",
    "        raise ValueError(\n",
    "            f\"{sys.argv[0]}: Require 2 command line arguments, got {argnum - 1}\"\n",
    "        )\n",
    "        \n",
    "    n1 = float(sys.argv[1])\n",
    "    match argnum:\n",
    "        case 3:\n",
    "            n2 = float(sys.argv[2])\n",
    "        case 2:\n",
    "            n2 = 0.0\n",
    "    print(f\"{n1} + {n2} = {my_add(n1, n2)}\")\n",
    "\n",
    "\n",
    "if __name__ == \"__main__\":\n",
    "    add_main()"
   ]
  },
  {
   "cell_type": "markdown",
   "id": "51d8ed2f",
   "metadata": {},
   "source": [
    "## Aufruf vor der Installation mit *pip*"
   ]
  },
  {
   "cell_type": "markdown",
   "id": "565cf86d",
   "metadata": {},
   "source": [
    "Wenn das Modul nicht mit *pip* oder *pip -e* importiert worden ist, sollte der Aufruf vom Projekt-Verzeichnis aus mit *python -m* ohne Erweiterung *.py* erfolgen. Die Kommandozeilenparameter stehen in der Liste *sys.argv* zur Verfügung, wobei sich in *sys.argv[0]* der Name des Moduls befindet.\n",
    "\n",
    "Ansonsten kann es zu Fehlermeldungen beim Import des Pakets kommen."
   ]
  },
  {
   "cell_type": "code",
   "execution_count": null,
   "id": "f4eb6d98-2c3a-4558-98fd-dc6b271f81c6",
   "metadata": {},
   "outputs": [],
   "source": [
    "%cd $project_path\n",
    "!python -m calculator.add_sub 3 4"
   ]
  },
  {
   "cell_type": "markdown",
   "id": "705955a7-38f1-43fa-8af2-b1e2aa45742c",
   "metadata": {},
   "source": [
    "# Test (spezifisch für dieses Beispiel)"
   ]
  },
  {
   "cell_type": "markdown",
   "id": "d33d5043-c0ca-4fed-bf5a-465459f8587a",
   "metadata": {},
   "source": [
    "Das Programm *pytest* erkennt Tests automatisch am Namen. Üblicherweise wird für jedes Modul *modul.py* ein Test mit dem Namen *test_modul.py* erstellt. Die Funktion zum Test einer Funktion *funktion* erhält den Namen *test_funktion*, eine Test-Klasse für die Klasse *KlasseX* heist entsprechend *TestKlasseX* mit Methoden *test_methodeX* für die zu testenden Methoden."
   ]
  },
  {
   "cell_type": "code",
   "execution_count": null,
   "id": "59b6903c-2391-4ecc-90c5-7ab5a0fa48a8",
   "metadata": {},
   "outputs": [],
   "source": [
    "%%file $project_path/tests/test_add_sub.py\n",
    "\n",
    "\"\"\" Tests for module add_sub\"\"\"\n",
    "import pytest\n",
    "from calculator import add_sub\n",
    "\n",
    "\n",
    "def test_my_add():\n",
    "    result = add_sub.my_add(3, 4)\n",
    "    expectation = 7.0\n",
    "    assert result == pytest.approx(expectation, 1e-3)"
   ]
  },
  {
   "cell_type": "markdown",
   "id": "16e375d3-b0e4-4dce-bcba-eef0f8ae49fc",
   "metadata": {},
   "source": [
    "Die nächste Zelle zeigt, wie Tests automatisch gefunden und ausgeführt werden können. In diesem Fall wird die Funktion *test_my_add* sowie der doctest im Docstring der Funktion *my_add* (unter \"Example:\") durchgeführt und die jeweilige Testabdeckung ausgegeben."
   ]
  },
  {
   "cell_type": "code",
   "execution_count": null,
   "id": "2a167d13-e3ea-4d69-9dd6-7149b93e81f0",
   "metadata": {},
   "outputs": [],
   "source": [
    "%cd $project_path\n",
    "!pytest --doctest-modules --ignore docs"
   ]
  },
  {
   "cell_type": "markdown",
   "id": "fad590a7",
   "metadata": {},
   "source": [
    "# Erstellen der Dokumentation"
   ]
  },
  {
   "cell_type": "markdown",
   "id": "98242ee6",
   "metadata": {},
   "source": [
    "Mit *sphinx apidoc* wurden Dateien erzeugt, die es erlauben, html-Dokumentation mit dem Befehl *make html* zu generieren: "
   ]
  },
  {
   "cell_type": "code",
   "execution_count": null,
   "id": "f774119e",
   "metadata": {},
   "outputs": [],
   "source": [
    "# create html documentation\n",
    "make_cmd = \"make html\"\n",
    "make_args = make_cmd.split()\n",
    "subprocess.run(make_args, cwd=documentation_path)"
   ]
  },
  {
   "cell_type": "markdown",
   "id": "98d73880-48f0-489b-8419-20158f3eaec7",
   "metadata": {},
   "source": [
    "Das Ergebnis können Sie sich im Browser anschauen:"
   ]
  },
  {
   "cell_type": "code",
   "execution_count": null,
   "id": "71b99e36",
   "metadata": {},
   "outputs": [],
   "source": [
    "import sys\n",
    "\n",
    "index_url_name = (\n",
    "    \"file:///\"\n",
    "    + str(documentation_path).replace(\"\\\\\", \"//\")\n",
    "    + r\"//_build//html//index.html\"\n",
    ")\n",
    "\n",
    "if sys.platform.startswith(\"win\"):\n",
    "    print(\"Bitte folgenden Datei im Browser öffnen:\")\n",
    "    print(index_url_name)\n",
    "else:\n",
    "    cmd = f\"firefox {index_url_name}\"\n",
    "    subprocess.run(cmd.split())"
   ]
  },
  {
   "cell_type": "markdown",
   "id": "ded45c1f-b6b1-4ade-9412-dae3bbb90bf3",
   "metadata": {},
   "source": [
    "# Paket erstellen und verwenden"
   ]
  },
  {
   "cell_type": "markdown",
   "id": "d2e29005-84e0-4a38-8132-750f14ce853e",
   "metadata": {},
   "source": [
    "Hier werden zwei Szenarien vorgestellt:\n",
    "\n",
    "1. In der Entwicklungsphase wird das Paket häufig modifiziert. Für Tests und die Weiterentwicklung muss immer die aktuelle Version bereitgestellt werden, was einen dynamischen Import notwendig macht.\n",
    "1. Nach der Entwicklungsphase ändert sich das Paket bis zum nächsten Release nicht mehr, so das die Funktionalität statisch importiert werden kann."
   ]
  },
  {
   "cell_type": "markdown",
   "id": "8a402a71-4692-4840-bf3e-2b7d1e1d4edb",
   "metadata": {},
   "source": [
    "## Entwicklungs-Phase"
   ]
  },
  {
   "cell_type": "markdown",
   "id": "bba64f14-8afd-4377-b695-6948c713737d",
   "metadata": {},
   "source": [
    "Um sicherzustellen, dass immer die aktuelle Version zur Verfügung steht, verwendet man [autoreload](https://ipython.readthedocs.io/en/stable/config/extensions/autoreload.html). Dieses Werkzeug lädt geänderte Komponenten vor jedem Aufruf neu."
   ]
  },
  {
   "cell_type": "code",
   "execution_count": null,
   "id": "f7129e24-a093-45a9-8c2d-cec79fd5ec78",
   "metadata": {},
   "outputs": [],
   "source": [
    "%load_ext autoreload\n",
    "%autoreload 1"
   ]
  },
  {
   "cell_type": "markdown",
   "id": "956661e3-bf87-4a94-bd9c-5a7b6430fc60",
   "metadata": {},
   "source": [
    "Der folgende Befehl installiert die Pakete in unserem Projekt im Edit-Modus. Dadurch ist sichergestellt, dass in der Entwicklungsphase stets die aktuelle Version verwendet wird. Durch das Flag *--user* wird erreicht, dass Dateien im Home-Verzeichnis des Benutzers gespeichert werden."
   ]
  },
  {
   "cell_type": "raw",
   "id": "194a60b6-3a83-438b-b38f-a4deb6930bc1",
   "metadata": {},
   "source": [
    "pip install -e $project_path"
   ]
  },
  {
   "cell_type": "code",
   "execution_count": null,
   "id": "0710c6ea-41d8-4a41-b2ae-9fca44c13c74",
   "metadata": {},
   "outputs": [],
   "source": [
    "! add_float 3 4"
   ]
  },
  {
   "cell_type": "markdown",
   "id": "c80f1814-b8ae-40c8-985e-8b2d93b749e4",
   "metadata": {},
   "source": [
    "Mit *%aimport* wird das Modul importiert, aber vor jeder Verwendung aktualisiert, falls dies nötig ist."
   ]
  },
  {
   "cell_type": "code",
   "execution_count": null,
   "id": "2de8f499-f601-4b34-8230-c08e1d255d0d",
   "metadata": {},
   "outputs": [],
   "source": [
    "%aimport calculator.add_sub"
   ]
  },
  {
   "cell_type": "code",
   "execution_count": null,
   "id": "3228e844-f67b-42a3-831f-1e0e04703e72",
   "metadata": {},
   "outputs": [],
   "source": [
    "calculator.add_sub.my_add(3, 5)"
   ]
  },
  {
   "cell_type": "markdown",
   "id": "d45e728f-9c49-427a-8eb8-83c3d2e10bf9",
   "metadata": {},
   "source": [
    "Bei einer Änderung der Funktion *my_add* ändert sich die Ausgabe der vorhergehenden Zelle entsprechend (bitte ausprobieren)."
   ]
  },
  {
   "cell_type": "markdown",
   "id": "59c1627a-480b-40d2-9142-47d9e5046d3c",
   "metadata": {},
   "source": [
    "Wir können das Paket einfach wieder loswerden."
   ]
  },
  {
   "cell_type": "code",
   "execution_count": null,
   "id": "5dfc0c18-19a1-49d3-a66b-42ffce9c4b30",
   "metadata": {},
   "outputs": [],
   "source": [
    "!pip uninstall -y calculator"
   ]
  },
  {
   "cell_type": "markdown",
   "id": "e47abd92-0203-406c-a8eb-5acdd10dcbfc",
   "metadata": {},
   "source": [
    "## Verwendung des Pakets"
   ]
  },
  {
   "cell_type": "markdown",
   "id": "a687fd2a-0626-4de8-99da-13046f591ce0",
   "metadata": {},
   "source": [
    "Nachdem die Entwicklung abgeschlossen ist, wird eine statische wheel-Datei erzeugt, die mit pip installiert und anschließend verwendet werden kann."
   ]
  },
  {
   "cell_type": "code",
   "execution_count": null,
   "id": "ac399ff2-f9ee-47f9-a70a-9847b01c0a3a",
   "metadata": {
    "tags": []
   },
   "outputs": [],
   "source": [
    "%cd $project_path\n",
    "!python -m build\n",
    "!pip install dist/calculator-0.0.1-py3-none-any.whl"
   ]
  },
  {
   "cell_type": "markdown",
   "id": "7b03595e-cc11-4003-91dc-bba48f875af4",
   "metadata": {},
   "source": [
    "Wieder können Kommandozeilen-Anwendungen direkt aufgerufen werden.    "
   ]
  },
  {
   "cell_type": "code",
   "execution_count": null,
   "id": "7be3d0fc-7b98-443e-b997-ebc1c879dfd8",
   "metadata": {},
   "outputs": [],
   "source": [
    "! add_float 3 4"
   ]
  },
  {
   "cell_type": "markdown",
   "id": "c0e27070-ade3-4207-a319-f8888ef82c3b",
   "metadata": {},
   "source": [
    "Da sich das Paket *calculator* erst beim nächsten Release wieder ändert, erfolgt der Import statisch."
   ]
  },
  {
   "cell_type": "code",
   "execution_count": null,
   "id": "ce854180-44bd-422c-a637-1519997c4ed0",
   "metadata": {},
   "outputs": [],
   "source": [
    "import calculator.add_sub\n",
    "\n",
    "calculator.add_sub.my_add(3, 4)"
   ]
  },
  {
   "cell_type": "markdown",
   "id": "7fafdbcb-1431-4948-9e2a-9f11eeff38e5",
   "metadata": {},
   "source": [
    "Auch dieses Paket können wir einfach und restlos mit *pip* entfernen."
   ]
  },
  {
   "cell_type": "code",
   "execution_count": null,
   "id": "5f61d672-d5d9-4ad3-8b90-4d64eb0fcd5d",
   "metadata": {},
   "outputs": [],
   "source": [
    "!pip uninstall -y calculator"
   ]
  },
  {
   "cell_type": "markdown",
   "id": "98442c6d",
   "metadata": {},
   "source": [
    "# Weitere Bearbeitung in der Entwicklungsumgebung"
   ]
  },
  {
   "cell_type": "markdown",
   "id": "1aacbbdc",
   "metadata": {},
   "source": [
    "Jupyter Notebooks sind sehr gut für die Lösung kleinerer, isolierter Probleme geeignet. Die Ergebnisse (z.B. Funktionen oder Klassen) können anschließend in einer integrierten Entwicklungsumgebung zu größeren Modulen kombiniert und weiterentwickelt werden."
   ]
  },
  {
   "cell_type": "markdown",
   "id": "b11c0e8c",
   "metadata": {},
   "source": [
    "## Vorbereitungen "
   ]
  },
  {
   "cell_type": "markdown",
   "id": "6ce1449e",
   "metadata": {},
   "source": [
    "1. Passen Sie die Einstellungen oben in diesem Notebook an das konkrete Projekt an.\n",
    "1. Führen Sie die Schritte bis einschließlich \"Versionsverwaltung\" durch.\n",
    "1. Installieren Sie das Projekt mit *pip -e* wie im Abschnitt \"Paket erstellen und verwenden - Entwicklungs-Phase\" beschrieben.\n",
    "1. Öffnen Sie das Projekt-Verzeichnis (Variable *base_path*) in der Entwicklungsumgebung."
   ]
  },
  {
   "cell_type": "markdown",
   "id": "9a7c70e4",
   "metadata": {},
   "source": [
    "## Ergänzung von Funktionalität"
   ]
  },
  {
   "cell_type": "markdown",
   "id": "f8e10ab1",
   "metadata": {},
   "source": [
    "Implementieren Sie neue Funktionalität in der Entwicklungsumgebung oder übernehmen Sie Komponenten, die Sie in einem Jupyter-Notebook entwickelt haben. Vergessen Sie nicht, geeignete Tests zu erstellen."
   ]
  },
  {
   "cell_type": "markdown",
   "id": "a8bcd80c",
   "metadata": {},
   "source": [
    "## Formatierung des Source-Codes"
   ]
  },
  {
   "cell_type": "markdown",
   "id": "0220d55c",
   "metadata": {},
   "source": [
    "Um zu erreichen, dass die Formatierung des Codes einheitlich ist, kann das Programm [black](https://pypi.org/project/black/) verwendet werden. Wechseln Sie dazu ins Projekt-Verzeichnis und geben Sie folgenden Befehl ein:\n",
    "\n",
    "    black -l 79 .\n",
    "    \n",
    "*black* formatiert die Python-Dateien in sämtlichen Unterverzeichnissen neu, sofern diese nicht bereits dem Standard entsprechen. Der Parameter *-l 79* gibt die maximal zu verwendende Zeilenlänge an. Der hier verwendete Wert entspricht dem Standard und erlaubt es, auf aktuellen Monitoren zwei Dateien nebeneinander zu editieren."
   ]
  },
  {
   "cell_type": "markdown",
   "id": "5d109bb6",
   "metadata": {},
   "source": [
    "## Aktualisierung der Dokumentation "
   ]
  },
  {
   "cell_type": "markdown",
   "id": "a1f17d97",
   "metadata": {},
   "source": [
    "Um die html-Dokumentation zu aktualisieren, gehen Sie wie folgt vor:\n",
    "\n",
    "    cd docs\n",
    "    make html\n",
    "    \n",
    "Sphinx fügt dabei die Dokumentation für neue Klassen und Funktionen, die in existierenden Modulen neu entstanden sind, automatisch hinzu. Falls Sie neue Module erstellt haben, müssen Sie die weiter unten beschriebenen Ergänzungen vornehmen."
   ]
  },
  {
   "cell_type": "markdown",
   "id": "687a4f7b",
   "metadata": {},
   "source": [
    "## Tests und Code-Qualität"
   ]
  },
  {
   "cell_type": "markdown",
   "id": "beadbd17",
   "metadata": {},
   "source": [
    "**Tests** inklusive doctests können Sie vom Projekt-Verzeichnis aus wie folgt durchführen:\n",
    "\n",
    "    pytest --doctest-modules --ignore docs\n",
    "    \n",
    "Dabei durchsucht *pytest* alle Unterverzeichnisse nach Tests.\n",
    "\n",
    "Die Einhaltung von **Typ-Angaben** (type hints) überpfüfen Sie mit [mypy](http://www.mypy-lang.org):\n",
    "\n",
    "    mypy {package_name} tests\n",
    "\n",
    "Die **Code-Qualität** können Sie mit [pylint](https://pylint.org) vom Projekt-Verzeichnis aus wie folgt überprüfen:\n",
    "\n",
    "    pylint {package_name} tests\n",
    "    \n",
    "Dabei werden Abweichungen vom Coding-Standard angezeigt und ein Score (maximal 10) vergeben.\n",
    "\n",
    "{package_name} entspricht dem Namen des Pakets, z.B. *calculator*."
   ]
  },
  {
   "cell_type": "markdown",
   "id": "3bd86402",
   "metadata": {},
   "source": [
    "## Hinzufügen eines neuen Moduls "
   ]
  },
  {
   "cell_type": "markdown",
   "id": "3f43b7e9",
   "metadata": {},
   "source": [
    "Um ein Modul hinzuzufügen, das Sie nicht in der Liste *module_names* aufgeführt haben, gehen Sie wie folgt vor:\n",
    "\n",
    "1. Erzeugen Sie die neue Modul-Datei im Paket-Verzeichnis (*package_path*).\n",
    "1. Erzeugen Sie eine entsprechende Test-Datei im Verzeichnis (*test_path*).\n",
    "1. Integrieren Sie die beiden neuen Dateien mit *git add* in die Versionsverwaltung.\n",
    "1. Erweitern Sie die Datei *docs/{package_name}.rst*, indem Sie einen existierenden *module*-Eintrag kopieren und die Namen und Einstellungen entsprechend anpassen. \n",
    "1. Aktualisieren Sie die Dokumentation und stellen Sie sicher, dass das neue Modul aufgeführt wird."
   ]
  },
  {
   "cell_type": "markdown",
   "id": "cf1339db",
   "metadata": {},
   "source": [
    "## Erzeugung eines Pakets"
   ]
  },
  {
   "cell_type": "markdown",
   "id": "98c562af",
   "metadata": {},
   "source": [
    "Um eine installierbare *whl*-Datei zu erzeugen, geben Sie vom Projekt-Verzeichnis aus folgende Befehle ein:\n",
    "\n",
    "    pip uninstall -y {package_name}\n",
    "    python setup.py bdist_wheel\n",
    "    \n",
    "Die im Unterverzeichnis *dist* entstandene *whl*-Datei können Sie wie gewohnt mit pip installieren und auch weitergeben."
   ]
  }
 ],
 "metadata": {
  "celltoolbar": "Slideshow",
  "kernelspec": {
   "display_name": "Python 3 (ipykernel)",
   "language": "python",
   "name": "python3"
  },
  "language_info": {
   "codemirror_mode": {
    "name": "ipython",
    "version": 3
   },
   "file_extension": ".py",
   "mimetype": "text/x-python",
   "name": "python",
   "nbconvert_exporter": "python",
   "pygments_lexer": "ipython3",
   "version": "3.11.5"
  },
  "latex_envs": {
   "LaTeX_envs_menu_present": true,
   "autoclose": false,
   "autocomplete": true,
   "bibliofile": "biblio.bib",
   "cite_by": "apalike",
   "current_citInitial": 1,
   "eqLabelWithNumbers": true,
   "eqNumInitial": 1,
   "hotkeys": {
    "equation": "Ctrl-E",
    "itemize": "Ctrl-I"
   },
   "labels_anchors": false,
   "latex_user_defs": false,
   "report_style_numbering": false,
   "user_envs_cfg": false
  },
  "toc": {
   "base_numbering": 1,
   "nav_menu": {},
   "number_sections": true,
   "sideBar": true,
   "skip_h1_title": false,
   "title_cell": "Table of Contents",
   "title_sidebar": "Contents",
   "toc_cell": false,
   "toc_position": {
    "height": "calc(100% - 180px)",
    "left": "10px",
    "top": "150px",
    "width": "215.5px"
   },
   "toc_section_display": true,
   "toc_window_display": true
  },
  "varInspector": {
   "cols": {
    "lenName": 16,
    "lenType": 16,
    "lenVar": 40
   },
   "kernels_config": {
    "python": {
     "delete_cmd_postfix": "",
     "delete_cmd_prefix": "del ",
     "library": "var_list.py",
     "varRefreshCmd": "print(var_dic_list())"
    },
    "r": {
     "delete_cmd_postfix": ") ",
     "delete_cmd_prefix": "rm(",
     "library": "var_list.r",
     "varRefreshCmd": "cat(var_dic_list()) "
    }
   },
   "types_to_exclude": [
    "module",
    "function",
    "builtin_function_or_method",
    "instance",
    "_Feature"
   ],
   "window_display": false
  }
 },
 "nbformat": 4,
 "nbformat_minor": 5
}
