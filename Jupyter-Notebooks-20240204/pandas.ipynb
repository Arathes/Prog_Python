{
 "cells": [
  {
   "cell_type": "markdown",
   "metadata": {},
   "source": [
    "# pandas im Notebook nutzen"
   ]
  },
  {
   "cell_type": "markdown",
   "metadata": {},
   "source": [
    "## Quelle für dieses Beispiel:"
   ]
  },
  {
   "cell_type": "markdown",
   "metadata": {},
   "source": [
    "Cyrille Rossant: *IPython Interactive Computing and Visualization Cookbook*, Packt Publishing, Kap. 7"
   ]
  },
  {
   "cell_type": "markdown",
   "metadata": {},
   "source": [
    "## Import"
   ]
  },
  {
   "cell_type": "code",
   "execution_count": null,
   "metadata": {
    "ExecuteTime": {
     "end_time": "2019-12-14T15:16:29.528976Z",
     "start_time": "2019-12-14T15:16:28.693443Z"
    }
   },
   "outputs": [],
   "source": [
    "import numpy as np\n",
    "import matplotlib.pyplot as plt\n",
    "import pandas as pd\n",
    "%matplotlib inline"
   ]
  },
  {
   "cell_type": "markdown",
   "metadata": {},
   "source": [
    "## Ein csv-Datensatzes zum Thema Tennis"
   ]
  },
  {
   "cell_type": "code",
   "execution_count": null,
   "metadata": {
    "ExecuteTime": {
     "end_time": "2019-12-14T15:16:29.572939Z",
     "start_time": "2019-12-14T15:16:29.531676Z"
    }
   },
   "outputs": [],
   "source": [
    "df = pd.read_csv(\"Roger-Federer.csv\")"
   ]
  },
  {
   "cell_type": "markdown",
   "metadata": {},
   "source": [
    "Einen Überblick über die verfügbaren Daten erhält man so:"
   ]
  },
  {
   "cell_type": "code",
   "execution_count": null,
   "metadata": {
    "ExecuteTime": {
     "end_time": "2019-12-14T15:16:29.638689Z",
     "start_time": "2019-12-14T15:16:29.575861Z"
    }
   },
   "outputs": [],
   "source": [
    "df"
   ]
  },
  {
   "cell_type": "markdown",
   "metadata": {},
   "source": [
    "Welche unterschiedlichen Werte gibt es für das Feld \"surface\"?"
   ]
  },
  {
   "cell_type": "code",
   "execution_count": null,
   "metadata": {
    "ExecuteTime": {
     "end_time": "2019-12-14T15:16:29.653208Z",
     "start_time": "2019-12-14T15:16:29.642712Z"
    }
   },
   "outputs": [],
   "source": [
    "set(df[\"surface\"])"
   ]
  },
  {
   "cell_type": "markdown",
   "metadata": {},
   "source": [
    "Spiele, die Roger Federer gewonnen hat:"
   ]
  },
  {
   "cell_type": "code",
   "execution_count": null,
   "metadata": {
    "ExecuteTime": {
     "end_time": "2019-12-14T15:16:29.664890Z",
     "start_time": "2019-12-14T15:16:29.656851Z"
    }
   },
   "outputs": [],
   "source": [
    "df[\"win\"] = df[\"winner\"] == \"Roger Federer\""
   ]
  },
  {
   "cell_type": "markdown",
   "metadata": {},
   "source": [
    "Das Ergebnis der ersten acht Spiele in der Datei aus Sicht des Roger Federer:"
   ]
  },
  {
   "cell_type": "code",
   "execution_count": null,
   "metadata": {
    "ExecuteTime": {
     "end_time": "2019-12-14T15:16:29.676983Z",
     "start_time": "2019-12-14T15:16:29.668595Z"
    }
   },
   "outputs": [],
   "source": [
    "df[\"win\"].head(8)"
   ]
  },
  {
   "cell_type": "code",
   "execution_count": null,
   "metadata": {},
   "outputs": [],
   "source": [
    "df[\"winner\"].head(8)"
   ]
  },
  {
   "cell_type": "markdown",
   "metadata": {},
   "source": [
    "Die entsprechende Quote für alle in der Datei enthaltenen Spiele:"
   ]
  },
  {
   "cell_type": "code",
   "execution_count": null,
   "metadata": {
    "ExecuteTime": {
     "end_time": "2019-12-14T15:16:29.687808Z",
     "start_time": "2019-12-14T15:16:29.680591Z"
    }
   },
   "outputs": [],
   "source": [
    "q = df.win.mean()\n",
    "print(\"Gewinnquote für alle Spiele: {quote:.0f} %\".format(quote=q * 100))"
   ]
  },
  {
   "cell_type": "markdown",
   "metadata": {},
   "source": [
    "Wie ist denn die Quote für Rasen?"
   ]
  },
  {
   "cell_type": "code",
   "execution_count": null,
   "metadata": {
    "ExecuteTime": {
     "end_time": "2019-12-14T15:16:29.709708Z",
     "start_time": "2019-12-14T15:16:29.694374Z"
    }
   },
   "outputs": [],
   "source": [
    "grass_matches = df[df.surface == \"Outdoor: Grass\"]\n",
    "grass_matches_winner = grass_matches[\"winner\"] == \"Roger Federer\"\n",
    "qg = grass_matches_winner.mean()\n",
    "print(\"Gewinnquote für Spiele auf Rasen: {quote:.0f} %\".format(quote=qg * 100))"
   ]
  },
  {
   "cell_type": "markdown",
   "metadata": {},
   "source": [
    "Das geht auch eleganter, wenn wir die Quoten für alle Beläge wissen wollen:"
   ]
  },
  {
   "cell_type": "code",
   "execution_count": null,
   "metadata": {
    "ExecuteTime": {
     "end_time": "2019-12-14T15:16:29.751892Z",
     "start_time": "2019-12-14T15:16:29.716151Z"
    }
   },
   "outputs": [],
   "source": [
    "df.groupby(\"surface\")[\"win\"].mean() * 100"
   ]
  },
  {
   "cell_type": "markdown",
   "metadata": {},
   "source": [
    "Jetzt betrachten wir das Verhältnis von Doppelfehlern zu Punkten:"
   ]
  },
  {
   "cell_type": "code",
   "execution_count": null,
   "metadata": {
    "ExecuteTime": {
     "end_time": "2019-12-14T15:16:29.763964Z",
     "start_time": "2019-12-14T15:16:29.756395Z"
    }
   },
   "outputs": [],
   "source": [
    "df[\"dblfaults\"] = (\n",
    "    df[\"player1 double faults\"] / df[\"player1 total points total\"]\n",
    ")"
   ]
  },
  {
   "cell_type": "markdown",
   "metadata": {},
   "source": [
    "Eine einfache statistische Auswertung:"
   ]
  },
  {
   "cell_type": "code",
   "execution_count": null,
   "metadata": {
    "ExecuteTime": {
     "end_time": "2019-12-14T15:16:29.784493Z",
     "start_time": "2019-12-14T15:16:29.769244Z"
    }
   },
   "outputs": [],
   "source": [
    "df[\"dblfaults\"].describe()"
   ]
  },
  {
   "cell_type": "markdown",
   "metadata": {},
   "source": [
    "Eine besondere Stärke von *pandas* ist die Verarbeitung von Zeitreihen.\n",
    "Hier ist der Inhalt der Datei:"
   ]
  },
  {
   "cell_type": "markdown",
   "metadata": {},
   "source": [
    "Umwandlung in 'datetime':"
   ]
  },
  {
   "cell_type": "code",
   "execution_count": null,
   "metadata": {
    "ExecuteTime": {
     "end_time": "2019-12-14T15:16:29.797894Z",
     "start_time": "2019-12-14T15:16:29.787866Z"
    }
   },
   "outputs": [],
   "source": [
    "from datetime import datetime\n",
    "\n",
    "date = []\n",
    "for d in df[\"start date\"]:\n",
    "    day, month, year = d.split(\".\")\n",
    "    date.append(datetime(int(year), int(month), int(day)))"
   ]
  },
  {
   "cell_type": "markdown",
   "metadata": {},
   "source": [
    "Anzeige der Doppelfehler-Quote als Funktion der Zeit:"
   ]
  },
  {
   "cell_type": "code",
   "execution_count": null,
   "metadata": {
    "ExecuteTime": {
     "end_time": "2019-12-14T15:16:30.123330Z",
     "start_time": "2019-12-14T15:16:29.802525Z"
    }
   },
   "outputs": [],
   "source": [
    "plt.plot_date(date, df[\"dblfaults\"])"
   ]
  }
 ],
 "metadata": {
  "kernelspec": {
   "display_name": "Python 3 (ipykernel)",
   "language": "python",
   "name": "python3"
  },
  "language_info": {
   "codemirror_mode": {
    "name": "ipython",
    "version": 3
   },
   "file_extension": ".py",
   "mimetype": "text/x-python",
   "name": "python",
   "nbconvert_exporter": "python",
   "pygments_lexer": "ipython3",
   "version": "3.11.6"
  },
  "latex_envs": {
   "LaTeX_envs_menu_present": true,
   "autoclose": false,
   "autocomplete": true,
   "bibliofile": "biblio.bib",
   "cite_by": "apalike",
   "current_citInitial": 1,
   "eqLabelWithNumbers": true,
   "eqNumInitial": 1,
   "hotkeys": {
    "equation": "Ctrl-E",
    "itemize": "Ctrl-I"
   },
   "labels_anchors": false,
   "latex_user_defs": false,
   "report_style_numbering": false,
   "user_envs_cfg": false
  },
  "toc": {
   "base_numbering": 1,
   "nav_menu": {},
   "number_sections": true,
   "sideBar": true,
   "skip_h1_title": false,
   "title_cell": "Table of Contents",
   "title_sidebar": "Contents",
   "toc_cell": false,
   "toc_position": {},
   "toc_section_display": true,
   "toc_window_display": false
  },
  "varInspector": {
   "cols": {
    "lenName": 16,
    "lenType": 16,
    "lenVar": 40
   },
   "kernels_config": {
    "python": {
     "delete_cmd_postfix": "",
     "delete_cmd_prefix": "del ",
     "library": "var_list.py",
     "varRefreshCmd": "print(var_dic_list())"
    },
    "r": {
     "delete_cmd_postfix": ") ",
     "delete_cmd_prefix": "rm(",
     "library": "var_list.r",
     "varRefreshCmd": "cat(var_dic_list()) "
    }
   },
   "types_to_exclude": [
    "module",
    "function",
    "builtin_function_or_method",
    "instance",
    "_Feature"
   ],
   "window_display": false
  }
 },
 "nbformat": 4,
 "nbformat_minor": 1
}
