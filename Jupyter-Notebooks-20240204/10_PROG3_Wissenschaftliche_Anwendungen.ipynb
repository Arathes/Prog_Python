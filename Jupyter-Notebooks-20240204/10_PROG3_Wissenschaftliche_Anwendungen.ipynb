{
 "cells": [
  {
   "cell_type": "markdown",
   "metadata": {
    "slideshow": {
     "slide_type": "slide"
    }
   },
   "source": [
    "\n",
    "Programmieren 3 - Wissenschaftliche Anwendungen\n",
    "\n",
    "Peter Rösch, Fakultät für Informatik\n",
    "\n",
    "Hochschule Augsburg, 2023 / 2024"
   ]
  },
  {
   "cell_type": "markdown",
   "metadata": {
    "slideshow": {
     "slide_type": "slide"
    }
   },
   "source": [
    "# Einführung"
   ]
  },
  {
   "cell_type": "markdown",
   "metadata": {},
   "source": [
    "## Wissenschaftliche Anwendungen - Überblick"
   ]
  },
  {
   "cell_type": "markdown",
   "metadata": {},
   "source": [
    "Einen guten Überblick über stabile Pakete finden Sie auf der Seite https://scientific-python.org/specs/core-projects.\n",
    "\n",
    "Ziel der heutigen Veranstaltung ist es, einen Überblick einen Teil der genannten Pakete zu erhalten."
   ]
  },
  {
   "cell_type": "markdown",
   "metadata": {
    "slideshow": {
     "slide_type": "slide"
    }
   },
   "source": [
    "## Buch zu wissenschaftlichen Anwendungen mit Python"
   ]
  },
  {
   "cell_type": "markdown",
   "metadata": {},
   "source": [
    "Viele Beispiele zur Verwendung von IPython für wissenschaftliche Anwendungen finden Sie in folgendem Buch von Cyrille Rossant:  [IPython Interactive Computing and Visualization Cookbook](https://ipython-books.github.io/). Sie können das komplette Buch über die Bibliothek online lesen, hier ist der [Link](https://learning.oreilly.com/library/view/ipython-interactive-computing/9781785888632)."
   ]
  },
  {
   "cell_type": "markdown",
   "metadata": {
    "slideshow": {
     "slide_type": "slide"
    }
   },
   "source": [
    "# Symbolische Berechnungen mit sympy"
   ]
  },
  {
   "cell_type": "markdown",
   "metadata": {},
   "source": [
    "Idee: Symbolische Berechnungen statt Numerik. Großes Vorbild: [Mathematica](https://www.wolfram.com/mathematica).\n",
    "\n",
    "Weitergehende Informationen zu sympy finden Sie auf der [Homepage](http://sympy.org/en/index.html).\n",
    "\n",
    "Zunächst müssen die Symbole festgelegt werden, mit denen sympy rechnen soll:"
   ]
  },
  {
   "cell_type": "code",
   "execution_count": null,
   "metadata": {
    "slideshow": {
     "slide_type": "subslide"
    }
   },
   "outputs": [],
   "source": [
    "import sympy\n",
    "\n",
    "sympy.init_printing(use_latex=True)\n",
    "x, y, z = sympy.symbols(\"x y z\")\n",
    "k, m, n = sympy.symbols(\"k m n\", integer=True)\n",
    "f, g, h = map(sympy.Function, \"fgh\")"
   ]
  },
  {
   "cell_type": "markdown",
   "metadata": {
    "slideshow": {
     "slide_type": "subslide"
    }
   },
   "source": [
    "Mit diesen Symbolen können dann Ausdrücke formuliert werden:"
   ]
  },
  {
   "cell_type": "code",
   "execution_count": null,
   "metadata": {},
   "outputs": [],
   "source": [
    "eq = (x - y) ** 3 * (x + 1) ** 2\n",
    "eq"
   ]
  },
  {
   "cell_type": "markdown",
   "metadata": {
    "slideshow": {
     "slide_type": "subslide"
    }
   },
   "source": [
    "Der Ausdruck oben kann jetzt ausmultipliziert werden:"
   ]
  },
  {
   "cell_type": "code",
   "execution_count": null,
   "metadata": {},
   "outputs": [],
   "source": [
    "sympy.expand(eq)"
   ]
  },
  {
   "cell_type": "markdown",
   "metadata": {
    "slideshow": {
     "slide_type": "subslide"
    }
   },
   "source": [
    "Sympy löst Integrale symbolisch:"
   ]
  },
  {
   "cell_type": "code",
   "execution_count": null,
   "metadata": {},
   "outputs": [],
   "source": [
    "f = sympy.cos(x) ** 3\n",
    "sympy.Integral(f, x)"
   ]
  },
  {
   "cell_type": "code",
   "execution_count": null,
   "metadata": {
    "slideshow": {
     "slide_type": "subslide"
    }
   },
   "outputs": [],
   "source": [
    "g = sympy.integrate(f, x)\n",
    "g"
   ]
  },
  {
   "cell_type": "markdown",
   "metadata": {
    "slideshow": {
     "slide_type": "subslide"
    }
   },
   "source": [
    "Probe:"
   ]
  },
  {
   "cell_type": "code",
   "execution_count": null,
   "metadata": {},
   "outputs": [],
   "source": [
    "h = sympy.diff(g, x)\n",
    "h"
   ]
  },
  {
   "cell_type": "markdown",
   "metadata": {
    "slideshow": {
     "slide_type": "subslide"
    }
   },
   "source": [
    "Ist das wirklich die ursprüngliche Funktion *f* ?"
   ]
  },
  {
   "cell_type": "code",
   "execution_count": null,
   "metadata": {},
   "outputs": [],
   "source": [
    "sympy.simplify(h)"
   ]
  },
  {
   "cell_type": "markdown",
   "metadata": {
    "slideshow": {
     "slide_type": "subslide"
    }
   },
   "source": [
    "Sympy kann auch Differentialgleichungen lösen:"
   ]
  },
  {
   "cell_type": "code",
   "execution_count": null,
   "metadata": {},
   "outputs": [],
   "source": [
    "# f muss neu initialisiert werden\n",
    "f = sympy.Function(\"f\")\n",
    "eqn = sympy.Eq(sympy.Derivative(f(x), x, x) + 9 * f(x), 1)\n",
    "# Anzeige von Formeln mit display\n",
    "from IPython.display import display\n",
    "\n",
    "display(eqn)\n",
    "# Berechnen und Anziegen der Loesung\n",
    "sympy.dsolve(eqn, f(x))"
   ]
  },
  {
   "cell_type": "markdown",
   "metadata": {
    "slideshow": {
     "slide_type": "subslide"
    }
   },
   "source": [
    "## Übung (5 Minuten)"
   ]
  },
  {
   "cell_type": "markdown",
   "metadata": {},
   "source": [
    "Gehen Sie auf die Seite https://sympygamma.com und geben Sie folgende Rechenaufgabe ein:\n",
    "\n",
    "    integrate(sin(x)**3, x)\n",
    "    \n",
    "1. Was fällt Ihnen an der Ausgabe auf?\n",
    "1. Kommt Ihnen [diese Rechnung](https://docs.sympy.org/latest/modules/physics/units/examples.html) bekannt vor?"
   ]
  },
  {
   "cell_type": "markdown",
   "metadata": {
    "slideshow": {
     "slide_type": "subslide"
    }
   },
   "source": [
    "Python kann mit beliebiger Genauigkeit rechnen:"
   ]
  },
  {
   "cell_type": "markdown",
   "metadata": {},
   "source": [
    "## Rechnen mit beliebiger Genauigkeit"
   ]
  },
  {
   "cell_type": "markdown",
   "metadata": {},
   "source": [
    "Das Paket [mpmath](http://mpmath.org) erlaubt es, numerische Berechnungen mit (fast) beliebiger Genauigkeit durchzuführen."
   ]
  },
  {
   "cell_type": "code",
   "execution_count": null,
   "metadata": {
    "slideshow": {
     "slide_type": "subslide"
    }
   },
   "outputs": [],
   "source": [
    "import mpmath\n",
    "\n",
    "mpmath.mp.dps = 60\n",
    "mpmath.mp.pretty = True\n",
    "# direkte Ausgabe\n",
    "print(\"p0:\", mpmath.pi)\n",
    "# aus dem arcus sinus\n",
    "p1 = 2 * mpmath.asin(1)\n",
    "print(\"p1:\", p1)\n",
    "# Numerische Integration einer Gauss-Kurve\n",
    "p2 = (\n",
    "    mpmath.quad(\n",
    "        lambda x: 100 * mpmath.exp(-(x**2)), [-mpmath.inf, mpmath.inf]\n",
    "    )\n",
    "    ** 2\n",
    ")\n",
    "print(\"p2:\", p2)"
   ]
  },
  {
   "cell_type": "markdown",
   "metadata": {
    "slideshow": {
     "slide_type": "slide"
    }
   },
   "source": [
    "# numpy und numba - Vertiefung"
   ]
  },
  {
   "cell_type": "markdown",
   "metadata": {
    "ExecuteTime": {
     "end_time": "2020-12-06T21:46:21.307915Z",
     "start_time": "2020-12-06T21:46:21.304063Z"
    }
   },
   "source": [
    "Numpy überlädt Operatoren so, dass sie elementweise funktionieren. Das zugrundeliegende Konzept ist das der \"universal function\" [ufunc](https://numpy.org/doc/stable/reference/ufuncs.html). "
   ]
  },
  {
   "cell_type": "code",
   "execution_count": null,
   "metadata": {
    "slideshow": {
     "slide_type": "subslide"
    }
   },
   "outputs": [],
   "source": [
    "import numpy as np\n",
    "\n",
    "# Skalare\n",
    "a, b = 33, 44\n",
    "print(f\"a+b: {np.add(a, b)}\")"
   ]
  },
  {
   "cell_type": "code",
   "execution_count": null,
   "metadata": {
    "slideshow": {
     "slide_type": "subslide"
    }
   },
   "outputs": [],
   "source": [
    "# Vektoren\n",
    "a = np.random.uniform(-3, 3, 3)\n",
    "b = np.random.uniform(-3, 0, 3)\n",
    "print(f\"a+b: {np.add(a, b)}\")"
   ]
  },
  {
   "cell_type": "code",
   "execution_count": null,
   "metadata": {
    "slideshow": {
     "slide_type": "subslide"
    }
   },
   "outputs": [],
   "source": [
    "# Matrizen\n",
    "a = np.random.uniform(-3, 3, (3, 3))\n",
    "b = np.random.uniform(-3, 0, (3, 3))\n",
    "print(f\"a+b:\\n{np.add(a, b)}\")"
   ]
  },
  {
   "cell_type": "code",
   "execution_count": null,
   "metadata": {
    "slideshow": {
     "slide_type": "subslide"
    }
   },
   "outputs": [],
   "source": [
    "# ufunc - Broadcasting und Typ-Anpassung\n",
    "a = np.abs(np.random.normal(size=(4, 3)))\n",
    "b = np.array([1, 2, 3], dtype=np.uint8)\n",
    "print(f\"a:\\n{a}\\na+b({(a+b).dtype})\\n{a+b}:\")"
   ]
  },
  {
   "cell_type": "code",
   "execution_count": null,
   "metadata": {},
   "outputs": [],
   "source": [
    "%timeit c = a + b"
   ]
  },
  {
   "cell_type": "markdown",
   "metadata": {
    "ExecuteTime": {
     "end_time": "2020-12-06T22:17:38.256196Z",
     "start_time": "2020-12-06T22:17:38.251321Z"
    },
    "slideshow": {
     "slide_type": "subslide"
    }
   },
   "source": [
    "Frage: Wie können wir das mit *numba* nachbilden?\n",
    "\n",
    "Wie üblich wollen wir möglichst wenig Aufwand investieren ...\n",
    "\n",
    "Lösung: [vectorize / guvectorize](https://numba.pydata.org/numba-doc/latest/user/vectorize.html)."
   ]
  },
  {
   "cell_type": "code",
   "execution_count": null,
   "metadata": {
    "slideshow": {
     "slide_type": "subslide"
    }
   },
   "outputs": [],
   "source": [
    "import numba"
   ]
  },
  {
   "cell_type": "code",
   "execution_count": null,
   "metadata": {},
   "outputs": [],
   "source": [
    "@numba.vectorize\n",
    "def numba_add(x, y):\n",
    "    return x + y"
   ]
  },
  {
   "cell_type": "markdown",
   "metadata": {
    "slideshow": {
     "slide_type": "subslide"
    }
   },
   "source": [
    "Für welche Datentypen wurde optimierter Code generiert?"
   ]
  },
  {
   "cell_type": "code",
   "execution_count": null,
   "metadata": {
    "slideshow": {
     "slide_type": "fragment"
    }
   },
   "outputs": [],
   "source": [
    "numba_add.types"
   ]
  },
  {
   "cell_type": "code",
   "execution_count": null,
   "metadata": {
    "slideshow": {
     "slide_type": "subslide"
    }
   },
   "outputs": [],
   "source": [
    "%timeit c = numba_add(a, b)"
   ]
  },
  {
   "cell_type": "code",
   "execution_count": null,
   "metadata": {},
   "outputs": [],
   "source": [
    "numba_add.types"
   ]
  },
  {
   "cell_type": "code",
   "execution_count": null,
   "metadata": {
    "slideshow": {
     "slide_type": "fragment"
    }
   },
   "outputs": [],
   "source": [
    "d = numba_add(a, a)\n",
    "numba_add.types"
   ]
  },
  {
   "cell_type": "markdown",
   "metadata": {
    "slideshow": {
     "slide_type": "slide"
    }
   },
   "source": [
    "# Interpolation"
   ]
  },
  {
   "cell_type": "markdown",
   "metadata": {},
   "source": [
    "Interpolationsmethoden erlauben es, Werte, zwischen bekannten Messwerten liegen, unter Verwendung eines bestimmten Modells zu 'raten'."
   ]
  },
  {
   "cell_type": "code",
   "execution_count": null,
   "metadata": {},
   "outputs": [],
   "source": [
    "import numpy as np\n",
    "import matplotlib.pyplot as plt\n",
    "%matplotlib ipympl"
   ]
  },
  {
   "cell_type": "code",
   "execution_count": null,
   "metadata": {
    "slideshow": {
     "slide_type": "subslide"
    }
   },
   "outputs": [],
   "source": [
    "N = 16\n",
    "np.random.seed(2019)\n",
    "s = np.cumsum(np.random.uniform(-1, 1, N))\n",
    "x = range(0, N)"
   ]
  },
  {
   "cell_type": "code",
   "execution_count": null,
   "metadata": {
    "slideshow": {
     "slide_type": "subslide"
    }
   },
   "outputs": [],
   "source": [
    "from scipy import interpolate\n",
    "\n",
    "f = interpolate.interp1d(x, s, kind=\"cubic\")\n",
    "xN = np.arange(0, N - 1, 0.01)\n",
    "yN = f(xN)\n",
    "ax = plt.figure().add_subplot(111)\n",
    "ax.plot(x, s, \"ro\")\n",
    "ax.plot(xN, yN)"
   ]
  },
  {
   "cell_type": "markdown",
   "metadata": {},
   "source": [
    "Durch Variation des Parameters *kind* können unterschiedliche Interpolationsverfahren ausgewählt werden."
   ]
  },
  {
   "cell_type": "code",
   "execution_count": null,
   "metadata": {},
   "outputs": [],
   "source": [
    "help(interpolate.interp1d)"
   ]
  },
  {
   "cell_type": "markdown",
   "metadata": {
    "slideshow": {
     "slide_type": "slide"
    }
   },
   "source": [
    "# Digitale Bildverarbeitung"
   ]
  },
  {
   "cell_type": "markdown",
   "metadata": {},
   "source": [
    "Die Python Imaging Library (PIL) erlaubt es auf einfache Art und Weise, Bilder zu laden, zu manipulieren und anzuzeigen:"
   ]
  },
  {
   "cell_type": "code",
   "execution_count": null,
   "metadata": {
    "slideshow": {
     "slide_type": "subslide"
    }
   },
   "outputs": [],
   "source": [
    "import math\n",
    "from PIL import Image, ImageFilter"
   ]
  },
  {
   "cell_type": "code",
   "execution_count": null,
   "metadata": {
    "slideshow": {
     "slide_type": "subslide"
    }
   },
   "outputs": [],
   "source": [
    "im = Image.open(\"cameraman.png\")\n",
    "ax = plt.figure().add_subplot(111)\n",
    "ax.imshow(im, cmap=plt.cm.gray)"
   ]
  },
  {
   "cell_type": "code",
   "execution_count": null,
   "metadata": {
    "slideshow": {
     "slide_type": "subslide"
    }
   },
   "outputs": [],
   "source": [
    "out_im = im.rotate(-45).filter(ImageFilter.BLUR)\n",
    "ax = plt.figure().add_subplot(111)\n",
    "ax.imshow(out_im, cmap=plt.cm.gray)"
   ]
  },
  {
   "cell_type": "markdown",
   "metadata": {
    "slideshow": {
     "slide_type": "subslide"
    }
   },
   "source": [
    "Bilder können in numpy-Arrays umgewandelt werden:"
   ]
  },
  {
   "cell_type": "code",
   "execution_count": null,
   "metadata": {},
   "outputs": [],
   "source": [
    "a = np.asarray(im, dtype=np.ubyte)\n",
    "# Schwellwert\n",
    "b = np.where(a < 100, 1, 0)\n",
    "ax = plt.figure().add_subplot(111)\n",
    "ax.imshow(b, cmap=plt.cm.gray)"
   ]
  },
  {
   "cell_type": "markdown",
   "metadata": {
    "slideshow": {
     "slide_type": "subslide"
    }
   },
   "source": [
    "Das Paket *scipy.ndimage* gibt dem Entwickler mehr Kontrolle darüber, was passiert und enthält fortgeschrittene Bildverarbeitungs-Methoden wie z.B. Morphologie:"
   ]
  },
  {
   "cell_type": "code",
   "execution_count": null,
   "metadata": {},
   "outputs": [],
   "source": [
    "import scipy.ndimage"
   ]
  },
  {
   "cell_type": "code",
   "execution_count": null,
   "metadata": {
    "slideshow": {
     "slide_type": "subslide"
    }
   },
   "outputs": [],
   "source": [
    "c = scipy.ndimage.binary_opening(b)\n",
    "ax = plt.figure().add_subplot(111)\n",
    "ax.imshow(c, cmap=plt.cm.gray)"
   ]
  },
  {
   "cell_type": "markdown",
   "metadata": {
    "slideshow": {
     "slide_type": "subslide"
    }
   },
   "source": [
    "Die Anwendung einer Filter-Maske nennt man Faltung ('convolution'). Beispiel: Box-Filter:"
   ]
  },
  {
   "cell_type": "code",
   "execution_count": null,
   "metadata": {},
   "outputs": [],
   "source": [
    "box_filter = np.ones(shape=(5, 5))\n",
    "box_filter /= np.sum(box_filter)\n",
    "print(\"box filter:\\n\", box_filter)\n",
    "a_smoothed = scipy.ndimage.convolve(a, box_filter)\n",
    "ax = plt.figure().add_subplot(111)\n",
    "ax.imshow(a_smoothed, cmap=plt.cm.gray)"
   ]
  },
  {
   "cell_type": "code",
   "execution_count": null,
   "metadata": {
    "slideshow": {
     "slide_type": "subslide"
    }
   },
   "outputs": [],
   "source": [
    "from skimage import data, filters\n",
    "\n",
    "im = data.camera()\n",
    "edges = filters.sobel(im)\n",
    "ax = plt.figure().add_subplot(111)\n",
    "ax.imshow(edges, cmap=plt.cm.gray)"
   ]
  },
  {
   "cell_type": "markdown",
   "metadata": {
    "slideshow": {
     "slide_type": "subslide"
    }
   },
   "source": [
    "Das Paket *OpenCV* bietet hoch optimierte Funktionen aus dem Bereich Computer Vision und erlaubt auf einfache Art und Weise den Zugriff auf Kameras. Schließen Sie eine Kamera an, machen Sie diese ggf. für die VM verfügbar und starten Sie das folgende Beispiel."
   ]
  },
  {
   "cell_type": "code",
   "execution_count": null,
   "metadata": {
    "slideshow": {
     "slide_type": "subslide"
    }
   },
   "outputs": [],
   "source": [
    "import cv2\n",
    "\n",
    "cap = cv2.VideoCapture(0)\n",
    "FPS = 25\n",
    "while cv2.waitKey(1000 // FPS) & 0xFF != ord(\"q\"):\n",
    "    success, frame = cap.read()\n",
    "    if success:\n",
    "        cv2.imshow(\"Orignal\", frame)\n",
    "        grey = cv2.cvtColor(frame, cv2.COLOR_BGR2GRAY)\n",
    "        _, thresh = cv2.threshold(grey, 120, 255, cv2.THRESH_BINARY_INV)\n",
    "        cv2.imshow(\"Result\", thresh)\n",
    "cap.release()\n",
    "cv2.destroyAllWindows()"
   ]
  },
  {
   "cell_type": "markdown",
   "metadata": {
    "slideshow": {
     "slide_type": "fragment"
    }
   },
   "source": [
    "Frage: Wie könnte man diesen Code lesbarer machen?"
   ]
  },
  {
   "cell_type": "code",
   "execution_count": null,
   "metadata": {
    "slideshow": {
     "slide_type": "subslide"
    }
   },
   "outputs": [],
   "source": [
    "import cv2\n",
    "\n",
    "\n",
    "class CameraFrames:\n",
    "    \"\"\"Context manager for Camera frame reading\"\"\"\n",
    "\n",
    "    def _frame_generator(self):\n",
    "        while cv2.waitKey(1000 // self._frames_per_second) & 0xFF != ord(\"q\"):\n",
    "            success, frame = self._capture.read()\n",
    "            if success:\n",
    "                yield frame.copy()\n",
    "\n",
    "    def __enter__(self):\n",
    "        self._capture = cv2.VideoCapture(0)\n",
    "        self._frames_per_second = 25\n",
    "        while not self._capture.read()[0]:\n",
    "            pass\n",
    "\n",
    "        gen = self._frame_generator()\n",
    "        next(gen)\n",
    "        return gen\n",
    "\n",
    "    def __exit__(self, exc_type, exc_value, tb):\n",
    "        self._capture.release()\n",
    "        cv2.destroyAllWindows()\n",
    "        if exc_type is not None:\n",
    "            traceback.print_exception(exc_type, exc_value, tb)"
   ]
  },
  {
   "cell_type": "code",
   "execution_count": null,
   "metadata": {
    "slideshow": {
     "slide_type": "subslide"
    }
   },
   "outputs": [],
   "source": [
    "def process_camera_frames(frame_function, *args, **kwargs):\n",
    "    with CameraFrames() as frames:\n",
    "        for frame in frames:\n",
    "            frame_function(frame, *args, **kwargs)"
   ]
  },
  {
   "cell_type": "code",
   "execution_count": null,
   "metadata": {
    "slideshow": {
     "slide_type": "subslide"
    }
   },
   "outputs": [],
   "source": [
    "def frame_threshold(frame, threshold=128, gval=255):\n",
    "    cv2.imshow(\"Orignal\", frame)\n",
    "    grey = cv2.cvtColor(frame, cv2.COLOR_BGR2GRAY)\n",
    "    _, thresh = cv2.threshold(grey, threshold, gval, cv2.THRESH_BINARY_INV)\n",
    "    cv2.imshow(\"Result\", thresh)"
   ]
  },
  {
   "cell_type": "code",
   "execution_count": null,
   "metadata": {
    "slideshow": {
     "slide_type": "fragment"
    }
   },
   "outputs": [],
   "source": [
    "process_camera_frames(frame_threshold, 128, gval=255)"
   ]
  },
  {
   "cell_type": "markdown",
   "metadata": {
    "slideshow": {
     "slide_type": "slide"
    }
   },
   "source": [
    "# Visualisierung"
   ]
  },
  {
   "cell_type": "markdown",
   "metadata": {
    "slideshow": {
     "slide_type": "subslide"
    }
   },
   "source": [
    "## 2D-Plots"
   ]
  },
  {
   "cell_type": "markdown",
   "metadata": {},
   "source": [
    "Funktionsplots lassen sich recht einfach mit *matplotlib* erstellen:"
   ]
  },
  {
   "cell_type": "code",
   "execution_count": null,
   "metadata": {
    "slideshow": {
     "slide_type": "subslide"
    }
   },
   "outputs": [],
   "source": [
    "x = np.arange(-2 * math.pi, 2 * math.pi, 0.01, dtype=np.float32)\n",
    "y = np.cos(x)\n",
    "plt.xlim(-2 * math.pi, 2 * math.pi)\n",
    "ax = plt.figure().add_subplot(111)\n",
    "ax.plot(x, y)"
   ]
  },
  {
   "cell_type": "markdown",
   "metadata": {
    "slideshow": {
     "slide_type": "subslide"
    }
   },
   "source": [
    "Das Grauwert-Histogramm des Bildes von oben sieht so aus: "
   ]
  },
  {
   "cell_type": "code",
   "execution_count": null,
   "metadata": {},
   "outputs": [],
   "source": [
    "from PIL import Image\n",
    "\n",
    "im = Image.open(\"cameraman.png\")\n",
    "a = np.asarray(im, dtype=np.float32)\n",
    "ax = plt.figure().add_subplot(111)\n",
    "h = ax.hist(a.flatten(), bins=25)"
   ]
  },
  {
   "cell_type": "markdown",
   "metadata": {
    "slideshow": {
     "slide_type": "subslide"
    }
   },
   "source": [
    "Oft möchte man die Grafiken ausführlich beschriften:"
   ]
  },
  {
   "cell_type": "code",
   "execution_count": null,
   "metadata": {},
   "outputs": [],
   "source": [
    "import matplotlib\n",
    "\n",
    "matplotlib.rcParams.update({\"font.size\": 18, \"font.family\": \"serif\"})\n",
    "fig, ax = plt.subplots()\n",
    "ax.plot(x, x**2, label=r\"$y = \\alpha^2$\")\n",
    "ax.plot(x, x**3, label=r\"$y = \\alpha^3$\")\n",
    "ax.set_xlabel(r\"$\\alpha$\")\n",
    "ax.set_ylabel(r\"$y$\")\n",
    "ax.set_title(\"Formeln in Beschriftungen\")\n",
    "ax.legend(loc=4)\n",
    "# lower right corner"
   ]
  },
  {
   "cell_type": "markdown",
   "metadata": {
    "slideshow": {
     "slide_type": "subslide"
    }
   },
   "source": [
    "Es ist einfach möglich, das Spektrum eines Signals auszugeben."
   ]
  },
  {
   "cell_type": "code",
   "execution_count": null,
   "metadata": {},
   "outputs": [],
   "source": [
    "x_min, x_max, x_step = -30.0, 30.0, 0.1\n",
    "x = np.arange(x_min, x_max, x_step)\n",
    "y = np.sin(x) / x\n",
    "ax = plt.figure().add_subplot(111)\n",
    "ax.plot(x, y)\n",
    "ax.set_title(\"$\\sin(x) / x$\")"
   ]
  },
  {
   "cell_type": "code",
   "execution_count": null,
   "metadata": {
    "slideshow": {
     "slide_type": "subslide"
    }
   },
   "outputs": [],
   "source": [
    "M = len(x)\n",
    "Y = np.abs(np.fft.fftshift(np.fft.fft(y))) ** 2.0\n",
    "X = np.fft.fftshift(np.fft.fftfreq(M, x_step))\n",
    "ax = plt.figure().add_subplot(111)\n",
    "ax.plot(X, Y)\n",
    "ax.set_title(\"Power-Spectrum\")"
   ]
  },
  {
   "cell_type": "markdown",
   "metadata": {
    "slideshow": {
     "slide_type": "subslide"
    }
   },
   "source": [
    "Weitere interessante Beispiele für die Verwendung von pylab / matplotlib finden Sie unter [gallery](http://matplotlib.org/gallery.html) auf der [Homepage](http://matplotlib.org/). Der Source-Code für die Beispiele ist ebenfalls verfügbar, so dass sich die Gallery sehr gut als \"Kopiervorlage\" eignet."
   ]
  },
  {
   "cell_type": "markdown",
   "metadata": {
    "slideshow": {
     "slide_type": "subslide"
    }
   },
   "source": [
    "##  Surface-Plots"
   ]
  },
  {
   "cell_type": "code",
   "execution_count": null,
   "metadata": {
    "slideshow": {
     "slide_type": "subslide"
    }
   },
   "outputs": [],
   "source": [
    "# create supporting points in polar coordinates\n",
    "import numpy as np\n",
    "import matplotlib.pyplot as plt\n",
    "import matplotlib\n",
    "from mpl_toolkits.mplot3d import Axes3D\n",
    "\n",
    "r = np.linspace(0, 1.25, 20)\n",
    "p = np.linspace(0, 2 * np.pi, 20)\n",
    "R, P = np.meshgrid(r, p)\n",
    "# transform them to cartesian system\n",
    "X, Y = R * np.cos(P), R * np.sin(P)\n",
    "Z = (R**2 - 1) ** 2\n",
    "fig = plt.figure()\n",
    "ax = Axes3D(fig, auto_add_to_figure=False)\n",
    "fig.add_axes(ax)\n",
    "ax.set_zlim3d(0, 1)\n",
    "ax.plot_surface(X, Y, Z, rstride=1, cstride=1, cmap=matplotlib.cm.YlGnBu_r)"
   ]
  },
  {
   "cell_type": "markdown",
   "metadata": {
    "slideshow": {
     "slide_type": "subslide"
    }
   },
   "source": [
    "Das Beispiel stammt aus der gallery, und zwar von [hier](http://matplotlib.org/examples/mplot3d/surface3d_radial_demo.html). Start mit"
   ]
  },
  {
   "cell_type": "markdown",
   "metadata": {
    "slideshow": {
     "slide_type": "slide"
    }
   },
   "source": [
    "# Anpassung eines Modells an Daten"
   ]
  },
  {
   "cell_type": "markdown",
   "metadata": {},
   "source": [
    "In vielen Fällen können Daten durch Polynome angenähert werden."
   ]
  },
  {
   "cell_type": "code",
   "execution_count": null,
   "metadata": {
    "slideshow": {
     "slide_type": "subslide"
    }
   },
   "outputs": [],
   "source": [
    "data = np.loadtxt(\"polynomial.dat\")\n",
    "x, y = data[:, 0], data[:, 1]\n",
    "ax = plt.subplots()[1]\n",
    "ax.plot(x, y, \"ro\")"
   ]
  },
  {
   "cell_type": "code",
   "execution_count": null,
   "metadata": {
    "slideshow": {
     "slide_type": "subslide"
    }
   },
   "outputs": [],
   "source": [
    "x, y = data[:, 0], data[:, 1]\n",
    "coeffs = np.polyfit(x, y, 3)\n",
    "print(\"parameters: \", coeffs)\n",
    "ax = plt.figure().add_subplot(111)\n",
    "ax.plot(x, y, \"+\")\n",
    "ax.plot(x, np.polyval(coeffs, x), \"-\")"
   ]
  },
  {
   "cell_type": "markdown",
   "metadata": {
    "slideshow": {
     "slide_type": "subslide"
    }
   },
   "source": [
    "Falls die Funktion nicht linear bezüglich der Parameter ist, muss ein iteratives Verfahren zur Anpassung verwendet werden. Meist wird die Methode von [Levenberg-Marquardt](http://ananth.in/docs/lmtut.pdf) verwendet."
   ]
  },
  {
   "cell_type": "code",
   "execution_count": null,
   "metadata": {
    "slideshow": {
     "slide_type": "subslide"
    }
   },
   "outputs": [],
   "source": [
    "def func(x, a, b, c):\n",
    "    return a * np.exp(-b * x) + c\n",
    "\n",
    "\n",
    "x = np.linspace(0, 4, 50)\n",
    "y = func(x, 2.5, 1.3, 0.5)\n",
    "yn = y + 0.04 * np.random.normal(size=len(x))\n",
    "ax = plt.subplots()[1]\n",
    "ax.plot(x, y)\n",
    "ax.plot(x, yn, \"ro\")"
   ]
  },
  {
   "cell_type": "code",
   "execution_count": null,
   "metadata": {
    "slideshow": {
     "slide_type": "subslide"
    }
   },
   "outputs": [],
   "source": [
    "from scipy.optimize import curve_fit\n",
    "\n",
    "popt, pcov = curve_fit(func, x, yn)\n",
    "print(popt)\n",
    "print(pcov)"
   ]
  },
  {
   "cell_type": "code",
   "execution_count": null,
   "metadata": {
    "scrolled": true,
    "slideshow": {
     "slide_type": "subslide"
    }
   },
   "outputs": [],
   "source": [
    "y_fit = func(x, popt[0], popt[1], popt[2])\n",
    "ax = plt.figure().add_subplot(111)\n",
    "ax.plot(x, y_fit)\n",
    "ax.plot(x, yn, \"ro\")"
   ]
  },
  {
   "cell_type": "markdown",
   "metadata": {
    "slideshow": {
     "slide_type": "slide"
    }
   },
   "source": [
    "# Verarbeitung tabellarischer Daten mit pandas"
   ]
  },
  {
   "cell_type": "markdown",
   "metadata": {},
   "source": [
    "Das Beispiel im Notebook *pandas.ipynb* stammt von Cyrille Rossant."
   ]
  },
  {
   "cell_type": "markdown",
   "metadata": {},
   "source": [
    "# Python und $\\mu$ CT: Wurzelbehandlung"
   ]
  },
  {
   "cell_type": "markdown",
   "metadata": {},
   "source": [
    "Quelle: P. Rösch, J. Jin, K.-H. Kunzelmann: *Quantitative evaluation of Root Canal Instrumentation using Skeleton Models derived from 3D Level Set Segmentation of $\\mu$ CT Data.* International Journal of Computer assisted Radiology and Surgery **6 (Suppl. 1)** (2011) 209"
   ]
  },
  {
   "cell_type": "markdown",
   "metadata": {
    "slideshow": {
     "slide_type": "subslide"
    }
   },
   "source": [
    "# VTK und ParaView"
   ]
  },
  {
   "cell_type": "markdown",
   "metadata": {},
   "source": [
    "Das Vizualization Toolkit ([VTK](http://www.vtk.org)) kann von Python aus benutzt werden. VTK erlaubt die Darstellung von Skalar-, Vektor- und Tensordaten und unterstützt auch die stereoskopische Ausgabe auf 3D-Monitoren und auf der \"Powerwall\" in M2.01. \n",
    "\n",
    "Beispiele finden Sie in der [VTK-Galerie](http://www.vtk.org/VTK/project/imagegallery.php).\n",
    "\n",
    "Sie können die Visualisierungs-Pipeline auch interaktiv mit [ParaView](http://paraview.org) erstellen und\n",
    "dann z.B. als Python-Code exportieren."
   ]
  },
  {
   "cell_type": "code",
   "execution_count": null,
   "metadata": {
    "slideshow": {
     "slide_type": "subslide"
    }
   },
   "outputs": [],
   "source": [
    "%%file fisch.py\n",
    "import vtk\n",
    "#\n",
    "# set up image reader\n",
    "#\n",
    "reader = vtk.vtkMetaImageReader()\n",
    "reader.SetFileName('Carp.mhd')\n",
    "reader.Update()\n",
    "#\n",
    "# print gray value  range\n",
    "#\n",
    "srange = reader.GetOutput().GetScalarRange()\n",
    "print(\"grey value range: %.2f - %2.f\" % (srange[0], srange[1]))\n",
    "#\n",
    "# now set up surface extractor\n",
    "#\n",
    "surfaceExtractor = vtk.vtkContourFilter()\n",
    "surfaceExtractor.SetInputConnection(reader.GetOutputPort())\n",
    "surfaceExtractor.SetValue(0, 1000)\n",
    "#surfaceExtractor.SetValue(0, 1200)\n",
    "surfaceExtractor.ComputeNormalsOn()\n",
    "#\n",
    "# simplify mesh\n",
    "#\n",
    "decimator = vtk.vtkQuadricDecimation()\n",
    "decimator.SetInputConnection(surfaceExtractor.GetOutputPort())\n",
    "decimator.SetTargetReduction(0.5)\n",
    "decimator.VolumePreservationOn()\n",
    "#\n",
    "# extract largest connected component\n",
    "#\n",
    "connectivityFilter = vtk.vtkPolyDataConnectivityFilter()\n",
    "connectivityFilter.SetInputConnection(decimator.GetOutputPort())\n",
    "connectivityFilter.SetExtractionModeToLargestRegion()\n",
    "#\n",
    "# transform into triangle strips if possible\n",
    "#\n",
    "surfaceStripper = vtk.vtkStripper()\n",
    "surfaceStripper.SetInputConnection(connectivityFilter.GetOutputPort())\n",
    "surfaceMapper = vtk.vtkPolyDataMapper()\n",
    "surfaceMapper.SetInputConnection(surfaceStripper.GetOutputPort())\n",
    "surfaceMapper.ScalarVisibilityOff()\n",
    "#\n",
    "# Actor, mapper and illumination\n",
    "#\n",
    "surface = vtk.vtkActor()\n",
    "surface.SetMapper(surfaceMapper)\n",
    "surface.GetProperty().SetDiffuseColor(1, .49, .25)\n",
    "surface.GetProperty().SetSpecular(.3)\n",
    "surface.GetProperty().SetSpecularPower(20)\n",
    "#\n",
    "# finally, we need to display the stuff\n",
    "#\n",
    "aRenderer = vtk.vtkRenderer()\n",
    "renWin = vtk.vtkRenderWindow()\n",
    "renWin.AddRenderer(aRenderer)\n",
    "iren = vtk.vtkRenderWindowInteractor()\n",
    "iren.SetInteractorStyle(vtk.vtkInteractorStyleTrackballCamera())\n",
    "iren.SetRenderWindow(renWin)\n",
    "aRenderer.AddActor(surface)\n",
    "aRenderer.SetBackground(1, 1, 1)\n",
    "#\n",
    "# Interact with the data.\n",
    "#\n",
    "iren.Initialize()\n",
    "iren.Start()"
   ]
  },
  {
   "cell_type": "code",
   "execution_count": null,
   "metadata": {},
   "outputs": [],
   "source": [
    "%%bash\n",
    "python fisch.py"
   ]
  },
  {
   "cell_type": "markdown",
   "metadata": {
    "slideshow": {
     "slide_type": "slide"
    }
   },
   "source": [
    "# Aufgaben, freiwillig"
   ]
  },
  {
   "cell_type": "markdown",
   "metadata": {},
   "source": [
    "## Numerische und symbolische Berechnungen"
   ]
  },
  {
   "cell_type": "markdown",
   "metadata": {},
   "source": [
    "1. Arbeiten Sie die oben gegebenen Beispiele nochmals durch und klären Sie offene Fragen mit dem Dozenten.\n",
    "1. Welche Möglichkeit gibt es, die \"optimalen\" Parameter einer *allgemeinen* Kurve, z.B. $$y_i = a  \\cos(b x_i) \\; e^{-x_i^2}$$ aus einem Satz von Meßwerten zu bestimmen? \n",
    "1. Finden Sie heraus, ob *sympy* eine der fortgeschrittenen Aufgaben aus Ihrer Mathematik-Vorlesung lösen kann und dokumentieren Sie das Beispiel in einem Jupyter-Notebook.\n",
    "1. Experimentieren Sie mit [sympy gamma](http://www.sympygamma.com) und halten Sie ein für Sie interessantes Beispiel fest. Sind die angegebenen Lösungswege für Sie nachvollziehbar?"
   ]
  },
  {
   "cell_type": "markdown",
   "metadata": {
    "slideshow": {
     "slide_type": "subslide"
    }
   },
   "source": [
    "## Visualisierung"
   ]
  },
  {
   "cell_type": "markdown",
   "metadata": {},
   "source": [
    "\n",
    "1. Verschaffen Sie sich anhander der [matplotlib gallery](http://matplotlib.org/gallery.html) einen Überblick über die Möglichkeiten, die das Paket *matplotlib* (bzw. *pylab*) bietet, kopieren Sie *zwei* für Sie interessante Beispiele in ein Notebook und erklären Sie, was in den Grafiken dargestellt wird."
   ]
  },
  {
   "cell_type": "markdown",
   "metadata": {},
   "source": [
    "# Überprüfung"
   ]
  },
  {
   "cell_type": "markdown",
   "metadata": {},
   "source": [
    "1. Warum sind Python-Listen für numerische Berechnungen nicht sonderlich effizient? (max. zwei Sätze)\n",
    "1. Welche Vorteile hat es, Bild-Daten als *numpy*-Arrays zu repräsentieren?\n",
    "1. Erklären Sie kurz den Begriff \"Symbolische Berechnungen\" in Bezug auf das Paket *sympy*. (max. drei Sätze)"
   ]
  }
 ],
 "metadata": {
  "anaconda-cloud": {},
  "celltoolbar": "Slideshow",
  "kernelspec": {
   "display_name": "Python 3 (ipykernel)",
   "language": "python",
   "name": "python3"
  },
  "language_info": {
   "codemirror_mode": {
    "name": "ipython",
    "version": 3
   },
   "file_extension": ".py",
   "mimetype": "text/x-python",
   "name": "python",
   "nbconvert_exporter": "python",
   "pygments_lexer": "ipython3",
   "version": "3.11.6"
  },
  "latex_envs": {
   "LaTeX_envs_menu_present": true,
   "autoclose": false,
   "autocomplete": true,
   "bibliofile": "biblio.bib",
   "cite_by": "apalike",
   "current_citInitial": 1,
   "eqLabelWithNumbers": true,
   "eqNumInitial": 1,
   "hotkeys": {
    "equation": "Ctrl-E",
    "itemize": "Ctrl-I"
   },
   "labels_anchors": false,
   "latex_user_defs": false,
   "report_style_numbering": false,
   "user_envs_cfg": false
  },
  "toc": {
   "base_numbering": 1,
   "nav_menu": {},
   "number_sections": true,
   "sideBar": true,
   "skip_h1_title": false,
   "title_cell": "Table of Contents",
   "title_sidebar": "Contents",
   "toc_cell": false,
   "toc_position": {},
   "toc_section_display": true,
   "toc_window_display": true
  },
  "varInspector": {
   "cols": {
    "lenName": 16,
    "lenType": 16,
    "lenVar": 40
   },
   "kernels_config": {
    "python": {
     "delete_cmd_postfix": "",
     "delete_cmd_prefix": "del ",
     "library": "var_list.py",
     "varRefreshCmd": "print(var_dic_list())"
    },
    "r": {
     "delete_cmd_postfix": ") ",
     "delete_cmd_prefix": "rm(",
     "library": "var_list.r",
     "varRefreshCmd": "cat(var_dic_list()) "
    }
   },
   "types_to_exclude": [
    "module",
    "function",
    "builtin_function_or_method",
    "instance",
    "_Feature"
   ],
   "window_display": false
  }
 },
 "nbformat": 4,
 "nbformat_minor": 1
}
