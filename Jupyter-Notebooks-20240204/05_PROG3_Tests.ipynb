{
 "cells": [
  {
   "cell_type": "markdown",
   "metadata": {
    "slideshow": {
     "slide_type": "slide"
    }
   },
   "source": [
    "Programmieren 3 - Testen\n",
    "\n",
    "Peter Rösch, Fakultät für Informatik\n",
    "\n",
    "Hochschule Augsburg, 2023/2024"
   ]
  },
  {
   "cell_type": "markdown",
   "metadata": {
    "slideshow": {
     "slide_type": "slide"
    }
   },
   "source": [
    "# Nachträge und Ergänzungen"
   ]
  },
  {
   "cell_type": "markdown",
   "metadata": {
    "slideshow": {
     "slide_type": "subslide"
    }
   },
   "source": [
    "## Tupel initialisieren"
   ]
  },
  {
   "cell_type": "code",
   "execution_count": null,
   "metadata": {
    "ExecuteTime": {
     "end_time": "2020-11-02T07:04:13.407802Z",
     "start_time": "2020-11-02T07:04:13.391786Z"
    }
   },
   "outputs": [],
   "source": [
    "# kein Problem bei mehreren Einträgen\n",
    "mein_tupel = (1, 2, 3)\n",
    "print(f\"mein_tupel: {type(mein_tupel)}\")\n",
    "# aufgrund der Doppeldeutigkeit runder Klammern ist das ein int\n",
    "einer_tupel_falsch = 1\n",
    "print(f\"einer_tupel_falsch: {type(einer_tupel_falsch)}\")\n",
    "# ein Komma schafft klare Verhältnisse\n",
    "einer_tupel_richtig = (1,)\n",
    "print(f\"einer_tupel_richtig: {type(einer_tupel_richtig)}\")"
   ]
  },
  {
   "cell_type": "markdown",
   "metadata": {},
   "source": [
    "## *pyproject.toml* statt *setup.py*"
   ]
  },
  {
   "cell_type": "markdown",
   "metadata": {},
   "source": [
    "Neuere Versionen des Pakets *setuptools* bevorzugen *pyproject.toml*, um die Metadaten des Projekts zu spezifizieren, \n",
    "siehe [Dokumentation](https://setuptools.pypa.io/en/latest/userguide/pyproject_config.html).\n",
    "\n",
    "Wir können daher in unserem Notebook die Zelle, in der *setup.py* erzeugt wird, durch die folgende Zelle ersetzen."
   ]
  },
  {
   "cell_type": "raw",
   "metadata": {},
   "source": [
    "pyproject_toml_str = f\"\"\"\n",
    "# setup file for project {project_name}\n",
    "\n",
    "[build-system]\n",
    "    requires = [\"setuptools\"]\n",
    "    build-backend = \"setuptools.build_meta\"\n",
    "\n",
    "[tool.setuptools]\n",
    "    packages=[\"{package_name}\"]\n",
    "\n",
    "[project]\n",
    "    name = \"{package_name}\"\n",
    "    version = \"{project_version}\"\n",
    "    description = \"A great project\"\n",
    "    readme = \"README.md\" \n",
    "    requires-python = \">=3.10, <4\"\n",
    "    license = {{text = \"GPL\"}}\n",
    "    authors = [\n",
    "        {{name = \"Name 1\", email = \"email1@bla.com\"}},\n",
    "        {{name = \"Name 2\", email = \"email2@bla.com\"}},\n",
    "    ]\n",
    "    maintainers = [\n",
    "        {{name = \"Name 1\", email = \"email1@bla.com\"}},\n",
    "        {{name = \"Name 2\", email = \"email2@bla.com\"}},\n",
    "    ]\n",
    "    keywords=[\"example\", \"project structure\"]\n",
    "    dependencies = [\n",
    "        \"setuptools>=61\",\n",
    "    ]\n",
    "\n",
    "classifiers = [\n",
    "        \"Development Status :: 3 - Alpha\",\n",
    "        \"Topic :: Demonstration\",\n",
    "        \"License :: GPL License\",\n",
    "]\n",
    "\n",
    "[project.urls]\n",
    "    Homepage = \"http://myUrl.com\"\n",
    "\n",
    "[project.scripts]\n",
    "    add_float= \"{package_name}.add_sub:add_main\"\n",
    "\"\"\"\n",
    "\n",
    "with open(project_path / \"pyproject.toml\", \"w\") as pyproject_file:\n",
    "    pyproject_file.write(pyproject_toml_str)"
   ]
  },
  {
   "cell_type": "markdown",
   "metadata": {},
   "source": [
    "## Die \"Import-Hölle\""
   ]
  },
  {
   "cell_type": "markdown",
   "metadata": {},
   "source": [
    "Die korrekte Funktion des *import*-Befehls hängt im Allgemeinen vom Verzeichnis ab, in dem der Python-Interpreter gestartet wird, oder in dem sich das Skript befindet. Außerdem spielt die Umgebungsvariable [*PYTHONPATH*](https://docs.python.org/3.11/library/sys_path_init.html) eine wichtige Rolle. Diese Abhängigkeiten können dazu führen, dass man viele Stunden damit verbringt, einen Zustand herzustellen, in dem z.B. die Importe in  den Tests funktionieren.\n",
    "\n",
    "Alternativer Ansatz: Erstellung eines Pakets (nach Anleitung), wechseln in das Verzeichnis, in dem sich die Datei *setup.py* oder *pyproject.toml* befindet und Eingabe von\n",
    "\n",
    "    pip install -e .\n",
    "\n",
    "im Terminal, siehe [Dokumentation](https://pip.pypa.io/en/stable/topics/local-project-installs)."
   ]
  },
  {
   "cell_type": "markdown",
   "metadata": {
    "slideshow": {
     "slide_type": "subslide"
    }
   },
   "source": [
    "## TSP - Eigener Permutations-Generator"
   ]
  },
  {
   "cell_type": "markdown",
   "metadata": {
    "slideshow": {
     "slide_type": "fragment"
    }
   },
   "source": [
    "Idee: Ein Generator erzeugt alle Permutationen einer Sequenz.\n",
    "    \n",
    "Quelle: http://code.activestate.com/recipes/252178"
   ]
  },
  {
   "cell_type": "code",
   "execution_count": null,
   "metadata": {
    "ExecuteTime": {
     "end_time": "2020-11-02T07:08:24.142925Z",
     "start_time": "2020-11-02T07:08:24.133878Z"
    },
    "slideshow": {
     "slide_type": "subslide"
    }
   },
   "outputs": [],
   "source": [
    "from collections.abc import Generator\n",
    "\n",
    "\n",
    "def alle_permutationen(\n",
    "    seq: list | tuple,\n",
    ") -> Generator[list | tuple, None, None]:\n",
    "    if len(seq) <= 1:\n",
    "        yield seq\n",
    "    else:\n",
    "        for i in range(len(seq)):\n",
    "            for p in alle_permutationen(seq[:i] + seq[i + 1 :]):\n",
    "                yield seq[i : i + 1] + p"
   ]
  },
  {
   "cell_type": "markdown",
   "metadata": {
    "slideshow": {
     "slide_type": "fragment"
    }
   },
   "source": [
    "**Frage:** Was passiert hier anschaulich?"
   ]
  },
  {
   "cell_type": "code",
   "execution_count": null,
   "metadata": {
    "ExecuteTime": {
     "end_time": "2020-11-02T07:08:30.616246Z",
     "start_time": "2020-11-02T07:08:30.609304Z"
    },
    "slideshow": {
     "slide_type": "subslide"
    }
   },
   "outputs": [],
   "source": [
    "# Frage: Warum wird der Ausdruck seq[i:i+1] benutzt\n",
    "l = [1, 2, 3]\n",
    "print(type(l[0]))\n",
    "print(type(l[0:1]))"
   ]
  },
  {
   "cell_type": "code",
   "execution_count": null,
   "metadata": {
    "ExecuteTime": {
     "end_time": "2020-11-02T07:09:10.465806Z",
     "start_time": "2020-11-02T07:09:10.451858Z"
    },
    "slideshow": {
     "slide_type": "fragment"
    }
   },
   "outputs": [],
   "source": [
    "for p in alle_permutationen((\"A\", \"B\", \"C\")):\n",
    "    print(p)"
   ]
  },
  {
   "cell_type": "code",
   "execution_count": null,
   "metadata": {
    "ExecuteTime": {
     "end_time": "2020-11-02T07:10:21.794103Z",
     "start_time": "2020-11-02T07:10:21.787772Z"
    },
    "slideshow": {
     "slide_type": "subslide"
    }
   },
   "outputs": [],
   "source": [
    "seq = list(range(8))"
   ]
  },
  {
   "cell_type": "code",
   "execution_count": null,
   "metadata": {
    "ExecuteTime": {
     "end_time": "2020-11-02T07:10:32.125061Z",
     "start_time": "2020-11-02T07:10:28.612395Z"
    }
   },
   "outputs": [],
   "source": [
    "%%timeit\n",
    "for p in alle_permutationen(seq):\n",
    "    pass"
   ]
  },
  {
   "cell_type": "code",
   "execution_count": null,
   "metadata": {
    "ExecuteTime": {
     "end_time": "2020-11-02T07:10:58.060124Z",
     "start_time": "2020-11-02T07:10:58.055342Z"
    },
    "slideshow": {
     "slide_type": "subslide"
    }
   },
   "outputs": [],
   "source": [
    "import itertools"
   ]
  },
  {
   "cell_type": "code",
   "execution_count": null,
   "metadata": {
    "ExecuteTime": {
     "end_time": "2020-11-02T07:11:09.099164Z",
     "start_time": "2020-11-02T07:11:02.657004Z"
    }
   },
   "outputs": [],
   "source": [
    "%%timeit\n",
    "for p in itertools.permutations(seq):\n",
    "    pass"
   ]
  },
  {
   "cell_type": "markdown",
   "metadata": {
    "slideshow": {
     "slide_type": "subslide"
    }
   },
   "source": [
    "## 2D-Feldvariablen mit *numpy*"
   ]
  },
  {
   "cell_type": "markdown",
   "metadata": {
    "slideshow": {
     "slide_type": "subslide"
    }
   },
   "source": [
    "**Wichtig:**\n",
    "* Der erste Index läuft in Zeilen-Richtung (*y*).\n",
    "* *shape* enthält die Dimensionen des Arrays.\n",
    "* *axis* gibt an, in welche Richtung eine Operation durchgeführt werden soll.\n",
    "* Operationen werden *elementweise* angewandt. \n",
    "* Das Skalarprodukt ist *np.dot(v1, v2)* oder *v1 @ v2*.\n",
    "* Das Kreuzprodukt ist *np.cross(v1, v2)*.\n",
    "* Die Länge eines Vektors erhält main mit *np.linalg.norm*.\n",
    "* *numpy* spart Speicher, indem mehrere Sichten auf die gleichen Objekte erzeugt werden."
   ]
  },
  {
   "cell_type": "code",
   "execution_count": null,
   "metadata": {
    "ExecuteTime": {
     "end_time": "2020-11-02T07:15:58.534424Z",
     "start_time": "2020-11-02T07:15:58.517829Z"
    },
    "slideshow": {
     "slide_type": "subslide"
    }
   },
   "outputs": [],
   "source": [
    "import numpy as np\n",
    "\n",
    "np.set_printoptions(precision=2)\n",
    "# Zufällige Belegung von 5 3D-Positionen\n",
    "zufalls_positionen = np.random.uniform(-5, 5, size=(5, 3))\n",
    "# verschiedene Mittelwerte\n",
    "mittelwert_1D = zufalls_positionen.mean()\n",
    "mittelwert_2D_zeilen = zufalls_positionen.mean(axis=0)\n",
    "mittelwert_2D_spalten = zufalls_positionen.mean(axis=1)\n",
    "print(\n",
    "    \"Mittelwert-Berechnungen:\\n\",\n",
    "    mittelwert_1D,\n",
    "    mittelwert_2D_zeilen.shape,\n",
    "    mittelwert_2D_spalten.shape,\n",
    ")\n",
    "print(zufalls_positionen[3, 2])"
   ]
  },
  {
   "cell_type": "code",
   "execution_count": null,
   "metadata": {
    "ExecuteTime": {
     "end_time": "2020-11-02T07:18:49.815866Z",
     "start_time": "2020-11-02T07:18:49.802121Z"
    },
    "slideshow": {
     "slide_type": "subslide"
    }
   },
   "outputs": [],
   "source": [
    "zufalls_positionen = np.random.uniform(-5, 5, size=(5, 3))\n",
    "print(f\"{zufalls_positionen[3, 2]=}\")\n",
    "# neue Sichten auf das Array zufalls_positionen\n",
    "v1 = zufalls_positionen[2, :]\n",
    "# Vorsicht, shallow copy ..., deep copy mit a[3, :].copy()\n",
    "v2 = zufalls_positionen[3, :]\n",
    "# Vorsicht, shallow copy ..., deep copy mit a[3, :].copy()\n",
    "v2[2] = 1\n",
    "print(f\"{zufalls_positionen[3, 2]=}\")\n",
    "print(f\"{v1=}, {v2=}\")\n",
    "print(f\"{v1 * v2=}, {v1 @ v2=}\")\n",
    "print(f\"Länge von v1: {np.linalg.norm(v1)}\")"
   ]
  },
  {
   "cell_type": "markdown",
   "metadata": {
    "slideshow": {
     "slide_type": "slide"
    }
   },
   "source": [
    "# Tests: Verwendete Komponenten"
   ]
  },
  {
   "cell_type": "markdown",
   "metadata": {},
   "source": [
    "Die folgenden speziellen Pakete werden benötigt:\n",
    "\n",
    "    pytest\n",
    "    pytest-cov\n",
    "    coverage\n",
    "    mutmut\n",
    "    ipytest"
   ]
  },
  {
   "cell_type": "markdown",
   "metadata": {
    "slideshow": {
     "slide_type": "slide"
    }
   },
   "source": [
    "# Quellen"
   ]
  },
  {
   "cell_type": "markdown",
   "metadata": {},
   "source": [
    "* Steve Mc Connell: \"Code Complete\", Microsoft Press, [eBook (O'Reilly)](https://learning.oreilly.com/library/view/code-complete-second/0735619670)\n",
    "* Michal Jaworski, Tarek Ziadé: \"Expert Python Programming\", PACKT Publishing, [eBook (O'Reilly)](https://learning.oreilly.com/library/view/expert-python-programming/9781801071109/)\n",
    "*  Rick van Hattem: \"Mastering Python - Second Edition\", [eBook (O'Reilly)](https://learning.oreilly.com/library/view/mastering-python/9781800207721/)"
   ]
  },
  {
   "cell_type": "markdown",
   "metadata": {
    "slideshow": {
     "slide_type": "slide"
    }
   },
   "source": [
    "# Testen - Einführung"
   ]
  },
  {
   "cell_type": "markdown",
   "metadata": {},
   "source": [
    "## Motivation und Realität"
   ]
  },
  {
   "cell_type": "markdown",
   "metadata": {},
   "source": [
    "Frage: Was hat [dieses Bild](http://www.carlagoldenwellness.com/wp-content/uploads/2012/08/bananastages.jpg) mit Tests zu tun?"
   ]
  },
  {
   "cell_type": "markdown",
   "metadata": {},
   "source": [
    "Es gibt eine Menge gute Argumente dafür, Software zu testen. \n",
    "\n",
    "**Fragen:** \n",
    "\n",
    "1. Warum sollten systematische Tests in jedem Software-Projekt durchgeführt werden?\n",
    "1. Warum geschieht dies in der Praxis oft nicht?\n",
    "1. Kennen Sie konkrete Beispiele, bei denen der Verzicht auf Tests unangenehme Konsequenzen hatte?\n",
    "\n",
    "Die oben angegebenen Quellen können in diesem Zusammenhang sehr hilfreich sein, insbesondere das Buch \"Code Complete\"."
   ]
  },
  {
   "cell_type": "markdown",
   "metadata": {
    "slideshow": {
     "slide_type": "subslide"
    }
   },
   "source": [
    "## Überprüfung der Validität eines  algorithmischen Ansatzes"
   ]
  },
  {
   "cell_type": "markdown",
   "metadata": {},
   "source": [
    "* Bevor man eine Implementierung testen kann, muss bei Forschungsprojekten zunächst überprüft werden, ob die Grundidee tragfähig ist.\n",
    "* Methode: Man schafft eine Umgebung, in der ein Experte den Ansatz interaktiv auf Plausibilität überprüfen kann."
   ]
  },
  {
   "cell_type": "markdown",
   "metadata": {
    "slideshow": {
     "slide_type": "subslide"
    }
   },
   "source": [
    "## Vertrauensbildende Maßnahmen im Jupyter-Notebook"
   ]
  },
  {
   "cell_type": "markdown",
   "metadata": {},
   "source": [
    "**Beispiel:** Unterstützungs-Notebook für die Gruppenaufgabe vom letzten Montag, *04_Gruppenarbeit_Unterstuetzung.ipynb* aus moodle.\n",
    "\n",
    "**Hinweis:** Die Erweiterung [autoreload](https://ipython.readthedocs.io/en/stable/config/extensions/autoreload.html) erlaubt es, eine Bibliothek in der IDE zu entwickeln und parallel vertrauensbildende Maßnahmen im Notebook durchzuführen, ohne den Kernel ständig neu zu starten. Besser ist es allerdings, ein Paket laut Vorlage zu erzeugen und mit *pip -e* zu installieren."
   ]
  },
  {
   "cell_type": "markdown",
   "metadata": {},
   "source": [
    "## Design for Testability"
   ]
  },
  {
   "cell_type": "markdown",
   "metadata": {},
   "source": [
    "Quelle: [Steven Lott: Mastering Object-oriented Python, Packt Publishing](https://learning.oreilly.com/library/view/mastering-object-oriented-python/9781783280971/ch15.html), Kapitel 15\n",
    "\n",
    "Zitat: \"Any program feature without an autmated test simply doesn't exist\"\n",
    "\n",
    "[FIRST (Ottinger, Langr)](https://agileinaflash.blogspot.com/2009/02/first.html)\n",
    "Eigenschaften von Tests:\n",
    "1. Fast\n",
    "1. Isolated \n",
    "1. Repeatable\n",
    "1. Self-validating\n",
    "1. Timely"
   ]
  },
  {
   "cell_type": "markdown",
   "metadata": {},
   "source": [
    "## Erinnerung: Dependency Injection"
   ]
  },
  {
   "cell_type": "code",
   "execution_count": null,
   "metadata": {},
   "outputs": [],
   "source": [
    "%%file count_demo.txt\n",
    "Das ist ein Satz mit sieben Wörtern."
   ]
  },
  {
   "cell_type": "code",
   "execution_count": null,
   "metadata": {},
   "outputs": [],
   "source": [
    "# Version 1\n",
    "def count_words(file_name: str) -> int:\n",
    "    nr_of_words = 0\n",
    "    with open(file_name, \"r\") as in_file:\n",
    "        for line in in_file:\n",
    "            nr_of_words += len(line.split())\n",
    "    return nr_of_words"
   ]
  },
  {
   "cell_type": "code",
   "execution_count": null,
   "metadata": {},
   "outputs": [],
   "source": [
    "print(f\"{count_words('count_demo.txt') = }\")"
   ]
  },
  {
   "cell_type": "code",
   "execution_count": null,
   "metadata": {},
   "outputs": [],
   "source": [
    "# Version 2\n",
    "from typing import TextIO\n",
    "\n",
    "\n",
    "def count_words_di(text_io: TextIO) -> int:\n",
    "    nr_of_words = 0\n",
    "    for line in text_io:\n",
    "        nr_of_words += len(line.split())\n",
    "    return nr_of_words"
   ]
  },
  {
   "cell_type": "code",
   "execution_count": null,
   "metadata": {},
   "outputs": [],
   "source": [
    "with open(\"count_demo.txt\", \"r\") as in_file:\n",
    "    print(count_words_di(in_file))"
   ]
  },
  {
   "cell_type": "code",
   "execution_count": null,
   "metadata": {},
   "outputs": [],
   "source": [
    "from io import StringIO\n",
    "\n",
    "test_stream = StringIO(\"Das ist ein Test\")\n",
    "\n",
    "print(count_words_di(test_stream))"
   ]
  },
  {
   "cell_type": "markdown",
   "metadata": {
    "slideshow": {
     "slide_type": "slide"
    }
   },
   "source": [
    "## Test Driven Development (TDD)"
   ]
  },
  {
   "cell_type": "markdown",
   "metadata": {},
   "source": [
    "**Aufgabenstellung: Wertetabelle**\n",
    "\n",
    "Für eine vom Anwender definierte reelwertige mathematische Funktion $f(x)$, die nur Addition, Subtraktion, Multiplikation, Division, Modulo und Potenzierung enthalten darf, soll eine Wertetabelle $(x, f(x))$ mit $n$ Einträgen in einem Intervall $[x_{\\rm min}, x_{\\rm max}]$ mit einer bestimmten $\\Delta x$ berechnet und gespeichert werden. \n",
    "\n",
    "**Fragen:**\n",
    "\n",
    "* Verstehen Sie die Aufgabenstellung?\n",
    "* Wie können Sie aus dieser Spezifikation Tests ableiten?\n",
    "* Welche Auswirkungen hat es Ihrer Meinung nach, wenn der Entwicklungsprozess von Tests ausgeht?"
   ]
  },
  {
   "cell_type": "code",
   "execution_count": null,
   "metadata": {},
   "outputs": [],
   "source": [
    "# Bitte ergänzen Sie, Variante 1\n",
    "def test_wertetabelle_variante_1( ):\n",
    "    wt = WerteTabelle(term='x', x_min=0, x_max=10, delta_x=1)\n",
    "    ergebnis = wt.tabelle()\n",
    "    assert ergebnis[3] == 3\n",
    "    \n",
    "    wt = WerteTabelle('sin(x)+7', 0, 4, .2)"
   ]
  },
  {
   "cell_type": "code",
   "execution_count": null,
   "metadata": {},
   "outputs": [],
   "source": [
    "# Bitte ergänzen Sie, Variante 2\n",
    "def test_wertetabelle_variante_2( ):\n",
    "    pass"
   ]
  },
  {
   "cell_type": "markdown",
   "metadata": {
    "slideshow": {
     "slide_type": "subslide"
    }
   },
   "source": [
    "**Systematische Vorgehensweise:**\n",
    "\n",
    "Welche Teilprobleme und Tests folgen aus den einzelnen Aussagen?\n",
    "    \n",
    "* \"... vom Anwender definierte reelwertige mathematische Funktion $f(x)$\"\n",
    "* \"die nur ... enthalten darf\"\n",
    "* \"soll eine Wertetabelle\"\n",
    "* \"in einem Intervall $[x_{\\rm min}, x_{\\rm max}]$\"\n",
    "* \"mit $n$ Einträgen\"\n",
    "* \"berechnet und gespeichert werden\""
   ]
  },
  {
   "cell_type": "markdown",
   "metadata": {
    "slideshow": {
     "slide_type": "subslide"
    }
   },
   "source": [
    "**Frage:** Wie sieht eine sinnvolle und \"testbare\" Zerlegung in Teilprobleme (bzw. Funktionen/Methoden) aus?"
   ]
  },
  {
   "cell_type": "code",
   "execution_count": null,
   "metadata": {},
   "outputs": [],
   "source": [
    "import ipytest\n",
    "import pytest"
   ]
  },
  {
   "cell_type": "markdown",
   "metadata": {
    "slideshow": {
     "slide_type": "subslide"
    }
   },
   "source": [
    "### Hilfreiche Bausteine"
   ]
  },
  {
   "cell_type": "code",
   "execution_count": null,
   "metadata": {},
   "outputs": [],
   "source": [
    "ERLAUBT = frozenset(\"abcdefgokls \")\n",
    "unerlaubte_zeichen_1 = set(\"alle ok\").difference(ERLAUBT)\n",
    "print(f\"{unerlaubte_zeichen_1 = }, {len(unerlaubte_zeichen_1) = }\")\n",
    "unerlaubte_zeichen_2 = set(\"so nicht!\").difference(ERLAUBT)\n",
    "print(f\"{unerlaubte_zeichen_2 = }, {len(unerlaubte_zeichen_2) = }\")"
   ]
  },
  {
   "cell_type": "code",
   "execution_count": null,
   "metadata": {
    "slideshow": {
     "slide_type": "subslide"
    }
   },
   "outputs": [],
   "source": [
    "class FunktionsKlasse:\n",
    "    def __init__(self, einheit=\"Äpfel\"):\n",
    "        self._einheit = einheit\n",
    "\n",
    "    def __call__(self, anzahl):\n",
    "        return f\"{anzahl} {self._einheit}\"\n",
    "\n",
    "\n",
    "fk_instanz = FunktionsKlasse(\"Birnen\")\n",
    "print(fk_instanz(22))"
   ]
  },
  {
   "cell_type": "markdown",
   "metadata": {
    "slideshow": {
     "slide_type": "subslide"
    }
   },
   "source": [
    "# Doctests"
   ]
  },
  {
   "cell_type": "markdown",
   "metadata": {
    "slideshow": {
     "slide_type": "subslide"
    }
   },
   "source": [
    "Das Modul *doctest* erlaubt es, Test-Anweisungen in Kommentaren zu finden und auszuführen:"
   ]
  },
  {
   "cell_type": "code",
   "execution_count": null,
   "metadata": {
    "ExecuteTime": {
     "end_time": "2020-11-02T09:02:38.001961Z",
     "start_time": "2020-11-02T09:02:37.943132Z"
    },
    "slideshow": {
     "slide_type": "subslide"
    }
   },
   "outputs": [],
   "source": [
    "from typing import Any\n",
    "\n",
    "import math\n",
    "\n",
    "\n",
    "def verdopplungs_funktion(x: Any) -> Any:\n",
    "    \"\"\"Diese Funktion gibt das mit zwei multiplizierte Argument zurück\n",
    "    Args:\n",
    "        x: Referenz auf das zu verdoppelnde Objekt\n",
    "    Returns:\n",
    "        2 * x\n",
    "\n",
    "    >>> [ verdopplungs_funktion(i) for i in [1, 2, 'na'] ]\n",
    "    [2, 4, 'nana']\n",
    "\n",
    "    >>> verdopplungs_funktion(math.sin) #doctest: +IGNORE_EXCEPTION_DETAIL\n",
    "    Traceback (most recent call last):\n",
    "    TypeError:\n",
    "    \"\"\"\n",
    "    return 2 * x\n",
    "\n",
    "\n",
    "if __name__ == \"__main__\":\n",
    "    import doctest\n",
    "\n",
    "    doctest.testmod(verbose=False)"
   ]
  },
  {
   "cell_type": "markdown",
   "metadata": {
    "slideshow": {
     "slide_type": "subslide"
    }
   },
   "source": [
    "Falls keine Fehler auftreten, wird nichts ausgegeben.\n",
    "\n",
    "**Aufgabe:** Experimentieren Sie mit dem oben gegebenen Beispiel und finden sie heraus, was passiert, wenn Sie folgende Zeile in den doctest einbauen:\n",
    "\n",
    "    >>> verdopplungsFunktion([1, 2, 3])\n",
    "    [1, 2, 3, 1, 2, 4]"
   ]
  },
  {
   "cell_type": "markdown",
   "metadata": {
    "slideshow": {
     "slide_type": "slide"
    }
   },
   "source": [
    "# Unittests mit Python"
   ]
  },
  {
   "cell_type": "markdown",
   "metadata": {
    "slideshow": {
     "slide_type": "subslide"
    }
   },
   "source": [
    "## Unittests - Idee"
   ]
  },
  {
   "cell_type": "markdown",
   "metadata": {},
   "source": [
    "Eine Beschreibung der Unittest-Methodik finden Sie in den oben genannten Quellen oder auf den Seiten von [Wikipedia](http://de.wikipedia.org/wiki/Unit_test). \n",
    "\n",
    "**Fragen:**\n",
    "\n",
    "1. Welche Voraussetzungen müssen erfüllt sein, damit Unittests funktionieren?\n",
    "1. Was ist eine \"Unit\"?"
   ]
  },
  {
   "cell_type": "markdown",
   "metadata": {
    "slideshow": {
     "slide_type": "subslide"
    }
   },
   "source": [
    "## Unit-Tests mit Python"
   ]
  },
  {
   "cell_type": "markdown",
   "metadata": {},
   "source": [
    "Folgende Klasse, die besonders leicht zu testen ist, dient als Beispiel für Unittests:"
   ]
  },
  {
   "cell_type": "code",
   "execution_count": null,
   "metadata": {
    "ExecuteTime": {
     "end_time": "2020-11-02T09:10:30.637824Z",
     "start_time": "2020-11-02T09:10:30.627395Z"
    },
    "slideshow": {
     "slide_type": "subslide"
    }
   },
   "outputs": [],
   "source": [
    "class ZahlenManipulator:\n",
    "    def __init__(self, w: int | float = None):\n",
    "        self._wert = w\n",
    "\n",
    "    def get_wert(self) -> int | float:\n",
    "        return self._wert\n",
    "\n",
    "    def set_wert(self, w) -> int | float:\n",
    "        self._wert = w\n",
    "\n",
    "    def addieren(self, a: int | float) -> int | float:\n",
    "        self._wert += a\n",
    "\n",
    "    def subtrahieren(self, a: int | float) -> int | float:\n",
    "        self._wert -= a\n",
    "\n",
    "    def dividieren(self, a: int | float) -> float:\n",
    "        self._wert /= a\n",
    "\n",
    "    def multiplizieren(self, a: int | float) -> int | float:\n",
    "        self._wert *= a"
   ]
  },
  {
   "cell_type": "markdown",
   "metadata": {
    "slideshow": {
     "slide_type": "subslide"
    }
   },
   "source": [
    "Eine von *unittest.TestCase* abgeleitete Klasse definiert die Test-Methoden, deren Namen mit *test_* beginnen:"
   ]
  },
  {
   "cell_type": "code",
   "execution_count": null,
   "metadata": {
    "ExecuteTime": {
     "end_time": "2020-11-02T09:14:17.500990Z",
     "start_time": "2020-11-02T09:14:17.483076Z"
    }
   },
   "outputs": [],
   "source": [
    "import unittest\n",
    "\n",
    "\n",
    "class TestZahlenManipulator(unittest.TestCase):\n",
    "    def setUp(self):\n",
    "        self._zahlenManipulator = ZahlenManipulator()\n",
    "\n",
    "    def test_addieren(self):\n",
    "        self._zahlenManipulator.set_wert(38)\n",
    "        self._zahlenManipulator.addieren(4)\n",
    "        self.assertEqual(self._zahlenManipulator.get_wert(), 42)\n",
    "\n",
    "    def test_division_multiplikation(self):\n",
    "        self._zahlenManipulator.set_wert(1)\n",
    "        self._zahlenManipulator.dividieren(4012)\n",
    "        self._zahlenManipulator.multiplizieren(8024)\n",
    "        # warum geht folgender Test schief?\n",
    "        self.assertEqual(self._zahlenManipulator.get_wert(), 2)"
   ]
  },
  {
   "cell_type": "markdown",
   "metadata": {
    "slideshow": {
     "slide_type": "subslide"
    }
   },
   "source": [
    "Die Test-Methoden werden in einer test-Suite zusammengefaßt und anschließend ausgeführt:"
   ]
  },
  {
   "cell_type": "code",
   "execution_count": null,
   "metadata": {
    "ExecuteTime": {
     "end_time": "2020-11-02T09:14:58.953709Z",
     "start_time": "2020-11-02T09:14:58.934352Z"
    }
   },
   "outputs": [],
   "source": [
    "import unittest\n",
    "\n",
    "suite = unittest.TestLoader().loadTestsFromTestCase(TestZahlenManipulator)\n",
    "unittest.TextTestRunner(verbosity=1).run(suite)"
   ]
  },
  {
   "cell_type": "markdown",
   "metadata": {
    "slideshow": {
     "slide_type": "subslide"
    }
   },
   "source": [
    "**Frage:**\n",
    "\n",
    "Begründen Sie, warum einer der oben definierten Tests nicht erfolgreich ist und korrigieren Sie die Klasse TestZahlenManipulator so, dass alle Tests erfolgreich verlaufen. Hinweis: es muss nur die letzte Zeile geändert werden."
   ]
  },
  {
   "cell_type": "markdown",
   "metadata": {
    "slideshow": {
     "slide_type": "subslide"
    }
   },
   "source": [
    "## Fakes und Mocks"
   ]
  },
  {
   "cell_type": "markdown",
   "metadata": {},
   "source": [
    "Folgende Funktion nutzt zwar die Klasse *ZahlenManipulator*, soll aber unabhängig von dieser Klasse getestet werden. "
   ]
  },
  {
   "cell_type": "code",
   "execution_count": null,
   "metadata": {
    "ExecuteTime": {
     "end_time": "2020-11-02T09:18:22.812416Z",
     "start_time": "2020-11-02T09:18:22.787904Z"
    },
    "slideshow": {
     "slide_type": "subslide"
    }
   },
   "outputs": [],
   "source": [
    "from collections.abc import Generator\n",
    "\n",
    "\n",
    "def werte_tabellen_generator(\n",
    "    anfangs_wert: int | float,\n",
    "    argument: int | float,\n",
    "    schritt_zahl: int,\n",
    "    operation: str,\n",
    ") -> Generator[int | float, None, None]:\n",
    "    z_m = ZahlenManipulator(anfangs_wert)\n",
    "    operatoren_verzeichnis = {\n",
    "        \"+\": z_m.addieren,\n",
    "        \"-\": z_m.subtrahieren,\n",
    "        \"*\": z_m.multiplizieren,\n",
    "        \"/\": z_m.dividieren,\n",
    "    }\n",
    "    if operation not in operatoren_verzeichnis:\n",
    "        print(\"Fehler: illegale Operation\", operation)\n",
    "    else:\n",
    "        methode = operatoren_verzeichnis[operation]\n",
    "        for i in range(schritt_zahl):\n",
    "            methode(argument)\n",
    "            yield z_m.get_wert()"
   ]
  },
  {
   "cell_type": "markdown",
   "metadata": {
    "slideshow": {
     "slide_type": "subslide"
    }
   },
   "source": [
    "Hier ist eine Test-Klasse für das unittest-Framework:"
   ]
  },
  {
   "cell_type": "code",
   "execution_count": null,
   "metadata": {
    "ExecuteTime": {
     "end_time": "2020-11-02T09:19:28.896137Z",
     "start_time": "2020-11-02T09:19:28.887798Z"
    }
   },
   "outputs": [],
   "source": [
    "import unittest\n",
    "\n",
    "\n",
    "class TestWerteTabellenGenerator(unittest.TestCase):\n",
    "    def setUp(self):\n",
    "        self._werte_tabellen_generator = werte_tabellen_generator(0, 1, 5, \"+\")\n",
    "\n",
    "    def test_additions_sequenz(self):\n",
    "        self.assertEqual(list(self._werte_tabellen_generator), [1, 2, 3, 4, 5])"
   ]
  },
  {
   "cell_type": "markdown",
   "metadata": {
    "slideshow": {
     "slide_type": "subslide"
    }
   },
   "source": [
    "Wir nehmen an, dass es die Klasse ZahlenManipulator (noch) nicht gibt."
   ]
  },
  {
   "cell_type": "code",
   "execution_count": null,
   "metadata": {
    "ExecuteTime": {
     "end_time": "2020-11-02T09:19:47.988585Z",
     "start_time": "2020-11-02T09:19:47.983175Z"
    },
    "slideshow": {
     "slide_type": "subslide"
    }
   },
   "outputs": [],
   "source": [
    "del ZahlenManipulator"
   ]
  },
  {
   "cell_type": "markdown",
   "metadata": {},
   "source": [
    "Der Test kann jetzt nicht funktionieren:"
   ]
  },
  {
   "cell_type": "code",
   "execution_count": null,
   "metadata": {
    "ExecuteTime": {
     "end_time": "2020-11-02T09:20:05.131046Z",
     "start_time": "2020-11-02T09:20:05.117858Z"
    },
    "slideshow": {
     "slide_type": "subslide"
    }
   },
   "outputs": [],
   "source": [
    "if __name__ == \"__main__\":\n",
    "    suite = unittest.TestLoader().loadTestsFromTestCase(\n",
    "        TestWerteTabellenGenerator\n",
    "    )\n",
    "    unittest.TextTestRunner(verbosity=1).run(suite)"
   ]
  },
  {
   "cell_type": "markdown",
   "metadata": {
    "slideshow": {
     "slide_type": "subslide"
    }
   },
   "source": [
    "Um den Test ohne *ZahlenManipulator* durchführen zu können, kann ein Mock-Objekt verwendet werden:"
   ]
  },
  {
   "cell_type": "code",
   "execution_count": null,
   "metadata": {
    "ExecuteTime": {
     "end_time": "2020-11-02T09:23:02.964436Z",
     "start_time": "2020-11-02T09:23:02.931888Z"
    },
    "scrolled": true,
    "slideshow": {
     "slide_type": "fragment"
    }
   },
   "outputs": [],
   "source": [
    "from unittest import mock\n",
    "\n",
    "with mock.MagicMock() as ZahlenManipulator:\n",
    "    z = ZahlenManipulator()\n",
    "    z.get_wert.side_effect = [1, 2, 3, 4, 5]\n",
    "    suite = unittest.TestLoader().loadTestsFromTestCase(\n",
    "        TestWerteTabellenGenerator\n",
    "    )\n",
    "    unittest.TextTestRunner(verbosity=1).run(suite)\n",
    "    assert len(z.get_wert.mock_calls) == 5"
   ]
  },
  {
   "cell_type": "markdown",
   "metadata": {},
   "source": [
    "**Frage:** Welche Funktion hat Zeile 8? Die [Dokumentation zu *mock*](https://docs.python.org/3/library/unittest.mock-examples.html) ist hilfreich, um die Funktion des Pakets zu verstehen."
   ]
  },
  {
   "cell_type": "markdown",
   "metadata": {
    "slideshow": {
     "slide_type": "subslide"
    }
   },
   "source": [
    "Manchmal möchte man zu Testzwecken auch Funktionen der Standard-Bibliothek \"patchen\":"
   ]
  },
  {
   "cell_type": "code",
   "execution_count": null,
   "metadata": {
    "ExecuteTime": {
     "end_time": "2020-11-02T09:25:49.406556Z",
     "start_time": "2020-11-02T09:25:48.349834Z"
    },
    "slideshow": {
     "slide_type": "fragment"
    }
   },
   "outputs": [],
   "source": [
    "import time\n",
    "from unittest import mock\n",
    "\n",
    "print(\"Aktuelle Zeit 1:\", time.asctime())\n",
    "with mock.patch(\"time.asctime\") as tMock:\n",
    "    tMock.return_value = \"Tue Nov 19 14:33:32 2013\"\n",
    "    print(\"Aktuelle Zeit 2:\", time.asctime())\n",
    "time.sleep(1)\n",
    "print(\"Aktuelle Zeit 3:\", time.asctime())"
   ]
  },
  {
   "cell_type": "markdown",
   "metadata": {},
   "source": [
    "**Aufgabe:** Erklären Sie das oben angegebene Beispiel Zeile für Zeile.\n",
    "\n",
    "**Frage:** Welche Gefahren und Probleme verbinden Sie mit \"monkey patching\"?"
   ]
  },
  {
   "cell_type": "markdown",
   "metadata": {
    "slideshow": {
     "slide_type": "subslide"
    }
   },
   "source": [
    "# Automatisiert testen mit pytest"
   ]
  },
  {
   "cell_type": "code",
   "execution_count": null,
   "metadata": {},
   "outputs": [],
   "source": [
    "import pytest\n",
    "import ipytest"
   ]
  },
  {
   "cell_type": "code",
   "execution_count": null,
   "metadata": {},
   "outputs": [],
   "source": [
    "ipytest.run()"
   ]
  },
  {
   "cell_type": "markdown",
   "metadata": {
    "slideshow": {
     "slide_type": "subslide"
    }
   },
   "source": [
    "## pytest-Einführung"
   ]
  },
  {
   "cell_type": "markdown",
   "metadata": {},
   "source": [
    "Die Dokumentation zu pytest finden Sie [hier](https://docs.pytest.org/en/latest). "
   ]
  },
  {
   "cell_type": "markdown",
   "metadata": {
    "slideshow": {
     "slide_type": "subslide"
    }
   },
   "source": [
    "## pytest-Beispiel"
   ]
  },
  {
   "cell_type": "markdown",
   "metadata": {},
   "source": [
    "Das folgende Beispiel packt einige der bisher diskutierten Module in eine Verzeichnis-Struktur. Damit *pytest* ein Verzeichnis betrachtet, muss eine Datei *\\_\\_init\\_\\_.py* vorhanden sein."
   ]
  },
  {
   "cell_type": "code",
   "execution_count": null,
   "metadata": {
    "ExecuteTime": {
     "end_time": "2020-11-02T09:36:01.867840Z",
     "start_time": "2020-11-02T09:36:01.828161Z"
    },
    "slideshow": {
     "slide_type": "subslide"
    }
   },
   "outputs": [],
   "source": [
    "import os\n",
    "\n",
    "dir_tuple = (\n",
    "    \"/tmp/pytestTests/my_package\",\n",
    "    \"/tmp/pytestTests/test_my_package\",\n",
    "    \"/tmp/pytestTests/tutorials\",\n",
    ")\n",
    "\n",
    "for n in dir_tuple:\n",
    "    os.makedirs(n)\n",
    "    with open(n + os.sep + \"__init__.py\", \"w\") as f:\n",
    "        f.write(\" \")"
   ]
  },
  {
   "cell_type": "code",
   "execution_count": null,
   "metadata": {
    "ExecuteTime": {
     "end_time": "2020-11-02T09:36:39.430669Z",
     "start_time": "2020-11-02T09:36:39.415957Z"
    },
    "slideshow": {
     "slide_type": "subslide"
    }
   },
   "outputs": [],
   "source": [
    "%%file /tmp/pytestTests/__init__.py\n",
    "\"\"\" Docstring \"\"\""
   ]
  },
  {
   "cell_type": "code",
   "execution_count": null,
   "metadata": {
    "ExecuteTime": {
     "end_time": "2020-11-02T09:37:02.613018Z",
     "start_time": "2020-11-02T09:37:02.605542Z"
    },
    "slideshow": {
     "slide_type": "subslide"
    }
   },
   "outputs": [],
   "source": [
    "%%file /tmp/pytestTests/my_package/verdopplung.py\n",
    "\n",
    "import math\n",
    "from typing import Any\n",
    "\n",
    "def verdopplungs_funktion(x: Any) -> Any:\n",
    "    \"\"\" Diese Funktion gibt das mit zwei multiplizierte Argument zurück\n",
    "        @arg x Referenz auf das zu verdoppelnde Objekt\n",
    "        @return 2 * x\n",
    "        \n",
    "        >>> [ verdopplungs_funktion(i) for i in [1, 2, 'na'] ]\n",
    "        [2, 4, 'nana']\n",
    "        >>> verdopplungs_funktion(math.sin) #doctest: +IGNORE_EXCEPTION_DETAIL\n",
    "        Traceback (most recent call last):\n",
    "        TypeError: \n",
    "    \"\"\"\n",
    "    return 2 * x\n",
    "\n",
    "if __name__ == \"__main__\":\n",
    "    import doctest\n",
    "    doctest.testmod() "
   ]
  },
  {
   "cell_type": "code",
   "execution_count": null,
   "metadata": {
    "ExecuteTime": {
     "end_time": "2020-11-02T09:37:16.428440Z",
     "start_time": "2020-11-02T09:37:16.421854Z"
    },
    "slideshow": {
     "slide_type": "subslide"
    }
   },
   "outputs": [],
   "source": [
    "%%file /tmp/pytestTests/my_package/manipulatoren.py\n",
    "\n",
    "class ZahlenManipulator:\n",
    "\n",
    "    def __init__(self, w: int | float = None):\n",
    "        self._wert = w\n",
    "\n",
    "    def get_wert(self) -> int | float:\n",
    "        return self._wert\n",
    "\n",
    "    def set_wert(self, w) -> int | float:\n",
    "        self._wert = w\n",
    "\n",
    "    def addieren(self, a: int | float) -> int | float:\n",
    "        self._wert += a\n",
    "\n",
    "    def subtrahieren(self, a: int | float) -> int | float:\n",
    "        self._wert -= a\n",
    "\n",
    "    def dividieren(self, a: int | float) -> float:\n",
    "        self._wert /= a\n",
    "\n",
    "    def multiplizieren(self, a: int | float) -> int | float:\n",
    "        self._wert *= a"
   ]
  },
  {
   "cell_type": "code",
   "execution_count": null,
   "metadata": {
    "ExecuteTime": {
     "end_time": "2020-11-02T09:37:27.983352Z",
     "start_time": "2020-11-02T09:37:27.976607Z"
    },
    "slideshow": {
     "slide_type": "subslide"
    }
   },
   "outputs": [],
   "source": [
    "%%file /tmp/pytestTests/test_my_package/test_manipulatoren.py\n",
    "\n",
    "from my_package.manipulatoren import ZahlenManipulator\n",
    "import unittest\n",
    "\n",
    "class ZahlenManipulatorTest(unittest.TestCase):\n",
    "    \n",
    "    def setUp(self):\n",
    "        self._zahlenManipulator = ZahlenManipulator()\n",
    "        \n",
    "    def test_addieren(self):\n",
    "        self._zahlenManipulator.set_wert(38)\n",
    "        self._zahlenManipulator.addieren(4)\n",
    "        self.assertEqual(self._zahlenManipulator.get_wert(), 42)\n",
    "\n",
    "    def test_division_multiplikation(self):\n",
    "        self._zahlenManipulator.set_wert(1)\n",
    "        self._zahlenManipulator.dividieren(3)\n",
    "        self._zahlenManipulator.multiplizieren(3)\n",
    "        self.assertEqual(self._zahlenManipulator.get_wert(), 1)"
   ]
  },
  {
   "cell_type": "code",
   "execution_count": null,
   "metadata": {
    "ExecuteTime": {
     "end_time": "2020-11-02T09:37:36.991431Z",
     "start_time": "2020-11-02T09:37:36.982880Z"
    },
    "slideshow": {
     "slide_type": "subslide"
    }
   },
   "outputs": [],
   "source": [
    "%%file /tmp/pytestTests/my_package/generatoren.py\n",
    "\n",
    "from typing import Generator\n",
    "from my_package.manipulatoren import ZahlenManipulator\n",
    "\n",
    "\n",
    "def werte_tabellen_generator(\n",
    "    anfangs_wert: int | float,\n",
    "    argument: int | float,\n",
    "    schritt_zahl: int,\n",
    "    operation: str,\n",
    ") -> Generator[int | float, None, None]:\n",
    "    z_m = ZahlenManipulator(anfangs_wert)\n",
    "    operatoren_verzeichnis = {\n",
    "        \"+\": z_m.addieren,\n",
    "        \"-\": z_m.subtrahieren,\n",
    "        \"*\": z_m.multiplizieren,\n",
    "        \"/\": z_m.dividieren,\n",
    "    }\n",
    "    if operation not in operatoren_verzeichnis:\n",
    "        print(\"Fehler: illegale Operation\", operation)\n",
    "    else:\n",
    "        methode = operatoren_verzeichnis[operation]\n",
    "        for i in range(schritt_zahl):\n",
    "            methode(argument)\n",
    "            yield z_m.get_wert()"
   ]
  },
  {
   "cell_type": "code",
   "execution_count": null,
   "metadata": {
    "ExecuteTime": {
     "end_time": "2020-11-02T09:37:45.221050Z",
     "start_time": "2020-11-02T09:37:45.208685Z"
    },
    "slideshow": {
     "slide_type": "subslide"
    }
   },
   "outputs": [],
   "source": [
    "%%file /tmp/pytestTests/test_my_package/test_generatoren.py\n",
    "\n",
    "from my_package.generatoren import werte_tabellen_generator\n",
    "\n",
    "import unittest\n",
    "class Test_werte_tabellen_generator(unittest.TestCase):\n",
    "    def setUp(self):\n",
    "        self._werte_tabellen_generator = \\\n",
    "            werte_tabellen_generator(0, 1, 5, '+')\n",
    "            \n",
    "    def test_additions_sequenz(self):\n",
    "        self.assertEqual(list(self._werte_tabellen_generator),\n",
    "                         [1, 2, 3, 4, 5])"
   ]
  },
  {
   "cell_type": "code",
   "execution_count": null,
   "metadata": {
    "ExecuteTime": {
     "end_time": "2020-11-02T09:39:45.841122Z",
     "start_time": "2020-11-02T09:39:45.832466Z"
    },
    "slideshow": {
     "slide_type": "subslide"
    }
   },
   "outputs": [],
   "source": [
    "%%file /tmp/pytestTests/tutorials/manipulatoren_tutorial.py\n",
    "\n",
    "\n",
    "\"\"\"\n",
    "Zunächst muss das Paket importiert werden:\n",
    ">>> from my_package.manipulatoren import ZahlenManipulator\n",
    "\n",
    "Wir müssen eine Instanz erzeugen:\n",
    ">>> zahlenManipulator = ZahlenManipulator()\n",
    "        \n",
    "Dann können wir einen Wert setzen und um vier erhöhen:\n",
    ">>> zahlenManipulator.set_wert(38)\n",
    ">>> zahlenManipulator.addieren(4)\n",
    "\n",
    "Das Ergebnis kann nun ausgelesen werden:\n",
    "\n",
    ">>> zahlenManipulator.get_wert()\n",
    "42\n",
    "\"\"\""
   ]
  },
  {
   "cell_type": "code",
   "execution_count": null,
   "metadata": {
    "ExecuteTime": {
     "end_time": "2020-11-02T09:39:50.535309Z",
     "start_time": "2020-11-02T09:39:49.553981Z"
    },
    "scrolled": true,
    "slideshow": {
     "slide_type": "subslide"
    }
   },
   "outputs": [],
   "source": [
    "%%script bash\n",
    "\n",
    "cd /tmp/pytestTests\n",
    "export PYTHONPATH=\"/tmp/pytestTests:$PYTHON_PATH\"\n",
    "pytest  -v --doctest-modules"
   ]
  },
  {
   "cell_type": "markdown",
   "metadata": {
    "slideshow": {
     "slide_type": "subslide"
    }
   },
   "source": [
    "## coverage"
   ]
  },
  {
   "cell_type": "markdown",
   "metadata": {},
   "source": [
    "*pytest* nutzt das Paket *pytest-cov*, um die Testabdeckung zu bestimmen, die Dokumentation finden Sie [hier](https://pytest-cov.readthedocs.io/en/latest/readme.html).\n",
    "\n",
    "Typischer Aufruf, der eine html-Ausgabe erzeugt:\n",
    "\n",
    "        pytest  -v --doctest-modules --cov=my_package --cov-report=html\n",
    "\n",
    "Im Unterverzeichnis *htmlcov* findet sich eine Datei *index.html*, die mit dem Browser geöffnet werden kann.\n",
    "\n"
   ]
  },
  {
   "cell_type": "markdown",
   "metadata": {
    "slideshow": {
     "slide_type": "subslide"
    }
   },
   "source": [
    "Um das Ergebnis zu visualisieren, öffnen Sie '/tmp/pytestTests/htmlcov/index.html' in einem neuen Browser-Tab."
   ]
  },
  {
   "cell_type": "markdown",
   "metadata": {
    "slideshow": {
     "slide_type": "subslide"
    }
   },
   "source": [
    "## Parametrisierung von Tests"
   ]
  },
  {
   "cell_type": "code",
   "execution_count": null,
   "metadata": {},
   "outputs": [],
   "source": [
    "ipytest.clean()"
   ]
  },
  {
   "cell_type": "code",
   "execution_count": null,
   "metadata": {},
   "outputs": [],
   "source": [
    "from typing import Any\n",
    "\n",
    "\n",
    "def verdopplungs_funktion(x: Any) -> Any:\n",
    "    return 2 * x"
   ]
  },
  {
   "cell_type": "code",
   "execution_count": null,
   "metadata": {
    "slideshow": {
     "slide_type": "subslide"
    }
   },
   "outputs": [],
   "source": [
    "import pytest\n",
    "\n",
    "beispiel_sammlung = (\n",
    "    (1, 2),\n",
    "    (\"moin\", \"moinmoin\"),\n",
    "    (44, 88),\n",
    ")\n",
    "\n",
    "\n",
    "@pytest.mark.parametrize(\"eingabe, erwartung\", beispiel_sammlung)\n",
    "def test_verdopplungs_funktion(eingabe, erwartung):\n",
    "    assert verdopplungs_funktion(eingabe) == erwartung"
   ]
  },
  {
   "cell_type": "code",
   "execution_count": null,
   "metadata": {
    "slideshow": {
     "slide_type": "subslide"
    }
   },
   "outputs": [],
   "source": [
    "ipytest.run()"
   ]
  },
  {
   "cell_type": "markdown",
   "metadata": {
    "slideshow": {
     "slide_type": "subslide"
    }
   },
   "source": [
    "## Fixtures mit pytest"
   ]
  },
  {
   "cell_type": "markdown",
   "metadata": {},
   "source": [
    "Quelle: Rick van Hattem: \"Mastering Python - Second Edition\", [eBook (O'Reilly)](https://learning.oreilly.com/library/view/mastering-python/9781800207721/)"
   ]
  },
  {
   "cell_type": "code",
   "execution_count": null,
   "metadata": {},
   "outputs": [],
   "source": [
    "ipytest.clean()"
   ]
  },
  {
   "cell_type": "code",
   "execution_count": null,
   "metadata": {},
   "outputs": [],
   "source": [
    "@pytest.fixture\n",
    "def r_gen_5():\n",
    "    return range(5)\n",
    "\n",
    "\n",
    "def test_generator(r_gen_5):\n",
    "    assert list(r_gen_5) == [0, 1, 2, 3, 4]"
   ]
  },
  {
   "cell_type": "code",
   "execution_count": null,
   "metadata": {},
   "outputs": [],
   "source": [
    "ipytest.run()"
   ]
  },
  {
   "cell_type": "markdown",
   "metadata": {
    "slideshow": {
     "slide_type": "subslide"
    }
   },
   "source": [
    "## setup / teardown"
   ]
  },
  {
   "cell_type": "code",
   "execution_count": null,
   "metadata": {},
   "outputs": [],
   "source": [
    "ipytest.clean()"
   ]
  },
  {
   "cell_type": "code",
   "execution_count": null,
   "metadata": {},
   "outputs": [],
   "source": [
    "@pytest.fixture\n",
    "def tmp_file():\n",
    "    with open(\"tmp_file.txt\", \"wb\") as opened_file:\n",
    "        yield opened_file\n",
    "    # add teardown code here if required\n",
    "\n",
    "\n",
    "def test_bin_file_write(tmp_file):\n",
    "    k = tmp_file.write(b\"1234\")\n",
    "    assert k == 4"
   ]
  },
  {
   "cell_type": "code",
   "execution_count": null,
   "metadata": {},
   "outputs": [],
   "source": [
    "ipytest.run()"
   ]
  },
  {
   "cell_type": "markdown",
   "metadata": {
    "slideshow": {
     "slide_type": "subslide"
    }
   },
   "source": [
    "## \"Mutation Testing\" mit *mutmut*"
   ]
  },
  {
   "cell_type": "markdown",
   "metadata": {},
   "source": [
    "Das Paket [mutmut](https://mutmut.readthedocs.io/en/latest) führt systematisch Änderungen des Source-Codes durch und überprüft, ob die Änderungen in den Tests detektiert werden.\n",
    "\n",
    "Eine ausführliche Darstellung finden Sie in diesem [Artikel](https://medium.com/analytics-vidhya/unit-testing-in-python-mutation-testing-7a70143180d8)"
   ]
  },
  {
   "cell_type": "markdown",
   "metadata": {},
   "source": [
    "Quelle: Michal Jaworski, Tarek Ziadé: \"Expert Python Programming\", PACKT Publishing"
   ]
  },
  {
   "cell_type": "code",
   "execution_count": null,
   "metadata": {},
   "outputs": [],
   "source": [
    "import os\n",
    "\n",
    "if os.path.isdir(\"tests\"):\n",
    "    print(\"Directory tests exists, please delete\")\n",
    "else:\n",
    "    os.mkdir(\"tests\")"
   ]
  },
  {
   "cell_type": "code",
   "execution_count": null,
   "metadata": {
    "slideshow": {
     "slide_type": "subslide"
    }
   },
   "outputs": [],
   "source": [
    "%%file tests/primes.py\n",
    "def is_prime(number):\n",
    "    if not isinstance(number, int) or number < 0:\n",
    "        return False\n",
    "    if number in (0, 1):\n",
    "        return False\n",
    "    for element in range(2, number):\n",
    "        if number % element == 0:\n",
    "            return False\n",
    "    return True"
   ]
  },
  {
   "cell_type": "code",
   "execution_count": null,
   "metadata": {},
   "outputs": [],
   "source": [
    "%%file tests/test_primes.py\n",
    "from primes import is_prime\n",
    "def test_primes_true():\n",
    "    assert is_prime(5)\n",
    "    assert is_prime(7)\n",
    "def test_primes_false():\n",
    "    assert not is_prime(4)\n",
    "    assert not is_prime(8)"
   ]
  },
  {
   "cell_type": "code",
   "execution_count": null,
   "metadata": {},
   "outputs": [],
   "source": [
    "%%file setup.cfg\n",
    "\n",
    "[mutmut]\n",
    "paths_to_mutate=tests\n",
    "test_dir = tests\n",
    "runner=python3.11 -m pytest -x"
   ]
  },
  {
   "cell_type": "markdown",
   "metadata": {},
   "source": [
    "Im Terminal eingeben:\n",
    "    \n",
    "    rm -fr .mutmut-cache; mutmut run\n",
    "    mutmut results"
   ]
  },
  {
   "cell_type": "markdown",
   "metadata": {
    "slideshow": {
     "slide_type": "subslide"
    }
   },
   "source": [
    "### Verbesserte Variante"
   ]
  },
  {
   "cell_type": "code",
   "execution_count": null,
   "metadata": {},
   "outputs": [],
   "source": [
    "%%file tests/primes.py\n",
    "def is_prime(number):\n",
    "    if not isinstance(number, int) or number <= 1:\n",
    "        return False\n",
    "    for element in range(2, number):\n",
    "        if number % element == 0:\n",
    "            return False\n",
    "    return True"
   ]
  },
  {
   "cell_type": "code",
   "execution_count": null,
   "metadata": {
    "slideshow": {
     "slide_type": "subslide"
    }
   },
   "outputs": [],
   "source": [
    "%%file tests/test_primes.py\n",
    "from primes import is_prime\n",
    "def test_primes_true():\n",
    "    assert is_prime(5)\n",
    "    assert is_prime(7)\n",
    "    assert is_prime(2)\n",
    "def test_primes_false():\n",
    "    assert not is_prime(1)\n",
    "    assert not is_prime(4)\n",
    "    assert not is_prime(8)"
   ]
  },
  {
   "cell_type": "markdown",
   "metadata": {
    "slideshow": {
     "slide_type": "slide"
    }
   },
   "source": [
    "# Testen von grafischen Benutzerschnittstellen"
   ]
  },
  {
   "cell_type": "markdown",
   "metadata": {},
   "source": [
    "## 8.1 GUI-Tests - Einführung"
   ]
  },
  {
   "cell_type": "markdown",
   "metadata": {},
   "source": [
    "Dieses Video wirbt für ein intelligentes GUI-Test-System:"
   ]
  },
  {
   "cell_type": "code",
   "execution_count": null,
   "metadata": {
    "slideshow": {
     "slide_type": "subslide"
    }
   },
   "outputs": [],
   "source": [
    "from IPython.lib.display import YouTubeVideo\n",
    "from IPython.core.display import display\n",
    "\n",
    "vid = YouTubeVideo(\"qsh4zWa6bE8\")\n",
    "display(vid)"
   ]
  },
  {
   "cell_type": "markdown",
   "metadata": {
    "slideshow": {
     "slide_type": "subslide"
    }
   },
   "source": [
    "## PyQt und QTest"
   ]
  },
  {
   "cell_type": "markdown",
   "metadata": {},
   "source": [
    "Wir verwenden ein bekanntes Beispiel vom GUI-Notebook:"
   ]
  },
  {
   "cell_type": "code",
   "execution_count": null,
   "metadata": {
    "ExecuteTime": {
     "end_time": "2020-11-02T09:57:53.411682Z",
     "start_time": "2020-11-02T09:57:53.403593Z"
    }
   },
   "outputs": [],
   "source": [
    "%gui\n",
    "%gui qt5"
   ]
  },
  {
   "cell_type": "markdown",
   "metadata": {},
   "source": [
    "Führen Sie die nächste Zelle aus, und lassen Sie den *QDialog* geöffnet."
   ]
  },
  {
   "cell_type": "code",
   "execution_count": null,
   "metadata": {
    "ExecuteTime": {
     "end_time": "2020-11-02T09:58:04.292952Z",
     "start_time": "2020-11-02T09:58:04.261589Z"
    },
    "slideshow": {
     "slide_type": "subslide"
    }
   },
   "outputs": [],
   "source": [
    "from PyQt5 import QtWidgets, QtGui, uic\n",
    "\n",
    "\n",
    "class UiDemo(QtWidgets.QDialog):\n",
    "    # constructor\n",
    "    def __init__(self):\n",
    "        QtWidgets.QDialog.__init__(self)\n",
    "\n",
    "        # load and show the user interface from Designer.\n",
    "        self.ui = uic.loadUi(\"qtDemo.ui\")\n",
    "        self.ui.show()\n",
    "\n",
    "        # Connect up the button.\n",
    "        self.ui.myPushButton.clicked.connect(self.printLcdNumber)\n",
    "\n",
    "    # own function to print a number\n",
    "    def printLcdNumber(self):\n",
    "        number = self.ui.myHorizontalSlider.value()\n",
    "        print(\"number: \", number)\n",
    "\n",
    "\n",
    "uiDemo = UiDemo()"
   ]
  },
  {
   "cell_type": "markdown",
   "metadata": {
    "slideshow": {
     "slide_type": "subslide"
    }
   },
   "source": [
    "Das Objekt *uiDemo* kann vom Notebook aus direkt für Test-Zwecke verwendet werden:"
   ]
  },
  {
   "cell_type": "code",
   "execution_count": null,
   "metadata": {
    "ExecuteTime": {
     "end_time": "2020-11-02T09:59:32.800218Z",
     "start_time": "2020-11-02T09:59:32.792655Z"
    }
   },
   "outputs": [],
   "source": [
    "uiDemo.ui.myHorizontalSlider.setValue(52)\n",
    "uiDemo.update()\n",
    "assert(uiDemo.ui.myLcdNumber.value() == 52)\n",
    "uiDemo.ui.myPushButton.click()\n",
    "#app.closeAllWindows()"
   ]
  },
  {
   "cell_type": "markdown",
   "metadata": {
    "slideshow": {
     "slide_type": "subslide"
    }
   },
   "source": [
    "Außerhalb des Notebooks kann das Paket *QTest* für Unittests verwendet werden:"
   ]
  },
  {
   "cell_type": "code",
   "execution_count": null,
   "metadata": {
    "ExecuteTime": {
     "end_time": "2020-11-02T10:01:45.960247Z",
     "start_time": "2020-11-02T10:01:45.854271Z"
    },
    "scrolled": true,
    "slideshow": {
     "slide_type": "subslide"
    }
   },
   "outputs": [],
   "source": [
    "import unittest\n",
    "from PyQt5.QtTest import QTest\n",
    "from PyQt5 import QtCore, QtWidgets\n",
    "from PyQt5.QtCore import Qt\n",
    "\n",
    "\n",
    "class UiDemoTest(unittest.TestCase):\n",
    "    def setUp(self):\n",
    "        self.app = QtCore.QCoreApplication.instance()\n",
    "        if self.app is None:\n",
    "            self.app = QtWidgets.QApplication([])\n",
    "        self.uiDemo = UiDemo()\n",
    "\n",
    "    def test_sliderEffect(self):\n",
    "        self.uiDemo.ui.myHorizontalSlider.setValue(13)\n",
    "        self.assertEqual(self.uiDemo.ui.myLcdNumber.value(), 13)\n",
    "\n",
    "    def test_buttonPress(self):\n",
    "        QTest.mouseClick(self.uiDemo.ui.myPushButton, Qt.LeftButton)\n",
    "\n",
    "    def tearDown(self):\n",
    "        self.app.closeAllWindows()\n",
    "\n",
    "\n",
    "if __name__ == \"__main__\":\n",
    "    suite = unittest.TestLoader().loadTestsFromTestCase(UiDemoTest)\n",
    "    unittest.TextTestRunner(verbosity=1).run(suite)"
   ]
  },
  {
   "cell_type": "markdown",
   "metadata": {
    "slideshow": {
     "slide_type": "slide"
    }
   },
   "source": [
    "Mit *QTest* können nicht nur Maus-Klicks, sondern auch z.B. Tastatur-Eingaben in Text-Felder simuliert werden.\n",
    "\n",
    "Ein Tutorial finden Sie [hier](https://doc.qt.io/qt-5/qtest-tutorial.html)."
   ]
  },
  {
   "cell_type": "markdown",
   "metadata": {
    "slideshow": {
     "slide_type": "slide"
    }
   },
   "source": [
    "# Logging"
   ]
  },
  {
   "cell_type": "code",
   "execution_count": null,
   "metadata": {
    "ExecuteTime": {
     "end_time": "2020-11-02T10:05:00.220433Z",
     "start_time": "2020-11-02T10:05:00.208100Z"
    },
    "slideshow": {
     "slide_type": "subslide"
    }
   },
   "outputs": [],
   "source": [
    "import time\n",
    "\n",
    "\n",
    "def meine_funktion(a, b):\n",
    "    print(f\"meine_funktion({a}, {b}) aufgerufen\")\n",
    "    c = a * b + 22\n",
    "    print(f\"c = {c}\")\n",
    "\n",
    "\n",
    "if __name__ == \"__main__\":\n",
    "    ergebnis = meine_funktion(12, 23)\n",
    "    print(\"Hurra, ich lebe noch!!\")"
   ]
  },
  {
   "cell_type": "markdown",
   "metadata": {
    "slideshow": {
     "slide_type": "fragment"
    }
   },
   "source": [
    "Frage: Wo liegen die Probleme bei dieser Art der Ausgaben?"
   ]
  },
  {
   "cell_type": "code",
   "execution_count": null,
   "metadata": {
    "ExecuteTime": {
     "end_time": "2020-11-02T10:10:18.969033Z",
     "start_time": "2020-11-02T10:10:18.950876Z"
    },
    "slideshow": {
     "slide_type": "subslide"
    }
   },
   "outputs": [],
   "source": [
    "import psutil, platform, sys, numpy\n",
    "import logging\n",
    "\n",
    "\n",
    "def log_system_info():\n",
    "    logging.info(\"\")\n",
    "    logging.info(f\"Platform: {platform.platform()}\")\n",
    "    freq = psutil.cpu_freq()\n",
    "    if freq is not None:\n",
    "        max_f = freq[2]\n",
    "        logging.info(f\"CPU max. frequency: {max_f/1000:.1f} GHz\")\n",
    "    logging.info(f\"CPU threads: {psutil.cpu_count()}\")\n",
    "    mem = psutil.virtual_memory()\n",
    "    if mem is not None:\n",
    "        mem_total_gb = mem[0] / 2**30\n",
    "        logging.info(f\"RAM: {mem_total_gb:.1f} GiB\")\n",
    "    logging.info(f\"Python {sys.version}\")\n",
    "    logging.info(f\"numpy v{numpy.__version__}\")"
   ]
  },
  {
   "cell_type": "code",
   "execution_count": null,
   "metadata": {
    "ExecuteTime": {
     "end_time": "2020-11-02T10:10:34.195921Z",
     "start_time": "2020-11-02T10:10:34.172062Z"
    },
    "slideshow": {
     "slide_type": "subslide"
    }
   },
   "outputs": [],
   "source": [
    "import logging\n",
    "\n",
    "\n",
    "def meine_funktion(x):\n",
    "    logging.debug(f\"Called with argument {x}\")\n",
    "    if x == 0:\n",
    "        logging.warning(\"Argument is zero\")\n",
    "    return x * x\n",
    "\n",
    "\n",
    "if __name__ == \"__main__\":\n",
    "    logging.basicConfig(\n",
    "        format=\"%(asctime)s %(name)s %(levelname)s: %(message)s\",\n",
    "        filename=\"/tmp/logging_demo.log\",\n",
    "        level=logging.DEBUG,\n",
    "    )\n",
    "    if \"log_system_info\" in locals():\n",
    "        log_system_info()\n",
    "\n",
    "    print(\"Ergebnis 1:\", meine_funktion(22))\n",
    "    print(\"Ergebnis 2:\", meine_funktion(0))"
   ]
  },
  {
   "cell_type": "code",
   "execution_count": null,
   "metadata": {
    "ExecuteTime": {
     "end_time": "2020-11-02T10:10:53.134613Z",
     "start_time": "2020-11-02T10:10:52.991181Z"
    },
    "slideshow": {
     "slide_type": "subslide"
    }
   },
   "outputs": [],
   "source": [
    "!cat /tmp/logging_demo.log"
   ]
  },
  {
   "cell_type": "markdown",
   "metadata": {
    "slideshow": {
     "slide_type": "slide"
    }
   },
   "source": [
    "# Übungsaufgaben, Abgabe am 07.11. und 09.11.2023"
   ]
  },
  {
   "cell_type": "markdown",
   "metadata": {},
   "source": [
    "1. Versuchen Sie, die Vorgehensweise im Notebook *TSP_dynamisch.ipynb* zu verstehen und vergleichen Sie die Laufzeiten und Ergebnisse mit Ihrer Implementierung. Hinweis: [Held-Karp-Algorithmus](https://en.wikipedia.org/wiki/Held%E2%80%93Karp_algorithm)\n",
    "1. Wenden Sie die Methode \"Test Driven Development\" für das gegebene Beispiel *Wertetabelle* an und Implementieren Sie Tests sowie eine mögliche Lösung. Dokumentieren Sie, welche Entscheidungen Sie an welcher Stelle des Entwicklungsprozesses getroffen haben. Gibt es Abweichungen zu Ihrer üblichen Vorgehensweise? \n",
    "1. Erstellen Sie automatisch mit *pytest* durchführbare Tests für die Funktionalität, die Sie für die Daten-Vorverarbeitung im Rahmen des Semesterprojekts erstellt haben.\n",
    "1. Überlegen Sie sich eine Situation, in der ein Einsatz eines Mock-Objekts für Ihre Semester-Projekt sinnvoll sein kann, erstellen Sie dieses Mock-Objekt und ein Skript, das die Anwendung des Mock-Objekts anschaulich demonstriert. Vergessen Sie nicht, Kommentare einzufügen."
   ]
  },
  {
   "cell_type": "markdown",
   "metadata": {
    "slideshow": {
     "slide_type": "slide"
    }
   },
   "source": [
    "# Überprüfung"
   ]
  },
  {
   "cell_type": "markdown",
   "metadata": {},
   "source": [
    "1. Sollten Unittests auf der Schnittstelle oder auf der Funktionsweise von Klassen und Funktionen basieren? (Begründung, ca. zwei Sätze) "
   ]
  }
 ],
 "metadata": {
  "celltoolbar": "Slideshow",
  "kernelspec": {
   "display_name": "Python 3 (ipykernel)",
   "language": "python",
   "name": "python3"
  },
  "language_info": {
   "codemirror_mode": {
    "name": "ipython",
    "version": 3
   },
   "file_extension": ".py",
   "mimetype": "text/x-python",
   "name": "python",
   "nbconvert_exporter": "python",
   "pygments_lexer": "ipython3",
   "version": "3.11.6"
  },
  "latex_envs": {
   "LaTeX_envs_menu_present": true,
   "autoclose": false,
   "autocomplete": true,
   "bibliofile": "biblio.bib",
   "cite_by": "apalike",
   "current_citInitial": 1,
   "eqLabelWithNumbers": true,
   "eqNumInitial": 1,
   "hotkeys": {
    "equation": "Ctrl-E",
    "itemize": "Ctrl-I"
   },
   "labels_anchors": false,
   "latex_user_defs": false,
   "report_style_numbering": false,
   "user_envs_cfg": false
  },
  "toc": {
   "base_numbering": 1,
   "nav_menu": {},
   "number_sections": true,
   "sideBar": true,
   "skip_h1_title": false,
   "title_cell": "Table of Contents",
   "title_sidebar": "Contents",
   "toc_cell": false,
   "toc_position": {
    "height": "calc(100% - 180px)",
    "left": "10px",
    "top": "150px",
    "width": "200.567px"
   },
   "toc_section_display": true,
   "toc_window_display": true
  },
  "varInspector": {
   "cols": {
    "lenName": 16,
    "lenType": 16,
    "lenVar": 40
   },
   "kernels_config": {
    "python": {
     "delete_cmd_postfix": "",
     "delete_cmd_prefix": "del ",
     "library": "var_list.py",
     "varRefreshCmd": "print(var_dic_list())"
    },
    "r": {
     "delete_cmd_postfix": ") ",
     "delete_cmd_prefix": "rm(",
     "library": "var_list.r",
     "varRefreshCmd": "cat(var_dic_list()) "
    }
   },
   "types_to_exclude": [
    "module",
    "function",
    "builtin_function_or_method",
    "instance",
    "_Feature"
   ],
   "window_display": false
  }
 },
 "nbformat": 4,
 "nbformat_minor": 1
}
