{
 "cells": [
  {
   "cell_type": "markdown",
   "metadata": {
    "slideshow": {
     "slide_type": "slide"
    }
   },
   "source": [
    "**Programmieren 3 - Einführung**\n",
    "\n",
    "**Peter Rösch, Fakultät für Informatik**\n",
    "\n",
    "**Hochschule Augsburg**\n",
    "\n",
    "**Winter 2023/2024**"
   ]
  },
  {
   "cell_type": "markdown",
   "metadata": {
    "slideshow": {
     "slide_type": "slide"
    },
    "tags": []
   },
   "source": [
    "# Ziele heute"
   ]
  },
  {
   "cell_type": "markdown",
   "metadata": {
    "slideshow": {
     "slide_type": "fragment"
    }
   },
   "source": [
    "\n",
    "* Sie sind neugierig darauf, was in Programmieren 3 so alles passieren wird.\n",
    "* Sie verstehen die Struktur der Veranstaltung.\n",
    "* Sie kennen die organisatorischen Details zu Vorlesungen, Übungen und Prüfung.\n",
    "* Sie verstehen die Vorgehensweise, wie Aufgabenstellung gelöst werden sollen.\n",
    "* Sie verstehen die Grundlagen der Beispiele, die Sie durch dieses Semester begleiten werden."
   ]
  },
  {
   "cell_type": "markdown",
   "metadata": {
    "slideshow": {
     "slide_type": "slide"
    }
   },
   "source": [
    "# Einführung"
   ]
  },
  {
   "cell_type": "markdown",
   "metadata": {
    "slideshow": {
     "slide_type": "subslide"
    }
   },
   "source": [
    "## Shift happens"
   ]
  },
  {
   "cell_type": "markdown",
   "metadata": {},
   "source": [
    "Wir betrachten die Folien 23-25 der folgenden Präsentation: http://www.slideshare.net/jbrenman/shift-happens-33834\n",
    "\n",
    "1. Welche Inhalte Ihres Studiums werden im Jahr 2043 noch aktuell sein?\n",
    "1. Was ist der Unterschied zwischen \"Bildung\" und \"Ausbildung\"?\n",
    "1. Was wünschen Sie sich von \"Programmieren 3\" und was befürchten Sie?"
   ]
  },
  {
   "cell_type": "markdown",
   "metadata": {
    "slideshow": {
     "slide_type": "slide"
    }
   },
   "source": [
    "# Organisation"
   ]
  },
  {
   "cell_type": "markdown",
   "metadata": {},
   "source": [
    "* Zentrale Anlaufstelle: [Moodle-Seite](https://moodle.hs-augsburg.de/course/view.php?id=7328).\n",
    "* Fragen können Sie jederzeit stellen.\n",
    "* Sie können und sollen aus meiner Sicht Einfluß auf den Verlauf der Veranstaltung nehmen.\n",
    "* Notebooks sind nicht statisch, sondern dynamisch - Interaktion und spontane Beispiele sind möglich."
   ]
  },
  {
   "cell_type": "markdown",
   "metadata": {
    "slideshow": {
     "slide_type": "subslide"
    }
   },
   "source": [
    "## Fragen"
   ]
  },
  {
   "cell_type": "markdown",
   "metadata": {},
   "source": [
    "1. Welche offenen Fragen gibt es bezüglich der Moodle-Inhalte?\n",
    "1. Welche Fähigkeiten werden Sie für die Projektarbeit im nächsten Semester benötigen?"
   ]
  },
  {
   "cell_type": "markdown",
   "metadata": {
    "slideshow": {
     "slide_type": "slide"
    }
   },
   "source": [
    "# Systematische Lösung von Aufgaben"
   ]
  },
  {
   "cell_type": "markdown",
   "metadata": {},
   "source": [
    "Es gibt kein Kochrezept für die Lösung anspruchsvolle Aufgaben,"
   ]
  },
  {
   "cell_type": "markdown",
   "metadata": {
    "slideshow": {
     "slide_type": "fragment"
    }
   },
   "source": [
    "aber Vorgehensweisen, die sich bewährt haben,"
   ]
  },
  {
   "cell_type": "markdown",
   "metadata": {
    "slideshow": {
     "slide_type": "fragment"
    }
   },
   "source": [
    "und zwar nicht nur bei der Entwicklung von Software."
   ]
  },
  {
   "cell_type": "markdown",
   "metadata": {
    "slideshow": {
     "slide_type": "subslide"
    }
   },
   "source": [
    "1. Aufgabe verstehen\n",
    "1. Recherche\n",
    "1. Zerlegung in Teilaufgaben\n",
    "1. Lösungsansätze (Algorithmen, Datenstrukturen)\n",
    "1. Entscheidungen (Ansatz, Werkzeuge)\n",
    "1. Implementierung, Integration, Test, Dokumentation\n",
    "1. Optimierung"
   ]
  },
  {
   "cell_type": "markdown",
   "metadata": {
    "slideshow": {
     "slide_type": "subslide"
    }
   },
   "source": [
    "## Die Aufgabe verstehen"
   ]
  },
  {
   "cell_type": "markdown",
   "metadata": {},
   "source": [
    "* Beim Auftraggeber so lange nachfragen, bis die Aufgabe klar ist\n",
    "* Schriftliche Darstellung (ggf. Visualisierung) der Aufgabenstellung\n",
    "* Hier soll die **Frage** formuliert werden, keine Lösungswege\n",
    "* Daten für Tests (möglichst mit \"Musterlösung\") sammeln"
   ]
  },
  {
   "cell_type": "markdown",
   "metadata": {
    "slideshow": {
     "slide_type": "subslide"
    }
   },
   "source": [
    "## Recherche"
   ]
  },
  {
   "cell_type": "markdown",
   "metadata": {},
   "source": [
    "* In welche Themenbereiche ist die Aufgabe einzuordnen?\n",
    "* Wie sehen die theoretischen Grundlagen dieser Bereiche aus?\n",
    "* Wurde diese (oder ähnliche) Fragestellungen bereits bearbeitet?\n",
    "* Existieren bereits Lösungen oder Teillösungen?\n",
    "* Sind andere Teams gescheitert, und wenn ja, warum?"
   ]
  },
  {
   "cell_type": "markdown",
   "metadata": {
    "slideshow": {
     "slide_type": "subslide"
    }
   },
   "source": [
    "## Zerlegung in Teilaufgaben"
   ]
  },
  {
   "cell_type": "markdown",
   "metadata": {},
   "source": [
    "* Welche Aspekte werden in der Aufgabenstellung angesprochen?\n",
    "* Zeitliche Ablauf (Schritte von der Eingabe zur Ausgabe)\n",
    "* Schrittweise Verfeinerung (Hierarchie von Teilaufgaben)\n",
    "* Vorüberlegungen zu Schnittstellen"
   ]
  },
  {
   "cell_type": "markdown",
   "metadata": {
    "ExecuteTime": {
     "end_time": "2019-09-25T10:38:57.877700Z",
     "start_time": "2019-09-25T10:38:57.874109Z"
    },
    "slideshow": {
     "slide_type": "subslide"
    }
   },
   "source": [
    "## Lösungsansätze (Algorithmen, Datenstrukturen)"
   ]
  },
  {
   "cell_type": "markdown",
   "metadata": {
    "ExecuteTime": {
     "end_time": "2019-09-26T05:41:48.142845Z",
     "start_time": "2019-09-26T05:41:48.137956Z"
    }
   },
   "source": [
    "* Sprachunabhängige Darstellung alternativer Algorithmen und Datenstrukturen ($\\geq 2$ Ansätze)\n",
    "* Pseudo-Code, Diagramme\n",
    "* Einbeziehung existierenden Komponenten"
   ]
  },
  {
   "cell_type": "markdown",
   "metadata": {
    "slideshow": {
     "slide_type": "subslide"
    }
   },
   "source": [
    "## Entscheidungen (Ansatz, Werkzeuge)"
   ]
  },
  {
   "cell_type": "markdown",
   "metadata": {
    "ExecuteTime": {
     "end_time": "2019-09-26T09:29:33.223036Z",
     "start_time": "2019-09-26T09:29:33.218180Z"
    }
   },
   "source": [
    "* Basierende auf einem systematischen Vergleich wird ein Ansatz ausgewählt\n",
    "* Im \"richtigen Leben\" wird auch eine Programmiersprache ausgewählt, wir verwenden Python\n",
    "* Auswahl geeigneter, möglichst einfacher Werkzeuge (Bibliotheken, IDE etc.)\n",
    "* Das Team (falls vorhanden) enigt sich auf ein Vorgehensmodell"
   ]
  },
  {
   "cell_type": "markdown",
   "metadata": {
    "slideshow": {
     "slide_type": "subslide"
    }
   },
   "source": [
    "## Implementierung, Integration, Test, Dokumentation"
   ]
  },
  {
   "cell_type": "markdown",
   "metadata": {},
   "source": [
    "* Zuordnung Aufgaben $\\leftrightarrow$ Personen (Wer macht was bis wann?)\n",
    "* Implementierung, Test und Dokumentation einzelner Funktionen\n",
    "* Zusammenfassung von Funktionen zu größeren Einheiten, Dokumentation und Test dieser Einheiten\n",
    "* Erstellung eines korrekt funktionierenden, nicht optimierten Gesamtsystems"
   ]
  },
  {
   "cell_type": "markdown",
   "metadata": {
    "slideshow": {
     "slide_type": "subslide"
    }
   },
   "source": [
    "## Optimierung"
   ]
  },
  {
   "cell_type": "markdown",
   "metadata": {},
   "source": [
    "* Systematische Identifikation von Flaschenhälsen (Profiling)\n",
    "* Verringerung des Ressourcenbedarfs (Optimierung, Parallelisierung, Verteilung)"
   ]
  },
  {
   "cell_type": "markdown",
   "metadata": {
    "slideshow": {
     "slide_type": "subslide"
    }
   },
   "source": [
    "## Aus didaktischen Gründen festgelegte Randbedingungen"
   ]
  },
  {
   "cell_type": "markdown",
   "metadata": {},
   "source": [
    "* Wir arbeiten zunächst mit Papier/Bleistift und Jupyter-Notebooks\n",
    "* Wir beginnen stets mit dem einfachsten für eine Aufgabe geeigneten Werkzeug"
   ]
  },
  {
   "cell_type": "markdown",
   "metadata": {
    "slideshow": {
     "slide_type": "slide"
    }
   },
   "source": [
    "# Beispiel: Visualisierung einer mathematischen Funktion"
   ]
  },
  {
   "cell_type": "markdown",
   "metadata": {},
   "source": [
    "Idee: Alte Prüfungen zu diesem Fach, siehe [moodle](https://moodle.hs-augsburg.de/mod/folder/view.php?id=325879) "
   ]
  },
  {
   "cell_type": "markdown",
   "metadata": {
    "slideshow": {
     "slide_type": "subslide"
    }
   },
   "source": [
    "**Aufgabenstellung**\n",
    "\n",
    "Sie sollen ein Python-Programm plot_funktion.py entwickeln, das einen Funktionsterm in einem Terminal-Fenster unter Verwendung von Zeichen visualisiert, wobei die x-Achse durch \"-\", die\n",
    "Funktionswerte durch \"*\" und der Hintergrund durch Leerzeichen repräsentiert werden.\n",
    "Falls der Funktionsterm Fehler enthält oder an einer Stelle im Intervall nicht definiert ist, wird eine Warnung ausgegeben und die Standard-Funktion $f(x) = x$ verwendet."
   ]
  },
  {
   "cell_type": "markdown",
   "metadata": {
    "slideshow": {
     "slide_type": "fragment"
    }
   },
   "source": [
    "Irgendwelche Fragen?"
   ]
  },
  {
   "cell_type": "markdown",
   "metadata": {
    "ExecuteTime": {
     "end_time": "2019-09-26T12:31:00.375457Z",
     "start_time": "2019-09-26T12:31:00.373209Z"
    },
    "slideshow": {
     "slide_type": "subslide"
    }
   },
   "source": [
    "## Die Aufgabe verstehen"
   ]
  },
  {
   "cell_type": "markdown",
   "metadata": {
    "slideshow": {
     "slide_type": "subslide"
    }
   },
   "source": [
    "**Frage: Was sind die Eingabegrößen?**\n",
    "\n",
    "Eingabegrößen sind neben dem Funktionsterm das Intervall, für die Werte dargestellt werden sollen sowie die Größe des Ausgabebereichs in Zeichen."
   ]
  },
  {
   "cell_type": "markdown",
   "metadata": {
    "slideshow": {
     "slide_type": "subslide"
    }
   },
   "source": [
    "**Frage: Gibt es ein konkretes Beispiel (Aufruf und Ausgabe)?**\n",
    "\n",
    "Zur Visualisierung der Funktion $f(x) = 2 \\sin(x)$ im Intervall $x \\in [-6, 8]$ in einem Bereich von $40 \\times 4$ Zeichen wird folgendes in der Kommandozeile eingegeben:\n",
    "\n",
    "    python3 plot_funktion.py \"2*math.sin(x)+1\" -6 8 40 4\n",
    "\n",
    "Die Ausgabe ist in diesem Fall:\n",
    "\n",
    "    f(x) = 2*math.sin(x)+1\n",
    "\n",
    "      ****             *****             ***\n",
    "    **    **         **     **         **   \n",
    "    --------**-----**---------**-----**-----\n",
    "              *****             *****       "
   ]
  },
  {
   "cell_type": "markdown",
   "metadata": {
    "slideshow": {
     "slide_type": "subslide"
    }
   },
   "source": [
    "## Recherche"
   ]
  },
  {
   "cell_type": "markdown",
   "metadata": {},
   "source": [
    "Möglichkeiten: [Suchmaschine](https://duckduckgo.com/?q=python+plot+function+in+text+terminal+example&t=ffab&ia=web), [O'Reilly](https://www.hs-augsburg.de/Bibliothek/O-Reilly.html), [IEEE Explore](https://ieeexplore.ieee.org/Xplore/home.jsp), ...\n",
    "\n",
    "Elegante, aber unsportliche Lösung: [termplotlib](https://github.com/nschloe/termplotlib)\n",
    "\n",
    "Im richtigen Leben würde man jetzt termplotlib testen ..."
   ]
  },
  {
   "cell_type": "markdown",
   "metadata": {
    "slideshow": {
     "slide_type": "slide"
    }
   },
   "source": [
    "### Einschub: *termplotlib* testen"
   ]
  },
  {
   "cell_type": "markdown",
   "metadata": {},
   "source": [
    "Im Terminal eingeben:\n",
    "\n",
    "    conda activate py311\n",
    "    pip install termplotlib"
   ]
  },
  {
   "cell_type": "code",
   "execution_count": null,
   "metadata": {
    "ExecuteTime": {
     "end_time": "2020-10-05T08:17:48.351187Z",
     "start_time": "2020-10-05T08:17:48.343757Z"
    },
    "slideshow": {
     "slide_type": "subslide"
    }
   },
   "outputs": [],
   "source": [
    "# Quelle: https://github.com/nschloe/termplotlib\n",
    "import numpy as np\n",
    "import termplotlib as tpl\n",
    "\n",
    "x = np.linspace(0, 2 * np.pi, 10)\n",
    "y = np.sin(x)\n",
    "fig = tpl.figure()\n",
    "fig.plot(x, y, label=\"data\", width=50, height=15)\n",
    "fig.show()"
   ]
  },
  {
   "cell_type": "markdown",
   "metadata": {},
   "source": [
    "Im Terminal eingeben:\n",
    "\n",
    "    conda activate py311\n",
    "    pip uninstall -y termplotlib"
   ]
  },
  {
   "cell_type": "markdown",
   "metadata": {
    "slideshow": {
     "slide_type": "subslide"
    }
   },
   "source": [
    "## Zerlegung in Teilaufgaben"
   ]
  },
  {
   "cell_type": "markdown",
   "metadata": {
    "slideshow": {
     "slide_type": "fragment"
    }
   },
   "source": [
    "**Aspekte:**\n",
    "* Interpretation von Kommandozeilenparametern\n",
    "* Funktionsterm (Text) auswerten\n",
    "* Strukturierte Ausgabe im Terminal"
   ]
  },
  {
   "cell_type": "markdown",
   "metadata": {
    "slideshow": {
     "slide_type": "fragment"
    }
   },
   "source": [
    "**Verarbeitungsschritte:**\n",
    "1. Einlesen und Interpretation der Kommandozeilenparameter\n",
    "1. Analyse des Funktionsterms\n",
    "1. Berechnung und Ausgabe der Funktionswerte"
   ]
  },
  {
   "cell_type": "markdown",
   "metadata": {
    "slideshow": {
     "slide_type": "subslide"
    }
   },
   "source": [
    "**Teilaufgaben:**\n",
    "1. Verarbeitung von Kommandozeilenparametern\n",
    "    <br/> Eingabe: Kommandozeilenparameter\n",
    "    <br/> Ausgabe: Intervall, Fenstergröße, Funktionsterm (Text)\n",
    "    1. Überprüfung Parameter-Anzahl \n",
    "        <br/> Eingabe: Kommandozeilenparameter\n",
    "        <br/> Ausgabe: OK (ja/nein)\n",
    "    1. Umwandlung Zeichenketten $\\rightarrow$ Zahlen \n",
    "        <br/> Eingabe: Zeichenketten aus der Kommandozeile\n",
    "        <br/>Ausgaben: Intervall, Fenstergröße"
   ]
  },
  {
   "cell_type": "markdown",
   "metadata": {
    "slideshow": {
     "slide_type": "subslide"
    }
   },
   "source": [
    "2. Analyse des Funktionsterms\n",
    "    <br/> Eingabe: Funktionsterm, Intervall, (horizontale) Fenstergröße \n",
    "    <br/>Ausgabe: OK (ja/nein)\n",
    "    1. Umrechung von horizontalen Bildschirmkoordinaten $u_i$ in Funktionsargumente $x_i$ \n",
    "        <br/> Eingabe: $u_i$, Intervall, horizontale Fenstergröße \n",
    "        <br/> Ausgabe: Zahl $x_i$\n",
    "    1. Überprüfung, ob die Funktionswerte $f(x_i)$ berechnet werden können \n",
    "        <br/> Eingabe: Funktionsterm, Werte $x_i$\n",
    "        <br/> Ausgabe: OK (ja/nein)"
   ]
  },
  {
   "cell_type": "markdown",
   "metadata": {
    "slideshow": {
     "slide_type": "subslide"
    }
   },
   "source": [
    "3. Berechnung und Ausgabe der Funktionswerte\n",
    "    <br/> Eingabe: Funktionsterm, Intervall, Fenstergröße \n",
    "    <br/>Ausgabe: Zeichenkette\n",
    "    1. Berechnung des Wertebereichs $[\\min(f(x_i)), \\max(f(x_i))]$ \n",
    "        <br/> Eingabe: Intervall, horizontale Fenstergröße\n",
    "        <br/>Ausgaben: Wertebereich\n",
    "    1. Umrechung von Funktionswerten $f(x_i)$ in vertikale Bildschirmkoordinaten $v_i$\n",
    "    1. Berechnung und geeignete Speicherung der Bildschirmkoordinaten $(u_i, v_i)$\n",
    "    1. Formatierte Ausgabe in eine Zeichenkette"
   ]
  },
  {
   "cell_type": "markdown",
   "metadata": {
    "slideshow": {
     "slide_type": "subslide"
    }
   },
   "source": [
    "Die Aufgabe wird im Rahmen der Übungen und der nächsten Vorlesung fortgesetzt."
   ]
  },
  {
   "cell_type": "markdown",
   "metadata": {
    "slideshow": {
     "slide_type": "slide"
    }
   },
   "source": [
    "# Interaktive Softwareentwicklung"
   ]
  },
  {
   "cell_type": "markdown",
   "metadata": {},
   "source": [
    "Die Art der Interaktion mit Rechnern hat sich seit [1950](https://en.wikipedia.org/wiki/IBM_650#/media/File:IBM_650_at_Texas_A%26M.jpg) geändert.\n",
    "\n",
    "Auch [Datenträger](https://en.wikipedia.org/wiki/Punched_card#/media/File:FortranCardPROJ039.agr.jpg) und und deren [Kapazitäten](https://commons.wikimedia.org/wiki/File:IBM_card_storage.NARA.jpg) haben sich weiterentwickelt.\n",
    "\n",
    "[Mobile Eingabegeräte](https://en.wikipedia.org/wiki/Punched_card#/media/File:IBM_Port-A-Punch.jpg) gab es schon relativ früh."
   ]
  },
  {
   "cell_type": "markdown",
   "metadata": {
    "slideshow": {
     "slide_type": "fragment"
    }
   },
   "source": [
    "**Frage:** Was verstehen Sie unter \"interaktiver Softwareentwicklung\"?"
   ]
  },
  {
   "cell_type": "markdown",
   "metadata": {
    "slideshow": {
     "slide_type": "slide"
    }
   },
   "source": [
    "# Jupyter-Notebooks"
   ]
  },
  {
   "cell_type": "markdown",
   "metadata": {
    "slideshow": {
     "slide_type": "subslide"
    }
   },
   "source": [
    "## Jupyter-Homepage"
   ]
  },
  {
   "cell_type": "markdown",
   "metadata": {},
   "source": [
    "Die Jupyter-Homepage finden Sie unter http://www.jupyter.org\n",
    "\n"
   ]
  },
  {
   "cell_type": "markdown",
   "metadata": {
    "slideshow": {
     "slide_type": "subslide"
    }
   },
   "source": [
    "## Markdown-Zelle"
   ]
  },
  {
   "cell_type": "markdown",
   "metadata": {
    "jupyter": {
     "source_hidden": true
    },
    "tags": []
   },
   "source": [
    "Den Source-Code der Zelle können Sie sich durch Doppelklick ansehen.\n",
    "\n",
    "Die Zelle enthält Text, einen Link zur [Hochschul-Seite](http://www.tha.de) sowie eine Formel \n",
    "\n",
    "$$\\int_{-\\infty}^{\\infty}{e^{-x^2} dx} = \\sqrt{\\pi}$$"
   ]
  },
  {
   "cell_type": "markdown",
   "metadata": {
    "slideshow": {
     "slide_type": "subslide"
    }
   },
   "source": [
    "Aufzählungen:\n",
    "\n",
    "1. eins\n",
    "    1. einsA\n",
    "    1. einsB\n",
    "1. zwei\n",
    "\n",
    "* erster Punkt\n",
    "    * erster Unterpunkt\n",
    "* zweiter Punkt"
   ]
  },
  {
   "cell_type": "markdown",
   "metadata": {
    "slideshow": {
     "slide_type": "subslide"
    }
   },
   "source": [
    "Zur Unterteilung von Zellen können Linien verwendet werden.\n",
    "***\n",
    "Bilder können über eine URL eingebunden werden:\n",
    "\n",
    "![Alt text](https://www.hs-augsburg.de/frontend/img/HSA_Logo_horizontal.svg)\n",
    "\n",
    "Formeln werden in $\\LaTeX$-Syntax eingegeben:\n",
    "$$ \\int_{-\\infty}^{\\infty}{e^{-x^2}dx} = \\sqrt{\\pi}$$\n",
    "\n",
    "\n",
    "Es gibt **fett** oder *kursiv* gedruckten Text."
   ]
  },
  {
   "cell_type": "code",
   "execution_count": null,
   "metadata": {
    "ExecuteTime": {
     "end_time": "2020-10-05T08:33:02.181409Z",
     "start_time": "2020-10-05T08:33:02.170900Z"
    },
    "slideshow": {
     "slide_type": "subslide"
    }
   },
   "outputs": [],
   "source": [
    "# Das ist eine Code-Zelle.\n",
    "# Der enthaltene Python-Code wird mit shift-Enter\n",
    "#    oder control-Enter ausgefuehrt\n",
    "\n",
    "a = 42\n",
    "print(a * 112)"
   ]
  },
  {
   "cell_type": "code",
   "execution_count": null,
   "metadata": {
    "ExecuteTime": {
     "end_time": "2020-10-05T08:33:39.236377Z",
     "start_time": "2020-10-05T08:33:39.039208Z"
    },
    "slideshow": {
     "slide_type": "subslide"
    }
   },
   "outputs": [],
   "source": [
    "# Die Dokumentation zu einem Objekt kann mit\n",
    "# ? angezeigt werden\n",
    "import math\n",
    "\n",
    "math.sin?"
   ]
  },
  {
   "cell_type": "markdown",
   "metadata": {
    "slideshow": {
     "slide_type": "slide"
    }
   },
   "source": [
    "# Python"
   ]
  },
  {
   "cell_type": "markdown",
   "metadata": {},
   "source": [
    "Fragen:\n",
    "\n",
    "1. [Wer](https://gvanrossum.github.io//images/DO6GvRhi.gif) hat's erfunden?\n",
    "1. Wo kommt der [Name](http://assets1.ignimgs.com/2006/04/12/monty-pythons-flying-circus-terry-jones-personal-best-20060412031845982-1466160.jpg) dieser Programmiersprache her? \n",
    "1. Was wissen Sie schon über Python?\n",
    "1. Was bedeutet [\"Batteries Included\"](http://slideplayer.com/slide/5364276/17/images/2/Introduction+to+Python.jpg) im Zusammenhang mit Python?"
   ]
  },
  {
   "cell_type": "markdown",
   "metadata": {
    "slideshow": {
     "slide_type": "subslide"
    }
   },
   "source": [
    "## Quellen und Ergänzungen"
   ]
  },
  {
   "cell_type": "markdown",
   "metadata": {},
   "source": [
    "Einen Artikel zur Verwendung von IPython in der Lehre finden Sie unter https://us.pycon.org/2013/schedule/presentation/122\n",
    "\n",
    "Eine sehr unterhaltsame Präsentation \"Why I love Python\" gibt es hier: http://www.slideshare.net/didip/why-i-love-python"
   ]
  },
  {
   "cell_type": "markdown",
   "metadata": {
    "slideshow": {
     "slide_type": "subslide"
    }
   },
   "source": [
    "## (I)Python"
   ]
  },
  {
   "cell_type": "markdown",
   "metadata": {},
   "source": [
    "Die folgenden Zellen erzeugen eine Datei und geben diese dann zeilenweise aus"
   ]
  },
  {
   "cell_type": "code",
   "execution_count": null,
   "metadata": {
    "ExecuteTime": {
     "end_time": "2020-10-05T08:52:53.903672Z",
     "start_time": "2020-10-05T08:52:53.897841Z"
    },
    "slideshow": {
     "slide_type": "subslide"
    }
   },
   "outputs": [],
   "source": [
    "%%file test.txt\n",
    "Das ist ein Test (erste Zeile).\n",
    "Das ist die zweite Zeile, auf die eine Leerzeile folgt.\n",
    "\n",
    "Ende."
   ]
  },
  {
   "cell_type": "code",
   "execution_count": null,
   "metadata": {
    "ExecuteTime": {
     "end_time": "2020-10-05T08:56:22.116425Z",
     "start_time": "2020-10-05T08:56:22.102495Z"
    },
    "slideshow": {
     "slide_type": "subslide"
    }
   },
   "outputs": [],
   "source": [
    "with open(\"test.txt\") as in_file:\n",
    "    for line in in_file:\n",
    "        print(line, end=\"\")"
   ]
  },
  {
   "cell_type": "code",
   "execution_count": null,
   "metadata": {},
   "outputs": [],
   "source": [
    "from pathlib import Path\n",
    "\n",
    "for line in Path(\"test.txt\").read_text():\n",
    "    print(line, end=\"\")"
   ]
  },
  {
   "cell_type": "markdown",
   "metadata": {
    "slideshow": {
     "slide_type": "fragment"
    }
   },
   "source": [
    "Frage: Was fällt Ihnen an diesem Beispiel auf?"
   ]
  },
  {
   "cell_type": "markdown",
   "metadata": {
    "slideshow": {
     "slide_type": "subslide"
    }
   },
   "source": [
    "## Objektorientierung und dynamische (**aber starke**) Typisierung"
   ]
  },
  {
   "cell_type": "code",
   "execution_count": null,
   "metadata": {
    "ExecuteTime": {
     "end_time": "2020-10-05T08:59:03.225261Z",
     "start_time": "2020-10-05T08:59:03.218459Z"
    }
   },
   "outputs": [],
   "source": [
    "a = 35\n",
    "print(type(a))"
   ]
  },
  {
   "cell_type": "markdown",
   "metadata": {},
   "source": [
    "Die Methoden eines Objekts werden im Notebook durch Betägigung der Tabulator-Taste angezeigt:"
   ]
  },
  {
   "cell_type": "code",
   "execution_count": null,
   "metadata": {
    "ExecuteTime": {
     "end_time": "2019-09-27T08:53:35.046126Z",
     "start_time": "2019-09-27T08:53:35.043050Z"
    }
   },
   "outputs": [],
   "source": [
    "a."
   ]
  },
  {
   "cell_type": "code",
   "execution_count": null,
   "metadata": {
    "ExecuteTime": {
     "end_time": "2020-10-05T09:00:21.759448Z",
     "start_time": "2020-10-05T09:00:21.725963Z"
    }
   },
   "outputs": [],
   "source": [
    "b = \"Python\"\n",
    "print(type(b))\n",
    "print(a + b)"
   ]
  },
  {
   "cell_type": "markdown",
   "metadata": {
    "slideshow": {
     "slide_type": "subslide"
    }
   },
   "source": [
    "## Python: Philosophie"
   ]
  },
  {
   "cell_type": "code",
   "execution_count": null,
   "metadata": {
    "ExecuteTime": {
     "end_time": "2020-10-05T09:00:39.355177Z",
     "start_time": "2020-10-05T09:00:39.345869Z"
    }
   },
   "outputs": [],
   "source": [
    "import this"
   ]
  },
  {
   "cell_type": "markdown",
   "metadata": {
    "slideshow": {
     "slide_type": "fragment"
    }
   },
   "source": [
    "Siehe https://inventwithpython.com/blog/2018/08/17/the-zen-of-python-explained/"
   ]
  },
  {
   "cell_type": "markdown",
   "metadata": {
    "slideshow": {
     "slide_type": "slide"
    }
   },
   "source": [
    "# Mit der Kanone auf $\\pi$ geschossen"
   ]
  },
  {
   "cell_type": "markdown",
   "metadata": {},
   "source": [
    "Monte-Carlo Simulationen benutzen Zufallszahlen, um eine große Zahl von Experimenten durchzuführen. In unserem Fall soll aus den Ergebnissen der Experimente die Zahl $\\pi$ bestimmt werden. Dazu werden viele Paare von Zufallszahlen $(x_i, y_i), \\; i = 1 \\dots N,\\; x_i, y_i \\in [-1, 1]$ bestimmt. Jedes Paar wird als zweidimensionale Position interpretiert und es wird festgestellt, ob diese Position innerhalb des Einheitskreises liegt oder nicht. "
   ]
  },
  {
   "cell_type": "markdown",
   "metadata": {
    "slideshow": {
     "slide_type": "subslide"
    }
   },
   "source": [
    "So ergibt sich die Anzahl von Punkten $N_{\\rm Treffer}$, die innerhalb des Einheitskreises liegen. Das Verhältnis von Treffern zu Gesamtversuchen entspricht dem Verhältnis der Flächen von Einheitskreis und Quadrat mit der Kantenlänge 2, es gilt\n",
    "also\n",
    "$$\n",
    "\\frac{N_{\\rm Treffer}}{N} = \\frac{F_{\\rm Kreis}}{F_{\\rm Quadrat}} = \\frac{\\pi}{4}\n",
    "$$\n",
    "\n",
    "Ein Skizze für den Viertelkreis finden Sie bei Wikipedia: http://de.wikipedia.org/wiki/Monte-Carlo-Simulation"
   ]
  },
  {
   "cell_type": "markdown",
   "metadata": {
    "slideshow": {
     "slide_type": "slide"
    }
   },
   "source": [
    "## Semester-Projekt"
   ]
  },
  {
   "cell_type": "markdown",
   "metadata": {},
   "source": [
    "Die Aufgabenstellung finden Sie im [Moodle-System](https://moodle.hs-augsburg.de/pluginfile.php/541223/mod_resource/content/1/Semesterprojekt_Aufgabe.pdf)\n",
    "\n",
    "Lernziele:\n",
    "1. Selbständige Identifikation von Teilproblemen.\n",
    "1. Planung und Aufgabenverteilung im Team (maximal sechs Studierende).\n",
    "1. Systematische Entwicklung einer erweiterbaren Lösung."
   ]
  },
  {
   "cell_type": "markdown",
   "metadata": {
    "slideshow": {
     "slide_type": "slide"
    }
   },
   "source": [
    "# Übungsaufgaben, Abgabe/Vorführung spätestens am 10.10. bzw. 12.10.2023"
   ]
  },
  {
   "cell_type": "markdown",
   "metadata": {},
   "source": [
    "1. Vollziehen Sie das Beispiel *Funktionsplotter* Schritt für Schritt nach und notieren Sie offene Fragen. \n",
    "1. Führen Sie die Ausgabe des Funktionsterms $f(x)  = 3 x^3 - 2 x - 1$ im Intervall $x \\in [-3.8, 5.9]$ mit einer Fenstergröße $5 \\times 10$ Zeichern mit Papier, Bleistift und ggf. Taschenrechner durch, kommentieren Sie die einzelnen Rechenschritte und notieren Sie Ihre Zwischenergebnnisse. Beachten Sie, dass das komplette Ausgabefenster für die Darstellung genutzt werden soll.\n",
    "1. Systematische Entwicklung einer erweiterbaren Lösung.\n",
    "1. Erstellen Sie einen Projektrahmen für die Implementierung des Funktionsplotters anhand der Vorlage im Notebook *ProjekteErstellen.ipynb*. Der Kommandozeilenbefehl zur Ausgabe eines Funktionsterms soll zunächst nur \"Hallo Welt\" auf dem Bildschirm ausgeben.\n",
    "1. Erzeugen Sie eine Code-Zelle, geben Sie *import this* ein und diskutieren Sie die Ausgabe mit Ihren Kommilitonen.\n",
    "1. Bearbeiten Sie die Berechnung von $\\pi$ nach Monte Carlo in einem Notebook nach unserem Schema bis zum Punkt *Lösungsansätze (Algorithmen, Datenstrukturen)*.\n",
    "\n",
    "**Bitte beachten:** Sie sollen eine Lösung für den *Funktionsplotter* ohne Verwendung von *termplotlib* erstellen."
   ]
  },
  {
   "cell_type": "markdown",
   "metadata": {
    "slideshow": {
     "slide_type": "slide"
    }
   },
   "source": [
    "# Überprüfung"
   ]
  },
  {
   "cell_type": "markdown",
   "metadata": {},
   "source": [
    "Erklären Sie, was \"dynamische Typisierung\" bedeutet."
   ]
  }
 ],
 "metadata": {
  "celltoolbar": "Slideshow",
  "kernelspec": {
   "display_name": "Python 3 (ipykernel)",
   "language": "python",
   "name": "python3"
  },
  "language_info": {
   "codemirror_mode": {
    "name": "ipython",
    "version": 3
   },
   "file_extension": ".py",
   "mimetype": "text/x-python",
   "name": "python",
   "nbconvert_exporter": "python",
   "pygments_lexer": "ipython3",
   "version": "3.11.5"
  },
  "latex_envs": {
   "LaTeX_envs_menu_present": true,
   "autoclose": false,
   "autocomplete": true,
   "bibliofile": "biblio.bib",
   "cite_by": "apalike",
   "current_citInitial": 1,
   "eqLabelWithNumbers": true,
   "eqNumInitial": 1,
   "hotkeys": {
    "equation": "Ctrl-E",
    "itemize": "Ctrl-I"
   },
   "labels_anchors": false,
   "latex_user_defs": false,
   "report_style_numbering": false,
   "user_envs_cfg": false
  },
  "toc": {
   "base_numbering": 1,
   "nav_menu": {},
   "number_sections": true,
   "sideBar": true,
   "skip_h1_title": false,
   "title_cell": "Table of Contents",
   "title_sidebar": "Contents",
   "toc_cell": false,
   "toc_position": {
    "height": "calc(100% - 180px)",
    "left": "10px",
    "top": "150px",
    "width": "259px"
   },
   "toc_section_display": true,
   "toc_window_display": true
  },
  "varInspector": {
   "cols": {
    "lenName": 16,
    "lenType": 16,
    "lenVar": 40
   },
   "kernels_config": {
    "python": {
     "delete_cmd_postfix": "",
     "delete_cmd_prefix": "del ",
     "library": "var_list.py",
     "varRefreshCmd": "print(var_dic_list())"
    },
    "r": {
     "delete_cmd_postfix": ") ",
     "delete_cmd_prefix": "rm(",
     "library": "var_list.r",
     "varRefreshCmd": "cat(var_dic_list()) "
    }
   },
   "types_to_exclude": [
    "module",
    "function",
    "builtin_function_or_method",
    "instance",
    "_Feature"
   ],
   "window_display": false
  }
 },
 "nbformat": 4,
 "nbformat_minor": 4
}
