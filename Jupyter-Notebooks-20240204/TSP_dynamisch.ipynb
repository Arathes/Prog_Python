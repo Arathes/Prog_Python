{
 "cells": [
  {
   "cell_type": "code",
   "execution_count": null,
   "metadata": {},
   "outputs": [],
   "source": [
    "staedte_positionen = (\n",
    "    (0.010319427306382911, 0.8956251389386756),\n",
    "    (0.6999898714299346, 0.42254500074835377),\n",
    "    (0.4294574582950912, 0.4568408794115657),\n",
    "    (0.6005454852683483, 0.9295407203370832),\n",
    "    (0.9590226056623925, 0.581453646599427),\n",
    "    (0.748521134122647, 0.5437775417153159),\n",
    "    (0.7571232013282426, 0.606435031856663),\n",
    "    (0.07528757443413125, 0.07854082131763074),\n",
    "    (0.32346175150639334, 0.7291706487873425),\n",
    "    (0.012935451483722882, 0.974440252089956),\n",
    "    (0.7894689664351368, 0.8925464165283283),\n",
    "    (0.5017081207027582, 0.2323298297211428),\n",
    "    (0.5994368069089712, 0.006438246252584379),\n",
    "    (0.3471372841416518, 0.32362936726486546),\n",
    "    (0.9080568556459205, 0.5872162265716462),\n",
    "    (0.008216651916432838, 0.5605251786730867),\n",
    "    (0.12281649843134745, 0.778836327426156),\n",
    "    (0.9698199622470612, 0.9108771425774694),\n",
    "    (0.22977122891732482, 0.9692739885317619),\n",
    "    (0.8192293086323663, 0.5857981607663957),\n",
    "    (0.1422079724040628, 0.8147259475583606),\n",
    "    (0.6706795717064135, 0.591561956032189),\n",
    "    (0.15756919328106178, 0.6331745919782176),\n",
    "    (0.9932745190952539, 0.20429268341528184),\n",
    "    (0.21104352892679712, 0.8836996377783977),\n",
    "    (0.15162951778287448, 0.43829883402923786),\n",
    "    (0.1014198097226855, 0.5877946138306056),\n",
    "    (0.8961534561384676, 0.6498866051905969),\n",
    "    (0.02348788064910401, 0.2555771312427847),\n",
    "    (0.7629752603198586, 0.031097354437254032),\n",
    "    (0.9202799257088203, 0.8545409146117934),\n",
    "    (0.4740012769258859, 0.30554661789326976),\n",
    "    (0.9662984341217945, 0.24235140218349704),\n",
    "    (0.236385903920734, 0.8065137287975154),\n",
    "    (0.7509340695304845, 0.9276718423781918),\n",
    "    (0.891709366337186, 0.9691233497708065),\n",
    "    (0.45766675798331646, 0.3966074453757069),\n",
    "    (0.362463818656684, 0.629782983287922),\n",
    "    (0.3895828182648007, 0.11182372435220689),\n",
    "    (0.8007718207811885, 0.07083259575886258),\n",
    "    (0.9395297121272306, 0.003549829042441055),\n",
    "    (0.9990444201768337, 0.4816092706412669),\n",
    "    (0.806664037655748, 0.45636915118812094),\n",
    "    (0.7248316046403981, 0.4136143673445848),\n",
    "    (0.9797254747122175, 0.5348075095243779),\n",
    "    (0.832410347070477, 0.36236092065071435),\n",
    "    (0.17697174259486892, 0.09903555437885947),\n",
    "    (0.3320429025096797, 0.42538137689172295),\n",
    "    (0.010390541304141299, 0.3196764197089256),\n",
    "    (0.13647705960093703, 0.6166884292149969),\n",
    "    (0.7413967117502017, 0.6758731780971651),\n",
    "    (0.5057620560480408, 0.6176726900765315),\n",
    "    (0.811221033004999, 0.15436803010778977),\n",
    "    (0.5010541138760939, 0.35001152238091926),\n",
    "    (0.9413826105193199, 0.9418596542666187),\n",
    "    (0.891256361420491, 0.7886584654021789),\n",
    "    (0.3676445849723219, 0.9387145658378656),\n",
    "    (0.7976904766536591, 0.7297167662430665),\n",
    "    (0.5966826978617474, 0.29179542156826277),\n",
    "    (0.6209578021367281, 0.22193571777470145),\n",
    "    (0.8298034730084203, 0.5164834220744453),\n",
    "    (0.1974315640582841, 0.9764209254933037),\n",
    "    (0.3181560706032852, 0.9659291942205317),\n",
    "    (0.8665674546422951, 0.8281710981528015),\n",
    "    (0.341232980616892, 0.5707946637100852),\n",
    "    (0.8931358896561539, 0.40864805338293986),\n",
    "    (0.26644032823825714, 0.9989727471390323),\n",
    "    (0.3993087575662785, 0.009572468741341433),\n",
    "    (0.7385521851703551, 0.8947961501854975),\n",
    "    (0.3265958212912289, 0.12135269959328665),\n",
    "    (0.33657186037515696, 0.04678149607307802),\n",
    "    (0.6574688023519235, 0.14620381872693322),\n",
    "    (0.9232073321379433, 0.464399378682132),\n",
    "    (0.3350568606219765, 0.8140710044746052),\n",
    "    (0.43439242705535963, 0.6850627844635814),\n",
    "    (0.6748600302251079, 0.17179426903224415),\n",
    "    (0.3257145924815924, 0.17892361406234325),\n",
    "    (0.9843761318782708, 0.7246387654097534),\n",
    "    (0.3302488609623919, 0.5461838792803725),\n",
    "    (0.942182061647097, 0.271796972592925),\n",
    "    (0.7992439374549364, 0.3344916623897427),\n",
    "    (0.07722251160513627, 0.5998378921773792),\n",
    "    (0.9551490162437984, 0.99084148343811),\n",
    "    (0.2994585617190968, 0.8420506992016424),\n",
    "    (0.692980959785355, 0.832838090803397),\n",
    "    (0.31555831127132894, 0.06401272570899819),\n",
    "    (0.02665227648457802, 0.5242147042171419),\n",
    "    (0.1974784428862567, 0.9137326594564479),\n",
    "    (0.8486377116437235, 0.773093204292392),\n",
    "    (0.6588651068050204, 0.6191834372968826),\n",
    "    (0.9294759207447961, 0.04471010558595201),\n",
    "    (0.9407045003182903, 0.7240803846820537),\n",
    "    (0.6814942236797052, 0.6579517970003296),\n",
    "    (0.2956248273119104, 0.4141031496785965),\n",
    "    (0.729642956744248, 0.18897087844791205),\n",
    "    (0.6092213719795501, 0.12514914017649392),\n",
    "    (0.7431271140678826, 0.12660475585183406),\n",
    "    (0.9023640654012873, 0.21133242457776658),\n",
    "    (0.3513947221768753, 0.10988741056845952),\n",
    "    (0.7560785506387285, 0.1994584377393509),\n",
    ")"
   ]
  },
  {
   "cell_type": "code",
   "execution_count": null,
   "metadata": {},
   "outputs": [],
   "source": [
    "import numpy as np\n",
    "import matplotlib.pyplot as plt\n",
    "import math\n",
    "%matplotlib ipympl"
   ]
  },
  {
   "cell_type": "code",
   "execution_count": null,
   "metadata": {},
   "outputs": [],
   "source": [
    "def distance(p1, p2):\n",
    "    \"\"\"Calculate the Euclidean distance betwen two 2D points\n",
    "    Arguments:\n",
    "        p1: first 2D point\n",
    "        p2: tuple or list with 2 entries\n",
    "        p2: second 2D point\n",
    "    Return:   distance\n",
    "    \"\"\"\n",
    "    delta_x = p2[0] - p1[0]\n",
    "    delta_y = p2[1] - p1[1]\n",
    "    return math.sqrt(delta_x * delta_x + delta_y * delta_y)"
   ]
  },
  {
   "cell_type": "code",
   "execution_count": null,
   "metadata": {},
   "outputs": [],
   "source": [
    "def plot_closed_path(path):\n",
    "    point_array = np.array(path)\n",
    "    ax = plt.figure().add_subplot(111)\n",
    "    ax.plot(point_array[0, 0], point_array[0, 1], \"ro\")\n",
    "    ax.plot(point_array[1:-1, 0], point_array[1:-1, 1], \"bo\")\n",
    "    ax.plot(point_array[:, 0], point_array[:, 1], \"-k\")\n",
    "    ax.set_yticks(())\n",
    "    ax.set_xticks(())"
   ]
  },
  {
   "cell_type": "markdown",
   "metadata": {},
   "source": [
    "# Dynamische Programmierung"
   ]
  },
  {
   "cell_type": "markdown",
   "metadata": {},
   "source": [
    "Quelle: https://mchouza.wordpress.com/2010/11/21/solving-the-travelling-salesman-problem"
   ]
  },
  {
   "cell_type": "code",
   "execution_count": null,
   "metadata": {},
   "outputs": [],
   "source": [
    "def create_distance_table(pointList):\n",
    "    return [[distance(i, k) for i in pointList] for k in pointList]"
   ]
  },
  {
   "cell_type": "code",
   "execution_count": null,
   "metadata": {},
   "outputs": [],
   "source": [
    "nr_of_cities = 15\n",
    "distance_tab = np.array(\n",
    "    create_distance_table(staedte_positionen[:nr_of_cities]), dtype=np.float32\n",
    ")"
   ]
  },
  {
   "cell_type": "code",
   "execution_count": null,
   "metadata": {},
   "outputs": [],
   "source": [
    "calculations = 0\n",
    "lookups = 0"
   ]
  },
  {
   "cell_type": "code",
   "execution_count": null,
   "metadata": {},
   "outputs": [],
   "source": [
    "def minimum_path_length_nicht_dynamisch(point_set, target_point, distance_tab):\n",
    "    if point_set:\n",
    "        result = min(\n",
    "            distance_tab[target_point][p_index]\n",
    "            + minimum_path_length_nicht_dynamisch(\n",
    "                point_set - set([p_index]), p_index, distance_tab\n",
    "            )\n",
    "            for p_index in point_set\n",
    "        )\n",
    "    else:\n",
    "        result = distance_tab[target_point][0]\n",
    "    return result"
   ]
  },
  {
   "cell_type": "code",
   "execution_count": null,
   "metadata": {},
   "outputs": [],
   "source": [
    "minimum_path_length_nicht_dynamisch(frozenset(range(1, 10)), 0, distance_tab)"
   ]
  },
  {
   "cell_type": "code",
   "execution_count": null,
   "metadata": {},
   "outputs": [],
   "source": [
    "print('10 Städte, nicht dynamisch')\n",
    "%timeit minimum_path_length_nicht_dynamisch(frozenset(range(1, 10)), 0, distance_tab)"
   ]
  },
  {
   "cell_type": "code",
   "execution_count": null,
   "metadata": {},
   "outputs": [],
   "source": [
    "def minimum_path_length(\n",
    "    point_set, target_point, distance_tab, length_memory=None\n",
    "):\n",
    "    global calculations, lookups\n",
    "\n",
    "    if length_memory is None:\n",
    "        length_memory = dict()\n",
    "\n",
    "    key = (frozenset(point_set), target_point)\n",
    "    if key in length_memory:\n",
    "        lookups += 1\n",
    "        return length_memory[key]\n",
    "    else:\n",
    "        if point_set:\n",
    "            result = min(\n",
    "                distance_tab[target_point][p_index]\n",
    "                + minimum_path_length(\n",
    "                    point_set - set([p_index]),\n",
    "                    p_index,\n",
    "                    distance_tab,\n",
    "                    length_memory,\n",
    "                )\n",
    "                for p_index in point_set\n",
    "            )\n",
    "        else:\n",
    "            result = distance_tab[target_point][0]\n",
    "        length_memory[key] = result\n",
    "        calculations += 1\n",
    "        return result"
   ]
  },
  {
   "cell_type": "code",
   "execution_count": null,
   "metadata": {},
   "outputs": [],
   "source": [
    "minimum_path_length(frozenset(range(1, 10)), 0, distance_tab)"
   ]
  },
  {
   "cell_type": "code",
   "execution_count": null,
   "metadata": {},
   "outputs": [],
   "source": [
    "print('10 Städte, dynamisch')\n",
    "%timeit minimum_path_length(frozenset(range(1, 10)), 0, distance_tab)"
   ]
  },
  {
   "cell_type": "code",
   "execution_count": null,
   "metadata": {},
   "outputs": [],
   "source": [
    "print(\"15 Städte, dynamisch:\")\n",
    "nr_of_cities = 15"
   ]
  },
  {
   "cell_type": "code",
   "execution_count": null,
   "metadata": {},
   "outputs": [],
   "source": [
    "calculations = lookups = 0\n",
    "minimum_path_length(frozenset(range(1, nr_of_cities)), 0, distance_tab)"
   ]
  },
  {
   "cell_type": "code",
   "execution_count": null,
   "metadata": {},
   "outputs": [],
   "source": [
    "print(\"calculations:\", calculations)\n",
    "print(\"lookups:\", lookups)"
   ]
  },
  {
   "cell_type": "code",
   "execution_count": null,
   "metadata": {},
   "outputs": [],
   "source": [
    "print(\"15 Städte, dynamisch\")"
   ]
  },
  {
   "cell_type": "code",
   "execution_count": null,
   "metadata": {},
   "outputs": [],
   "source": [
    "%%timeit\n",
    "minimum_path_length(frozenset(range(1, nr_of_cities)), \n",
    "                    0, distance_tab)"
   ]
  },
  {
   "cell_type": "code",
   "execution_count": null,
   "metadata": {},
   "outputs": [],
   "source": [
    "def minimum_path(point_set, target_index, distance_tab, path_memory):\n",
    "    key = (point_set, target_index)\n",
    "    if key in path_memory:\n",
    "        return path_memory[key]\n",
    "    else:\n",
    "        if point_set:\n",
    "            result = min(\n",
    "                (\n",
    "                    distance_tab[p_index][target_index]\n",
    "                    + minimum_path(\n",
    "                        point_set - set([p_index]),\n",
    "                        p_index,\n",
    "                        distance_tab,\n",
    "                        path_memory,\n",
    "                    )[0],\n",
    "                    p_index,\n",
    "                )\n",
    "                for p_index in point_set\n",
    "            )\n",
    "        else:\n",
    "            result = (distance_tab[0][target_index], 0)\n",
    "        path_memory[key] = result\n",
    "        return result\n",
    "\n",
    "\n",
    "def salesman_dynamic(start_index, nr_of_cities, staedte_positionen):\n",
    "    distance_tab = create_distance_table(\n",
    "        staedte_positionen[start_index : start_index + nr_of_cities]\n",
    "    )\n",
    "\n",
    "    point_set = frozenset(range(1, nr_of_cities))\n",
    "\n",
    "    shortest_path = []\n",
    "    target_index = 0\n",
    "    min_len = None\n",
    "    path_memory = dict()\n",
    "\n",
    "    while True:\n",
    "        result = minimum_path(\n",
    "            point_set, target_index, distance_tab, path_memory\n",
    "        )\n",
    "        if min_len is None:\n",
    "            min_len = result[0]\n",
    "        target_index = result[1]\n",
    "        shortest_path = [target_index] + shortest_path\n",
    "        point_set = point_set - frozenset([target_index])\n",
    "        if target_index == 0:\n",
    "            break\n",
    "    shortest_path = shortest_path + [0]\n",
    "    shortest_path_positions = [staedte_positionen[i] for i in shortest_path]\n",
    "    return (min_len, shortest_path_positions)"
   ]
  },
  {
   "cell_type": "code",
   "execution_count": null,
   "metadata": {},
   "outputs": [],
   "source": [
    "salesman_dynamic(0, 9, staedte_positionen)"
   ]
  },
  {
   "cell_type": "code",
   "execution_count": null,
   "metadata": {},
   "outputs": [],
   "source": [
    "path = salesman_dynamic(0, 9, staedte_positionen)[1]\n",
    "plot_closed_path(path)"
   ]
  },
  {
   "cell_type": "code",
   "execution_count": null,
   "metadata": {},
   "outputs": [],
   "source": [
    "nr_of_cities = 15"
   ]
  },
  {
   "cell_type": "code",
   "execution_count": null,
   "metadata": {},
   "outputs": [],
   "source": [
    "%%timeit\n",
    "salesman_dynamic(0, nr_of_cities, staedte_positionen)"
   ]
  },
  {
   "cell_type": "code",
   "execution_count": null,
   "metadata": {},
   "outputs": [],
   "source": [
    "path = salesman_dynamic(0, nr_of_cities, staedte_positionen)[1]\n",
    "plot_closed_path(path)"
   ]
  }
 ],
 "metadata": {
  "anaconda-cloud": {},
  "kernelspec": {
   "display_name": "Python 3 (ipykernel)",
   "language": "python",
   "name": "python3"
  },
  "language_info": {
   "codemirror_mode": {
    "name": "ipython",
    "version": 3
   },
   "file_extension": ".py",
   "mimetype": "text/x-python",
   "name": "python",
   "nbconvert_exporter": "python",
   "pygments_lexer": "ipython3",
   "version": "3.11.6"
  },
  "latex_envs": {
   "LaTeX_envs_menu_present": true,
   "autoclose": false,
   "autocomplete": true,
   "bibliofile": "biblio.bib",
   "cite_by": "apalike",
   "current_citInitial": 1,
   "eqLabelWithNumbers": true,
   "eqNumInitial": 1,
   "hotkeys": {
    "equation": "Ctrl-E",
    "itemize": "Ctrl-I"
   },
   "labels_anchors": false,
   "latex_user_defs": false,
   "report_style_numbering": false,
   "user_envs_cfg": false
  },
  "toc": {
   "base_numbering": 1,
   "nav_menu": {},
   "number_sections": true,
   "sideBar": true,
   "skip_h1_title": false,
   "title_cell": "Table of Contents",
   "title_sidebar": "Contents",
   "toc_cell": false,
   "toc_position": {},
   "toc_section_display": true,
   "toc_window_display": false
  },
  "varInspector": {
   "cols": {
    "lenName": 16,
    "lenType": 16,
    "lenVar": 40
   },
   "kernels_config": {
    "python": {
     "delete_cmd_postfix": "",
     "delete_cmd_prefix": "del ",
     "library": "var_list.py",
     "varRefreshCmd": "print(var_dic_list())"
    },
    "r": {
     "delete_cmd_postfix": ") ",
     "delete_cmd_prefix": "rm(",
     "library": "var_list.r",
     "varRefreshCmd": "cat(var_dic_list()) "
    }
   },
   "types_to_exclude": [
    "module",
    "function",
    "builtin_function_or_method",
    "instance",
    "_Feature"
   ],
   "window_display": false
  }
 },
 "nbformat": 4,
 "nbformat_minor": 1
}
