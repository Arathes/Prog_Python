{
 "cells": [
  {
   "cell_type": "markdown",
   "metadata": {},
   "source": [
    "<font size=\"6\"> git praktisch verwenden </font> \n",
    "<br><br>\n",
    "<font size=\"4\">&copy;2023 Peter Rösch </font>"
   ]
  },
  {
   "cell_type": "markdown",
   "metadata": {},
   "source": [
    "# Verwendung von git - Beispiele"
   ]
  },
  {
   "cell_type": "markdown",
   "metadata": {},
   "source": [
    "Quelle: [git-Buch](https://git-scm.com/book/en/v2)\n",
    "\n",
    "[Cheat sheet](https://about.gitlab.com/images/press/git-cheat-sheet.pdf)"
   ]
  },
  {
   "cell_type": "markdown",
   "metadata": {},
   "source": [
    "## gitlab-Repository anlegen "
   ]
  },
  {
   "cell_type": "markdown",
   "metadata": {},
   "source": [
    "* Anmelden auf der Seite https://gitlab.informatik.hs-augsburg.de (intern oder VPN).\n",
    "* Erzeugen eines neuen Projekts.\n",
    "* Einladen der Team-Mitglieder (als \"Developer\" oder \"Maintainer\")."
   ]
  },
  {
   "cell_type": "markdown",
   "metadata": {},
   "source": [
    "## Python-Projekt erstellen und initialisieren "
   ]
  },
  {
   "cell_type": "markdown",
   "metadata": {},
   "source": [
    "\"Einklinken\" in das existierende Paket."
   ]
  },
  {
   "cell_type": "code",
   "execution_count": null,
   "metadata": {},
   "outputs": [],
   "source": [
    "from pathlib import Path\n",
    "\n",
    "project_path = Path.home() / \"tmp\" / \"project_example\"\n",
    "if not project_path.is_dir():\n",
    "    print(f\"Warning: Path {project_path} does not exist\")\n",
    "else:\n",
    "    print(f\"{project_path_name = }\")"
   ]
  },
  {
   "cell_type": "markdown",
   "metadata": {},
   "source": [
    "Anpassung und Durchführung des Notebooks *Projekte_Erstellen.ipynb*.\n",
    "\n",
    "Zusätzliche Datei *.gitignore* erstellen, damit nur relevante unversionierte Dateien gemeldet werden."
   ]
  },
  {
   "cell_type": "code",
   "execution_count": null,
   "metadata": {},
   "outputs": [],
   "source": [
    "%%file $project_path/.gitignore\n",
    "\n",
    "#######\n",
    "# editor\n",
    "*~\n",
    "*.bak\n",
    "*.swp\n",
    ".project\n",
    ".vscode\n",
    "\n",
    "########\n",
    "# python\n",
    "*.pyc\n",
    "build/\n",
    "_build/\n",
    "*.egg-info/\n",
    "__pycache__/\n",
    "dist/\n",
    ".mutmut-cache/\n",
    "\n",
    "#########\n",
    "# jupyter\n",
    "Untitled*.ipynb\n",
    ".ipynb_checkpoints/"
   ]
  },
  {
   "cell_type": "markdown",
   "metadata": {},
   "source": [
    "Steuerungs-Datei für GitLab CI/CD\n",
    "\n",
    "Bitte beachten Sie: Diese Funktionalität ist nur für größere Projekte sinnvoll und steht Ihnen nicht zur Verfügung."
   ]
  },
  {
   "cell_type": "code",
   "execution_count": null,
   "metadata": {},
   "outputs": [],
   "source": [
    "%%file $project_path/.gitlab-ci.yml\n",
    "\n",
    "image: python:3.11-slim\n",
    "        \n",
    "stages:          # List of stages for jobs, and their order of execution\n",
    "  - build\n",
    "  - test\n",
    "\n",
    "build-job:       # This job runs in the build stage, which runs first.\n",
    "  stage: build\n",
    "  script:\n",
    "    - uname -a\n",
    "    - python --version\n",
    "    - pip install build\n",
    "    - python -m build\n",
    "    - echo \"done\"\n",
    "  artifacts:\n",
    "    paths:\n",
    "      - dist/*.whl\n",
    "\n",
    "pytest-job:   # This job runs in the test stage.\n",
    "  stage: test    # It only starts when the job in the build stage completes successfully.\n",
    "  script:\n",
    "    - pip install pytest\n",
    "    - pip install dist/*.whl\n",
    "    - pytest --doctest-modules --ignore docs"
   ]
  },
  {
   "cell_type": "markdown",
   "metadata": {},
   "source": [
    "## Existierendes Projekt auf dem Server speichern"
   ]
  },
  {
   "cell_type": "markdown",
   "metadata": {},
   "source": [
    "**Hinweis:** In der folgenden Zelle muss der Benutzer- und Projektname angepasst werden."
   ]
  },
  {
   "cell_type": "raw",
   "metadata": {},
   "source": [
    "cd  ~/tmp/project_example\n",
    "git init --initial-branch=main\n",
    "git remote add origin ssh://git@gitlab.informatik.hs-augsburg.de:2222/roesch/project_example.git\n",
    "git add .\n",
    "git commit -m \"Initial commit\"\n",
    "git push -u origin main\n",
    "git branch develop\n",
    "git checkout develop\n",
    "git push origin develop"
   ]
  },
  {
   "cell_type": "markdown",
   "metadata": {},
   "source": [
    "## Branches - Mögliche Strategie"
   ]
  },
  {
   "cell_type": "markdown",
   "metadata": {},
   "source": [
    "* Der *main*-Branch enthält Software, die direkt ausgeliefert werden könnte.\n",
    "* Es gibt einen *develop*-Branch, der Neuerungen enthält und in den *main*-Branch integriert wird, sobald die Voraussetzungen (Tests, Stabilität, Dokumentation, Coding-Standards etc.) erfüllt sind. Die Überprüfung erfolgt durch mehrere Personen.\n",
    "* Änderungen werden in individuellen *topic*-Branches durchgeführt, die auf dem Server abgelegt werden, wenn mehrere Personen beteiligt sind. Ergebnisse werden in den *develop*-Branch integriert."
   ]
  },
  {
   "cell_type": "markdown",
   "metadata": {},
   "source": [
    "## Änderungen vornehmen (Vorschlag)"
   ]
  },
  {
   "cell_type": "markdown",
   "metadata": {},
   "source": [
    "* In der Besprechung sollte beschlossen werden, welche Person für welches Modul zuständig ist.\n",
    "* Die Arbeitspakete sind so klein, dass sie in einigen Stunden erledigt werden können."
   ]
  },
  {
   "cell_type": "raw",
   "metadata": {},
   "source": [
    "# Standard-Einstellung\n",
    "git config --global pull.rebase false\n",
    "git config --global merge.tool gvimdiff\n",
    "# Ziel: Funktion zur Addition im Branch *develop* erstellen\n",
    "git checkout develop\n",
    "git branch addition\n",
    "git checkout addition\n",
    "cd ~/tmp/project_example\n",
    "# Notebok \"Projekte_Erstellen.ipynb\" weiter ausführen ... \n",
    "# Änderungen vornehmen, Tests erstellen und durchführen, Dokumentation erstellen und sichten\n",
    "git status\n",
    "# Aktuelle Versionen zur \"staging area\" hinzufügen\n",
    "git add calculator/add_sub.py tests/test_add_sub.py\n",
    "git status\n",
    "# Commit in den Branch \"addition\"\n",
    "git commit -m 'Addition von Zahlen'\n",
    "# Integration in den Branch \"develop\"\n",
    "git checkout develop\n",
    "git merge addition\n",
    "# Speichern auf den Server\n",
    "git push origin develop"
   ]
  },
  {
   "cell_type": "markdown",
   "metadata": {},
   "source": [
    "* Die Änderungen sollten vom Entwickler nicht direkt in den *main*-Branch eingefügt werden.\n",
    "* Stattdessen wird ein Merge-Request erzeugt und die Änderungen entsprechend der im Team vereinbarten Vorgehensweise in den *main*-Branch integriert."
   ]
  },
  {
   "cell_type": "raw",
   "metadata": {},
   "source": [
    "# Neuerungen laden\n",
    "git checkout main\n",
    "git pull\n",
    "# Lokal aufräumen\n",
    "git branch -d addition\n",
    "# Bereit für die nächste Änderung\n",
    "git checkout develop"
   ]
  },
  {
   "cell_type": "markdown",
   "metadata": {},
   "source": [
    "## Git Hooks"
   ]
  },
  {
   "cell_type": "markdown",
   "metadata": {},
   "source": [
    "Hier werden *vor einer Aktion* Programme ausgeführt, um z.B. die Einhaltung von Konventionen zu überprüfen oder Tests durchzuführen. Vorlagen für Hooks auf dem Client befinden sich im Verzeichnis *.git/hooks*, eine nähere Erklärung auch zu Hooks auf dem Server finden Sie im [git-Buch](https://git-scm.com/book/en/v2/Customizing-Git-Git-Hooks).\n",
    "\n",
    "Es gibt Frameworks, die den Umgang mit Hooks erleichtern, z.B. [pre-commit](https://pre-commit.com).\n",
    "\n",
    "Serverseitig bietet GitLab CI/CD den *GitLab runner*, siehe [GitLab CI/CD](https://docs.gitlab.com/ee/ci)."
   ]
  },
  {
   "cell_type": "markdown",
   "metadata": {},
   "source": [
    "## Weitere Möglichkeiten in GitLab"
   ]
  },
  {
   "cell_type": "markdown",
   "metadata": {},
   "source": [
    "* [Issues](https://docs.gitlab.com/ee/user/project/issues)\n",
    "* [Milestones](https://docs.gitlab.com/ee/user/project/milestones)"
   ]
  }
 ],
 "metadata": {
  "kernelspec": {
   "display_name": "Python 3",
   "language": "python",
   "name": "python3"
  },
  "language_info": {
   "codemirror_mode": {
    "name": "ipython",
    "version": 3
   },
   "file_extension": ".py",
   "mimetype": "text/x-python",
   "name": "python",
   "nbconvert_exporter": "python",
   "pygments_lexer": "ipython3",
   "version": "3.11.6"
  },
  "orig_nbformat": 4
 },
 "nbformat": 4,
 "nbformat_minor": 2
}
