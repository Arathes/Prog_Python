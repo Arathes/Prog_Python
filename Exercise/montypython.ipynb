{
 "cells": [
  {
   "cell_type": "code",
   "execution_count": null,
   "metadata": {},
   "outputs": [],
   "source": []
  },
  {
   "cell_type": "code",
   "execution_count": null,
   "metadata": {},
   "outputs": [],
   "source": []
  },
  {
   "cell_type": "markdown",
   "metadata": {},
   "source": [
    "# Recherche\n",
    "\n",
    "* In welche Themenbereiche ist die Aufgabe einzuordnen?\n",
    "* Wie sehen die theoretischen Grundlagen dieser Bereiche aus?\n",
    "* Wurde diese (oder ähnliche) Fragestellungen bereits bearbeitet?\n",
    "* Existieren bereits Lösungen oder Teillösungen?\n",
    "* Sind andere Teams gescheitert, und wenn ja, warum?"
   ]
  },
  {
   "cell_type": "markdown",
   "metadata": {},
   "source": [
    "1. **Themenbereiche**: Mathematik, Statistik, Physik, Finanzwirtschaft, Informatik.\n",
    "2. **Theoretische Grundlagen**: Nutzt Zufallszahlen zur Problemlösung, basierend auf Wahrscheinlichkeitstheorie und Statistik.\n",
    "3. **Bereits bearbeitet**: Ja, in Risikoanalyse, Physik, Optimierung, Computergrafik, Finanzbewertungen.\n",
    "4. **Lösungen/Teillösungen**: Existieren zahlreich, inklusive spezifischer Algorithmen und Softwarebibliotheken.\n",
    "5. **Scheitern**: Ja, aufgrund von ungenauen Simulationen, ungeeigneten Modellen, Missachtung von Konvergenz oder ineffizienter Implementierung."
   ]
  },
  {
   "cell_type": "markdown",
   "metadata": {},
   "source": [
    "# Teilschritte\n",
    "\n",
    "1. **Aspekte der Aufgabenstellung**: Identifizierung von Anwendungsbereichen, theoretische Grundlagen, bereits existierende Ansätze, Lösungen/Teillösungen, Gründe für das Scheitern anderer Teams.\n",
    "2. **Zeitlicher Ablauf**: \n",
    "   - **Eingabe**: Definition des Problems.\n",
    "   - **Verarbeitung**: Anwendung der Monte-Carlo-Methodik (Zufallszahlen, Simulationen).\n",
    "   - **Ausgabe**: Ergebnisse basierend auf statistischen Analysen.\n",
    "3. **Schrittweise Verfeinerung**:\n",
    "   - Identifikation des Problems und relevanter Variablen.\n",
    "   - Entwicklung eines Modells/Simulation.\n",
    "   - Durchführung von Tests/Simulationen.\n",
    "   - Analyse und Interpretation der Ergebnisse.\n",
    "4. **Vorüberlegungen zu Schnittstellen**: Definition der Ein- und Ausgabeparameter, Festlegung der Datenformate, Anpassungsfähigkeit an verschiedene Anwendungsgebiete, Interoperabilität mit anderen Tools oder Systemen.\n"
   ]
  }
 ],
 "metadata": {
  "language_info": {
   "name": "python"
  }
 },
 "nbformat": 4,
 "nbformat_minor": 2
}
